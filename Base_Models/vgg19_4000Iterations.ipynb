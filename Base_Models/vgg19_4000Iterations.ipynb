{
 "cells": [
  {
   "cell_type": "code",
   "execution_count": 1,
   "metadata": {},
   "outputs": [],
   "source": [
    "import torch\n",
    "import torch.nn as nn\n",
    "import torch.optim as optim\n",
    "from torch.optim import lr_scheduler\n",
    "\n",
    "import torchvision\n",
    "from torchvision import datasets, transforms\n",
    "\n",
    "\n",
    "import numpy as np\n",
    "import matplotlib.pyplot as plt\n",
    "\n",
    "\n",
    "import time"
   ]
  },
  {
   "cell_type": "markdown",
   "metadata": {},
   "source": [
    "### Dataset Loading and Transformation"
   ]
  },
  {
   "cell_type": "code",
   "execution_count": 2,
   "metadata": {},
   "outputs": [],
   "source": [
    "\n",
    "\n",
    "# Transforms defined for the train, validation, and test datasets\n",
    "train_transform = transforms.Compose([transforms.Resize((256,256)),\n",
    "                                     transforms.ToTensor()])\n",
    "\n",
    "val_transform = transforms.Compose([transforms.Resize((256,256)),\n",
    "                                   transforms.ToTensor()])\n"
   ]
  },
  {
   "cell_type": "code",
   "execution_count": 3,
   "metadata": {},
   "outputs": [],
   "source": [
    "dir = '../Label_Data_TrainTest/'\n",
    "train_dir, val_dir = dir+'train', dir+'val'\n",
    "batch_size = 32\n",
    "num_workers = 2\n",
    "\n",
    "# Datasets extracted from their respective directories and some transformation applied to them\n",
    "train_set = datasets.ImageFolder(train_dir, transform = train_transform)\n",
    "val_set = datasets.ImageFolder(val_dir, transform = val_transform)\n",
    "\n",
    "\n",
    "\n",
    "# Datasets loaded onto iterable object in form of batches \n",
    "train_loader = torch.utils.data.DataLoader(train_set, batch_size = batch_size, shuffle=True, num_workers=num_workers)\n",
    "val_loader = torch.utils.data.DataLoader(val_set, batch_size = batch_size, shuffle=True, num_workers=num_workers)\n",
    "\n"
   ]
  },
  {
   "cell_type": "markdown",
   "metadata": {},
   "source": [
    "### Saving the trained model"
   ]
  },
  {
   "cell_type": "code",
   "execution_count": 4,
   "metadata": {},
   "outputs": [
    {
     "data": {
      "text/plain": [
       "<All keys matched successfully>"
      ]
     },
     "execution_count": 4,
     "metadata": {},
     "output_type": "execute_result"
    }
   ],
   "source": [
    "# Loading the state dict into our model\n",
    "state_dict = torch.load('vgg16_4000Iterations.pth', map_location='cuda:0')\n",
    "\n",
    "from torchvision import models\n",
    "model = models.vgg19(pretrained=True)\n",
    "\n",
    "model.classifier[-1] = nn.Linear(in_features=4096, out_features=len(train_set.classes))\n",
    "\n",
    "model.load_state_dict(state_dict)\n",
    "\n"
   ]
  },
  {
   "cell_type": "markdown",
   "metadata": {},
   "source": [
    "### Performance of finetuned network on test dataset"
   ]
  },
  {
   "cell_type": "code",
   "execution_count": 6,
   "metadata": {
    "scrolled": false
   },
   "outputs": [
    {
     "name": "stdout",
     "output_type": "stream",
     "text": [
      "\n",
      "Total number of correct predictions in batch number 1: 31/32\n",
      "Correct Label: ['Chanel']\n",
      "==================================================================================================== \n",
      "\n",
      "\n",
      "Total number of correct predictions in batch number 2: 31/32\n",
      "Correct Label: ['Versace']\n",
      "==================================================================================================== \n",
      "\n",
      "\n",
      "Total number of correct predictions in batch number 3: 30/32\n",
      "Correct Label: ['Chanel', 'Emporio Armani']\n",
      "==================================================================================================== \n",
      "\n",
      "\n",
      "Total number of correct predictions in batch number 4: 29/32\n",
      "Correct Label: ['Gucci', 'Prada', 'Prada']\n",
      "==================================================================================================== \n",
      "\n",
      "\n",
      "Total number of correct predictions in batch number 5: 30/32\n",
      "Correct Label: ['Dior', 'Prada']\n",
      "==================================================================================================== \n",
      "\n",
      "\n",
      "Total number of correct predictions in batch number 6: 30/32\n",
      "Correct Label: ['Emporio Armani', 'Hermes']\n",
      "==================================================================================================== \n",
      "\n",
      "\n",
      "Total number of correct predictions in batch number 7: 29/32\n",
      "Correct Label: ['Chanel', 'Dior', 'Versace']\n",
      "==================================================================================================== \n",
      "\n",
      "\n",
      "Total number of correct predictions in batch number 8: 32/32\n",
      "Correct Label: []\n",
      "==================================================================================================== \n",
      "\n",
      "\n",
      "Total number of correct predictions in batch number 9: 28/32\n",
      "Correct Label: ['Other', 'Versace', 'Dior', 'Ralph Lauren']\n",
      "==================================================================================================== \n",
      "\n",
      "\n",
      "Total number of correct predictions in batch number 10: 30/32\n",
      "Correct Label: ['Dior', 'Dior']\n",
      "==================================================================================================== \n",
      "\n",
      "\n",
      "Total number of correct predictions in batch number 11: 29/32\n",
      "Correct Label: ['Prada', 'Hermes', 'Prada']\n",
      "==================================================================================================== \n",
      "\n",
      "\n",
      "Total number of correct predictions in batch number 12: 31/32\n",
      "Correct Label: ['Giorgio Armani']\n",
      "==================================================================================================== \n",
      "\n",
      "\n",
      "Total number of correct predictions in batch number 13: 29/32\n",
      "Correct Label: ['Gucci', 'Gucci', 'Ralph Lauren']\n",
      "==================================================================================================== \n",
      "\n",
      "\n",
      "Total number of correct predictions in batch number 14: 29/32\n",
      "Correct Label: ['Ralph Lauren', 'Versace', 'Prada']\n",
      "==================================================================================================== \n",
      "\n",
      "\n",
      "Total number of correct predictions in batch number 15: 29/32\n",
      "Correct Label: ['Emporio Armani', 'Ralph Lauren', 'Dior']\n",
      "==================================================================================================== \n",
      "\n",
      "\n",
      "Total number of correct predictions in batch number 16: 17/19\n",
      "Correct Label: ['Other', 'Prada']\n",
      "==================================================================================================== \n",
      "\n",
      "Accuracy: 92.99%\n"
     ]
    },
    {
     "data": {
      "image/png": "[encoded data removed]",
      "text/plain": [
       "<Figure size 1440x720 with 1 Axes>"
      ]
     },
     "metadata": {
      "needs_background": "light"
     },
     "output_type": "display_data"
    }
   ],
   "source": [
    "# Checking out the Prediction on the validation set\n",
    "device = torch.device('cuda')\n",
    "model.to(device)\n",
    "\n",
    "model.eval()\n",
    "with torch.no_grad():\n",
    "    correct  = 0\n",
    "    total = 0\n",
    "    val_batch=0\n",
    "    \n",
    "    wrong_total = []\n",
    "    \n",
    "    for images_val, labels_val in val_loader:\n",
    "        \n",
    "        val_batch +=1\n",
    "        \n",
    "        images_val, labels_val = images_val.to(device), labels_val.to(device)\n",
    "        outputs = model(images_val)\n",
    "        _,predicted = torch.max(outputs, 1)\n",
    "        \n",
    "        total += labels_val.size(0)\n",
    "        correct += (predicted == labels_val).sum().item()\n",
    "        \n",
    "        \n",
    "        # Check how many correct predictions are made in each each batch of the validation dataset\n",
    "        print('\\nTotal number of correct predictions in batch number {}: {}/{}'.format(val_batch, (predicted == labels_val).sum().item(), len(images_val)))\n",
    "        \n",
    "        # Implementation to extract the wrongly predicted classes\n",
    "        bool = (labels_val == predicted)\n",
    "        index = [ind for ind, val in enumerate(bool) if not val]\n",
    "        correct_val = labels_val[index]\n",
    "        wrong_val = predicted[index]\n",
    "        wrong_labels = [val_set.classes[x] for x in wrong_val]\n",
    "        correct_labels = [val_set.classes[x] for x in correct_val]\n",
    "        print('Correct Label:', correct_labels)\n",
    "#         print('Wrongly Predicted Labels:', wrong_labels)\n",
    "        wrong_total.append(wrong_labels)\n",
    "        \n",
    "        \n",
    "        print('='*100,'\\n')\n",
    "    \n",
    "    print('Accuracy: {:.2f}%'.format(correct/total*100))\n",
    "    \n",
    "    # Flatten the list wrong_total\n",
    "    wrong_total =[item for sublist in wrong_total for item in sublist]\n",
    "    \n",
    "    import collections\n",
    "    \n",
    "    BarData = collections.Counter(wrong_total)\n",
    "    wrong_brands = BarData.keys()\n",
    "    freq = BarData.values()\n",
    "    \n",
    "    plt.figure(figsize = (20,10))\n",
    "    plt.bar(wrong_brands, freq)\n",
    "    plt.title('Wrongly Predicted Brands')\n",
    "    plt.ylabel('Frequency')\n",
    "    plt.xticks(fontsize=12)\n",
    "    plt.yticks(fontsize=12)"
   ]
  },
  {
   "cell_type": "code",
   "execution_count": null,
   "metadata": {},
   "outputs": [],
   "source": []
  }
 ],
 "metadata": {
  "kernelspec": {
   "display_name": "estif",
   "language": "python",
   "name": "estif"
  },
  "language_info": {
   "codemirror_mode": {
    "name": "ipython",
    "version": 3
   },
   "file_extension": ".py",
   "mimetype": "text/x-python",
   "name": "python",
   "nbconvert_exporter": "python",
   "pygments_lexer": "ipython3",
   "version": "3.6.10"
  }
 },
 "nbformat": 4,
 "nbformat_minor": 4
}
