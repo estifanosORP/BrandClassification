{
 "cells": [
  {
   "cell_type": "code",
   "execution_count": 1,
   "metadata": {},
   "outputs": [],
   "source": [
    "import torch\n",
    "import torch.nn as nn\n",
    "import torch.optim as optim\n",
    "from torch.optim import lr_scheduler\n",
    "\n",
    "import torchvision\n",
    "from torchvision import datasets, transforms\n",
    "\n",
    "\n",
    "import numpy as np\n",
    "import matplotlib.pyplot as plt\n",
    "\n",
    "\n",
    "import time"
   ]
  },
  {
   "cell_type": "markdown",
   "metadata": {},
   "source": [
    "### Dataset Loading and Transformation"
   ]
  },
  {
   "cell_type": "code",
   "execution_count": 2,
   "metadata": {},
   "outputs": [],
   "source": [
    "\n",
    "\n",
    "# Transforms defined for the train, validation, and test datasets\n",
    "train_transform = transforms.Compose([transforms.Resize((256,256)),\n",
    "                                     transforms.ToTensor()])\n",
    "\n",
    "val_transform = transforms.Compose([transforms.Resize((256,256)),\n",
    "                                   transforms.ToTensor()])\n"
   ]
  },
  {
   "cell_type": "code",
   "execution_count": 3,
   "metadata": {},
   "outputs": [],
   "source": [
    "dir = '../Label_Data_TrainTest/'\n",
    "train_dir, val_dir  = dir+'train', dir+'val',\n",
    "batch_size = 32\n",
    "num_workers = 2\n",
    "\n",
    "# Datasets extracted from their respective directories and some transformation applied to them\n",
    "train_set = datasets.ImageFolder(train_dir, transform = train_transform)\n",
    "val_set = datasets.ImageFolder(val_dir, transform = val_transform)\n",
    "\n",
    "\n",
    "\n",
    "# Datasets loaded onto iterable object in form of batches \n",
    "train_loader = torch.utils.data.DataLoader(train_set, batch_size = batch_size, shuffle=True, num_workers=num_workers)\n",
    "val_loader = torch.utils.data.DataLoader(val_set, batch_size = batch_size, shuffle=True, num_workers=num_workers)\n",
    "\n"
   ]
  },
  {
   "cell_type": "markdown",
   "metadata": {},
   "source": [
    "### Loading the pretrained vgg19() model"
   ]
  },
  {
   "cell_type": "code",
   "execution_count": 4,
   "metadata": {
    "scrolled": true
   },
   "outputs": [
    {
     "data": {
      "text/plain": [
       "VGG(\n",
       "  (features): Sequential(\n",
       "    (0): Conv2d(3, 64, kernel_size=(3, 3), stride=(1, 1), padding=(1, 1))\n",
       "    (1): ReLU(inplace=True)\n",
       "    (2): Conv2d(64, 64, kernel_size=(3, 3), stride=(1, 1), padding=(1, 1))\n",
       "    (3): ReLU(inplace=True)\n",
       "    (4): MaxPool2d(kernel_size=2, stride=2, padding=0, dilation=1, ceil_mode=False)\n",
       "    (5): Conv2d(64, 128, kernel_size=(3, 3), stride=(1, 1), padding=(1, 1))\n",
       "    (6): ReLU(inplace=True)\n",
       "    (7): Conv2d(128, 128, kernel_size=(3, 3), stride=(1, 1), padding=(1, 1))\n",
       "    (8): ReLU(inplace=True)\n",
       "    (9): MaxPool2d(kernel_size=2, stride=2, padding=0, dilation=1, ceil_mode=False)\n",
       "    (10): Conv2d(128, 256, kernel_size=(3, 3), stride=(1, 1), padding=(1, 1))\n",
       "    (11): ReLU(inplace=True)\n",
       "    (12): Conv2d(256, 256, kernel_size=(3, 3), stride=(1, 1), padding=(1, 1))\n",
       "    (13): ReLU(inplace=True)\n",
       "    (14): Conv2d(256, 256, kernel_size=(3, 3), stride=(1, 1), padding=(1, 1))\n",
       "    (15): ReLU(inplace=True)\n",
       "    (16): Conv2d(256, 256, kernel_size=(3, 3), stride=(1, 1), padding=(1, 1))\n",
       "    (17): ReLU(inplace=True)\n",
       "    (18): MaxPool2d(kernel_size=2, stride=2, padding=0, dilation=1, ceil_mode=False)\n",
       "    (19): Conv2d(256, 512, kernel_size=(3, 3), stride=(1, 1), padding=(1, 1))\n",
       "    (20): ReLU(inplace=True)\n",
       "    (21): Conv2d(512, 512, kernel_size=(3, 3), stride=(1, 1), padding=(1, 1))\n",
       "    (22): ReLU(inplace=True)\n",
       "    (23): Conv2d(512, 512, kernel_size=(3, 3), stride=(1, 1), padding=(1, 1))\n",
       "    (24): ReLU(inplace=True)\n",
       "    (25): Conv2d(512, 512, kernel_size=(3, 3), stride=(1, 1), padding=(1, 1))\n",
       "    (26): ReLU(inplace=True)\n",
       "    (27): MaxPool2d(kernel_size=2, stride=2, padding=0, dilation=1, ceil_mode=False)\n",
       "    (28): Conv2d(512, 512, kernel_size=(3, 3), stride=(1, 1), padding=(1, 1))\n",
       "    (29): ReLU(inplace=True)\n",
       "    (30): Conv2d(512, 512, kernel_size=(3, 3), stride=(1, 1), padding=(1, 1))\n",
       "    (31): ReLU(inplace=True)\n",
       "    (32): Conv2d(512, 512, kernel_size=(3, 3), stride=(1, 1), padding=(1, 1))\n",
       "    (33): ReLU(inplace=True)\n",
       "    (34): Conv2d(512, 512, kernel_size=(3, 3), stride=(1, 1), padding=(1, 1))\n",
       "    (35): ReLU(inplace=True)\n",
       "    (36): MaxPool2d(kernel_size=2, stride=2, padding=0, dilation=1, ceil_mode=False)\n",
       "  )\n",
       "  (avgpool): AdaptiveAvgPool2d(output_size=(7, 7))\n",
       "  (classifier): Sequential(\n",
       "    (0): Linear(in_features=25088, out_features=4096, bias=True)\n",
       "    (1): ReLU(inplace=True)\n",
       "    (2): Dropout(p=0.5, inplace=False)\n",
       "    (3): Linear(in_features=4096, out_features=4096, bias=True)\n",
       "    (4): ReLU(inplace=True)\n",
       "    (5): Dropout(p=0.5, inplace=False)\n",
       "    (6): Linear(in_features=4096, out_features=11, bias=True)\n",
       "  )\n",
       ")"
      ]
     },
     "execution_count": 4,
     "metadata": {},
     "output_type": "execute_result"
    }
   ],
   "source": [
    "from torchvision import models\n",
    "classifier = models.vgg19(pretrained=True)\n",
    "\n",
    "    \n",
    "# Modify the last fully connected layer in the model\n",
    "classifier.classifier[-1] = nn.Linear(in_features=4096, out_features=len(train_set.classes))\n",
    "\n",
    "# Use GPU computation if available\n",
    "# device = torch.device(\"cuda\" if torch.cuda.is_available() else 'cpu')\n",
    "\n",
    "device = torch.device('cuda:0')\n",
    "classifier.to(device)"
   ]
  },
  {
   "cell_type": "markdown",
   "metadata": {},
   "source": [
    "### Training the Network"
   ]
  },
  {
   "cell_type": "code",
   "execution_count": 5,
   "metadata": {},
   "outputs": [],
   "source": [
    "learning_rate = 1.0e-5\n",
    "criterion = nn.CrossEntropyLoss()\n",
    "optimizer = torch.optim.Adam(classifier.parameters(), lr=learning_rate)\n"
   ]
  },
  {
   "cell_type": "code",
   "execution_count": 6,
   "metadata": {},
   "outputs": [
    {
     "name": "stderr",
     "output_type": "stream",
     "text": [
      "/home/robotics/anaconda3/envs/estif/lib/python3.6/site-packages/PIL/JpegImagePlugin.py:796: UserWarning: Image appears to be a malformed MPO file, it will be interpreted as a base JPEG file\n",
      "  \"Image appears to be a malformed MPO file, it will be \"\n",
      "/home/robotics/anaconda3/envs/estif/lib/python3.6/site-packages/PIL/JpegImagePlugin.py:796: UserWarning: Image appears to be a malformed MPO file, it will be interpreted as a base JPEG file\n",
      "  \"Image appears to be a malformed MPO file, it will be \"\n"
     ]
    },
    {
     "name": "stdout",
     "output_type": "stream",
     "text": [
      "Iteration number: 10/4000\n",
      "Training Accuracy: 15.625%\n",
      "Time elapsed: 0h 0m 13s\n",
      "======================================================================\n"
     ]
    },
    {
     "name": "stderr",
     "output_type": "stream",
     "text": [
      "/home/robotics/anaconda3/envs/estif/lib/python3.6/site-packages/PIL/JpegImagePlugin.py:796: UserWarning: Image appears to be a malformed MPO file, it will be interpreted as a base JPEG file\n",
      "  \"Image appears to be a malformed MPO file, it will be \"\n",
      "/home/robotics/anaconda3/envs/estif/lib/python3.6/site-packages/PIL/JpegImagePlugin.py:796: UserWarning: Image appears to be a malformed MPO file, it will be interpreted as a base JPEG file\n",
      "  \"Image appears to be a malformed MPO file, it will be \"\n"
     ]
    },
    {
     "name": "stdout",
     "output_type": "stream",
     "text": [
      "Iteration number: 20/4000\n",
      "Training Accuracy: 21.875%\n",
      "Time elapsed: 0h 0m 25s\n",
      "======================================================================\n"
     ]
    },
    {
     "name": "stderr",
     "output_type": "stream",
     "text": [
      "/home/robotics/anaconda3/envs/estif/lib/python3.6/site-packages/PIL/JpegImagePlugin.py:796: UserWarning: Image appears to be a malformed MPO file, it will be interpreted as a base JPEG file\n",
      "  \"Image appears to be a malformed MPO file, it will be \"\n"
     ]
    },
    {
     "name": "stdout",
     "output_type": "stream",
     "text": [
      "Iteration number: 30/4000\n",
      "Training Accuracy: 28.125%\n",
      "Time elapsed: 0h 0m 36s\n",
      "======================================================================\n",
      "Iteration number: 40/4000\n",
      "Training Accuracy: 37.500%\n",
      "Time elapsed: 0h 0m 48s\n",
      "======================================================================\n"
     ]
    },
    {
     "name": "stderr",
     "output_type": "stream",
     "text": [
      "/home/robotics/anaconda3/envs/estif/lib/python3.6/site-packages/PIL/JpegImagePlugin.py:796: UserWarning: Image appears to be a malformed MPO file, it will be interpreted as a base JPEG file\n",
      "  \"Image appears to be a malformed MPO file, it will be \"\n",
      "/home/robotics/anaconda3/envs/estif/lib/python3.6/site-packages/PIL/JpegImagePlugin.py:796: UserWarning: Image appears to be a malformed MPO file, it will be interpreted as a base JPEG file\n",
      "  \"Image appears to be a malformed MPO file, it will be \"\n"
     ]
    },
    {
     "name": "stdout",
     "output_type": "stream",
     "text": [
      "Iteration number: 50/4000\n",
      "Training Accuracy: 6.250%\n",
      "Time elapsed: 0h 0m 60s\n",
      "======================================================================\n",
      "Iteration number: 60/4000\n",
      "Training Accuracy: 21.875%\n",
      "Time elapsed: 0h 1m 12s\n",
      "======================================================================\n",
      "Iteration number: 70/4000\n",
      "Training Accuracy: 25.000%\n",
      "Time elapsed: 0h 1m 25s\n",
      "======================================================================\n"
     ]
    },
    {
     "name": "stderr",
     "output_type": "stream",
     "text": [
      "/home/robotics/anaconda3/envs/estif/lib/python3.6/site-packages/PIL/JpegImagePlugin.py:796: UserWarning: Image appears to be a malformed MPO file, it will be interpreted as a base JPEG file\n",
      "  \"Image appears to be a malformed MPO file, it will be \"\n"
     ]
    },
    {
     "name": "stdout",
     "output_type": "stream",
     "text": [
      "Iteration number: 80/4000\n",
      "Training Accuracy: 40.625%\n",
      "Time elapsed: 0h 1m 36s\n",
      "======================================================================\n",
      "Iteration number: 90/4000\n",
      "Training Accuracy: 40.625%\n",
      "Time elapsed: 0h 1m 48s\n",
      "======================================================================\n"
     ]
    },
    {
     "name": "stderr",
     "output_type": "stream",
     "text": [
      "/home/robotics/anaconda3/envs/estif/lib/python3.6/site-packages/PIL/JpegImagePlugin.py:796: UserWarning: Image appears to be a malformed MPO file, it will be interpreted as a base JPEG file\n",
      "  \"Image appears to be a malformed MPO file, it will be \"\n"
     ]
    },
    {
     "name": "stdout",
     "output_type": "stream",
     "text": [
      "Iteration number: 100/4000\n",
      "Training Accuracy: 50.000%\n",
      "Time elapsed: 0h 2m 0s\n",
      "======================================================================\n",
      "Iteration number: 110/4000\n",
      "Training Accuracy: 50.000%\n",
      "Time elapsed: 0h 2m 12s\n",
      "======================================================================\n",
      "Iteration number: 120/4000\n",
      "Training Accuracy: 53.125%\n",
      "Time elapsed: 0h 2m 23s\n",
      "======================================================================\n",
      "Iteration number: 130/4000\n",
      "Training Accuracy: 62.500%\n",
      "Time elapsed: 0h 2m 35s\n",
      "======================================================================\n",
      "Iteration number: 140/4000\n",
      "Training Accuracy: 62.500%\n",
      "Time elapsed: 0h 2m 47s\n",
      "======================================================================\n"
     ]
    },
    {
     "name": "stderr",
     "output_type": "stream",
     "text": [
      "/home/robotics/anaconda3/envs/estif/lib/python3.6/site-packages/PIL/JpegImagePlugin.py:796: UserWarning: Image appears to be a malformed MPO file, it will be interpreted as a base JPEG file\n",
      "  \"Image appears to be a malformed MPO file, it will be \"\n"
     ]
    },
    {
     "name": "stdout",
     "output_type": "stream",
     "text": [
      "Iteration number: 150/4000\n",
      "Training Accuracy: 65.625%\n",
      "Time elapsed: 0h 3m 0s\n",
      "======================================================================\n",
      "Iteration number: 160/4000\n",
      "Training Accuracy: 81.250%\n",
      "Time elapsed: 0h 3m 12s\n",
      "======================================================================\n"
     ]
    },
    {
     "name": "stderr",
     "output_type": "stream",
     "text": [
      "/home/robotics/anaconda3/envs/estif/lib/python3.6/site-packages/PIL/JpegImagePlugin.py:796: UserWarning: Image appears to be a malformed MPO file, it will be interpreted as a base JPEG file\n",
      "  \"Image appears to be a malformed MPO file, it will be \"\n"
     ]
    },
    {
     "name": "stdout",
     "output_type": "stream",
     "text": [
      "Iteration number: 170/4000\n",
      "Training Accuracy: 84.375%\n",
      "Time elapsed: 0h 3m 24s\n",
      "======================================================================\n",
      "Iteration number: 180/4000\n",
      "Training Accuracy: 62.500%\n",
      "Time elapsed: 0h 3m 36s\n",
      "======================================================================\n",
      "Iteration number: 190/4000\n",
      "Training Accuracy: 78.125%\n",
      "Time elapsed: 0h 3m 48s\n",
      "======================================================================\n"
     ]
    },
    {
     "name": "stderr",
     "output_type": "stream",
     "text": [
      "/home/robotics/anaconda3/envs/estif/lib/python3.6/site-packages/PIL/JpegImagePlugin.py:796: UserWarning: Image appears to be a malformed MPO file, it will be interpreted as a base JPEG file\n",
      "  \"Image appears to be a malformed MPO file, it will be \"\n",
      "/home/robotics/anaconda3/envs/estif/lib/python3.6/site-packages/PIL/JpegImagePlugin.py:796: UserWarning: Image appears to be a malformed MPO file, it will be interpreted as a base JPEG file\n",
      "  \"Image appears to be a malformed MPO file, it will be \"\n"
     ]
    },
    {
     "name": "stdout",
     "output_type": "stream",
     "text": [
      "Iteration number: 200/4000\n",
      "Training Accuracy: 78.125%\n",
      "Time elapsed: 0h 3m 59s\n",
      "======================================================================\n"
     ]
    },
    {
     "name": "stderr",
     "output_type": "stream",
     "text": [
      "/home/robotics/anaconda3/envs/estif/lib/python3.6/site-packages/PIL/JpegImagePlugin.py:796: UserWarning: Image appears to be a malformed MPO file, it will be interpreted as a base JPEG file\n",
      "  \"Image appears to be a malformed MPO file, it will be \"\n",
      "/home/robotics/anaconda3/envs/estif/lib/python3.6/site-packages/PIL/JpegImagePlugin.py:796: UserWarning: Image appears to be a malformed MPO file, it will be interpreted as a base JPEG file\n",
      "  \"Image appears to be a malformed MPO file, it will be \"\n"
     ]
    },
    {
     "name": "stdout",
     "output_type": "stream",
     "text": [
      "Iteration number: 210/4000\n",
      "Training Accuracy: 90.625%\n",
      "Time elapsed: 0h 4m 11s\n",
      "======================================================================\n",
      "Iteration number: 220/4000\n",
      "Training Accuracy: 84.375%\n",
      "Time elapsed: 0h 4m 24s\n",
      "======================================================================\n"
     ]
    },
    {
     "name": "stderr",
     "output_type": "stream",
     "text": [
      "/home/robotics/anaconda3/envs/estif/lib/python3.6/site-packages/PIL/JpegImagePlugin.py:796: UserWarning: Image appears to be a malformed MPO file, it will be interpreted as a base JPEG file\n",
      "  \"Image appears to be a malformed MPO file, it will be \"\n"
     ]
    },
    {
     "name": "stdout",
     "output_type": "stream",
     "text": [
      "Iteration number: 230/4000\n",
      "Training Accuracy: 87.500%\n",
      "Time elapsed: 0h 4m 36s\n",
      "======================================================================\n"
     ]
    },
    {
     "name": "stderr",
     "output_type": "stream",
     "text": [
      "/home/robotics/anaconda3/envs/estif/lib/python3.6/site-packages/PIL/JpegImagePlugin.py:796: UserWarning: Image appears to be a malformed MPO file, it will be interpreted as a base JPEG file\n",
      "  \"Image appears to be a malformed MPO file, it will be \"\n"
     ]
    },
    {
     "name": "stdout",
     "output_type": "stream",
     "text": [
      "Iteration number: 240/4000\n",
      "Training Accuracy: 78.125%\n",
      "Time elapsed: 0h 4m 48s\n",
      "======================================================================\n"
     ]
    },
    {
     "name": "stderr",
     "output_type": "stream",
     "text": [
      "/home/robotics/anaconda3/envs/estif/lib/python3.6/site-packages/PIL/JpegImagePlugin.py:796: UserWarning: Image appears to be a malformed MPO file, it will be interpreted as a base JPEG file\n",
      "  \"Image appears to be a malformed MPO file, it will be \"\n"
     ]
    },
    {
     "name": "stdout",
     "output_type": "stream",
     "text": [
      "Iteration number: 250/4000\n",
      "Training Accuracy: 93.750%\n",
      "Time elapsed: 0h 4m 60s\n",
      "======================================================================\n"
     ]
    },
    {
     "name": "stderr",
     "output_type": "stream",
     "text": [
      "/home/robotics/anaconda3/envs/estif/lib/python3.6/site-packages/PIL/JpegImagePlugin.py:796: UserWarning: Image appears to be a malformed MPO file, it will be interpreted as a base JPEG file\n",
      "  \"Image appears to be a malformed MPO file, it will be \"\n",
      "/home/robotics/anaconda3/envs/estif/lib/python3.6/site-packages/PIL/JpegImagePlugin.py:796: UserWarning: Image appears to be a malformed MPO file, it will be interpreted as a base JPEG file\n",
      "  \"Image appears to be a malformed MPO file, it will be \"\n"
     ]
    },
    {
     "name": "stdout",
     "output_type": "stream",
     "text": [
      "Iteration number: 260/4000\n",
      "Training Accuracy: 87.500%\n",
      "Time elapsed: 0h 5m 11s\n",
      "======================================================================\n"
     ]
    },
    {
     "name": "stderr",
     "output_type": "stream",
     "text": [
      "/home/robotics/anaconda3/envs/estif/lib/python3.6/site-packages/PIL/JpegImagePlugin.py:796: UserWarning: Image appears to be a malformed MPO file, it will be interpreted as a base JPEG file\n",
      "  \"Image appears to be a malformed MPO file, it will be \"\n"
     ]
    },
    {
     "name": "stdout",
     "output_type": "stream",
     "text": [
      "Iteration number: 270/4000\n",
      "Training Accuracy: 96.875%\n",
      "Time elapsed: 0h 5m 23s\n",
      "======================================================================\n",
      "Iteration number: 280/4000\n",
      "Training Accuracy: 84.375%\n",
      "Time elapsed: 0h 5m 35s\n",
      "======================================================================\n",
      "Iteration number: 290/4000\n",
      "Training Accuracy: 93.750%\n",
      "Time elapsed: 0h 5m 46s\n",
      "======================================================================\n"
     ]
    },
    {
     "name": "stderr",
     "output_type": "stream",
     "text": [
      "/home/robotics/anaconda3/envs/estif/lib/python3.6/site-packages/PIL/JpegImagePlugin.py:796: UserWarning: Image appears to be a malformed MPO file, it will be interpreted as a base JPEG file\n",
      "  \"Image appears to be a malformed MPO file, it will be \"\n",
      "/home/robotics/anaconda3/envs/estif/lib/python3.6/site-packages/PIL/JpegImagePlugin.py:796: UserWarning: Image appears to be a malformed MPO file, it will be interpreted as a base JPEG file\n",
      "  \"Image appears to be a malformed MPO file, it will be \"\n"
     ]
    },
    {
     "name": "stdout",
     "output_type": "stream",
     "text": [
      "Iteration number: 300/4000\n",
      "Training Accuracy: 90.625%\n",
      "Time elapsed: 0h 5m 59s\n",
      "======================================================================\n",
      "Iteration number: 310/4000\n",
      "Training Accuracy: 100.000%\n",
      "Time elapsed: 0h 6m 11s\n",
      "======================================================================\n",
      "Iteration number: 320/4000\n",
      "Training Accuracy: 84.375%\n",
      "Time elapsed: 0h 6m 22s\n",
      "======================================================================\n",
      "Iteration number: 330/4000\n",
      "Training Accuracy: 87.500%\n",
      "Time elapsed: 0h 6m 33s\n",
      "======================================================================\n"
     ]
    },
    {
     "name": "stderr",
     "output_type": "stream",
     "text": [
      "/home/robotics/anaconda3/envs/estif/lib/python3.6/site-packages/PIL/JpegImagePlugin.py:796: UserWarning: Image appears to be a malformed MPO file, it will be interpreted as a base JPEG file\n",
      "  \"Image appears to be a malformed MPO file, it will be \"\n"
     ]
    },
    {
     "name": "stdout",
     "output_type": "stream",
     "text": [
      "Iteration number: 340/4000\n",
      "Training Accuracy: 90.625%\n",
      "Time elapsed: 0h 6m 46s\n",
      "======================================================================\n",
      "Iteration number: 350/4000\n",
      "Training Accuracy: 93.750%\n",
      "Time elapsed: 0h 6m 59s\n",
      "======================================================================\n"
     ]
    },
    {
     "name": "stderr",
     "output_type": "stream",
     "text": [
      "/home/robotics/anaconda3/envs/estif/lib/python3.6/site-packages/PIL/JpegImagePlugin.py:796: UserWarning: Image appears to be a malformed MPO file, it will be interpreted as a base JPEG file\n",
      "  \"Image appears to be a malformed MPO file, it will be \"\n",
      "/home/robotics/anaconda3/envs/estif/lib/python3.6/site-packages/PIL/JpegImagePlugin.py:796: UserWarning: Image appears to be a malformed MPO file, it will be interpreted as a base JPEG file\n",
      "  \"Image appears to be a malformed MPO file, it will be \"\n"
     ]
    },
    {
     "name": "stdout",
     "output_type": "stream",
     "text": [
      "Iteration number: 360/4000\n",
      "Training Accuracy: 90.625%\n",
      "Time elapsed: 0h 7m 10s\n",
      "======================================================================\n",
      "Iteration number: 370/4000\n",
      "Training Accuracy: 93.750%\n",
      "Time elapsed: 0h 7m 22s\n",
      "======================================================================\n",
      "Iteration number: 380/4000\n",
      "Training Accuracy: 90.625%\n",
      "Time elapsed: 0h 7m 34s\n",
      "======================================================================\n"
     ]
    },
    {
     "name": "stderr",
     "output_type": "stream",
     "text": [
      "/home/robotics/anaconda3/envs/estif/lib/python3.6/site-packages/PIL/JpegImagePlugin.py:796: UserWarning: Image appears to be a malformed MPO file, it will be interpreted as a base JPEG file\n",
      "  \"Image appears to be a malformed MPO file, it will be \"\n"
     ]
    },
    {
     "name": "stdout",
     "output_type": "stream",
     "text": [
      "Iteration number: 390/4000\n",
      "Training Accuracy: 90.625%\n",
      "Time elapsed: 0h 7m 47s\n",
      "======================================================================\n",
      "Iteration number: 400/4000\n",
      "Training Accuracy: 96.875%\n",
      "Time elapsed: 0h 7m 60s\n",
      "======================================================================\n",
      "Iteration number: 410/4000\n",
      "Training Accuracy: 96.875%\n",
      "Time elapsed: 0h 8m 12s\n",
      "======================================================================\n"
     ]
    },
    {
     "name": "stderr",
     "output_type": "stream",
     "text": [
      "/home/robotics/anaconda3/envs/estif/lib/python3.6/site-packages/PIL/JpegImagePlugin.py:796: UserWarning: Image appears to be a malformed MPO file, it will be interpreted as a base JPEG file\n",
      "  \"Image appears to be a malformed MPO file, it will be \"\n"
     ]
    },
    {
     "name": "stdout",
     "output_type": "stream",
     "text": [
      "Iteration number: 420/4000\n",
      "Training Accuracy: 96.875%\n",
      "Time elapsed: 0h 8m 24s\n",
      "======================================================================\n"
     ]
    },
    {
     "name": "stderr",
     "output_type": "stream",
     "text": [
      "/home/robotics/anaconda3/envs/estif/lib/python3.6/site-packages/PIL/JpegImagePlugin.py:796: UserWarning: Image appears to be a malformed MPO file, it will be interpreted as a base JPEG file\n",
      "  \"Image appears to be a malformed MPO file, it will be \"\n"
     ]
    },
    {
     "name": "stdout",
     "output_type": "stream",
     "text": [
      "Iteration number: 430/4000\n",
      "Training Accuracy: 100.000%\n",
      "Time elapsed: 0h 8m 36s\n",
      "======================================================================\n",
      "Iteration number: 440/4000\n",
      "Training Accuracy: 93.750%\n",
      "Time elapsed: 0h 8m 48s\n",
      "======================================================================\n",
      "Iteration number: 450/4000\n",
      "Training Accuracy: 96.875%\n",
      "Time elapsed: 0h 8m 60s\n",
      "======================================================================\n",
      "Iteration number: 460/4000\n",
      "Training Accuracy: 93.750%\n",
      "Time elapsed: 0h 9m 11s\n",
      "======================================================================\n",
      "Iteration number: 470/4000\n",
      "Training Accuracy: 100.000%\n",
      "Time elapsed: 0h 9m 22s\n",
      "======================================================================\n",
      "Iteration number: 480/4000\n",
      "Training Accuracy: 100.000%\n",
      "Time elapsed: 0h 9m 34s\n",
      "======================================================================\n",
      "Iteration number: 490/4000\n",
      "Training Accuracy: 100.000%\n",
      "Time elapsed: 0h 9m 46s\n",
      "======================================================================\n",
      "Iteration number: 500/4000\n",
      "Training Accuracy: 100.000%\n",
      "Time elapsed: 0h 9m 58s\n",
      "======================================================================\n",
      "Iteration number: 510/4000\n",
      "Training Accuracy: 90.625%\n",
      "Time elapsed: 0h 10m 10s\n",
      "======================================================================\n"
     ]
    },
    {
     "name": "stderr",
     "output_type": "stream",
     "text": [
      "/home/robotics/anaconda3/envs/estif/lib/python3.6/site-packages/PIL/JpegImagePlugin.py:796: UserWarning: Image appears to be a malformed MPO file, it will be interpreted as a base JPEG file\n",
      "  \"Image appears to be a malformed MPO file, it will be \"\n"
     ]
    },
    {
     "name": "stdout",
     "output_type": "stream",
     "text": [
      "Iteration number: 520/4000\n",
      "Training Accuracy: 100.000%\n",
      "Time elapsed: 0h 10m 22s\n",
      "======================================================================\n"
     ]
    },
    {
     "name": "stderr",
     "output_type": "stream",
     "text": [
      "/home/robotics/anaconda3/envs/estif/lib/python3.6/site-packages/PIL/JpegImagePlugin.py:796: UserWarning: Image appears to be a malformed MPO file, it will be interpreted as a base JPEG file\n",
      "  \"Image appears to be a malformed MPO file, it will be \"\n"
     ]
    },
    {
     "name": "stdout",
     "output_type": "stream",
     "text": [
      "Iteration number: 530/4000\n",
      "Training Accuracy: 100.000%\n",
      "Time elapsed: 0h 10m 34s\n",
      "======================================================================\n"
     ]
    },
    {
     "name": "stderr",
     "output_type": "stream",
     "text": [
      "/home/robotics/anaconda3/envs/estif/lib/python3.6/site-packages/PIL/JpegImagePlugin.py:796: UserWarning: Image appears to be a malformed MPO file, it will be interpreted as a base JPEG file\n",
      "  \"Image appears to be a malformed MPO file, it will be \"\n"
     ]
    },
    {
     "name": "stdout",
     "output_type": "stream",
     "text": [
      "Iteration number: 540/4000\n",
      "Training Accuracy: 100.000%\n",
      "Time elapsed: 0h 10m 46s\n",
      "======================================================================\n",
      "Iteration number: 550/4000\n",
      "Training Accuracy: 96.875%\n",
      "Time elapsed: 0h 10m 58s\n",
      "======================================================================\n"
     ]
    },
    {
     "name": "stderr",
     "output_type": "stream",
     "text": [
      "/home/robotics/anaconda3/envs/estif/lib/python3.6/site-packages/PIL/JpegImagePlugin.py:796: UserWarning: Image appears to be a malformed MPO file, it will be interpreted as a base JPEG file\n",
      "  \"Image appears to be a malformed MPO file, it will be \"\n"
     ]
    },
    {
     "name": "stdout",
     "output_type": "stream",
     "text": [
      "Iteration number: 560/4000\n",
      "Training Accuracy: 100.000%\n",
      "Time elapsed: 0h 11m 10s\n",
      "======================================================================\n"
     ]
    },
    {
     "name": "stderr",
     "output_type": "stream",
     "text": [
      "/home/robotics/anaconda3/envs/estif/lib/python3.6/site-packages/PIL/JpegImagePlugin.py:796: UserWarning: Image appears to be a malformed MPO file, it will be interpreted as a base JPEG file\n",
      "  \"Image appears to be a malformed MPO file, it will be \"\n"
     ]
    },
    {
     "name": "stdout",
     "output_type": "stream",
     "text": [
      "Iteration number: 570/4000\n",
      "Training Accuracy: 100.000%\n",
      "Time elapsed: 0h 11m 21s\n",
      "======================================================================\n",
      "Iteration number: 580/4000\n",
      "Training Accuracy: 100.000%\n",
      "Time elapsed: 0h 11m 33s\n",
      "======================================================================\n"
     ]
    },
    {
     "name": "stderr",
     "output_type": "stream",
     "text": [
      "/home/robotics/anaconda3/envs/estif/lib/python3.6/site-packages/PIL/JpegImagePlugin.py:796: UserWarning: Image appears to be a malformed MPO file, it will be interpreted as a base JPEG file\n",
      "  \"Image appears to be a malformed MPO file, it will be \"\n"
     ]
    },
    {
     "name": "stdout",
     "output_type": "stream",
     "text": [
      "Iteration number: 590/4000\n",
      "Training Accuracy: 93.750%\n",
      "Time elapsed: 0h 11m 45s\n",
      "======================================================================\n"
     ]
    },
    {
     "name": "stderr",
     "output_type": "stream",
     "text": [
      "/home/robotics/anaconda3/envs/estif/lib/python3.6/site-packages/PIL/JpegImagePlugin.py:796: UserWarning: Image appears to be a malformed MPO file, it will be interpreted as a base JPEG file\n",
      "  \"Image appears to be a malformed MPO file, it will be \"\n",
      "/home/robotics/anaconda3/envs/estif/lib/python3.6/site-packages/PIL/JpegImagePlugin.py:796: UserWarning: Image appears to be a malformed MPO file, it will be interpreted as a base JPEG file\n",
      "  \"Image appears to be a malformed MPO file, it will be \"\n"
     ]
    },
    {
     "name": "stdout",
     "output_type": "stream",
     "text": [
      "Iteration number: 600/4000\n",
      "Training Accuracy: 93.750%\n",
      "Time elapsed: 0h 11m 56s\n",
      "======================================================================\n"
     ]
    },
    {
     "name": "stderr",
     "output_type": "stream",
     "text": [
      "/home/robotics/anaconda3/envs/estif/lib/python3.6/site-packages/PIL/JpegImagePlugin.py:796: UserWarning: Image appears to be a malformed MPO file, it will be interpreted as a base JPEG file\n",
      "  \"Image appears to be a malformed MPO file, it will be \"\n"
     ]
    },
    {
     "name": "stdout",
     "output_type": "stream",
     "text": [
      "Iteration number: 610/4000\n",
      "Training Accuracy: 96.875%\n",
      "Time elapsed: 0h 12m 8s\n",
      "======================================================================\n",
      "Iteration number: 620/4000\n",
      "Training Accuracy: 100.000%\n",
      "Time elapsed: 0h 12m 20s\n",
      "======================================================================\n",
      "Iteration number: 630/4000\n",
      "Training Accuracy: 100.000%\n",
      "Time elapsed: 0h 12m 31s\n",
      "======================================================================\n"
     ]
    },
    {
     "name": "stderr",
     "output_type": "stream",
     "text": [
      "/home/robotics/anaconda3/envs/estif/lib/python3.6/site-packages/PIL/JpegImagePlugin.py:796: UserWarning: Image appears to be a malformed MPO file, it will be interpreted as a base JPEG file\n",
      "  \"Image appears to be a malformed MPO file, it will be \"\n"
     ]
    },
    {
     "name": "stdout",
     "output_type": "stream",
     "text": [
      "Iteration number: 640/4000\n",
      "Training Accuracy: 100.000%\n",
      "Time elapsed: 0h 12m 43s\n",
      "======================================================================\n"
     ]
    },
    {
     "name": "stderr",
     "output_type": "stream",
     "text": [
      "/home/robotics/anaconda3/envs/estif/lib/python3.6/site-packages/PIL/JpegImagePlugin.py:796: UserWarning: Image appears to be a malformed MPO file, it will be interpreted as a base JPEG file\n",
      "  \"Image appears to be a malformed MPO file, it will be \"\n"
     ]
    },
    {
     "name": "stdout",
     "output_type": "stream",
     "text": [
      "Iteration number: 650/4000\n",
      "Training Accuracy: 96.875%\n",
      "Time elapsed: 0h 12m 56s\n",
      "======================================================================\n"
     ]
    },
    {
     "name": "stderr",
     "output_type": "stream",
     "text": [
      "/home/robotics/anaconda3/envs/estif/lib/python3.6/site-packages/PIL/JpegImagePlugin.py:796: UserWarning: Image appears to be a malformed MPO file, it will be interpreted as a base JPEG file\n",
      "  \"Image appears to be a malformed MPO file, it will be \"\n",
      "/home/robotics/anaconda3/envs/estif/lib/python3.6/site-packages/PIL/JpegImagePlugin.py:796: UserWarning: Image appears to be a malformed MPO file, it will be interpreted as a base JPEG file\n",
      "  \"Image appears to be a malformed MPO file, it will be \"\n"
     ]
    },
    {
     "name": "stdout",
     "output_type": "stream",
     "text": [
      "Iteration number: 660/4000\n",
      "Training Accuracy: 96.875%\n",
      "Time elapsed: 0h 13m 7s\n",
      "======================================================================\n",
      "Iteration number: 670/4000\n",
      "Training Accuracy: 100.000%\n",
      "Time elapsed: 0h 13m 20s\n",
      "======================================================================\n",
      "Iteration number: 680/4000\n",
      "Training Accuracy: 100.000%\n",
      "Time elapsed: 0h 13m 33s\n",
      "======================================================================\n",
      "Iteration number: 690/4000\n",
      "Training Accuracy: 96.875%\n",
      "Time elapsed: 0h 13m 45s\n",
      "======================================================================\n",
      "Iteration number: 700/4000\n",
      "Training Accuracy: 100.000%\n",
      "Time elapsed: 0h 13m 57s\n",
      "======================================================================\n",
      "Iteration number: 710/4000\n",
      "Training Accuracy: 100.000%\n",
      "Time elapsed: 0h 14m 9s\n",
      "======================================================================\n",
      "Iteration number: 720/4000\n",
      "Training Accuracy: 100.000%\n",
      "Time elapsed: 0h 14m 22s\n",
      "======================================================================\n"
     ]
    },
    {
     "name": "stderr",
     "output_type": "stream",
     "text": [
      "/home/robotics/anaconda3/envs/estif/lib/python3.6/site-packages/PIL/JpegImagePlugin.py:796: UserWarning: Image appears to be a malformed MPO file, it will be interpreted as a base JPEG file\n",
      "  \"Image appears to be a malformed MPO file, it will be \"\n",
      "/home/robotics/anaconda3/envs/estif/lib/python3.6/site-packages/PIL/JpegImagePlugin.py:796: UserWarning: Image appears to be a malformed MPO file, it will be interpreted as a base JPEG file\n",
      "  \"Image appears to be a malformed MPO file, it will be \"\n"
     ]
    },
    {
     "name": "stdout",
     "output_type": "stream",
     "text": [
      "Iteration number: 730/4000\n",
      "Training Accuracy: 100.000%\n",
      "Time elapsed: 0h 14m 34s\n",
      "======================================================================\n"
     ]
    },
    {
     "name": "stderr",
     "output_type": "stream",
     "text": [
      "/home/robotics/anaconda3/envs/estif/lib/python3.6/site-packages/PIL/JpegImagePlugin.py:796: UserWarning: Image appears to be a malformed MPO file, it will be interpreted as a base JPEG file\n",
      "  \"Image appears to be a malformed MPO file, it will be \"\n"
     ]
    },
    {
     "name": "stdout",
     "output_type": "stream",
     "text": [
      "Iteration number: 740/4000\n",
      "Training Accuracy: 100.000%\n",
      "Time elapsed: 0h 14m 46s\n",
      "======================================================================\n",
      "Iteration number: 750/4000\n",
      "Training Accuracy: 100.000%\n",
      "Time elapsed: 0h 14m 58s\n",
      "======================================================================\n"
     ]
    },
    {
     "name": "stderr",
     "output_type": "stream",
     "text": [
      "/home/robotics/anaconda3/envs/estif/lib/python3.6/site-packages/PIL/JpegImagePlugin.py:796: UserWarning: Image appears to be a malformed MPO file, it will be interpreted as a base JPEG file\n",
      "  \"Image appears to be a malformed MPO file, it will be \"\n"
     ]
    },
    {
     "name": "stdout",
     "output_type": "stream",
     "text": [
      "Iteration number: 760/4000\n",
      "Training Accuracy: 100.000%\n",
      "Time elapsed: 0h 15m 10s\n",
      "======================================================================\n",
      "Iteration number: 770/4000\n",
      "Training Accuracy: 96.875%\n",
      "Time elapsed: 0h 15m 22s\n",
      "======================================================================\n"
     ]
    },
    {
     "name": "stderr",
     "output_type": "stream",
     "text": [
      "/home/robotics/anaconda3/envs/estif/lib/python3.6/site-packages/PIL/JpegImagePlugin.py:796: UserWarning: Image appears to be a malformed MPO file, it will be interpreted as a base JPEG file\n",
      "  \"Image appears to be a malformed MPO file, it will be \"\n"
     ]
    },
    {
     "name": "stdout",
     "output_type": "stream",
     "text": [
      "Iteration number: 780/4000\n",
      "Training Accuracy: 100.000%\n",
      "Time elapsed: 0h 15m 34s\n",
      "======================================================================\n",
      "Iteration number: 790/4000\n",
      "Training Accuracy: 100.000%\n",
      "Time elapsed: 0h 15m 46s\n",
      "======================================================================\n",
      "Iteration number: 800/4000\n",
      "Training Accuracy: 100.000%\n",
      "Time elapsed: 0h 15m 58s\n",
      "======================================================================\n"
     ]
    },
    {
     "name": "stderr",
     "output_type": "stream",
     "text": [
      "/home/robotics/anaconda3/envs/estif/lib/python3.6/site-packages/PIL/JpegImagePlugin.py:796: UserWarning: Image appears to be a malformed MPO file, it will be interpreted as a base JPEG file\n",
      "  \"Image appears to be a malformed MPO file, it will be \"\n",
      "/home/robotics/anaconda3/envs/estif/lib/python3.6/site-packages/PIL/JpegImagePlugin.py:796: UserWarning: Image appears to be a malformed MPO file, it will be interpreted as a base JPEG file\n",
      "  \"Image appears to be a malformed MPO file, it will be \"\n"
     ]
    },
    {
     "name": "stdout",
     "output_type": "stream",
     "text": [
      "Iteration number: 810/4000\n",
      "Training Accuracy: 100.000%\n",
      "Time elapsed: 0h 16m 9s\n",
      "======================================================================\n"
     ]
    },
    {
     "name": "stderr",
     "output_type": "stream",
     "text": [
      "/home/robotics/anaconda3/envs/estif/lib/python3.6/site-packages/PIL/JpegImagePlugin.py:796: UserWarning: Image appears to be a malformed MPO file, it will be interpreted as a base JPEG file\n",
      "  \"Image appears to be a malformed MPO file, it will be \"\n"
     ]
    },
    {
     "name": "stdout",
     "output_type": "stream",
     "text": [
      "Iteration number: 820/4000\n",
      "Training Accuracy: 96.875%\n",
      "Time elapsed: 0h 16m 21s\n",
      "======================================================================\n"
     ]
    },
    {
     "name": "stderr",
     "output_type": "stream",
     "text": [
      "/home/robotics/anaconda3/envs/estif/lib/python3.6/site-packages/PIL/JpegImagePlugin.py:796: UserWarning: Image appears to be a malformed MPO file, it will be interpreted as a base JPEG file\n",
      "  \"Image appears to be a malformed MPO file, it will be \"\n"
     ]
    },
    {
     "name": "stdout",
     "output_type": "stream",
     "text": [
      "Iteration number: 830/4000\n",
      "Training Accuracy: 100.000%\n",
      "Time elapsed: 0h 16m 33s\n",
      "======================================================================\n",
      "Iteration number: 840/4000\n",
      "Training Accuracy: 100.000%\n",
      "Time elapsed: 0h 16m 44s\n",
      "======================================================================\n",
      "Iteration number: 850/4000\n",
      "Training Accuracy: 100.000%\n",
      "Time elapsed: 0h 16m 57s\n",
      "======================================================================\n"
     ]
    },
    {
     "name": "stderr",
     "output_type": "stream",
     "text": [
      "/home/robotics/anaconda3/envs/estif/lib/python3.6/site-packages/PIL/JpegImagePlugin.py:796: UserWarning: Image appears to be a malformed MPO file, it will be interpreted as a base JPEG file\n",
      "  \"Image appears to be a malformed MPO file, it will be \"\n",
      "/home/robotics/anaconda3/envs/estif/lib/python3.6/site-packages/PIL/JpegImagePlugin.py:796: UserWarning: Image appears to be a malformed MPO file, it will be interpreted as a base JPEG file\n",
      "  \"Image appears to be a malformed MPO file, it will be \"\n",
      "/home/robotics/anaconda3/envs/estif/lib/python3.6/site-packages/PIL/JpegImagePlugin.py:796: UserWarning: Image appears to be a malformed MPO file, it will be interpreted as a base JPEG file\n",
      "  \"Image appears to be a malformed MPO file, it will be \"\n",
      "/home/robotics/anaconda3/envs/estif/lib/python3.6/site-packages/PIL/JpegImagePlugin.py:796: UserWarning: Image appears to be a malformed MPO file, it will be interpreted as a base JPEG file\n",
      "  \"Image appears to be a malformed MPO file, it will be \"\n"
     ]
    },
    {
     "name": "stdout",
     "output_type": "stream",
     "text": [
      "Iteration number: 860/4000\n",
      "Training Accuracy: 100.000%\n",
      "Time elapsed: 0h 17m 8s\n",
      "======================================================================\n",
      "Iteration number: 870/4000\n",
      "Training Accuracy: 100.000%\n",
      "Time elapsed: 0h 17m 21s\n",
      "======================================================================\n",
      "Iteration number: 880/4000\n",
      "Training Accuracy: 100.000%\n",
      "Time elapsed: 0h 17m 33s\n",
      "======================================================================\n",
      "Iteration number: 890/4000\n",
      "Training Accuracy: 100.000%\n",
      "Time elapsed: 0h 17m 45s\n",
      "======================================================================\n"
     ]
    },
    {
     "name": "stderr",
     "output_type": "stream",
     "text": [
      "/home/robotics/anaconda3/envs/estif/lib/python3.6/site-packages/PIL/JpegImagePlugin.py:796: UserWarning: Image appears to be a malformed MPO file, it will be interpreted as a base JPEG file\n",
      "  \"Image appears to be a malformed MPO file, it will be \"\n"
     ]
    },
    {
     "name": "stdout",
     "output_type": "stream",
     "text": [
      "Iteration number: 900/4000\n",
      "Training Accuracy: 100.000%\n",
      "Time elapsed: 0h 17m 57s\n",
      "======================================================================\n"
     ]
    },
    {
     "name": "stderr",
     "output_type": "stream",
     "text": [
      "/home/robotics/anaconda3/envs/estif/lib/python3.6/site-packages/PIL/JpegImagePlugin.py:796: UserWarning: Image appears to be a malformed MPO file, it will be interpreted as a base JPEG file\n",
      "  \"Image appears to be a malformed MPO file, it will be \"\n"
     ]
    },
    {
     "name": "stdout",
     "output_type": "stream",
     "text": [
      "Iteration number: 910/4000\n",
      "Training Accuracy: 100.000%\n",
      "Time elapsed: 0h 18m 8s\n",
      "======================================================================\n"
     ]
    },
    {
     "name": "stderr",
     "output_type": "stream",
     "text": [
      "/home/robotics/anaconda3/envs/estif/lib/python3.6/site-packages/PIL/JpegImagePlugin.py:796: UserWarning: Image appears to be a malformed MPO file, it will be interpreted as a base JPEG file\n",
      "  \"Image appears to be a malformed MPO file, it will be \"\n",
      "/home/robotics/anaconda3/envs/estif/lib/python3.6/site-packages/PIL/JpegImagePlugin.py:796: UserWarning: Image appears to be a malformed MPO file, it will be interpreted as a base JPEG file\n",
      "  \"Image appears to be a malformed MPO file, it will be \"\n"
     ]
    },
    {
     "name": "stdout",
     "output_type": "stream",
     "text": [
      "Iteration number: 920/4000\n",
      "Training Accuracy: 100.000%\n",
      "Time elapsed: 0h 18m 19s\n",
      "======================================================================\n",
      "Iteration number: 930/4000\n",
      "Training Accuracy: 100.000%\n",
      "Time elapsed: 0h 18m 31s\n",
      "======================================================================\n"
     ]
    },
    {
     "name": "stderr",
     "output_type": "stream",
     "text": [
      "/home/robotics/anaconda3/envs/estif/lib/python3.6/site-packages/PIL/JpegImagePlugin.py:796: UserWarning: Image appears to be a malformed MPO file, it will be interpreted as a base JPEG file\n",
      "  \"Image appears to be a malformed MPO file, it will be \"\n"
     ]
    },
    {
     "name": "stdout",
     "output_type": "stream",
     "text": [
      "Iteration number: 940/4000\n",
      "Training Accuracy: 100.000%\n",
      "Time elapsed: 0h 18m 44s\n",
      "======================================================================\n"
     ]
    },
    {
     "name": "stderr",
     "output_type": "stream",
     "text": [
      "/home/robotics/anaconda3/envs/estif/lib/python3.6/site-packages/PIL/JpegImagePlugin.py:796: UserWarning: Image appears to be a malformed MPO file, it will be interpreted as a base JPEG file\n",
      "  \"Image appears to be a malformed MPO file, it will be \"\n"
     ]
    },
    {
     "name": "stdout",
     "output_type": "stream",
     "text": [
      "Iteration number: 950/4000\n",
      "Training Accuracy: 100.000%\n",
      "Time elapsed: 0h 18m 55s\n",
      "======================================================================\n",
      "Iteration number: 960/4000\n",
      "Training Accuracy: 96.875%\n",
      "Time elapsed: 0h 19m 8s\n",
      "======================================================================\n"
     ]
    },
    {
     "name": "stderr",
     "output_type": "stream",
     "text": [
      "/home/robotics/anaconda3/envs/estif/lib/python3.6/site-packages/PIL/JpegImagePlugin.py:796: UserWarning: Image appears to be a malformed MPO file, it will be interpreted as a base JPEG file\n",
      "  \"Image appears to be a malformed MPO file, it will be \"\n",
      "/home/robotics/anaconda3/envs/estif/lib/python3.6/site-packages/PIL/JpegImagePlugin.py:796: UserWarning: Image appears to be a malformed MPO file, it will be interpreted as a base JPEG file\n",
      "  \"Image appears to be a malformed MPO file, it will be \"\n"
     ]
    },
    {
     "name": "stdout",
     "output_type": "stream",
     "text": [
      "Iteration number: 970/4000\n",
      "Training Accuracy: 96.875%\n",
      "Time elapsed: 0h 19m 20s\n",
      "======================================================================\n"
     ]
    },
    {
     "name": "stderr",
     "output_type": "stream",
     "text": [
      "/home/robotics/anaconda3/envs/estif/lib/python3.6/site-packages/PIL/JpegImagePlugin.py:796: UserWarning: Image appears to be a malformed MPO file, it will be interpreted as a base JPEG file\n",
      "  \"Image appears to be a malformed MPO file, it will be \"\n"
     ]
    },
    {
     "name": "stdout",
     "output_type": "stream",
     "text": [
      "Iteration number: 980/4000\n",
      "Training Accuracy: 100.000%\n",
      "Time elapsed: 0h 19m 32s\n",
      "======================================================================\n",
      "Iteration number: 990/4000\n",
      "Training Accuracy: 96.875%\n",
      "Time elapsed: 0h 19m 44s\n",
      "======================================================================\n",
      "Iteration number: 1000/4000\n",
      "Training Accuracy: 100.000%\n",
      "Time elapsed: 0h 19m 55s\n",
      "======================================================================\n",
      "Iteration number: 1010/4000\n",
      "Training Accuracy: 100.000%\n",
      "Time elapsed: 0h 20m 7s\n",
      "======================================================================\n",
      "Iteration number: 1020/4000\n",
      "Training Accuracy: 100.000%\n",
      "Time elapsed: 0h 20m 18s\n",
      "======================================================================\n"
     ]
    },
    {
     "name": "stderr",
     "output_type": "stream",
     "text": [
      "/home/robotics/anaconda3/envs/estif/lib/python3.6/site-packages/PIL/JpegImagePlugin.py:796: UserWarning: Image appears to be a malformed MPO file, it will be interpreted as a base JPEG file\n",
      "  \"Image appears to be a malformed MPO file, it will be \"\n"
     ]
    },
    {
     "name": "stdout",
     "output_type": "stream",
     "text": [
      "Iteration number: 1030/4000\n",
      "Training Accuracy: 100.000%\n",
      "Time elapsed: 0h 20m 29s\n",
      "======================================================================\n",
      "Iteration number: 1040/4000\n",
      "Training Accuracy: 100.000%\n",
      "Time elapsed: 0h 20m 41s\n",
      "======================================================================\n",
      "Iteration number: 1050/4000\n",
      "Training Accuracy: 100.000%\n",
      "Time elapsed: 0h 20m 53s\n",
      "======================================================================\n"
     ]
    },
    {
     "name": "stderr",
     "output_type": "stream",
     "text": [
      "/home/robotics/anaconda3/envs/estif/lib/python3.6/site-packages/PIL/JpegImagePlugin.py:796: UserWarning: Image appears to be a malformed MPO file, it will be interpreted as a base JPEG file\n",
      "  \"Image appears to be a malformed MPO file, it will be \"\n",
      "/home/robotics/anaconda3/envs/estif/lib/python3.6/site-packages/PIL/JpegImagePlugin.py:796: UserWarning: Image appears to be a malformed MPO file, it will be interpreted as a base JPEG file\n",
      "  \"Image appears to be a malformed MPO file, it will be \"\n"
     ]
    },
    {
     "name": "stdout",
     "output_type": "stream",
     "text": [
      "Iteration number: 1060/4000\n",
      "Training Accuracy: 100.000%\n",
      "Time elapsed: 0h 21m 5s\n",
      "======================================================================\n"
     ]
    },
    {
     "name": "stderr",
     "output_type": "stream",
     "text": [
      "/home/robotics/anaconda3/envs/estif/lib/python3.6/site-packages/PIL/JpegImagePlugin.py:796: UserWarning: Image appears to be a malformed MPO file, it will be interpreted as a base JPEG file\n",
      "  \"Image appears to be a malformed MPO file, it will be \"\n"
     ]
    },
    {
     "name": "stdout",
     "output_type": "stream",
     "text": [
      "Iteration number: 1070/4000\n",
      "Training Accuracy: 100.000%\n",
      "Time elapsed: 0h 21m 17s\n",
      "======================================================================\n",
      "Iteration number: 1080/4000\n",
      "Training Accuracy: 100.000%\n",
      "Time elapsed: 0h 21m 28s\n",
      "======================================================================\n",
      "Iteration number: 1090/4000\n",
      "Training Accuracy: 100.000%\n",
      "Time elapsed: 0h 21m 40s\n",
      "======================================================================\n",
      "Iteration number: 1100/4000\n",
      "Training Accuracy: 100.000%\n",
      "Time elapsed: 0h 21m 52s\n",
      "======================================================================\n",
      "Iteration number: 1110/4000\n",
      "Training Accuracy: 100.000%\n",
      "Time elapsed: 0h 22m 3s\n",
      "======================================================================\n",
      "Iteration number: 1120/4000\n",
      "Training Accuracy: 100.000%\n",
      "Time elapsed: 0h 22m 16s\n",
      "======================================================================\n",
      "Iteration number: 1130/4000\n",
      "Training Accuracy: 100.000%\n",
      "Time elapsed: 0h 22m 27s\n",
      "======================================================================\n",
      "Iteration number: 1140/4000\n",
      "Training Accuracy: 100.000%\n",
      "Time elapsed: 0h 22m 40s\n",
      "======================================================================\n",
      "Iteration number: 1150/4000\n",
      "Training Accuracy: 100.000%\n",
      "Time elapsed: 0h 22m 52s\n",
      "======================================================================\n",
      "Iteration number: 1160/4000\n",
      "Training Accuracy: 100.000%\n",
      "Time elapsed: 0h 23m 3s\n",
      "======================================================================\n"
     ]
    },
    {
     "name": "stderr",
     "output_type": "stream",
     "text": [
      "/home/robotics/anaconda3/envs/estif/lib/python3.6/site-packages/PIL/JpegImagePlugin.py:796: UserWarning: Image appears to be a malformed MPO file, it will be interpreted as a base JPEG file\n",
      "  \"Image appears to be a malformed MPO file, it will be \"\n"
     ]
    },
    {
     "name": "stdout",
     "output_type": "stream",
     "text": [
      "Iteration number: 1170/4000\n",
      "Training Accuracy: 100.000%\n",
      "Time elapsed: 0h 23m 15s\n",
      "======================================================================\n"
     ]
    },
    {
     "name": "stderr",
     "output_type": "stream",
     "text": [
      "/home/robotics/anaconda3/envs/estif/lib/python3.6/site-packages/PIL/JpegImagePlugin.py:796: UserWarning: Image appears to be a malformed MPO file, it will be interpreted as a base JPEG file\n",
      "  \"Image appears to be a malformed MPO file, it will be \"\n",
      "/home/robotics/anaconda3/envs/estif/lib/python3.6/site-packages/PIL/JpegImagePlugin.py:796: UserWarning: Image appears to be a malformed MPO file, it will be interpreted as a base JPEG file\n",
      "  \"Image appears to be a malformed MPO file, it will be \"\n"
     ]
    },
    {
     "name": "stdout",
     "output_type": "stream",
     "text": [
      "Iteration number: 1180/4000\n",
      "Training Accuracy: 100.000%\n",
      "Time elapsed: 0h 23m 28s\n",
      "======================================================================\n",
      "Iteration number: 1190/4000\n",
      "Training Accuracy: 100.000%\n",
      "Time elapsed: 0h 23m 40s\n",
      "======================================================================\n",
      "Iteration number: 1200/4000\n",
      "Training Accuracy: 100.000%\n",
      "Time elapsed: 0h 23m 50s\n",
      "======================================================================\n",
      "Iteration number: 1210/4000\n",
      "Training Accuracy: 100.000%\n",
      "Time elapsed: 0h 24m 2s\n",
      "======================================================================\n",
      "Iteration number: 1220/4000\n",
      "Training Accuracy: 100.000%\n",
      "Time elapsed: 0h 24m 14s\n",
      "======================================================================\n"
     ]
    },
    {
     "name": "stderr",
     "output_type": "stream",
     "text": [
      "/home/robotics/anaconda3/envs/estif/lib/python3.6/site-packages/PIL/JpegImagePlugin.py:796: UserWarning: Image appears to be a malformed MPO file, it will be interpreted as a base JPEG file\n",
      "  \"Image appears to be a malformed MPO file, it will be \"\n"
     ]
    },
    {
     "name": "stdout",
     "output_type": "stream",
     "text": [
      "Iteration number: 1230/4000\n",
      "Training Accuracy: 96.875%\n",
      "Time elapsed: 0h 24m 26s\n",
      "======================================================================\n",
      "Iteration number: 1240/4000\n",
      "Training Accuracy: 100.000%\n",
      "Time elapsed: 0h 24m 38s\n",
      "======================================================================\n"
     ]
    },
    {
     "name": "stderr",
     "output_type": "stream",
     "text": [
      "/home/robotics/anaconda3/envs/estif/lib/python3.6/site-packages/PIL/JpegImagePlugin.py:796: UserWarning: Image appears to be a malformed MPO file, it will be interpreted as a base JPEG file\n",
      "  \"Image appears to be a malformed MPO file, it will be \"\n"
     ]
    },
    {
     "name": "stdout",
     "output_type": "stream",
     "text": [
      "Iteration number: 1250/4000\n",
      "Training Accuracy: 96.875%\n",
      "Time elapsed: 0h 24m 49s\n",
      "======================================================================\n",
      "Iteration number: 1260/4000\n",
      "Training Accuracy: 100.000%\n",
      "Time elapsed: 0h 25m 1s\n",
      "======================================================================\n"
     ]
    },
    {
     "name": "stderr",
     "output_type": "stream",
     "text": [
      "/home/robotics/anaconda3/envs/estif/lib/python3.6/site-packages/PIL/JpegImagePlugin.py:796: UserWarning: Image appears to be a malformed MPO file, it will be interpreted as a base JPEG file\n",
      "  \"Image appears to be a malformed MPO file, it will be \"\n"
     ]
    },
    {
     "name": "stdout",
     "output_type": "stream",
     "text": [
      "Iteration number: 1270/4000\n",
      "Training Accuracy: 100.000%\n",
      "Time elapsed: 0h 25m 15s\n",
      "======================================================================\n",
      "Iteration number: 1280/4000\n",
      "Training Accuracy: 100.000%\n",
      "Time elapsed: 0h 25m 27s\n",
      "======================================================================\n",
      "Iteration number: 1290/4000\n",
      "Training Accuracy: 100.000%\n",
      "Time elapsed: 0h 25m 38s\n",
      "======================================================================\n",
      "Iteration number: 1300/4000\n",
      "Training Accuracy: 100.000%\n",
      "Time elapsed: 0h 25m 51s\n",
      "======================================================================\n",
      "Iteration number: 1310/4000\n",
      "Training Accuracy: 100.000%\n",
      "Time elapsed: 0h 26m 3s\n",
      "======================================================================\n",
      "Iteration number: 1320/4000\n",
      "Training Accuracy: 100.000%\n",
      "Time elapsed: 0h 26m 15s\n",
      "======================================================================\n",
      "Iteration number: 1330/4000\n",
      "Training Accuracy: 100.000%\n",
      "Time elapsed: 0h 26m 27s\n",
      "======================================================================\n",
      "Iteration number: 1340/4000\n",
      "Training Accuracy: 100.000%\n",
      "Time elapsed: 0h 26m 39s\n",
      "======================================================================\n"
     ]
    },
    {
     "name": "stderr",
     "output_type": "stream",
     "text": [
      "/home/robotics/anaconda3/envs/estif/lib/python3.6/site-packages/PIL/JpegImagePlugin.py:796: UserWarning: Image appears to be a malformed MPO file, it will be interpreted as a base JPEG file\n",
      "  \"Image appears to be a malformed MPO file, it will be \"\n",
      "/home/robotics/anaconda3/envs/estif/lib/python3.6/site-packages/PIL/JpegImagePlugin.py:796: UserWarning: Image appears to be a malformed MPO file, it will be interpreted as a base JPEG file\n",
      "  \"Image appears to be a malformed MPO file, it will be \"\n",
      "/home/robotics/anaconda3/envs/estif/lib/python3.6/site-packages/PIL/JpegImagePlugin.py:796: UserWarning: Image appears to be a malformed MPO file, it will be interpreted as a base JPEG file\n",
      "  \"Image appears to be a malformed MPO file, it will be \"\n"
     ]
    },
    {
     "name": "stdout",
     "output_type": "stream",
     "text": [
      "Iteration number: 1350/4000\n",
      "Training Accuracy: 100.000%\n",
      "Time elapsed: 0h 26m 51s\n",
      "======================================================================\n",
      "Iteration number: 1360/4000\n",
      "Training Accuracy: 100.000%\n",
      "Time elapsed: 0h 27m 2s\n",
      "======================================================================\n"
     ]
    },
    {
     "name": "stderr",
     "output_type": "stream",
     "text": [
      "/home/robotics/anaconda3/envs/estif/lib/python3.6/site-packages/PIL/JpegImagePlugin.py:796: UserWarning: Image appears to be a malformed MPO file, it will be interpreted as a base JPEG file\n",
      "  \"Image appears to be a malformed MPO file, it will be \"\n",
      "/home/robotics/anaconda3/envs/estif/lib/python3.6/site-packages/PIL/JpegImagePlugin.py:796: UserWarning: Image appears to be a malformed MPO file, it will be interpreted as a base JPEG file\n",
      "  \"Image appears to be a malformed MPO file, it will be \"\n"
     ]
    },
    {
     "name": "stdout",
     "output_type": "stream",
     "text": [
      "Iteration number: 1370/4000\n",
      "Training Accuracy: 100.000%\n",
      "Time elapsed: 0h 27m 14s\n",
      "======================================================================\n",
      "Iteration number: 1380/4000\n",
      "Training Accuracy: 100.000%\n",
      "Time elapsed: 0h 27m 26s\n",
      "======================================================================\n"
     ]
    },
    {
     "name": "stderr",
     "output_type": "stream",
     "text": [
      "/home/robotics/anaconda3/envs/estif/lib/python3.6/site-packages/PIL/JpegImagePlugin.py:796: UserWarning: Image appears to be a malformed MPO file, it will be interpreted as a base JPEG file\n",
      "  \"Image appears to be a malformed MPO file, it will be \"\n"
     ]
    },
    {
     "name": "stdout",
     "output_type": "stream",
     "text": [
      "Iteration number: 1390/4000\n",
      "Training Accuracy: 100.000%\n",
      "Time elapsed: 0h 27m 38s\n",
      "======================================================================\n"
     ]
    },
    {
     "name": "stderr",
     "output_type": "stream",
     "text": [
      "/home/robotics/anaconda3/envs/estif/lib/python3.6/site-packages/PIL/JpegImagePlugin.py:796: UserWarning: Image appears to be a malformed MPO file, it will be interpreted as a base JPEG file\n",
      "  \"Image appears to be a malformed MPO file, it will be \"\n"
     ]
    },
    {
     "name": "stdout",
     "output_type": "stream",
     "text": [
      "Iteration number: 1400/4000\n",
      "Training Accuracy: 100.000%\n",
      "Time elapsed: 0h 27m 50s\n",
      "======================================================================\n"
     ]
    },
    {
     "name": "stderr",
     "output_type": "stream",
     "text": [
      "/home/robotics/anaconda3/envs/estif/lib/python3.6/site-packages/PIL/JpegImagePlugin.py:796: UserWarning: Image appears to be a malformed MPO file, it will be interpreted as a base JPEG file\n",
      "  \"Image appears to be a malformed MPO file, it will be \"\n",
      "/home/robotics/anaconda3/envs/estif/lib/python3.6/site-packages/PIL/JpegImagePlugin.py:796: UserWarning: Image appears to be a malformed MPO file, it will be interpreted as a base JPEG file\n",
      "  \"Image appears to be a malformed MPO file, it will be \"\n"
     ]
    },
    {
     "name": "stdout",
     "output_type": "stream",
     "text": [
      "Iteration number: 1410/4000\n",
      "Training Accuracy: 100.000%\n",
      "Time elapsed: 0h 28m 2s\n",
      "======================================================================\n",
      "Iteration number: 1420/4000\n",
      "Training Accuracy: 100.000%\n",
      "Time elapsed: 0h 28m 13s\n",
      "======================================================================\n",
      "Iteration number: 1430/4000\n",
      "Training Accuracy: 100.000%\n",
      "Time elapsed: 0h 28m 25s\n",
      "======================================================================\n",
      "Iteration number: 1440/4000\n",
      "Training Accuracy: 100.000%\n",
      "Time elapsed: 0h 28m 37s\n",
      "======================================================================\n",
      "Iteration number: 1450/4000\n",
      "Training Accuracy: 100.000%\n",
      "Time elapsed: 0h 28m 48s\n",
      "======================================================================\n"
     ]
    },
    {
     "name": "stderr",
     "output_type": "stream",
     "text": [
      "/home/robotics/anaconda3/envs/estif/lib/python3.6/site-packages/PIL/JpegImagePlugin.py:796: UserWarning: Image appears to be a malformed MPO file, it will be interpreted as a base JPEG file\n",
      "  \"Image appears to be a malformed MPO file, it will be \"\n",
      "/home/robotics/anaconda3/envs/estif/lib/python3.6/site-packages/PIL/JpegImagePlugin.py:796: UserWarning: Image appears to be a malformed MPO file, it will be interpreted as a base JPEG file\n",
      "  \"Image appears to be a malformed MPO file, it will be \"\n"
     ]
    },
    {
     "name": "stdout",
     "output_type": "stream",
     "text": [
      "Iteration number: 1460/4000\n",
      "Training Accuracy: 100.000%\n",
      "Time elapsed: 0h 28m 60s\n",
      "======================================================================\n",
      "Iteration number: 1470/4000\n",
      "Training Accuracy: 100.000%\n",
      "Time elapsed: 0h 29m 11s\n",
      "======================================================================\n",
      "Iteration number: 1480/4000\n",
      "Training Accuracy: 100.000%\n",
      "Time elapsed: 0h 29m 22s\n",
      "======================================================================\n"
     ]
    },
    {
     "name": "stderr",
     "output_type": "stream",
     "text": [
      "/home/robotics/anaconda3/envs/estif/lib/python3.6/site-packages/PIL/JpegImagePlugin.py:796: UserWarning: Image appears to be a malformed MPO file, it will be interpreted as a base JPEG file\n",
      "  \"Image appears to be a malformed MPO file, it will be \"\n",
      "/home/robotics/anaconda3/envs/estif/lib/python3.6/site-packages/PIL/JpegImagePlugin.py:796: UserWarning: Image appears to be a malformed MPO file, it will be interpreted as a base JPEG file\n",
      "  \"Image appears to be a malformed MPO file, it will be \"\n"
     ]
    },
    {
     "name": "stdout",
     "output_type": "stream",
     "text": [
      "Iteration number: 1490/4000\n",
      "Training Accuracy: 100.000%\n",
      "Time elapsed: 0h 29m 34s\n",
      "======================================================================\n"
     ]
    },
    {
     "name": "stderr",
     "output_type": "stream",
     "text": [
      "/home/robotics/anaconda3/envs/estif/lib/python3.6/site-packages/PIL/JpegImagePlugin.py:796: UserWarning: Image appears to be a malformed MPO file, it will be interpreted as a base JPEG file\n",
      "  \"Image appears to be a malformed MPO file, it will be \"\n"
     ]
    },
    {
     "name": "stdout",
     "output_type": "stream",
     "text": [
      "Iteration number: 1500/4000\n",
      "Training Accuracy: 100.000%\n",
      "Time elapsed: 0h 29m 46s\n",
      "======================================================================\n",
      "Iteration number: 1510/4000\n",
      "Training Accuracy: 100.000%\n",
      "Time elapsed: 0h 29m 58s\n",
      "======================================================================\n",
      "Iteration number: 1520/4000\n",
      "Training Accuracy: 100.000%\n",
      "Time elapsed: 0h 30m 9s\n",
      "======================================================================\n",
      "Iteration number: 1530/4000\n",
      "Training Accuracy: 100.000%\n",
      "Time elapsed: 0h 30m 21s\n",
      "======================================================================\n",
      "Iteration number: 1540/4000\n",
      "Training Accuracy: 96.875%\n",
      "Time elapsed: 0h 30m 34s\n",
      "======================================================================\n"
     ]
    },
    {
     "name": "stderr",
     "output_type": "stream",
     "text": [
      "/home/robotics/anaconda3/envs/estif/lib/python3.6/site-packages/PIL/JpegImagePlugin.py:796: UserWarning: Image appears to be a malformed MPO file, it will be interpreted as a base JPEG file\n",
      "  \"Image appears to be a malformed MPO file, it will be \"\n",
      "/home/robotics/anaconda3/envs/estif/lib/python3.6/site-packages/PIL/JpegImagePlugin.py:796: UserWarning: Image appears to be a malformed MPO file, it will be interpreted as a base JPEG file\n",
      "  \"Image appears to be a malformed MPO file, it will be \"\n"
     ]
    },
    {
     "name": "stdout",
     "output_type": "stream",
     "text": [
      "Iteration number: 1550/4000\n",
      "Training Accuracy: 100.000%\n",
      "Time elapsed: 0h 30m 46s\n",
      "======================================================================\n",
      "Iteration number: 1560/4000\n",
      "Training Accuracy: 100.000%\n",
      "Time elapsed: 0h 30m 57s\n",
      "======================================================================\n"
     ]
    },
    {
     "name": "stderr",
     "output_type": "stream",
     "text": [
      "/home/robotics/anaconda3/envs/estif/lib/python3.6/site-packages/PIL/JpegImagePlugin.py:796: UserWarning: Image appears to be a malformed MPO file, it will be interpreted as a base JPEG file\n",
      "  \"Image appears to be a malformed MPO file, it will be \"\n"
     ]
    },
    {
     "name": "stdout",
     "output_type": "stream",
     "text": [
      "Iteration number: 1570/4000\n",
      "Training Accuracy: 100.000%\n",
      "Time elapsed: 0h 31m 9s\n",
      "======================================================================\n",
      "Iteration number: 1580/4000\n",
      "Training Accuracy: 100.000%\n",
      "Time elapsed: 0h 31m 21s\n",
      "======================================================================\n"
     ]
    },
    {
     "name": "stderr",
     "output_type": "stream",
     "text": [
      "/home/robotics/anaconda3/envs/estif/lib/python3.6/site-packages/PIL/JpegImagePlugin.py:796: UserWarning: Image appears to be a malformed MPO file, it will be interpreted as a base JPEG file\n",
      "  \"Image appears to be a malformed MPO file, it will be \"\n"
     ]
    },
    {
     "name": "stdout",
     "output_type": "stream",
     "text": [
      "Iteration number: 1590/4000\n",
      "Training Accuracy: 100.000%\n",
      "Time elapsed: 0h 31m 32s\n",
      "======================================================================\n",
      "Iteration number: 1600/4000\n",
      "Training Accuracy: 100.000%\n",
      "Time elapsed: 0h 31m 45s\n",
      "======================================================================\n",
      "Iteration number: 1610/4000\n",
      "Training Accuracy: 100.000%\n",
      "Time elapsed: 0h 31m 57s\n",
      "======================================================================\n",
      "Iteration number: 1620/4000\n",
      "Training Accuracy: 100.000%\n",
      "Time elapsed: 0h 32m 10s\n",
      "======================================================================\n",
      "Iteration number: 1630/4000\n",
      "Training Accuracy: 96.875%\n",
      "Time elapsed: 0h 32m 22s\n",
      "======================================================================\n",
      "Iteration number: 1640/4000\n",
      "Training Accuracy: 100.000%\n",
      "Time elapsed: 0h 32m 34s\n",
      "======================================================================\n",
      "Iteration number: 1650/4000\n",
      "Training Accuracy: 100.000%\n",
      "Time elapsed: 0h 32m 46s\n",
      "======================================================================\n"
     ]
    },
    {
     "name": "stderr",
     "output_type": "stream",
     "text": [
      "/home/robotics/anaconda3/envs/estif/lib/python3.6/site-packages/PIL/JpegImagePlugin.py:796: UserWarning: Image appears to be a malformed MPO file, it will be interpreted as a base JPEG file\n",
      "  \"Image appears to be a malformed MPO file, it will be \"\n"
     ]
    },
    {
     "name": "stdout",
     "output_type": "stream",
     "text": [
      "Iteration number: 1660/4000\n",
      "Training Accuracy: 100.000%\n",
      "Time elapsed: 0h 32m 58s\n",
      "======================================================================\n",
      "Iteration number: 1670/4000\n",
      "Training Accuracy: 100.000%\n",
      "Time elapsed: 0h 33m 10s\n",
      "======================================================================\n",
      "Iteration number: 1680/4000\n",
      "Training Accuracy: 100.000%\n",
      "Time elapsed: 0h 33m 22s\n",
      "======================================================================\n",
      "Iteration number: 1690/4000\n",
      "Training Accuracy: 100.000%\n",
      "Time elapsed: 0h 33m 33s\n",
      "======================================================================\n"
     ]
    },
    {
     "name": "stderr",
     "output_type": "stream",
     "text": [
      "/home/robotics/anaconda3/envs/estif/lib/python3.6/site-packages/PIL/JpegImagePlugin.py:796: UserWarning: Image appears to be a malformed MPO file, it will be interpreted as a base JPEG file\n",
      "  \"Image appears to be a malformed MPO file, it will be \"\n"
     ]
    },
    {
     "name": "stdout",
     "output_type": "stream",
     "text": [
      "Iteration number: 1700/4000\n",
      "Training Accuracy: 100.000%\n",
      "Time elapsed: 0h 33m 44s\n",
      "======================================================================\n"
     ]
    },
    {
     "name": "stderr",
     "output_type": "stream",
     "text": [
      "/home/robotics/anaconda3/envs/estif/lib/python3.6/site-packages/PIL/JpegImagePlugin.py:796: UserWarning: Image appears to be a malformed MPO file, it will be interpreted as a base JPEG file\n",
      "  \"Image appears to be a malformed MPO file, it will be \"\n"
     ]
    },
    {
     "name": "stdout",
     "output_type": "stream",
     "text": [
      "Iteration number: 1710/4000\n",
      "Training Accuracy: 100.000%\n",
      "Time elapsed: 0h 33m 56s\n",
      "======================================================================\n",
      "Iteration number: 1720/4000\n",
      "Training Accuracy: 100.000%\n",
      "Time elapsed: 0h 34m 9s\n",
      "======================================================================\n",
      "Iteration number: 1730/4000\n",
      "Training Accuracy: 100.000%\n",
      "Time elapsed: 0h 34m 21s\n",
      "======================================================================\n",
      "Iteration number: 1740/4000\n",
      "Training Accuracy: 100.000%\n",
      "Time elapsed: 0h 34m 32s\n",
      "======================================================================\n"
     ]
    },
    {
     "name": "stderr",
     "output_type": "stream",
     "text": [
      "/home/robotics/anaconda3/envs/estif/lib/python3.6/site-packages/PIL/JpegImagePlugin.py:796: UserWarning: Image appears to be a malformed MPO file, it will be interpreted as a base JPEG file\n",
      "  \"Image appears to be a malformed MPO file, it will be \"\n"
     ]
    },
    {
     "name": "stdout",
     "output_type": "stream",
     "text": [
      "Iteration number: 1750/4000\n",
      "Training Accuracy: 100.000%\n",
      "Time elapsed: 0h 34m 44s\n",
      "======================================================================\n"
     ]
    },
    {
     "name": "stderr",
     "output_type": "stream",
     "text": [
      "/home/robotics/anaconda3/envs/estif/lib/python3.6/site-packages/PIL/JpegImagePlugin.py:796: UserWarning: Image appears to be a malformed MPO file, it will be interpreted as a base JPEG file\n",
      "  \"Image appears to be a malformed MPO file, it will be \"\n"
     ]
    },
    {
     "name": "stdout",
     "output_type": "stream",
     "text": [
      "Iteration number: 1760/4000\n",
      "Training Accuracy: 100.000%\n",
      "Time elapsed: 0h 34m 56s\n",
      "======================================================================\n",
      "Iteration number: 1770/4000\n",
      "Training Accuracy: 100.000%\n",
      "Time elapsed: 0h 35m 9s\n",
      "======================================================================\n",
      "Iteration number: 1780/4000\n",
      "Training Accuracy: 100.000%\n",
      "Time elapsed: 0h 35m 21s\n",
      "======================================================================\n"
     ]
    },
    {
     "name": "stderr",
     "output_type": "stream",
     "text": [
      "/home/robotics/anaconda3/envs/estif/lib/python3.6/site-packages/PIL/JpegImagePlugin.py:796: UserWarning: Image appears to be a malformed MPO file, it will be interpreted as a base JPEG file\n",
      "  \"Image appears to be a malformed MPO file, it will be \"\n"
     ]
    },
    {
     "name": "stdout",
     "output_type": "stream",
     "text": [
      "Iteration number: 1790/4000\n",
      "Training Accuracy: 100.000%\n",
      "Time elapsed: 0h 35m 34s\n",
      "======================================================================\n"
     ]
    },
    {
     "name": "stderr",
     "output_type": "stream",
     "text": [
      "/home/robotics/anaconda3/envs/estif/lib/python3.6/site-packages/PIL/JpegImagePlugin.py:796: UserWarning: Image appears to be a malformed MPO file, it will be interpreted as a base JPEG file\n",
      "  \"Image appears to be a malformed MPO file, it will be \"\n",
      "/home/robotics/anaconda3/envs/estif/lib/python3.6/site-packages/PIL/JpegImagePlugin.py:796: UserWarning: Image appears to be a malformed MPO file, it will be interpreted as a base JPEG file\n",
      "  \"Image appears to be a malformed MPO file, it will be \"\n",
      "/home/robotics/anaconda3/envs/estif/lib/python3.6/site-packages/PIL/JpegImagePlugin.py:796: UserWarning: Image appears to be a malformed MPO file, it will be interpreted as a base JPEG file\n",
      "  \"Image appears to be a malformed MPO file, it will be \"\n"
     ]
    },
    {
     "name": "stdout",
     "output_type": "stream",
     "text": [
      "Iteration number: 1800/4000\n",
      "Training Accuracy: 100.000%\n",
      "Time elapsed: 0h 35m 46s\n",
      "======================================================================\n",
      "Iteration number: 1810/4000\n",
      "Training Accuracy: 100.000%\n",
      "Time elapsed: 0h 35m 59s\n",
      "======================================================================\n",
      "Iteration number: 1820/4000\n",
      "Training Accuracy: 100.000%\n",
      "Time elapsed: 0h 36m 10s\n",
      "======================================================================\n"
     ]
    },
    {
     "name": "stderr",
     "output_type": "stream",
     "text": [
      "/home/robotics/anaconda3/envs/estif/lib/python3.6/site-packages/PIL/JpegImagePlugin.py:796: UserWarning: Image appears to be a malformed MPO file, it will be interpreted as a base JPEG file\n",
      "  \"Image appears to be a malformed MPO file, it will be \"\n"
     ]
    },
    {
     "name": "stdout",
     "output_type": "stream",
     "text": [
      "Iteration number: 1830/4000\n",
      "Training Accuracy: 96.875%\n",
      "Time elapsed: 0h 36m 22s\n",
      "======================================================================\n",
      "Iteration number: 1840/4000\n",
      "Training Accuracy: 100.000%\n",
      "Time elapsed: 0h 36m 34s\n",
      "======================================================================\n",
      "Iteration number: 1850/4000\n",
      "Training Accuracy: 100.000%\n",
      "Time elapsed: 0h 36m 45s\n",
      "======================================================================\n",
      "Iteration number: 1860/4000\n",
      "Training Accuracy: 100.000%\n",
      "Time elapsed: 0h 36m 58s\n",
      "======================================================================\n",
      "Iteration number: 1870/4000\n",
      "Training Accuracy: 100.000%\n",
      "Time elapsed: 0h 37m 10s\n",
      "======================================================================\n",
      "Iteration number: 1880/4000\n",
      "Training Accuracy: 100.000%\n",
      "Time elapsed: 0h 37m 22s\n",
      "======================================================================\n",
      "Iteration number: 1890/4000\n",
      "Training Accuracy: 100.000%\n",
      "Time elapsed: 0h 37m 34s\n",
      "======================================================================\n",
      "Iteration number: 1900/4000\n",
      "Training Accuracy: 100.000%\n",
      "Time elapsed: 0h 37m 45s\n",
      "======================================================================\n"
     ]
    },
    {
     "name": "stderr",
     "output_type": "stream",
     "text": [
      "/home/robotics/anaconda3/envs/estif/lib/python3.6/site-packages/PIL/JpegImagePlugin.py:796: UserWarning: Image appears to be a malformed MPO file, it will be interpreted as a base JPEG file\n",
      "  \"Image appears to be a malformed MPO file, it will be \"\n"
     ]
    },
    {
     "name": "stdout",
     "output_type": "stream",
     "text": [
      "Iteration number: 1910/4000\n",
      "Training Accuracy: 100.000%\n",
      "Time elapsed: 0h 37m 57s\n",
      "======================================================================\n"
     ]
    },
    {
     "name": "stderr",
     "output_type": "stream",
     "text": [
      "/home/robotics/anaconda3/envs/estif/lib/python3.6/site-packages/PIL/JpegImagePlugin.py:796: UserWarning: Image appears to be a malformed MPO file, it will be interpreted as a base JPEG file\n",
      "  \"Image appears to be a malformed MPO file, it will be \"\n",
      "/home/robotics/anaconda3/envs/estif/lib/python3.6/site-packages/PIL/JpegImagePlugin.py:796: UserWarning: Image appears to be a malformed MPO file, it will be interpreted as a base JPEG file\n",
      "  \"Image appears to be a malformed MPO file, it will be \"\n"
     ]
    },
    {
     "name": "stdout",
     "output_type": "stream",
     "text": [
      "Iteration number: 1920/4000\n",
      "Training Accuracy: 100.000%\n",
      "Time elapsed: 0h 38m 10s\n",
      "======================================================================\n"
     ]
    },
    {
     "name": "stderr",
     "output_type": "stream",
     "text": [
      "/home/robotics/anaconda3/envs/estif/lib/python3.6/site-packages/PIL/JpegImagePlugin.py:796: UserWarning: Image appears to be a malformed MPO file, it will be interpreted as a base JPEG file\n",
      "  \"Image appears to be a malformed MPO file, it will be \"\n"
     ]
    },
    {
     "name": "stdout",
     "output_type": "stream",
     "text": [
      "Iteration number: 1930/4000\n",
      "Training Accuracy: 100.000%\n",
      "Time elapsed: 0h 38m 22s\n",
      "======================================================================\n"
     ]
    },
    {
     "name": "stderr",
     "output_type": "stream",
     "text": [
      "/home/robotics/anaconda3/envs/estif/lib/python3.6/site-packages/PIL/JpegImagePlugin.py:796: UserWarning: Image appears to be a malformed MPO file, it will be interpreted as a base JPEG file\n",
      "  \"Image appears to be a malformed MPO file, it will be \"\n"
     ]
    },
    {
     "name": "stdout",
     "output_type": "stream",
     "text": [
      "Iteration number: 1940/4000\n",
      "Training Accuracy: 100.000%\n",
      "Time elapsed: 0h 38m 33s\n",
      "======================================================================\n",
      "Iteration number: 1950/4000\n",
      "Training Accuracy: 100.000%\n",
      "Time elapsed: 0h 38m 45s\n",
      "======================================================================\n",
      "Iteration number: 1960/4000\n",
      "Training Accuracy: 100.000%\n",
      "Time elapsed: 0h 38m 56s\n",
      "======================================================================\n",
      "Iteration number: 1970/4000\n",
      "Training Accuracy: 100.000%\n",
      "Time elapsed: 0h 39m 7s\n",
      "======================================================================\n"
     ]
    },
    {
     "name": "stderr",
     "output_type": "stream",
     "text": [
      "/home/robotics/anaconda3/envs/estif/lib/python3.6/site-packages/PIL/JpegImagePlugin.py:796: UserWarning: Image appears to be a malformed MPO file, it will be interpreted as a base JPEG file\n",
      "  \"Image appears to be a malformed MPO file, it will be \"\n"
     ]
    },
    {
     "name": "stdout",
     "output_type": "stream",
     "text": [
      "Iteration number: 1980/4000\n",
      "Training Accuracy: 100.000%\n",
      "Time elapsed: 0h 39m 19s\n",
      "======================================================================\n"
     ]
    },
    {
     "name": "stderr",
     "output_type": "stream",
     "text": [
      "/home/robotics/anaconda3/envs/estif/lib/python3.6/site-packages/PIL/JpegImagePlugin.py:796: UserWarning: Image appears to be a malformed MPO file, it will be interpreted as a base JPEG file\n",
      "  \"Image appears to be a malformed MPO file, it will be \"\n"
     ]
    },
    {
     "name": "stdout",
     "output_type": "stream",
     "text": [
      "Iteration number: 1990/4000\n",
      "Training Accuracy: 100.000%\n",
      "Time elapsed: 0h 39m 32s\n",
      "======================================================================\n",
      "Iteration number: 2000/4000\n",
      "Training Accuracy: 100.000%\n",
      "Time elapsed: 0h 39m 43s\n",
      "======================================================================\n"
     ]
    },
    {
     "name": "stderr",
     "output_type": "stream",
     "text": [
      "/home/robotics/anaconda3/envs/estif/lib/python3.6/site-packages/PIL/JpegImagePlugin.py:796: UserWarning: Image appears to be a malformed MPO file, it will be interpreted as a base JPEG file\n",
      "  \"Image appears to be a malformed MPO file, it will be \"\n"
     ]
    },
    {
     "name": "stdout",
     "output_type": "stream",
     "text": [
      "Iteration number: 2010/4000\n",
      "Training Accuracy: 100.000%\n",
      "Time elapsed: 0h 39m 56s\n",
      "======================================================================\n",
      "Iteration number: 2020/4000\n",
      "Training Accuracy: 100.000%\n",
      "Time elapsed: 0h 40m 7s\n",
      "======================================================================\n",
      "Iteration number: 2030/4000\n",
      "Training Accuracy: 100.000%\n",
      "Time elapsed: 0h 40m 18s\n",
      "======================================================================\n",
      "Iteration number: 2040/4000\n",
      "Training Accuracy: 100.000%\n",
      "Time elapsed: 0h 40m 31s\n",
      "======================================================================\n"
     ]
    },
    {
     "name": "stderr",
     "output_type": "stream",
     "text": [
      "/home/robotics/anaconda3/envs/estif/lib/python3.6/site-packages/PIL/JpegImagePlugin.py:796: UserWarning: Image appears to be a malformed MPO file, it will be interpreted as a base JPEG file\n",
      "  \"Image appears to be a malformed MPO file, it will be \"\n",
      "/home/robotics/anaconda3/envs/estif/lib/python3.6/site-packages/PIL/JpegImagePlugin.py:796: UserWarning: Image appears to be a malformed MPO file, it will be interpreted as a base JPEG file\n",
      "  \"Image appears to be a malformed MPO file, it will be \"\n"
     ]
    },
    {
     "name": "stdout",
     "output_type": "stream",
     "text": [
      "Iteration number: 2050/4000\n",
      "Training Accuracy: 100.000%\n",
      "Time elapsed: 0h 40m 43s\n",
      "======================================================================\n",
      "Iteration number: 2060/4000\n",
      "Training Accuracy: 100.000%\n",
      "Time elapsed: 0h 40m 55s\n",
      "======================================================================\n",
      "Iteration number: 2070/4000\n",
      "Training Accuracy: 100.000%\n",
      "Time elapsed: 0h 41m 9s\n",
      "======================================================================\n",
      "Iteration number: 2080/4000\n",
      "Training Accuracy: 100.000%\n",
      "Time elapsed: 0h 41m 20s\n",
      "======================================================================\n",
      "Iteration number: 2090/4000\n",
      "Training Accuracy: 100.000%\n",
      "Time elapsed: 0h 41m 31s\n",
      "======================================================================\n",
      "Iteration number: 2100/4000\n",
      "Training Accuracy: 100.000%\n",
      "Time elapsed: 0h 41m 43s\n",
      "======================================================================\n",
      "Iteration number: 2110/4000\n",
      "Training Accuracy: 100.000%\n",
      "Time elapsed: 0h 41m 53s\n",
      "======================================================================\n",
      "Iteration number: 2120/4000\n",
      "Training Accuracy: 100.000%\n",
      "Time elapsed: 0h 42m 4s\n",
      "======================================================================\n",
      "Iteration number: 2130/4000\n",
      "Training Accuracy: 100.000%\n",
      "Time elapsed: 0h 42m 18s\n",
      "======================================================================\n",
      "Iteration number: 2140/4000\n",
      "Training Accuracy: 100.000%\n",
      "Time elapsed: 0h 42m 29s\n",
      "======================================================================\n",
      "Iteration number: 2150/4000\n",
      "Training Accuracy: 100.000%\n",
      "Time elapsed: 0h 42m 41s\n",
      "======================================================================\n"
     ]
    },
    {
     "name": "stderr",
     "output_type": "stream",
     "text": [
      "/home/robotics/anaconda3/envs/estif/lib/python3.6/site-packages/PIL/JpegImagePlugin.py:796: UserWarning: Image appears to be a malformed MPO file, it will be interpreted as a base JPEG file\n",
      "  \"Image appears to be a malformed MPO file, it will be \"\n"
     ]
    },
    {
     "name": "stdout",
     "output_type": "stream",
     "text": [
      "Iteration number: 2160/4000\n",
      "Training Accuracy: 100.000%\n",
      "Time elapsed: 0h 42m 53s\n",
      "======================================================================\n",
      "Iteration number: 2170/4000\n",
      "Training Accuracy: 100.000%\n",
      "Time elapsed: 0h 43m 5s\n",
      "======================================================================\n"
     ]
    },
    {
     "name": "stderr",
     "output_type": "stream",
     "text": [
      "/home/robotics/anaconda3/envs/estif/lib/python3.6/site-packages/PIL/JpegImagePlugin.py:796: UserWarning: Image appears to be a malformed MPO file, it will be interpreted as a base JPEG file\n",
      "  \"Image appears to be a malformed MPO file, it will be \"\n"
     ]
    },
    {
     "name": "stdout",
     "output_type": "stream",
     "text": [
      "Iteration number: 2180/4000\n",
      "Training Accuracy: 100.000%\n",
      "Time elapsed: 0h 43m 17s\n",
      "======================================================================\n",
      "Iteration number: 2190/4000\n",
      "Training Accuracy: 100.000%\n",
      "Time elapsed: 0h 43m 29s\n",
      "======================================================================\n",
      "Iteration number: 2200/4000\n",
      "Training Accuracy: 100.000%\n",
      "Time elapsed: 0h 43m 41s\n",
      "======================================================================\n",
      "Iteration number: 2210/4000\n",
      "Training Accuracy: 100.000%\n",
      "Time elapsed: 0h 43m 54s\n",
      "======================================================================\n"
     ]
    },
    {
     "name": "stderr",
     "output_type": "stream",
     "text": [
      "/home/robotics/anaconda3/envs/estif/lib/python3.6/site-packages/PIL/JpegImagePlugin.py:796: UserWarning: Image appears to be a malformed MPO file, it will be interpreted as a base JPEG file\n",
      "  \"Image appears to be a malformed MPO file, it will be \"\n"
     ]
    },
    {
     "name": "stdout",
     "output_type": "stream",
     "text": [
      "Iteration number: 2220/4000\n",
      "Training Accuracy: 100.000%\n",
      "Time elapsed: 0h 44m 5s\n",
      "======================================================================\n",
      "Iteration number: 2230/4000\n",
      "Training Accuracy: 100.000%\n",
      "Time elapsed: 0h 44m 17s\n",
      "======================================================================\n",
      "Iteration number: 2240/4000\n",
      "Training Accuracy: 100.000%\n",
      "Time elapsed: 0h 44m 30s\n",
      "======================================================================\n"
     ]
    },
    {
     "name": "stderr",
     "output_type": "stream",
     "text": [
      "/home/robotics/anaconda3/envs/estif/lib/python3.6/site-packages/PIL/JpegImagePlugin.py:796: UserWarning: Image appears to be a malformed MPO file, it will be interpreted as a base JPEG file\n",
      "  \"Image appears to be a malformed MPO file, it will be \"\n",
      "/home/robotics/anaconda3/envs/estif/lib/python3.6/site-packages/PIL/JpegImagePlugin.py:796: UserWarning: Image appears to be a malformed MPO file, it will be interpreted as a base JPEG file\n",
      "  \"Image appears to be a malformed MPO file, it will be \"\n"
     ]
    },
    {
     "name": "stdout",
     "output_type": "stream",
     "text": [
      "Iteration number: 2250/4000\n",
      "Training Accuracy: 100.000%\n",
      "Time elapsed: 0h 44m 43s\n",
      "======================================================================\n"
     ]
    },
    {
     "name": "stderr",
     "output_type": "stream",
     "text": [
      "/home/robotics/anaconda3/envs/estif/lib/python3.6/site-packages/PIL/JpegImagePlugin.py:796: UserWarning: Image appears to be a malformed MPO file, it will be interpreted as a base JPEG file\n",
      "  \"Image appears to be a malformed MPO file, it will be \"\n",
      "/home/robotics/anaconda3/envs/estif/lib/python3.6/site-packages/PIL/JpegImagePlugin.py:796: UserWarning: Image appears to be a malformed MPO file, it will be interpreted as a base JPEG file\n",
      "  \"Image appears to be a malformed MPO file, it will be \"\n"
     ]
    },
    {
     "name": "stdout",
     "output_type": "stream",
     "text": [
      "Iteration number: 2260/4000\n",
      "Training Accuracy: 100.000%\n",
      "Time elapsed: 0h 44m 56s\n",
      "======================================================================\n",
      "Iteration number: 2270/4000\n",
      "Training Accuracy: 100.000%\n",
      "Time elapsed: 0h 45m 7s\n",
      "======================================================================\n"
     ]
    },
    {
     "name": "stderr",
     "output_type": "stream",
     "text": [
      "/home/robotics/anaconda3/envs/estif/lib/python3.6/site-packages/PIL/JpegImagePlugin.py:796: UserWarning: Image appears to be a malformed MPO file, it will be interpreted as a base JPEG file\n",
      "  \"Image appears to be a malformed MPO file, it will be \"\n"
     ]
    },
    {
     "name": "stdout",
     "output_type": "stream",
     "text": [
      "Iteration number: 2280/4000\n",
      "Training Accuracy: 100.000%\n",
      "Time elapsed: 0h 45m 19s\n",
      "======================================================================\n",
      "Iteration number: 2290/4000\n",
      "Training Accuracy: 100.000%\n",
      "Time elapsed: 0h 45m 32s\n",
      "======================================================================\n"
     ]
    },
    {
     "name": "stderr",
     "output_type": "stream",
     "text": [
      "/home/robotics/anaconda3/envs/estif/lib/python3.6/site-packages/PIL/JpegImagePlugin.py:796: UserWarning: Image appears to be a malformed MPO file, it will be interpreted as a base JPEG file\n",
      "  \"Image appears to be a malformed MPO file, it will be \"\n"
     ]
    },
    {
     "name": "stdout",
     "output_type": "stream",
     "text": [
      "Iteration number: 2300/4000\n",
      "Training Accuracy: 100.000%\n",
      "Time elapsed: 0h 45m 43s\n",
      "======================================================================\n",
      "Iteration number: 2310/4000\n",
      "Training Accuracy: 96.875%\n",
      "Time elapsed: 0h 45m 55s\n",
      "======================================================================\n"
     ]
    },
    {
     "name": "stderr",
     "output_type": "stream",
     "text": [
      "/home/robotics/anaconda3/envs/estif/lib/python3.6/site-packages/PIL/JpegImagePlugin.py:796: UserWarning: Image appears to be a malformed MPO file, it will be interpreted as a base JPEG file\n",
      "  \"Image appears to be a malformed MPO file, it will be \"\n"
     ]
    },
    {
     "name": "stdout",
     "output_type": "stream",
     "text": [
      "Iteration number: 2320/4000\n",
      "Training Accuracy: 100.000%\n",
      "Time elapsed: 0h 46m 8s\n",
      "======================================================================\n"
     ]
    },
    {
     "name": "stderr",
     "output_type": "stream",
     "text": [
      "/home/robotics/anaconda3/envs/estif/lib/python3.6/site-packages/PIL/JpegImagePlugin.py:796: UserWarning: Image appears to be a malformed MPO file, it will be interpreted as a base JPEG file\n",
      "  \"Image appears to be a malformed MPO file, it will be \"\n"
     ]
    },
    {
     "name": "stdout",
     "output_type": "stream",
     "text": [
      "Iteration number: 2330/4000\n",
      "Training Accuracy: 100.000%\n",
      "Time elapsed: 0h 46m 21s\n",
      "======================================================================\n"
     ]
    },
    {
     "name": "stderr",
     "output_type": "stream",
     "text": [
      "/home/robotics/anaconda3/envs/estif/lib/python3.6/site-packages/PIL/JpegImagePlugin.py:796: UserWarning: Image appears to be a malformed MPO file, it will be interpreted as a base JPEG file\n",
      "  \"Image appears to be a malformed MPO file, it will be \"\n",
      "/home/robotics/anaconda3/envs/estif/lib/python3.6/site-packages/PIL/JpegImagePlugin.py:796: UserWarning: Image appears to be a malformed MPO file, it will be interpreted as a base JPEG file\n",
      "  \"Image appears to be a malformed MPO file, it will be \"\n"
     ]
    },
    {
     "name": "stdout",
     "output_type": "stream",
     "text": [
      "Iteration number: 2340/4000\n",
      "Training Accuracy: 100.000%\n",
      "Time elapsed: 0h 46m 33s\n",
      "======================================================================\n"
     ]
    },
    {
     "name": "stderr",
     "output_type": "stream",
     "text": [
      "/home/robotics/anaconda3/envs/estif/lib/python3.6/site-packages/PIL/JpegImagePlugin.py:796: UserWarning: Image appears to be a malformed MPO file, it will be interpreted as a base JPEG file\n",
      "  \"Image appears to be a malformed MPO file, it will be \"\n"
     ]
    },
    {
     "name": "stdout",
     "output_type": "stream",
     "text": [
      "Iteration number: 2350/4000\n",
      "Training Accuracy: 100.000%\n",
      "Time elapsed: 0h 46m 44s\n",
      "======================================================================\n"
     ]
    },
    {
     "name": "stderr",
     "output_type": "stream",
     "text": [
      "/home/robotics/anaconda3/envs/estif/lib/python3.6/site-packages/PIL/JpegImagePlugin.py:796: UserWarning: Image appears to be a malformed MPO file, it will be interpreted as a base JPEG file\n",
      "  \"Image appears to be a malformed MPO file, it will be \"\n",
      "/home/robotics/anaconda3/envs/estif/lib/python3.6/site-packages/PIL/JpegImagePlugin.py:796: UserWarning: Image appears to be a malformed MPO file, it will be interpreted as a base JPEG file\n",
      "  \"Image appears to be a malformed MPO file, it will be \"\n"
     ]
    },
    {
     "name": "stdout",
     "output_type": "stream",
     "text": [
      "Iteration number: 2360/4000\n",
      "Training Accuracy: 96.875%\n",
      "Time elapsed: 0h 46m 57s\n",
      "======================================================================\n"
     ]
    },
    {
     "name": "stderr",
     "output_type": "stream",
     "text": [
      "/home/robotics/anaconda3/envs/estif/lib/python3.6/site-packages/PIL/JpegImagePlugin.py:796: UserWarning: Image appears to be a malformed MPO file, it will be interpreted as a base JPEG file\n",
      "  \"Image appears to be a malformed MPO file, it will be \"\n"
     ]
    },
    {
     "name": "stdout",
     "output_type": "stream",
     "text": [
      "Iteration number: 2370/4000\n",
      "Training Accuracy: 100.000%\n",
      "Time elapsed: 0h 47m 10s\n",
      "======================================================================\n"
     ]
    },
    {
     "name": "stderr",
     "output_type": "stream",
     "text": [
      "/home/robotics/anaconda3/envs/estif/lib/python3.6/site-packages/PIL/JpegImagePlugin.py:796: UserWarning: Image appears to be a malformed MPO file, it will be interpreted as a base JPEG file\n",
      "  \"Image appears to be a malformed MPO file, it will be \"\n"
     ]
    },
    {
     "name": "stdout",
     "output_type": "stream",
     "text": [
      "Iteration number: 2380/4000\n",
      "Training Accuracy: 100.000%\n",
      "Time elapsed: 0h 47m 23s\n",
      "======================================================================\n",
      "Iteration number: 2390/4000\n",
      "Training Accuracy: 100.000%\n",
      "Time elapsed: 0h 47m 35s\n",
      "======================================================================\n",
      "Iteration number: 2400/4000\n",
      "Training Accuracy: 100.000%\n",
      "Time elapsed: 0h 47m 48s\n",
      "======================================================================\n",
      "Iteration number: 2410/4000\n",
      "Training Accuracy: 100.000%\n",
      "Time elapsed: 0h 47m 59s\n",
      "======================================================================\n",
      "Iteration number: 2420/4000\n",
      "Training Accuracy: 96.875%\n",
      "Time elapsed: 0h 48m 11s\n",
      "======================================================================\n",
      "Iteration number: 2430/4000\n",
      "Training Accuracy: 100.000%\n",
      "Time elapsed: 0h 48m 23s\n",
      "======================================================================\n",
      "Iteration number: 2440/4000\n",
      "Training Accuracy: 100.000%\n",
      "Time elapsed: 0h 48m 35s\n",
      "======================================================================\n",
      "Iteration number: 2450/4000\n",
      "Training Accuracy: 100.000%\n",
      "Time elapsed: 0h 48m 46s\n",
      "======================================================================\n"
     ]
    },
    {
     "name": "stderr",
     "output_type": "stream",
     "text": [
      "/home/robotics/anaconda3/envs/estif/lib/python3.6/site-packages/PIL/JpegImagePlugin.py:796: UserWarning: Image appears to be a malformed MPO file, it will be interpreted as a base JPEG file\n",
      "  \"Image appears to be a malformed MPO file, it will be \"\n"
     ]
    },
    {
     "name": "stdout",
     "output_type": "stream",
     "text": [
      "Iteration number: 2460/4000\n",
      "Training Accuracy: 100.000%\n",
      "Time elapsed: 0h 48m 59s\n",
      "======================================================================\n",
      "Iteration number: 2470/4000\n",
      "Training Accuracy: 100.000%\n",
      "Time elapsed: 0h 49m 10s\n",
      "======================================================================\n",
      "Iteration number: 2480/4000\n",
      "Training Accuracy: 100.000%\n",
      "Time elapsed: 0h 49m 23s\n",
      "======================================================================\n",
      "Iteration number: 2490/4000\n",
      "Training Accuracy: 100.000%\n",
      "Time elapsed: 0h 49m 34s\n",
      "======================================================================\n",
      "Iteration number: 2500/4000\n",
      "Training Accuracy: 100.000%\n",
      "Time elapsed: 0h 49m 47s\n",
      "======================================================================\n",
      "Iteration number: 2510/4000\n",
      "Training Accuracy: 100.000%\n",
      "Time elapsed: 0h 49m 60s\n",
      "======================================================================\n"
     ]
    },
    {
     "name": "stderr",
     "output_type": "stream",
     "text": [
      "/home/robotics/anaconda3/envs/estif/lib/python3.6/site-packages/PIL/JpegImagePlugin.py:796: UserWarning: Image appears to be a malformed MPO file, it will be interpreted as a base JPEG file\n",
      "  \"Image appears to be a malformed MPO file, it will be \"\n",
      "/home/robotics/anaconda3/envs/estif/lib/python3.6/site-packages/PIL/JpegImagePlugin.py:796: UserWarning: Image appears to be a malformed MPO file, it will be interpreted as a base JPEG file\n",
      "  \"Image appears to be a malformed MPO file, it will be \"\n"
     ]
    },
    {
     "name": "stdout",
     "output_type": "stream",
     "text": [
      "Iteration number: 2520/4000\n",
      "Training Accuracy: 100.000%\n",
      "Time elapsed: 0h 50m 11s\n",
      "======================================================================\n",
      "Iteration number: 2530/4000\n",
      "Training Accuracy: 100.000%\n",
      "Time elapsed: 0h 50m 24s\n",
      "======================================================================\n",
      "Iteration number: 2540/4000\n",
      "Training Accuracy: 100.000%\n",
      "Time elapsed: 0h 50m 36s\n",
      "======================================================================\n",
      "Iteration number: 2550/4000\n",
      "Training Accuracy: 96.875%\n",
      "Time elapsed: 0h 50m 47s\n",
      "======================================================================\n",
      "Iteration number: 2560/4000\n",
      "Training Accuracy: 100.000%\n",
      "Time elapsed: 0h 50m 58s\n",
      "======================================================================\n"
     ]
    },
    {
     "name": "stderr",
     "output_type": "stream",
     "text": [
      "/home/robotics/anaconda3/envs/estif/lib/python3.6/site-packages/PIL/JpegImagePlugin.py:796: UserWarning: Image appears to be a malformed MPO file, it will be interpreted as a base JPEG file\n",
      "  \"Image appears to be a malformed MPO file, it will be \"\n",
      "/home/robotics/anaconda3/envs/estif/lib/python3.6/site-packages/PIL/JpegImagePlugin.py:796: UserWarning: Image appears to be a malformed MPO file, it will be interpreted as a base JPEG file\n",
      "  \"Image appears to be a malformed MPO file, it will be \"\n",
      "/home/robotics/anaconda3/envs/estif/lib/python3.6/site-packages/PIL/JpegImagePlugin.py:796: UserWarning: Image appears to be a malformed MPO file, it will be interpreted as a base JPEG file\n",
      "  \"Image appears to be a malformed MPO file, it will be \"\n"
     ]
    },
    {
     "name": "stdout",
     "output_type": "stream",
     "text": [
      "Iteration number: 2570/4000\n",
      "Training Accuracy: 100.000%\n",
      "Time elapsed: 0h 51m 10s\n",
      "======================================================================\n",
      "Iteration number: 2580/4000\n",
      "Training Accuracy: 100.000%\n",
      "Time elapsed: 0h 51m 22s\n",
      "======================================================================\n",
      "Iteration number: 2590/4000\n",
      "Training Accuracy: 100.000%\n",
      "Time elapsed: 0h 51m 35s\n",
      "======================================================================\n",
      "Iteration number: 2600/4000\n",
      "Training Accuracy: 100.000%\n",
      "Time elapsed: 0h 51m 48s\n",
      "======================================================================\n",
      "Iteration number: 2610/4000\n",
      "Training Accuracy: 100.000%\n",
      "Time elapsed: 0h 51m 60s\n",
      "======================================================================\n",
      "Iteration number: 2620/4000\n",
      "Training Accuracy: 100.000%\n",
      "Time elapsed: 0h 52m 11s\n",
      "======================================================================\n"
     ]
    },
    {
     "name": "stderr",
     "output_type": "stream",
     "text": [
      "/home/robotics/anaconda3/envs/estif/lib/python3.6/site-packages/PIL/JpegImagePlugin.py:796: UserWarning: Image appears to be a malformed MPO file, it will be interpreted as a base JPEG file\n",
      "  \"Image appears to be a malformed MPO file, it will be \"\n"
     ]
    },
    {
     "name": "stdout",
     "output_type": "stream",
     "text": [
      "Iteration number: 2630/4000\n",
      "Training Accuracy: 100.000%\n",
      "Time elapsed: 0h 52m 23s\n",
      "======================================================================\n"
     ]
    },
    {
     "name": "stderr",
     "output_type": "stream",
     "text": [
      "/home/robotics/anaconda3/envs/estif/lib/python3.6/site-packages/PIL/JpegImagePlugin.py:796: UserWarning: Image appears to be a malformed MPO file, it will be interpreted as a base JPEG file\n",
      "  \"Image appears to be a malformed MPO file, it will be \"\n"
     ]
    },
    {
     "name": "stdout",
     "output_type": "stream",
     "text": [
      "Iteration number: 2640/4000\n",
      "Training Accuracy: 100.000%\n",
      "Time elapsed: 0h 52m 35s\n",
      "======================================================================\n"
     ]
    },
    {
     "name": "stderr",
     "output_type": "stream",
     "text": [
      "/home/robotics/anaconda3/envs/estif/lib/python3.6/site-packages/PIL/JpegImagePlugin.py:796: UserWarning: Image appears to be a malformed MPO file, it will be interpreted as a base JPEG file\n",
      "  \"Image appears to be a malformed MPO file, it will be \"\n"
     ]
    },
    {
     "name": "stdout",
     "output_type": "stream",
     "text": [
      "Iteration number: 2650/4000\n",
      "Training Accuracy: 100.000%\n",
      "Time elapsed: 0h 52m 46s\n",
      "======================================================================\n",
      "Iteration number: 2660/4000\n",
      "Training Accuracy: 100.000%\n",
      "Time elapsed: 0h 52m 58s\n",
      "======================================================================\n",
      "Iteration number: 2670/4000\n",
      "Training Accuracy: 100.000%\n",
      "Time elapsed: 0h 53m 10s\n",
      "======================================================================\n",
      "Iteration number: 2680/4000\n",
      "Training Accuracy: 100.000%\n",
      "Time elapsed: 0h 53m 24s\n",
      "======================================================================\n"
     ]
    },
    {
     "name": "stderr",
     "output_type": "stream",
     "text": [
      "/home/robotics/anaconda3/envs/estif/lib/python3.6/site-packages/PIL/JpegImagePlugin.py:796: UserWarning: Image appears to be a malformed MPO file, it will be interpreted as a base JPEG file\n",
      "  \"Image appears to be a malformed MPO file, it will be \"\n",
      "/home/robotics/anaconda3/envs/estif/lib/python3.6/site-packages/PIL/JpegImagePlugin.py:796: UserWarning: Image appears to be a malformed MPO file, it will be interpreted as a base JPEG file\n",
      "  \"Image appears to be a malformed MPO file, it will be \"\n"
     ]
    },
    {
     "name": "stdout",
     "output_type": "stream",
     "text": [
      "Iteration number: 2690/4000\n",
      "Training Accuracy: 100.000%\n",
      "Time elapsed: 0h 53m 36s\n",
      "======================================================================\n",
      "Iteration number: 2700/4000\n",
      "Training Accuracy: 100.000%\n",
      "Time elapsed: 0h 53m 48s\n",
      "======================================================================\n"
     ]
    },
    {
     "name": "stderr",
     "output_type": "stream",
     "text": [
      "/home/robotics/anaconda3/envs/estif/lib/python3.6/site-packages/PIL/JpegImagePlugin.py:796: UserWarning: Image appears to be a malformed MPO file, it will be interpreted as a base JPEG file\n",
      "  \"Image appears to be a malformed MPO file, it will be \"\n",
      "/home/robotics/anaconda3/envs/estif/lib/python3.6/site-packages/PIL/JpegImagePlugin.py:796: UserWarning: Image appears to be a malformed MPO file, it will be interpreted as a base JPEG file\n",
      "  \"Image appears to be a malformed MPO file, it will be \"\n",
      "/home/robotics/anaconda3/envs/estif/lib/python3.6/site-packages/PIL/JpegImagePlugin.py:796: UserWarning: Image appears to be a malformed MPO file, it will be interpreted as a base JPEG file\n",
      "  \"Image appears to be a malformed MPO file, it will be \"\n"
     ]
    },
    {
     "name": "stdout",
     "output_type": "stream",
     "text": [
      "Iteration number: 2710/4000\n",
      "Training Accuracy: 100.000%\n",
      "Time elapsed: 0h 53m 60s\n",
      "======================================================================\n",
      "Iteration number: 2720/4000\n",
      "Training Accuracy: 100.000%\n",
      "Time elapsed: 0h 54m 12s\n",
      "======================================================================\n",
      "Iteration number: 2730/4000\n",
      "Training Accuracy: 100.000%\n",
      "Time elapsed: 0h 54m 25s\n",
      "======================================================================\n",
      "Iteration number: 2740/4000\n",
      "Training Accuracy: 100.000%\n",
      "Time elapsed: 0h 54m 37s\n",
      "======================================================================\n"
     ]
    },
    {
     "name": "stderr",
     "output_type": "stream",
     "text": [
      "/home/robotics/anaconda3/envs/estif/lib/python3.6/site-packages/PIL/JpegImagePlugin.py:796: UserWarning: Image appears to be a malformed MPO file, it will be interpreted as a base JPEG file\n",
      "  \"Image appears to be a malformed MPO file, it will be \"\n"
     ]
    },
    {
     "name": "stdout",
     "output_type": "stream",
     "text": [
      "Iteration number: 2750/4000\n",
      "Training Accuracy: 100.000%\n",
      "Time elapsed: 0h 54m 49s\n",
      "======================================================================\n",
      "Iteration number: 2760/4000\n",
      "Training Accuracy: 100.000%\n",
      "Time elapsed: 0h 55m 1s\n",
      "======================================================================\n",
      "Iteration number: 2770/4000\n",
      "Training Accuracy: 96.875%\n",
      "Time elapsed: 0h 55m 13s\n",
      "======================================================================\n",
      "Iteration number: 2780/4000\n",
      "Training Accuracy: 100.000%\n",
      "Time elapsed: 0h 55m 25s\n",
      "======================================================================\n",
      "Iteration number: 2790/4000\n",
      "Training Accuracy: 100.000%\n",
      "Time elapsed: 0h 55m 37s\n",
      "======================================================================\n"
     ]
    },
    {
     "name": "stderr",
     "output_type": "stream",
     "text": [
      "/home/robotics/anaconda3/envs/estif/lib/python3.6/site-packages/PIL/JpegImagePlugin.py:796: UserWarning: Image appears to be a malformed MPO file, it will be interpreted as a base JPEG file\n",
      "  \"Image appears to be a malformed MPO file, it will be \"\n"
     ]
    },
    {
     "name": "stdout",
     "output_type": "stream",
     "text": [
      "Iteration number: 2800/4000\n",
      "Training Accuracy: 100.000%\n",
      "Time elapsed: 0h 55m 49s\n",
      "======================================================================\n",
      "Iteration number: 2810/4000\n",
      "Training Accuracy: 100.000%\n",
      "Time elapsed: 0h 55m 60s\n",
      "======================================================================\n",
      "Iteration number: 2820/4000\n",
      "Training Accuracy: 100.000%\n",
      "Time elapsed: 0h 56m 12s\n",
      "======================================================================\n",
      "Iteration number: 2830/4000\n",
      "Training Accuracy: 100.000%\n",
      "Time elapsed: 0h 56m 25s\n",
      "======================================================================\n"
     ]
    },
    {
     "name": "stderr",
     "output_type": "stream",
     "text": [
      "/home/robotics/anaconda3/envs/estif/lib/python3.6/site-packages/PIL/JpegImagePlugin.py:796: UserWarning: Image appears to be a malformed MPO file, it will be interpreted as a base JPEG file\n",
      "  \"Image appears to be a malformed MPO file, it will be \"\n"
     ]
    },
    {
     "name": "stdout",
     "output_type": "stream",
     "text": [
      "Iteration number: 2840/4000\n",
      "Training Accuracy: 100.000%\n",
      "Time elapsed: 0h 56m 38s\n",
      "======================================================================\n",
      "Iteration number: 2850/4000\n",
      "Training Accuracy: 100.000%\n",
      "Time elapsed: 0h 56m 50s\n",
      "======================================================================\n"
     ]
    },
    {
     "name": "stderr",
     "output_type": "stream",
     "text": [
      "/home/robotics/anaconda3/envs/estif/lib/python3.6/site-packages/PIL/JpegImagePlugin.py:796: UserWarning: Image appears to be a malformed MPO file, it will be interpreted as a base JPEG file\n",
      "  \"Image appears to be a malformed MPO file, it will be \"\n"
     ]
    },
    {
     "name": "stdout",
     "output_type": "stream",
     "text": [
      "Iteration number: 2860/4000\n",
      "Training Accuracy: 100.000%\n",
      "Time elapsed: 0h 57m 2s\n",
      "======================================================================\n",
      "Iteration number: 2870/4000\n",
      "Training Accuracy: 96.875%\n",
      "Time elapsed: 0h 57m 15s\n",
      "======================================================================\n",
      "Iteration number: 2880/4000\n",
      "Training Accuracy: 100.000%\n",
      "Time elapsed: 0h 57m 28s\n",
      "======================================================================\n",
      "Iteration number: 2890/4000\n",
      "Training Accuracy: 100.000%\n",
      "Time elapsed: 0h 57m 40s\n",
      "======================================================================\n",
      "Iteration number: 2900/4000\n",
      "Training Accuracy: 100.000%\n",
      "Time elapsed: 0h 57m 51s\n",
      "======================================================================\n",
      "Iteration number: 2910/4000\n",
      "Training Accuracy: 100.000%\n",
      "Time elapsed: 0h 58m 3s\n",
      "======================================================================\n",
      "Iteration number: 2920/4000\n",
      "Training Accuracy: 100.000%\n",
      "Time elapsed: 0h 58m 15s\n",
      "======================================================================\n"
     ]
    },
    {
     "name": "stderr",
     "output_type": "stream",
     "text": [
      "/home/robotics/anaconda3/envs/estif/lib/python3.6/site-packages/PIL/JpegImagePlugin.py:796: UserWarning: Image appears to be a malformed MPO file, it will be interpreted as a base JPEG file\n",
      "  \"Image appears to be a malformed MPO file, it will be \"\n"
     ]
    },
    {
     "name": "stdout",
     "output_type": "stream",
     "text": [
      "Iteration number: 2930/4000\n",
      "Training Accuracy: 100.000%\n",
      "Time elapsed: 0h 58m 27s\n",
      "======================================================================\n"
     ]
    },
    {
     "name": "stderr",
     "output_type": "stream",
     "text": [
      "/home/robotics/anaconda3/envs/estif/lib/python3.6/site-packages/PIL/JpegImagePlugin.py:796: UserWarning: Image appears to be a malformed MPO file, it will be interpreted as a base JPEG file\n",
      "  \"Image appears to be a malformed MPO file, it will be \"\n"
     ]
    },
    {
     "name": "stdout",
     "output_type": "stream",
     "text": [
      "Iteration number: 2940/4000\n",
      "Training Accuracy: 100.000%\n",
      "Time elapsed: 0h 58m 39s\n",
      "======================================================================\n",
      "Iteration number: 2950/4000\n",
      "Training Accuracy: 100.000%\n",
      "Time elapsed: 0h 58m 50s\n",
      "======================================================================\n",
      "Iteration number: 2960/4000\n",
      "Training Accuracy: 100.000%\n",
      "Time elapsed: 0h 59m 3s\n",
      "======================================================================\n",
      "Iteration number: 2970/4000\n",
      "Training Accuracy: 100.000%\n",
      "Time elapsed: 0h 59m 16s\n",
      "======================================================================\n"
     ]
    },
    {
     "name": "stderr",
     "output_type": "stream",
     "text": [
      "/home/robotics/anaconda3/envs/estif/lib/python3.6/site-packages/PIL/JpegImagePlugin.py:796: UserWarning: Image appears to be a malformed MPO file, it will be interpreted as a base JPEG file\n",
      "  \"Image appears to be a malformed MPO file, it will be \"\n"
     ]
    },
    {
     "name": "stdout",
     "output_type": "stream",
     "text": [
      "Iteration number: 2980/4000\n",
      "Training Accuracy: 100.000%\n",
      "Time elapsed: 0h 59m 29s\n",
      "======================================================================\n"
     ]
    },
    {
     "name": "stderr",
     "output_type": "stream",
     "text": [
      "/home/robotics/anaconda3/envs/estif/lib/python3.6/site-packages/PIL/JpegImagePlugin.py:796: UserWarning: Image appears to be a malformed MPO file, it will be interpreted as a base JPEG file\n",
      "  \"Image appears to be a malformed MPO file, it will be \"\n",
      "/home/robotics/anaconda3/envs/estif/lib/python3.6/site-packages/PIL/JpegImagePlugin.py:796: UserWarning: Image appears to be a malformed MPO file, it will be interpreted as a base JPEG file\n",
      "  \"Image appears to be a malformed MPO file, it will be \"\n"
     ]
    },
    {
     "name": "stdout",
     "output_type": "stream",
     "text": [
      "Iteration number: 2990/4000\n",
      "Training Accuracy: 100.000%\n",
      "Time elapsed: 0h 59m 42s\n",
      "======================================================================\n",
      "Iteration number: 3000/4000\n",
      "Training Accuracy: 100.000%\n",
      "Time elapsed: 0h 59m 53s\n",
      "======================================================================\n",
      "Iteration number: 3010/4000\n",
      "Training Accuracy: 100.000%\n",
      "Time elapsed: 1h 0m 4s\n",
      "======================================================================\n"
     ]
    },
    {
     "name": "stderr",
     "output_type": "stream",
     "text": [
      "/home/robotics/anaconda3/envs/estif/lib/python3.6/site-packages/PIL/JpegImagePlugin.py:796: UserWarning: Image appears to be a malformed MPO file, it will be interpreted as a base JPEG file\n",
      "  \"Image appears to be a malformed MPO file, it will be \"\n"
     ]
    },
    {
     "name": "stdout",
     "output_type": "stream",
     "text": [
      "Iteration number: 3020/4000\n",
      "Training Accuracy: 100.000%\n",
      "Time elapsed: 1h 0m 17s\n",
      "======================================================================\n",
      "Iteration number: 3030/4000\n",
      "Training Accuracy: 100.000%\n",
      "Time elapsed: 1h 0m 30s\n",
      "======================================================================\n",
      "Iteration number: 3040/4000\n",
      "Training Accuracy: 100.000%\n",
      "Time elapsed: 1h 0m 42s\n",
      "======================================================================\n",
      "Iteration number: 3050/4000\n",
      "Training Accuracy: 100.000%\n",
      "Time elapsed: 1h 0m 54s\n",
      "======================================================================\n"
     ]
    },
    {
     "name": "stderr",
     "output_type": "stream",
     "text": [
      "/home/robotics/anaconda3/envs/estif/lib/python3.6/site-packages/PIL/JpegImagePlugin.py:796: UserWarning: Image appears to be a malformed MPO file, it will be interpreted as a base JPEG file\n",
      "  \"Image appears to be a malformed MPO file, it will be \"\n"
     ]
    },
    {
     "name": "stdout",
     "output_type": "stream",
     "text": [
      "Iteration number: 3060/4000\n",
      "Training Accuracy: 100.000%\n",
      "Time elapsed: 1h 1m 5s\n",
      "======================================================================\n",
      "Iteration number: 3070/4000\n",
      "Training Accuracy: 100.000%\n",
      "Time elapsed: 1h 1m 17s\n",
      "======================================================================\n"
     ]
    },
    {
     "name": "stderr",
     "output_type": "stream",
     "text": [
      "/home/robotics/anaconda3/envs/estif/lib/python3.6/site-packages/PIL/JpegImagePlugin.py:796: UserWarning: Image appears to be a malformed MPO file, it will be interpreted as a base JPEG file\n",
      "  \"Image appears to be a malformed MPO file, it will be \"\n"
     ]
    },
    {
     "name": "stdout",
     "output_type": "stream",
     "text": [
      "Iteration number: 3080/4000\n",
      "Training Accuracy: 96.875%\n",
      "Time elapsed: 1h 1m 29s\n",
      "======================================================================\n",
      "Iteration number: 3090/4000\n",
      "Training Accuracy: 100.000%\n",
      "Time elapsed: 1h 1m 41s\n",
      "======================================================================\n"
     ]
    },
    {
     "name": "stderr",
     "output_type": "stream",
     "text": [
      "/home/robotics/anaconda3/envs/estif/lib/python3.6/site-packages/PIL/JpegImagePlugin.py:796: UserWarning: Image appears to be a malformed MPO file, it will be interpreted as a base JPEG file\n",
      "  \"Image appears to be a malformed MPO file, it will be \"\n"
     ]
    },
    {
     "name": "stdout",
     "output_type": "stream",
     "text": [
      "Iteration number: 3100/4000\n",
      "Training Accuracy: 100.000%\n",
      "Time elapsed: 1h 1m 53s\n",
      "======================================================================\n",
      "Iteration number: 3110/4000\n",
      "Training Accuracy: 100.000%\n",
      "Time elapsed: 1h 2m 5s\n",
      "======================================================================\n"
     ]
    },
    {
     "name": "stderr",
     "output_type": "stream",
     "text": [
      "/home/robotics/anaconda3/envs/estif/lib/python3.6/site-packages/PIL/JpegImagePlugin.py:796: UserWarning: Image appears to be a malformed MPO file, it will be interpreted as a base JPEG file\n",
      "  \"Image appears to be a malformed MPO file, it will be \"\n"
     ]
    },
    {
     "name": "stdout",
     "output_type": "stream",
     "text": [
      "Iteration number: 3120/4000\n",
      "Training Accuracy: 100.000%\n",
      "Time elapsed: 1h 2m 16s\n",
      "======================================================================\n"
     ]
    },
    {
     "name": "stderr",
     "output_type": "stream",
     "text": [
      "/home/robotics/anaconda3/envs/estif/lib/python3.6/site-packages/PIL/JpegImagePlugin.py:796: UserWarning: Image appears to be a malformed MPO file, it will be interpreted as a base JPEG file\n",
      "  \"Image appears to be a malformed MPO file, it will be \"\n"
     ]
    },
    {
     "name": "stdout",
     "output_type": "stream",
     "text": [
      "Iteration number: 3130/4000\n",
      "Training Accuracy: 100.000%\n",
      "Time elapsed: 1h 2m 29s\n",
      "======================================================================\n"
     ]
    },
    {
     "name": "stderr",
     "output_type": "stream",
     "text": [
      "/home/robotics/anaconda3/envs/estif/lib/python3.6/site-packages/PIL/JpegImagePlugin.py:796: UserWarning: Image appears to be a malformed MPO file, it will be interpreted as a base JPEG file\n",
      "  \"Image appears to be a malformed MPO file, it will be \"\n"
     ]
    },
    {
     "name": "stdout",
     "output_type": "stream",
     "text": [
      "Iteration number: 3140/4000\n",
      "Training Accuracy: 100.000%\n",
      "Time elapsed: 1h 2m 41s\n",
      "======================================================================\n"
     ]
    },
    {
     "name": "stderr",
     "output_type": "stream",
     "text": [
      "/home/robotics/anaconda3/envs/estif/lib/python3.6/site-packages/PIL/JpegImagePlugin.py:796: UserWarning: Image appears to be a malformed MPO file, it will be interpreted as a base JPEG file\n",
      "  \"Image appears to be a malformed MPO file, it will be \"\n"
     ]
    },
    {
     "name": "stdout",
     "output_type": "stream",
     "text": [
      "Iteration number: 3150/4000\n",
      "Training Accuracy: 100.000%\n",
      "Time elapsed: 1h 2m 53s\n",
      "======================================================================\n",
      "Iteration number: 3160/4000\n",
      "Training Accuracy: 100.000%\n",
      "Time elapsed: 1h 3m 5s\n",
      "======================================================================\n"
     ]
    },
    {
     "name": "stderr",
     "output_type": "stream",
     "text": [
      "/home/robotics/anaconda3/envs/estif/lib/python3.6/site-packages/PIL/JpegImagePlugin.py:796: UserWarning: Image appears to be a malformed MPO file, it will be interpreted as a base JPEG file\n",
      "  \"Image appears to be a malformed MPO file, it will be \"\n"
     ]
    },
    {
     "name": "stdout",
     "output_type": "stream",
     "text": [
      "Iteration number: 3170/4000\n",
      "Training Accuracy: 100.000%\n",
      "Time elapsed: 1h 3m 17s\n",
      "======================================================================\n"
     ]
    },
    {
     "name": "stderr",
     "output_type": "stream",
     "text": [
      "/home/robotics/anaconda3/envs/estif/lib/python3.6/site-packages/PIL/JpegImagePlugin.py:796: UserWarning: Image appears to be a malformed MPO file, it will be interpreted as a base JPEG file\n",
      "  \"Image appears to be a malformed MPO file, it will be \"\n"
     ]
    },
    {
     "name": "stdout",
     "output_type": "stream",
     "text": [
      "Iteration number: 3180/4000\n",
      "Training Accuracy: 100.000%\n",
      "Time elapsed: 1h 3m 29s\n",
      "======================================================================\n",
      "Iteration number: 3190/4000\n",
      "Training Accuracy: 100.000%\n",
      "Time elapsed: 1h 3m 42s\n",
      "======================================================================\n"
     ]
    },
    {
     "name": "stderr",
     "output_type": "stream",
     "text": [
      "/home/robotics/anaconda3/envs/estif/lib/python3.6/site-packages/PIL/JpegImagePlugin.py:796: UserWarning: Image appears to be a malformed MPO file, it will be interpreted as a base JPEG file\n",
      "  \"Image appears to be a malformed MPO file, it will be \"\n"
     ]
    },
    {
     "name": "stdout",
     "output_type": "stream",
     "text": [
      "Iteration number: 3200/4000\n",
      "Training Accuracy: 100.000%\n",
      "Time elapsed: 1h 3m 53s\n",
      "======================================================================\n"
     ]
    },
    {
     "name": "stderr",
     "output_type": "stream",
     "text": [
      "/home/robotics/anaconda3/envs/estif/lib/python3.6/site-packages/PIL/JpegImagePlugin.py:796: UserWarning: Image appears to be a malformed MPO file, it will be interpreted as a base JPEG file\n",
      "  \"Image appears to be a malformed MPO file, it will be \"\n"
     ]
    },
    {
     "name": "stdout",
     "output_type": "stream",
     "text": [
      "Iteration number: 3210/4000\n",
      "Training Accuracy: 100.000%\n",
      "Time elapsed: 1h 4m 6s\n",
      "======================================================================\n",
      "Iteration number: 3220/4000\n",
      "Training Accuracy: 100.000%\n",
      "Time elapsed: 1h 4m 19s\n",
      "======================================================================\n",
      "Iteration number: 3230/4000\n",
      "Training Accuracy: 100.000%\n",
      "Time elapsed: 1h 4m 31s\n",
      "======================================================================\n"
     ]
    },
    {
     "name": "stderr",
     "output_type": "stream",
     "text": [
      "/home/robotics/anaconda3/envs/estif/lib/python3.6/site-packages/PIL/JpegImagePlugin.py:796: UserWarning: Image appears to be a malformed MPO file, it will be interpreted as a base JPEG file\n",
      "  \"Image appears to be a malformed MPO file, it will be \"\n"
     ]
    },
    {
     "name": "stdout",
     "output_type": "stream",
     "text": [
      "Iteration number: 3240/4000\n",
      "Training Accuracy: 100.000%\n",
      "Time elapsed: 1h 4m 44s\n",
      "======================================================================\n"
     ]
    },
    {
     "name": "stderr",
     "output_type": "stream",
     "text": [
      "/home/robotics/anaconda3/envs/estif/lib/python3.6/site-packages/PIL/JpegImagePlugin.py:796: UserWarning: Image appears to be a malformed MPO file, it will be interpreted as a base JPEG file\n",
      "  \"Image appears to be a malformed MPO file, it will be \"\n"
     ]
    },
    {
     "name": "stdout",
     "output_type": "stream",
     "text": [
      "Iteration number: 3250/4000\n",
      "Training Accuracy: 100.000%\n",
      "Time elapsed: 1h 4m 56s\n",
      "======================================================================\n"
     ]
    },
    {
     "name": "stderr",
     "output_type": "stream",
     "text": [
      "/home/robotics/anaconda3/envs/estif/lib/python3.6/site-packages/PIL/JpegImagePlugin.py:796: UserWarning: Image appears to be a malformed MPO file, it will be interpreted as a base JPEG file\n",
      "  \"Image appears to be a malformed MPO file, it will be \"\n"
     ]
    },
    {
     "name": "stdout",
     "output_type": "stream",
     "text": [
      "Iteration number: 3260/4000\n",
      "Training Accuracy: 100.000%\n",
      "Time elapsed: 1h 5m 7s\n",
      "======================================================================\n",
      "Iteration number: 3270/4000\n",
      "Training Accuracy: 100.000%\n",
      "Time elapsed: 1h 5m 20s\n",
      "======================================================================\n",
      "Iteration number: 3280/4000\n",
      "Training Accuracy: 100.000%\n",
      "Time elapsed: 1h 5m 31s\n",
      "======================================================================\n",
      "Iteration number: 3290/4000\n",
      "Training Accuracy: 100.000%\n",
      "Time elapsed: 1h 5m 43s\n",
      "======================================================================\n"
     ]
    },
    {
     "name": "stderr",
     "output_type": "stream",
     "text": [
      "/home/robotics/anaconda3/envs/estif/lib/python3.6/site-packages/PIL/JpegImagePlugin.py:796: UserWarning: Image appears to be a malformed MPO file, it will be interpreted as a base JPEG file\n",
      "  \"Image appears to be a malformed MPO file, it will be \"\n"
     ]
    },
    {
     "name": "stdout",
     "output_type": "stream",
     "text": [
      "Iteration number: 3300/4000\n",
      "Training Accuracy: 100.000%\n",
      "Time elapsed: 1h 5m 55s\n",
      "======================================================================\n",
      "Iteration number: 3310/4000\n",
      "Training Accuracy: 100.000%\n",
      "Time elapsed: 1h 6m 7s\n",
      "======================================================================\n",
      "Iteration number: 3320/4000\n",
      "Training Accuracy: 100.000%\n",
      "Time elapsed: 1h 6m 18s\n",
      "======================================================================\n",
      "Iteration number: 3330/4000\n",
      "Training Accuracy: 100.000%\n",
      "Time elapsed: 1h 6m 30s\n",
      "======================================================================\n",
      "Iteration number: 3340/4000\n",
      "Training Accuracy: 100.000%\n",
      "Time elapsed: 1h 6m 42s\n",
      "======================================================================\n",
      "Iteration number: 3350/4000\n",
      "Training Accuracy: 100.000%\n",
      "Time elapsed: 1h 6m 54s\n",
      "======================================================================\n",
      "Iteration number: 3360/4000\n",
      "Training Accuracy: 100.000%\n",
      "Time elapsed: 1h 7m 7s\n",
      "======================================================================\n"
     ]
    },
    {
     "name": "stderr",
     "output_type": "stream",
     "text": [
      "/home/robotics/anaconda3/envs/estif/lib/python3.6/site-packages/PIL/JpegImagePlugin.py:796: UserWarning: Image appears to be a malformed MPO file, it will be interpreted as a base JPEG file\n",
      "  \"Image appears to be a malformed MPO file, it will be \"\n"
     ]
    },
    {
     "name": "stdout",
     "output_type": "stream",
     "text": [
      "Iteration number: 3370/4000\n",
      "Training Accuracy: 100.000%\n",
      "Time elapsed: 1h 7m 18s\n",
      "======================================================================\n"
     ]
    },
    {
     "name": "stderr",
     "output_type": "stream",
     "text": [
      "/home/robotics/anaconda3/envs/estif/lib/python3.6/site-packages/PIL/JpegImagePlugin.py:796: UserWarning: Image appears to be a malformed MPO file, it will be interpreted as a base JPEG file\n",
      "  \"Image appears to be a malformed MPO file, it will be \"\n"
     ]
    },
    {
     "name": "stdout",
     "output_type": "stream",
     "text": [
      "Iteration number: 3380/4000\n",
      "Training Accuracy: 100.000%\n",
      "Time elapsed: 1h 7m 31s\n",
      "======================================================================\n",
      "Iteration number: 3390/4000\n",
      "Training Accuracy: 100.000%\n",
      "Time elapsed: 1h 7m 43s\n",
      "======================================================================\n",
      "Iteration number: 3400/4000\n",
      "Training Accuracy: 100.000%\n",
      "Time elapsed: 1h 7m 57s\n",
      "======================================================================\n"
     ]
    },
    {
     "name": "stderr",
     "output_type": "stream",
     "text": [
      "/home/robotics/anaconda3/envs/estif/lib/python3.6/site-packages/PIL/JpegImagePlugin.py:796: UserWarning: Image appears to be a malformed MPO file, it will be interpreted as a base JPEG file\n",
      "  \"Image appears to be a malformed MPO file, it will be \"\n"
     ]
    },
    {
     "name": "stdout",
     "output_type": "stream",
     "text": [
      "Iteration number: 3410/4000\n",
      "Training Accuracy: 100.000%\n",
      "Time elapsed: 1h 8m 10s\n",
      "======================================================================\n"
     ]
    },
    {
     "name": "stderr",
     "output_type": "stream",
     "text": [
      "/home/robotics/anaconda3/envs/estif/lib/python3.6/site-packages/PIL/JpegImagePlugin.py:796: UserWarning: Image appears to be a malformed MPO file, it will be interpreted as a base JPEG file\n",
      "  \"Image appears to be a malformed MPO file, it will be \"\n",
      "/home/robotics/anaconda3/envs/estif/lib/python3.6/site-packages/PIL/JpegImagePlugin.py:796: UserWarning: Image appears to be a malformed MPO file, it will be interpreted as a base JPEG file\n",
      "  \"Image appears to be a malformed MPO file, it will be \"\n"
     ]
    },
    {
     "name": "stdout",
     "output_type": "stream",
     "text": [
      "Iteration number: 3420/4000\n",
      "Training Accuracy: 100.000%\n",
      "Time elapsed: 1h 8m 21s\n",
      "======================================================================\n",
      "Iteration number: 3430/4000\n",
      "Training Accuracy: 100.000%\n",
      "Time elapsed: 1h 8m 33s\n",
      "======================================================================\n"
     ]
    },
    {
     "name": "stderr",
     "output_type": "stream",
     "text": [
      "/home/robotics/anaconda3/envs/estif/lib/python3.6/site-packages/PIL/JpegImagePlugin.py:796: UserWarning: Image appears to be a malformed MPO file, it will be interpreted as a base JPEG file\n",
      "  \"Image appears to be a malformed MPO file, it will be \"\n"
     ]
    },
    {
     "name": "stdout",
     "output_type": "stream",
     "text": [
      "Iteration number: 3440/4000\n",
      "Training Accuracy: 100.000%\n",
      "Time elapsed: 1h 8m 44s\n",
      "======================================================================\n",
      "Iteration number: 3450/4000\n",
      "Training Accuracy: 100.000%\n",
      "Time elapsed: 1h 8m 57s\n",
      "======================================================================\n",
      "Iteration number: 3460/4000\n",
      "Training Accuracy: 100.000%\n",
      "Time elapsed: 1h 9m 9s\n",
      "======================================================================\n"
     ]
    },
    {
     "name": "stderr",
     "output_type": "stream",
     "text": [
      "/home/robotics/anaconda3/envs/estif/lib/python3.6/site-packages/PIL/JpegImagePlugin.py:796: UserWarning: Image appears to be a malformed MPO file, it will be interpreted as a base JPEG file\n",
      "  \"Image appears to be a malformed MPO file, it will be \"\n"
     ]
    },
    {
     "name": "stdout",
     "output_type": "stream",
     "text": [
      "Iteration number: 3470/4000\n",
      "Training Accuracy: 100.000%\n",
      "Time elapsed: 1h 9m 22s\n",
      "======================================================================\n"
     ]
    },
    {
     "name": "stderr",
     "output_type": "stream",
     "text": [
      "/home/robotics/anaconda3/envs/estif/lib/python3.6/site-packages/PIL/JpegImagePlugin.py:796: UserWarning: Image appears to be a malformed MPO file, it will be interpreted as a base JPEG file\n",
      "  \"Image appears to be a malformed MPO file, it will be \"\n"
     ]
    },
    {
     "name": "stdout",
     "output_type": "stream",
     "text": [
      "Iteration number: 3480/4000\n",
      "Training Accuracy: 100.000%\n",
      "Time elapsed: 1h 9m 35s\n",
      "======================================================================\n",
      "Iteration number: 3490/4000\n",
      "Training Accuracy: 100.000%\n",
      "Time elapsed: 1h 9m 47s\n",
      "======================================================================\n"
     ]
    },
    {
     "name": "stderr",
     "output_type": "stream",
     "text": [
      "/home/robotics/anaconda3/envs/estif/lib/python3.6/site-packages/PIL/JpegImagePlugin.py:796: UserWarning: Image appears to be a malformed MPO file, it will be interpreted as a base JPEG file\n",
      "  \"Image appears to be a malformed MPO file, it will be \"\n"
     ]
    },
    {
     "name": "stdout",
     "output_type": "stream",
     "text": [
      "Iteration number: 3500/4000\n",
      "Training Accuracy: 100.000%\n",
      "Time elapsed: 1h 10m 1s\n",
      "======================================================================\n"
     ]
    },
    {
     "name": "stderr",
     "output_type": "stream",
     "text": [
      "/home/robotics/anaconda3/envs/estif/lib/python3.6/site-packages/PIL/JpegImagePlugin.py:796: UserWarning: Image appears to be a malformed MPO file, it will be interpreted as a base JPEG file\n",
      "  \"Image appears to be a malformed MPO file, it will be \"\n"
     ]
    },
    {
     "name": "stdout",
     "output_type": "stream",
     "text": [
      "Iteration number: 3510/4000\n",
      "Training Accuracy: 100.000%\n",
      "Time elapsed: 1h 10m 13s\n",
      "======================================================================\n",
      "Iteration number: 3520/4000\n",
      "Training Accuracy: 100.000%\n",
      "Time elapsed: 1h 10m 25s\n",
      "======================================================================\n"
     ]
    },
    {
     "name": "stderr",
     "output_type": "stream",
     "text": [
      "/home/robotics/anaconda3/envs/estif/lib/python3.6/site-packages/PIL/JpegImagePlugin.py:796: UserWarning: Image appears to be a malformed MPO file, it will be interpreted as a base JPEG file\n",
      "  \"Image appears to be a malformed MPO file, it will be \"\n"
     ]
    },
    {
     "name": "stdout",
     "output_type": "stream",
     "text": [
      "Iteration number: 3530/4000\n",
      "Training Accuracy: 100.000%\n",
      "Time elapsed: 1h 10m 36s\n",
      "======================================================================\n",
      "Iteration number: 3540/4000\n",
      "Training Accuracy: 100.000%\n",
      "Time elapsed: 1h 10m 48s\n",
      "======================================================================\n"
     ]
    },
    {
     "name": "stderr",
     "output_type": "stream",
     "text": [
      "/home/robotics/anaconda3/envs/estif/lib/python3.6/site-packages/PIL/JpegImagePlugin.py:796: UserWarning: Image appears to be a malformed MPO file, it will be interpreted as a base JPEG file\n",
      "  \"Image appears to be a malformed MPO file, it will be \"\n"
     ]
    },
    {
     "name": "stdout",
     "output_type": "stream",
     "text": [
      "Iteration number: 3550/4000\n",
      "Training Accuracy: 100.000%\n",
      "Time elapsed: 1h 10m 60s\n",
      "======================================================================\n",
      "Iteration number: 3560/4000\n",
      "Training Accuracy: 100.000%\n",
      "Time elapsed: 1h 11m 10s\n",
      "======================================================================\n",
      "Iteration number: 3570/4000\n",
      "Training Accuracy: 100.000%\n",
      "Time elapsed: 1h 11m 23s\n",
      "======================================================================\n"
     ]
    },
    {
     "name": "stderr",
     "output_type": "stream",
     "text": [
      "/home/robotics/anaconda3/envs/estif/lib/python3.6/site-packages/PIL/JpegImagePlugin.py:796: UserWarning: Image appears to be a malformed MPO file, it will be interpreted as a base JPEG file\n",
      "  \"Image appears to be a malformed MPO file, it will be \"\n",
      "/home/robotics/anaconda3/envs/estif/lib/python3.6/site-packages/PIL/JpegImagePlugin.py:796: UserWarning: Image appears to be a malformed MPO file, it will be interpreted as a base JPEG file\n",
      "  \"Image appears to be a malformed MPO file, it will be \"\n"
     ]
    },
    {
     "name": "stdout",
     "output_type": "stream",
     "text": [
      "Iteration number: 3580/4000\n",
      "Training Accuracy: 100.000%\n",
      "Time elapsed: 1h 11m 34s\n",
      "======================================================================\n"
     ]
    },
    {
     "name": "stderr",
     "output_type": "stream",
     "text": [
      "/home/robotics/anaconda3/envs/estif/lib/python3.6/site-packages/PIL/JpegImagePlugin.py:796: UserWarning: Image appears to be a malformed MPO file, it will be interpreted as a base JPEG file\n",
      "  \"Image appears to be a malformed MPO file, it will be \"\n"
     ]
    },
    {
     "name": "stdout",
     "output_type": "stream",
     "text": [
      "Iteration number: 3590/4000\n",
      "Training Accuracy: 100.000%\n",
      "Time elapsed: 1h 11m 47s\n",
      "======================================================================\n",
      "Iteration number: 3600/4000\n",
      "Training Accuracy: 100.000%\n",
      "Time elapsed: 1h 11m 58s\n",
      "======================================================================\n"
     ]
    },
    {
     "name": "stderr",
     "output_type": "stream",
     "text": [
      "/home/robotics/anaconda3/envs/estif/lib/python3.6/site-packages/PIL/JpegImagePlugin.py:796: UserWarning: Image appears to be a malformed MPO file, it will be interpreted as a base JPEG file\n",
      "  \"Image appears to be a malformed MPO file, it will be \"\n"
     ]
    },
    {
     "name": "stdout",
     "output_type": "stream",
     "text": [
      "Iteration number: 3610/4000\n",
      "Training Accuracy: 100.000%\n",
      "Time elapsed: 1h 12m 10s\n",
      "======================================================================\n",
      "Iteration number: 3620/4000\n",
      "Training Accuracy: 100.000%\n",
      "Time elapsed: 1h 12m 23s\n",
      "======================================================================\n"
     ]
    },
    {
     "name": "stderr",
     "output_type": "stream",
     "text": [
      "/home/robotics/anaconda3/envs/estif/lib/python3.6/site-packages/PIL/JpegImagePlugin.py:796: UserWarning: Image appears to be a malformed MPO file, it will be interpreted as a base JPEG file\n",
      "  \"Image appears to be a malformed MPO file, it will be \"\n"
     ]
    },
    {
     "name": "stdout",
     "output_type": "stream",
     "text": [
      "Iteration number: 3630/4000\n",
      "Training Accuracy: 100.000%\n",
      "Time elapsed: 1h 12m 35s\n",
      "======================================================================\n"
     ]
    },
    {
     "name": "stderr",
     "output_type": "stream",
     "text": [
      "/home/robotics/anaconda3/envs/estif/lib/python3.6/site-packages/PIL/JpegImagePlugin.py:796: UserWarning: Image appears to be a malformed MPO file, it will be interpreted as a base JPEG file\n",
      "  \"Image appears to be a malformed MPO file, it will be \"\n"
     ]
    },
    {
     "name": "stdout",
     "output_type": "stream",
     "text": [
      "Iteration number: 3640/4000\n",
      "Training Accuracy: 100.000%\n",
      "Time elapsed: 1h 12m 48s\n",
      "======================================================================\n"
     ]
    },
    {
     "name": "stderr",
     "output_type": "stream",
     "text": [
      "/home/robotics/anaconda3/envs/estif/lib/python3.6/site-packages/PIL/JpegImagePlugin.py:796: UserWarning: Image appears to be a malformed MPO file, it will be interpreted as a base JPEG file\n",
      "  \"Image appears to be a malformed MPO file, it will be \"\n"
     ]
    },
    {
     "name": "stdout",
     "output_type": "stream",
     "text": [
      "Iteration number: 3650/4000\n",
      "Training Accuracy: 100.000%\n",
      "Time elapsed: 1h 12m 59s\n",
      "======================================================================\n"
     ]
    },
    {
     "name": "stderr",
     "output_type": "stream",
     "text": [
      "/home/robotics/anaconda3/envs/estif/lib/python3.6/site-packages/PIL/JpegImagePlugin.py:796: UserWarning: Image appears to be a malformed MPO file, it will be interpreted as a base JPEG file\n",
      "  \"Image appears to be a malformed MPO file, it will be \"\n"
     ]
    },
    {
     "name": "stdout",
     "output_type": "stream",
     "text": [
      "Iteration number: 3660/4000\n",
      "Training Accuracy: 100.000%\n",
      "Time elapsed: 1h 13m 12s\n",
      "======================================================================\n"
     ]
    },
    {
     "name": "stderr",
     "output_type": "stream",
     "text": [
      "/home/robotics/anaconda3/envs/estif/lib/python3.6/site-packages/PIL/JpegImagePlugin.py:796: UserWarning: Image appears to be a malformed MPO file, it will be interpreted as a base JPEG file\n",
      "  \"Image appears to be a malformed MPO file, it will be \"\n",
      "/home/robotics/anaconda3/envs/estif/lib/python3.6/site-packages/PIL/JpegImagePlugin.py:796: UserWarning: Image appears to be a malformed MPO file, it will be interpreted as a base JPEG file\n",
      "  \"Image appears to be a malformed MPO file, it will be \"\n"
     ]
    },
    {
     "name": "stdout",
     "output_type": "stream",
     "text": [
      "Iteration number: 3670/4000\n",
      "Training Accuracy: 100.000%\n",
      "Time elapsed: 1h 13m 24s\n",
      "======================================================================\n"
     ]
    },
    {
     "name": "stderr",
     "output_type": "stream",
     "text": [
      "/home/robotics/anaconda3/envs/estif/lib/python3.6/site-packages/PIL/JpegImagePlugin.py:796: UserWarning: Image appears to be a malformed MPO file, it will be interpreted as a base JPEG file\n",
      "  \"Image appears to be a malformed MPO file, it will be \"\n"
     ]
    },
    {
     "name": "stdout",
     "output_type": "stream",
     "text": [
      "Iteration number: 3680/4000\n",
      "Training Accuracy: 96.875%\n",
      "Time elapsed: 1h 13m 37s\n",
      "======================================================================\n"
     ]
    },
    {
     "name": "stderr",
     "output_type": "stream",
     "text": [
      "/home/robotics/anaconda3/envs/estif/lib/python3.6/site-packages/PIL/JpegImagePlugin.py:796: UserWarning: Image appears to be a malformed MPO file, it will be interpreted as a base JPEG file\n",
      "  \"Image appears to be a malformed MPO file, it will be \"\n"
     ]
    },
    {
     "name": "stdout",
     "output_type": "stream",
     "text": [
      "Iteration number: 3690/4000\n",
      "Training Accuracy: 100.000%\n",
      "Time elapsed: 1h 13m 49s\n",
      "======================================================================\n",
      "Iteration number: 3700/4000\n",
      "Training Accuracy: 100.000%\n",
      "Time elapsed: 1h 14m 1s\n",
      "======================================================================\n"
     ]
    },
    {
     "name": "stderr",
     "output_type": "stream",
     "text": [
      "/home/robotics/anaconda3/envs/estif/lib/python3.6/site-packages/PIL/JpegImagePlugin.py:796: UserWarning: Image appears to be a malformed MPO file, it will be interpreted as a base JPEG file\n",
      "  \"Image appears to be a malformed MPO file, it will be \"\n"
     ]
    },
    {
     "name": "stdout",
     "output_type": "stream",
     "text": [
      "Iteration number: 3710/4000\n",
      "Training Accuracy: 100.000%\n",
      "Time elapsed: 1h 14m 13s\n",
      "======================================================================\n",
      "Iteration number: 3720/4000\n",
      "Training Accuracy: 100.000%\n",
      "Time elapsed: 1h 14m 26s\n",
      "======================================================================\n"
     ]
    },
    {
     "name": "stderr",
     "output_type": "stream",
     "text": [
      "/home/robotics/anaconda3/envs/estif/lib/python3.6/site-packages/PIL/JpegImagePlugin.py:796: UserWarning: Image appears to be a malformed MPO file, it will be interpreted as a base JPEG file\n",
      "  \"Image appears to be a malformed MPO file, it will be \"\n",
      "/home/robotics/anaconda3/envs/estif/lib/python3.6/site-packages/PIL/JpegImagePlugin.py:796: UserWarning: Image appears to be a malformed MPO file, it will be interpreted as a base JPEG file\n",
      "  \"Image appears to be a malformed MPO file, it will be \"\n"
     ]
    },
    {
     "name": "stdout",
     "output_type": "stream",
     "text": [
      "Iteration number: 3730/4000\n",
      "Training Accuracy: 96.875%\n",
      "Time elapsed: 1h 14m 38s\n",
      "======================================================================\n",
      "Iteration number: 3740/4000\n",
      "Training Accuracy: 100.000%\n",
      "Time elapsed: 1h 14m 51s\n",
      "======================================================================\n"
     ]
    },
    {
     "name": "stderr",
     "output_type": "stream",
     "text": [
      "/home/robotics/anaconda3/envs/estif/lib/python3.6/site-packages/PIL/JpegImagePlugin.py:796: UserWarning: Image appears to be a malformed MPO file, it will be interpreted as a base JPEG file\n",
      "  \"Image appears to be a malformed MPO file, it will be \"\n"
     ]
    },
    {
     "name": "stdout",
     "output_type": "stream",
     "text": [
      "Iteration number: 3750/4000\n",
      "Training Accuracy: 100.000%\n",
      "Time elapsed: 1h 15m 3s\n",
      "======================================================================\n",
      "Iteration number: 3760/4000\n",
      "Training Accuracy: 100.000%\n",
      "Time elapsed: 1h 15m 14s\n",
      "======================================================================\n"
     ]
    },
    {
     "name": "stderr",
     "output_type": "stream",
     "text": [
      "/home/robotics/anaconda3/envs/estif/lib/python3.6/site-packages/PIL/JpegImagePlugin.py:796: UserWarning: Image appears to be a malformed MPO file, it will be interpreted as a base JPEG file\n",
      "  \"Image appears to be a malformed MPO file, it will be \"\n"
     ]
    },
    {
     "name": "stdout",
     "output_type": "stream",
     "text": [
      "Iteration number: 3770/4000\n",
      "Training Accuracy: 100.000%\n",
      "Time elapsed: 1h 15m 27s\n",
      "======================================================================\n"
     ]
    },
    {
     "name": "stderr",
     "output_type": "stream",
     "text": [
      "/home/robotics/anaconda3/envs/estif/lib/python3.6/site-packages/PIL/JpegImagePlugin.py:796: UserWarning: Image appears to be a malformed MPO file, it will be interpreted as a base JPEG file\n",
      "  \"Image appears to be a malformed MPO file, it will be \"\n"
     ]
    },
    {
     "name": "stdout",
     "output_type": "stream",
     "text": [
      "Iteration number: 3780/4000\n",
      "Training Accuracy: 100.000%\n",
      "Time elapsed: 1h 15m 40s\n",
      "======================================================================\n",
      "Iteration number: 3790/4000\n",
      "Training Accuracy: 100.000%\n",
      "Time elapsed: 1h 15m 52s\n",
      "======================================================================\n"
     ]
    },
    {
     "name": "stderr",
     "output_type": "stream",
     "text": [
      "/home/robotics/anaconda3/envs/estif/lib/python3.6/site-packages/PIL/JpegImagePlugin.py:796: UserWarning: Image appears to be a malformed MPO file, it will be interpreted as a base JPEG file\n",
      "  \"Image appears to be a malformed MPO file, it will be \"\n"
     ]
    },
    {
     "name": "stdout",
     "output_type": "stream",
     "text": [
      "Iteration number: 3800/4000\n",
      "Training Accuracy: 96.875%\n",
      "Time elapsed: 1h 16m 4s\n",
      "======================================================================\n"
     ]
    },
    {
     "name": "stderr",
     "output_type": "stream",
     "text": [
      "/home/robotics/anaconda3/envs/estif/lib/python3.6/site-packages/PIL/JpegImagePlugin.py:796: UserWarning: Image appears to be a malformed MPO file, it will be interpreted as a base JPEG file\n",
      "  \"Image appears to be a malformed MPO file, it will be \"\n"
     ]
    },
    {
     "name": "stdout",
     "output_type": "stream",
     "text": [
      "Iteration number: 3810/4000\n",
      "Training Accuracy: 100.000%\n",
      "Time elapsed: 1h 16m 17s\n",
      "======================================================================\n",
      "Iteration number: 3820/4000\n",
      "Training Accuracy: 100.000%\n",
      "Time elapsed: 1h 16m 28s\n",
      "======================================================================\n",
      "Iteration number: 3830/4000\n",
      "Training Accuracy: 100.000%\n",
      "Time elapsed: 1h 16m 40s\n",
      "======================================================================\n",
      "Iteration number: 3840/4000\n",
      "Training Accuracy: 96.875%\n",
      "Time elapsed: 1h 16m 52s\n",
      "======================================================================\n"
     ]
    },
    {
     "name": "stderr",
     "output_type": "stream",
     "text": [
      "/home/robotics/anaconda3/envs/estif/lib/python3.6/site-packages/PIL/JpegImagePlugin.py:796: UserWarning: Image appears to be a malformed MPO file, it will be interpreted as a base JPEG file\n",
      "  \"Image appears to be a malformed MPO file, it will be \"\n"
     ]
    },
    {
     "name": "stdout",
     "output_type": "stream",
     "text": [
      "Iteration number: 3850/4000\n",
      "Training Accuracy: 100.000%\n",
      "Time elapsed: 1h 17m 4s\n",
      "======================================================================\n"
     ]
    },
    {
     "name": "stderr",
     "output_type": "stream",
     "text": [
      "/home/robotics/anaconda3/envs/estif/lib/python3.6/site-packages/PIL/JpegImagePlugin.py:796: UserWarning: Image appears to be a malformed MPO file, it will be interpreted as a base JPEG file\n",
      "  \"Image appears to be a malformed MPO file, it will be \"\n",
      "/home/robotics/anaconda3/envs/estif/lib/python3.6/site-packages/PIL/JpegImagePlugin.py:796: UserWarning: Image appears to be a malformed MPO file, it will be interpreted as a base JPEG file\n",
      "  \"Image appears to be a malformed MPO file, it will be \"\n"
     ]
    },
    {
     "name": "stdout",
     "output_type": "stream",
     "text": [
      "Iteration number: 3860/4000\n",
      "Training Accuracy: 100.000%\n",
      "Time elapsed: 1h 17m 16s\n",
      "======================================================================\n",
      "Iteration number: 3870/4000\n",
      "Training Accuracy: 100.000%\n",
      "Time elapsed: 1h 17m 29s\n",
      "======================================================================\n"
     ]
    },
    {
     "name": "stderr",
     "output_type": "stream",
     "text": [
      "/home/robotics/anaconda3/envs/estif/lib/python3.6/site-packages/PIL/JpegImagePlugin.py:796: UserWarning: Image appears to be a malformed MPO file, it will be interpreted as a base JPEG file\n",
      "  \"Image appears to be a malformed MPO file, it will be \"\n"
     ]
    },
    {
     "name": "stdout",
     "output_type": "stream",
     "text": [
      "Iteration number: 3880/4000\n",
      "Training Accuracy: 100.000%\n",
      "Time elapsed: 1h 17m 41s\n",
      "======================================================================\n",
      "Iteration number: 3890/4000\n",
      "Training Accuracy: 100.000%\n",
      "Time elapsed: 1h 17m 53s\n",
      "======================================================================\n"
     ]
    },
    {
     "name": "stderr",
     "output_type": "stream",
     "text": [
      "/home/robotics/anaconda3/envs/estif/lib/python3.6/site-packages/PIL/JpegImagePlugin.py:796: UserWarning: Image appears to be a malformed MPO file, it will be interpreted as a base JPEG file\n",
      "  \"Image appears to be a malformed MPO file, it will be \"\n"
     ]
    },
    {
     "name": "stdout",
     "output_type": "stream",
     "text": [
      "Iteration number: 3900/4000\n",
      "Training Accuracy: 100.000%\n",
      "Time elapsed: 1h 18m 6s\n",
      "======================================================================\n"
     ]
    },
    {
     "name": "stderr",
     "output_type": "stream",
     "text": [
      "/home/robotics/anaconda3/envs/estif/lib/python3.6/site-packages/PIL/JpegImagePlugin.py:796: UserWarning: Image appears to be a malformed MPO file, it will be interpreted as a base JPEG file\n",
      "  \"Image appears to be a malformed MPO file, it will be \"\n"
     ]
    },
    {
     "name": "stdout",
     "output_type": "stream",
     "text": [
      "Iteration number: 3910/4000\n",
      "Training Accuracy: 100.000%\n",
      "Time elapsed: 1h 18m 19s\n",
      "======================================================================\n",
      "Iteration number: 3920/4000\n",
      "Training Accuracy: 100.000%\n",
      "Time elapsed: 1h 18m 31s\n",
      "======================================================================\n",
      "Iteration number: 3930/4000\n",
      "Training Accuracy: 100.000%\n",
      "Time elapsed: 1h 18m 43s\n",
      "======================================================================\n",
      "Iteration number: 3940/4000\n",
      "Training Accuracy: 100.000%\n",
      "Time elapsed: 1h 18m 54s\n",
      "======================================================================\n"
     ]
    },
    {
     "name": "stderr",
     "output_type": "stream",
     "text": [
      "/home/robotics/anaconda3/envs/estif/lib/python3.6/site-packages/PIL/JpegImagePlugin.py:796: UserWarning: Image appears to be a malformed MPO file, it will be interpreted as a base JPEG file\n",
      "  \"Image appears to be a malformed MPO file, it will be \"\n",
      "/home/robotics/anaconda3/envs/estif/lib/python3.6/site-packages/PIL/JpegImagePlugin.py:796: UserWarning: Image appears to be a malformed MPO file, it will be interpreted as a base JPEG file\n",
      "  \"Image appears to be a malformed MPO file, it will be \"\n"
     ]
    },
    {
     "name": "stdout",
     "output_type": "stream",
     "text": [
      "Iteration number: 3950/4000\n",
      "Training Accuracy: 100.000%\n",
      "Time elapsed: 1h 19m 6s\n",
      "======================================================================\n",
      "Iteration number: 3960/4000\n",
      "Training Accuracy: 100.000%\n",
      "Time elapsed: 1h 19m 18s\n",
      "======================================================================\n",
      "Iteration number: 3970/4000\n",
      "Training Accuracy: 100.000%\n",
      "Time elapsed: 1h 19m 30s\n",
      "======================================================================\n"
     ]
    },
    {
     "name": "stderr",
     "output_type": "stream",
     "text": [
      "/home/robotics/anaconda3/envs/estif/lib/python3.6/site-packages/PIL/JpegImagePlugin.py:796: UserWarning: Image appears to be a malformed MPO file, it will be interpreted as a base JPEG file\n",
      "  \"Image appears to be a malformed MPO file, it will be \"\n"
     ]
    },
    {
     "name": "stdout",
     "output_type": "stream",
     "text": [
      "Iteration number: 3980/4000\n",
      "Training Accuracy: 100.000%\n",
      "Time elapsed: 1h 19m 42s\n",
      "======================================================================\n"
     ]
    },
    {
     "name": "stderr",
     "output_type": "stream",
     "text": [
      "/home/robotics/anaconda3/envs/estif/lib/python3.6/site-packages/PIL/JpegImagePlugin.py:796: UserWarning: Image appears to be a malformed MPO file, it will be interpreted as a base JPEG file\n",
      "  \"Image appears to be a malformed MPO file, it will be \"\n",
      "/home/robotics/anaconda3/envs/estif/lib/python3.6/site-packages/PIL/JpegImagePlugin.py:796: UserWarning: Image appears to be a malformed MPO file, it will be interpreted as a base JPEG file\n",
      "  \"Image appears to be a malformed MPO file, it will be \"\n"
     ]
    },
    {
     "name": "stdout",
     "output_type": "stream",
     "text": [
      "Iteration number: 3990/4000\n",
      "Training Accuracy: 100.000%\n",
      "Time elapsed: 1h 19m 54s\n",
      "======================================================================\n"
     ]
    },
    {
     "name": "stderr",
     "output_type": "stream",
     "text": [
      "/home/robotics/anaconda3/envs/estif/lib/python3.6/site-packages/PIL/JpegImagePlugin.py:796: UserWarning: Image appears to be a malformed MPO file, it will be interpreted as a base JPEG file\n",
      "  \"Image appears to be a malformed MPO file, it will be \"\n"
     ]
    },
    {
     "name": "stdout",
     "output_type": "stream",
     "text": [
      "Iteration number: 4000/4000\n",
      "Training Accuracy: 100.000%\n",
      "Time elapsed: 1h 20m 8s\n",
      "======================================================================\n",
      "Training Finished!\n",
      "Time elapsed: 1h 20m 8s\n"
     ]
    }
   ],
   "source": [
    "\n",
    "iterations = 4000\n",
    "loss_train_list = list()\n",
    "train_accuracy_list = list()\n",
    "\n",
    "start = time.time()\n",
    "\n",
    "for i in range(1,iterations+1):\n",
    "    classifier.train()\n",
    "    \n",
    "    images_train, labels_train = iter(train_loader).next()\n",
    "    images_train, labels_train = images_train.to(device), labels_train.to(device)\n",
    "    \n",
    "    optimizer.zero_grad()\n",
    "    \n",
    "    output_train = classifier.forward(images_train)\n",
    "    loss_train = criterion(output_train, labels_train)\n",
    "    prediction_train = output_train.max(dim=1)[1]\n",
    "\n",
    "    counter_train = (labels_train == prediction_train).sum().item()\n",
    "    loss_train_list.append(loss_train)\n",
    "    train_accuracy_list.append(counter_train/len(output_train))\n",
    "   \n",
    "    if i%10 == 0:\n",
    "        print(\"Iteration number: {}/{}\".format(i, iterations))\n",
    "        print('Training Accuracy: {:.3f}%'.format(counter_train/len(output_train) * 100))\n",
    "        time_taken = time.time() - start\n",
    "        print('Time elapsed: {:.0f}h {:.0f}m {:.0f}s'.format(time_taken//3600, (time_taken%3600)//60, (time_taken%3600)%60))\n",
    "        print('='*70)\n",
    "    loss_train.backward()\n",
    "    optimizer.step()\n",
    "    \n",
    "\n",
    "print('Training Finished!')\n",
    "print('Time elapsed: {:.0f}h {:.0f}m {:.0f}s'.format(time_taken//3600, (time_taken%3600)//60, (time_taken%3600)%60))\n"
   ]
  },
  {
   "cell_type": "code",
   "execution_count": 7,
   "metadata": {},
   "outputs": [
    {
     "data": {
      "text/plain": [
       "<Figure size 432x288 with 0 Axes>"
      ]
     },
     "metadata": {},
     "output_type": "display_data"
    },
    {
     "data": {
      "image/png": "[encoded data removed]",
      "text/plain": [
       "<Figure size 1800x720 with 1 Axes>"
      ]
     },
     "metadata": {
      "needs_background": "light"
     },
     "output_type": "display_data"
    },
    {
     "data": {
      "text/plain": [
       "<Figure size 432x288 with 0 Axes>"
      ]
     },
     "metadata": {},
     "output_type": "display_data"
    },
    {
     "data": {
      "image/png": "[encoded data removed]",
      "text/plain": [
       "<Figure size 1800x720 with 1 Axes>"
      ]
     },
     "metadata": {
      "needs_background": "light"
     },
     "output_type": "display_data"
    },
    {
     "data": {
      "text/plain": [
       "<Figure size 432x288 with 0 Axes>"
      ]
     },
     "metadata": {},
     "output_type": "display_data"
    },
    {
     "data": {
      "image/png": "[encoded data removed]",
      "text/plain": [
       "<Figure size 1800x720 with 1 Axes>"
      ]
     },
     "metadata": {
      "needs_background": "light"
     },
     "output_type": "display_data"
    }
   ],
   "source": [
    "# Loss at the end of every Iteration\n",
    "\n",
    "plt.figure(1)\n",
    "plt.figure(figsize = (25,10))\n",
    "plt.plot(np.array(loss_train_list), '-')\n",
    "plt.xlabel('Iteration')\n",
    "plt.ylabel('Training Loss')\n",
    "plt.rc('axes', labelsize=18)\n",
    "plt.xticks(fontsize=14)\n",
    "plt.yticks(fontsize=14)\n",
    "plt.show()\n",
    "\n",
    "\n",
    "# Loss at the end of every epoch\n",
    "\n",
    "LossPerEpoch = []\n",
    "for x in range(0, len(loss_train_list) +1, len(train_loader)):\n",
    "    LossPerEpoch.append(loss_train_list[x])\n",
    "    \n",
    "plt.figure(2)\n",
    "plt.figure(figsize = (25,10))\n",
    "plt.plot(np.array(LossPerEpoch), '-')\n",
    "plt.xlabel('Epoch')\n",
    "plt.ylabel('Training Loss')\n",
    "plt.rc('axes', labelsize=18)\n",
    "plt.xticks(fontsize=14)\n",
    "plt.yticks(fontsize=14)\n",
    "plt.show()\n",
    "\n",
    "plt.figure(3)\n",
    "plt.figure(figsize = (25,10))\n",
    "plt.plot(np.array(train_accuracy_list), '-')\n",
    "plt.xlabel('Iteration')\n",
    "plt.ylabel('Training Accuracy')\n",
    "plt.rc('axes', labelsize=18)\n",
    "plt.xticks(fontsize=14)\n",
    "plt.yticks(fontsize=14)\n",
    "plt.show()"
   ]
  },
  {
   "cell_type": "markdown",
   "metadata": {},
   "source": [
    "### Save the finetuned model"
   ]
  },
  {
   "cell_type": "code",
   "execution_count": 8,
   "metadata": {},
   "outputs": [
    {
     "name": "stdout",
     "output_type": "stream",
     "text": [
      "Our Model: \n",
      "\n",
      " VGG(\n",
      "  (features): Sequential(\n",
      "    (0): Conv2d(3, 64, kernel_size=(3, 3), stride=(1, 1), padding=(1, 1))\n",
      "    (1): ReLU(inplace=True)\n",
      "    (2): Conv2d(64, 64, kernel_size=(3, 3), stride=(1, 1), padding=(1, 1))\n",
      "    (3): ReLU(inplace=True)\n",
      "    (4): MaxPool2d(kernel_size=2, stride=2, padding=0, dilation=1, ceil_mode=False)\n",
      "    (5): Conv2d(64, 128, kernel_size=(3, 3), stride=(1, 1), padding=(1, 1))\n",
      "    (6): ReLU(inplace=True)\n",
      "    (7): Conv2d(128, 128, kernel_size=(3, 3), stride=(1, 1), padding=(1, 1))\n",
      "    (8): ReLU(inplace=True)\n",
      "    (9): MaxPool2d(kernel_size=2, stride=2, padding=0, dilation=1, ceil_mode=False)\n",
      "    (10): Conv2d(128, 256, kernel_size=(3, 3), stride=(1, 1), padding=(1, 1))\n",
      "    (11): ReLU(inplace=True)\n",
      "    (12): Conv2d(256, 256, kernel_size=(3, 3), stride=(1, 1), padding=(1, 1))\n",
      "    (13): ReLU(inplace=True)\n",
      "    (14): Conv2d(256, 256, kernel_size=(3, 3), stride=(1, 1), padding=(1, 1))\n",
      "    (15): ReLU(inplace=True)\n",
      "    (16): Conv2d(256, 256, kernel_size=(3, 3), stride=(1, 1), padding=(1, 1))\n",
      "    (17): ReLU(inplace=True)\n",
      "    (18): MaxPool2d(kernel_size=2, stride=2, padding=0, dilation=1, ceil_mode=False)\n",
      "    (19): Conv2d(256, 512, kernel_size=(3, 3), stride=(1, 1), padding=(1, 1))\n",
      "    (20): ReLU(inplace=True)\n",
      "    (21): Conv2d(512, 512, kernel_size=(3, 3), stride=(1, 1), padding=(1, 1))\n",
      "    (22): ReLU(inplace=True)\n",
      "    (23): Conv2d(512, 512, kernel_size=(3, 3), stride=(1, 1), padding=(1, 1))\n",
      "    (24): ReLU(inplace=True)\n",
      "    (25): Conv2d(512, 512, kernel_size=(3, 3), stride=(1, 1), padding=(1, 1))\n",
      "    (26): ReLU(inplace=True)\n",
      "    (27): MaxPool2d(kernel_size=2, stride=2, padding=0, dilation=1, ceil_mode=False)\n",
      "    (28): Conv2d(512, 512, kernel_size=(3, 3), stride=(1, 1), padding=(1, 1))\n",
      "    (29): ReLU(inplace=True)\n",
      "    (30): Conv2d(512, 512, kernel_size=(3, 3), stride=(1, 1), padding=(1, 1))\n",
      "    (31): ReLU(inplace=True)\n",
      "    (32): Conv2d(512, 512, kernel_size=(3, 3), stride=(1, 1), padding=(1, 1))\n",
      "    (33): ReLU(inplace=True)\n",
      "    (34): Conv2d(512, 512, kernel_size=(3, 3), stride=(1, 1), padding=(1, 1))\n",
      "    (35): ReLU(inplace=True)\n",
      "    (36): MaxPool2d(kernel_size=2, stride=2, padding=0, dilation=1, ceil_mode=False)\n",
      "  )\n",
      "  (avgpool): AdaptiveAvgPool2d(output_size=(7, 7))\n",
      "  (classifier): Sequential(\n",
      "    (0): Linear(in_features=25088, out_features=4096, bias=True)\n",
      "    (1): ReLU(inplace=True)\n",
      "    (2): Dropout(p=0.5, inplace=False)\n",
      "    (3): Linear(in_features=4096, out_features=4096, bias=True)\n",
      "    (4): ReLU(inplace=True)\n",
      "    (5): Dropout(p=0.5, inplace=False)\n",
      "    (6): Linear(in_features=4096, out_features=11, bias=True)\n",
      "  )\n",
      ") \n",
      "\n",
      "The state dict keys: \n",
      "\n",
      " odict_keys(['features.0.weight', 'features.0.bias', 'features.2.weight', 'features.2.bias', 'features.5.weight', 'features.5.bias', 'features.7.weight', 'features.7.bias', 'features.10.weight', 'features.10.bias', 'features.12.weight', 'features.12.bias', 'features.14.weight', 'features.14.bias', 'features.16.weight', 'features.16.bias', 'features.19.weight', 'features.19.bias', 'features.21.weight', 'features.21.bias', 'features.23.weight', 'features.23.bias', 'features.25.weight', 'features.25.bias', 'features.28.weight', 'features.28.bias', 'features.30.weight', 'features.30.bias', 'features.32.weight', 'features.32.bias', 'features.34.weight', 'features.34.bias', 'classifier.0.weight', 'classifier.0.bias', 'classifier.3.weight', 'classifier.3.bias', 'classifier.6.weight', 'classifier.6.bias'])\n"
     ]
    }
   ],
   "source": [
    "print(\"Our Model: \\n\\n\", classifier, '\\n')\n",
    "print(\"The state dict keys: \\n\\n\", classifier.state_dict().keys())"
   ]
  },
  {
   "cell_type": "code",
   "execution_count": 9,
   "metadata": {
    "scrolled": true
   },
   "outputs": [],
   "source": [
    "# saving the model as a checkpoint file\n",
    "torch.save(classifier.state_dict(), 'vgg16_4000Iterations.pth')"
   ]
  }
 ],
 "metadata": {
  "kernelspec": {
   "display_name": "estif",
   "language": "python",
   "name": "estif"
  },
  "language_info": {
   "codemirror_mode": {
    "name": "ipython",
    "version": 3
   },
   "file_extension": ".py",
   "mimetype": "text/x-python",
   "name": "python",
   "nbconvert_exporter": "python",
   "pygments_lexer": "ipython3",
   "version": "3.6.10"
  }
 },
 "nbformat": 4,
 "nbformat_minor": 4
}
