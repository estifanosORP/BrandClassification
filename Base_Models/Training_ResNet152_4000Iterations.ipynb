{
 "cells": [
  {
   "cell_type": "code",
   "execution_count": 1,
   "metadata": {},
   "outputs": [],
   "source": [
    "import torch\n",
    "import torch.nn as nn\n",
    "import torch.optim as optim\n",
    "from torch.optim import lr_scheduler\n",
    "\n",
    "import torchvision\n",
    "from torchvision import datasets, transforms\n",
    "\n",
    "\n",
    "import numpy as np\n",
    "import matplotlib.pyplot as plt\n",
    "\n",
    "\n",
    "import time"
   ]
  },
  {
   "cell_type": "markdown",
   "metadata": {},
   "source": [
    "### Dataset Loading and Transformation"
   ]
  },
  {
   "cell_type": "code",
   "execution_count": 2,
   "metadata": {},
   "outputs": [],
   "source": [
    "\n",
    "\n",
    "# Transforms defined for the train, validation, and test datasets\n",
    "train_transform = transforms.Compose([transforms.Resize((256,256)),\n",
    "                                     transforms.ToTensor()])\n",
    "\n",
    "val_transform = transforms.Compose([transforms.Resize((256,256)),\n",
    "                                   transforms.ToTensor()])\n",
    "\n",
    "test_transform = transforms.Compose([transforms.Resize((256,256)),\n",
    "                                   transforms.ToTensor()])\n"
   ]
  },
  {
   "cell_type": "code",
   "execution_count": 3,
   "metadata": {},
   "outputs": [],
   "source": [
    "dir = '../Label_Data/'\n",
    "train_dir, val_dir, test_dir = dir+'train', dir+'val', dir+'test'\n",
    "batch_size = 32\n",
    "num_workers = 2\n",
    "\n",
    "# Datasets extracted from their respective directories and some transformation applied to them\n",
    "train_set = datasets.ImageFolder(train_dir, transform = train_transform)\n",
    "val_set = datasets.ImageFolder(val_dir, transform = val_transform)\n",
    "test_set = datasets.ImageFolder(test_dir, transform = test_transform)\n",
    "\n",
    "\n",
    "\n",
    "# Datasets loaded onto iterable object in form of batches \n",
    "train_loader = torch.utils.data.DataLoader(train_set, batch_size = batch_size, shuffle=True, num_workers=num_workers)\n",
    "val_loader = torch.utils.data.DataLoader(val_set, batch_size = batch_size, shuffle=True, num_workers=num_workers)\n",
    "test_loader = torch.utils.data.DataLoader(test_set, batch_size = batch_size, shuffle=False, num_workers=num_workers)\n",
    "\n"
   ]
  },
  {
   "cell_type": "markdown",
   "metadata": {},
   "source": [
    "### Loading the pretrained resnet152() model"
   ]
  },
  {
   "cell_type": "code",
   "execution_count": 4,
   "metadata": {},
   "outputs": [
    {
     "data": {
      "text/plain": [
       "ResNet(\n",
       "  (conv1): Conv2d(3, 64, kernel_size=(7, 7), stride=(2, 2), padding=(3, 3), bias=False)\n",
       "  (bn1): BatchNorm2d(64, eps=1e-05, momentum=0.1, affine=True, track_running_stats=True)\n",
       "  (relu): ReLU(inplace=True)\n",
       "  (maxpool): MaxPool2d(kernel_size=3, stride=2, padding=1, dilation=1, ceil_mode=False)\n",
       "  (layer1): Sequential(\n",
       "    (0): Bottleneck(\n",
       "      (conv1): Conv2d(64, 64, kernel_size=(1, 1), stride=(1, 1), bias=False)\n",
       "      (bn1): BatchNorm2d(64, eps=1e-05, momentum=0.1, affine=True, track_running_stats=True)\n",
       "      (conv2): Conv2d(64, 64, kernel_size=(3, 3), stride=(1, 1), padding=(1, 1), bias=False)\n",
       "      (bn2): BatchNorm2d(64, eps=1e-05, momentum=0.1, affine=True, track_running_stats=True)\n",
       "      (conv3): Conv2d(64, 256, kernel_size=(1, 1), stride=(1, 1), bias=False)\n",
       "      (bn3): BatchNorm2d(256, eps=1e-05, momentum=0.1, affine=True, track_running_stats=True)\n",
       "      (relu): ReLU(inplace=True)\n",
       "      (downsample): Sequential(\n",
       "        (0): Conv2d(64, 256, kernel_size=(1, 1), stride=(1, 1), bias=False)\n",
       "        (1): BatchNorm2d(256, eps=1e-05, momentum=0.1, affine=True, track_running_stats=True)\n",
       "      )\n",
       "    )\n",
       "    (1): Bottleneck(\n",
       "      (conv1): Conv2d(256, 64, kernel_size=(1, 1), stride=(1, 1), bias=False)\n",
       "      (bn1): BatchNorm2d(64, eps=1e-05, momentum=0.1, affine=True, track_running_stats=True)\n",
       "      (conv2): Conv2d(64, 64, kernel_size=(3, 3), stride=(1, 1), padding=(1, 1), bias=False)\n",
       "      (bn2): BatchNorm2d(64, eps=1e-05, momentum=0.1, affine=True, track_running_stats=True)\n",
       "      (conv3): Conv2d(64, 256, kernel_size=(1, 1), stride=(1, 1), bias=False)\n",
       "      (bn3): BatchNorm2d(256, eps=1e-05, momentum=0.1, affine=True, track_running_stats=True)\n",
       "      (relu): ReLU(inplace=True)\n",
       "    )\n",
       "    (2): Bottleneck(\n",
       "      (conv1): Conv2d(256, 64, kernel_size=(1, 1), stride=(1, 1), bias=False)\n",
       "      (bn1): BatchNorm2d(64, eps=1e-05, momentum=0.1, affine=True, track_running_stats=True)\n",
       "      (conv2): Conv2d(64, 64, kernel_size=(3, 3), stride=(1, 1), padding=(1, 1), bias=False)\n",
       "      (bn2): BatchNorm2d(64, eps=1e-05, momentum=0.1, affine=True, track_running_stats=True)\n",
       "      (conv3): Conv2d(64, 256, kernel_size=(1, 1), stride=(1, 1), bias=False)\n",
       "      (bn3): BatchNorm2d(256, eps=1e-05, momentum=0.1, affine=True, track_running_stats=True)\n",
       "      (relu): ReLU(inplace=True)\n",
       "    )\n",
       "  )\n",
       "  (layer2): Sequential(\n",
       "    (0): Bottleneck(\n",
       "      (conv1): Conv2d(256, 128, kernel_size=(1, 1), stride=(1, 1), bias=False)\n",
       "      (bn1): BatchNorm2d(128, eps=1e-05, momentum=0.1, affine=True, track_running_stats=True)\n",
       "      (conv2): Conv2d(128, 128, kernel_size=(3, 3), stride=(2, 2), padding=(1, 1), bias=False)\n",
       "      (bn2): BatchNorm2d(128, eps=1e-05, momentum=0.1, affine=True, track_running_stats=True)\n",
       "      (conv3): Conv2d(128, 512, kernel_size=(1, 1), stride=(1, 1), bias=False)\n",
       "      (bn3): BatchNorm2d(512, eps=1e-05, momentum=0.1, affine=True, track_running_stats=True)\n",
       "      (relu): ReLU(inplace=True)\n",
       "      (downsample): Sequential(\n",
       "        (0): Conv2d(256, 512, kernel_size=(1, 1), stride=(2, 2), bias=False)\n",
       "        (1): BatchNorm2d(512, eps=1e-05, momentum=0.1, affine=True, track_running_stats=True)\n",
       "      )\n",
       "    )\n",
       "    (1): Bottleneck(\n",
       "      (conv1): Conv2d(512, 128, kernel_size=(1, 1), stride=(1, 1), bias=False)\n",
       "      (bn1): BatchNorm2d(128, eps=1e-05, momentum=0.1, affine=True, track_running_stats=True)\n",
       "      (conv2): Conv2d(128, 128, kernel_size=(3, 3), stride=(1, 1), padding=(1, 1), bias=False)\n",
       "      (bn2): BatchNorm2d(128, eps=1e-05, momentum=0.1, affine=True, track_running_stats=True)\n",
       "      (conv3): Conv2d(128, 512, kernel_size=(1, 1), stride=(1, 1), bias=False)\n",
       "      (bn3): BatchNorm2d(512, eps=1e-05, momentum=0.1, affine=True, track_running_stats=True)\n",
       "      (relu): ReLU(inplace=True)\n",
       "    )\n",
       "    (2): Bottleneck(\n",
       "      (conv1): Conv2d(512, 128, kernel_size=(1, 1), stride=(1, 1), bias=False)\n",
       "      (bn1): BatchNorm2d(128, eps=1e-05, momentum=0.1, affine=True, track_running_stats=True)\n",
       "      (conv2): Conv2d(128, 128, kernel_size=(3, 3), stride=(1, 1), padding=(1, 1), bias=False)\n",
       "      (bn2): BatchNorm2d(128, eps=1e-05, momentum=0.1, affine=True, track_running_stats=True)\n",
       "      (conv3): Conv2d(128, 512, kernel_size=(1, 1), stride=(1, 1), bias=False)\n",
       "      (bn3): BatchNorm2d(512, eps=1e-05, momentum=0.1, affine=True, track_running_stats=True)\n",
       "      (relu): ReLU(inplace=True)\n",
       "    )\n",
       "    (3): Bottleneck(\n",
       "      (conv1): Conv2d(512, 128, kernel_size=(1, 1), stride=(1, 1), bias=False)\n",
       "      (bn1): BatchNorm2d(128, eps=1e-05, momentum=0.1, affine=True, track_running_stats=True)\n",
       "      (conv2): Conv2d(128, 128, kernel_size=(3, 3), stride=(1, 1), padding=(1, 1), bias=False)\n",
       "      (bn2): BatchNorm2d(128, eps=1e-05, momentum=0.1, affine=True, track_running_stats=True)\n",
       "      (conv3): Conv2d(128, 512, kernel_size=(1, 1), stride=(1, 1), bias=False)\n",
       "      (bn3): BatchNorm2d(512, eps=1e-05, momentum=0.1, affine=True, track_running_stats=True)\n",
       "      (relu): ReLU(inplace=True)\n",
       "    )\n",
       "    (4): Bottleneck(\n",
       "      (conv1): Conv2d(512, 128, kernel_size=(1, 1), stride=(1, 1), bias=False)\n",
       "      (bn1): BatchNorm2d(128, eps=1e-05, momentum=0.1, affine=True, track_running_stats=True)\n",
       "      (conv2): Conv2d(128, 128, kernel_size=(3, 3), stride=(1, 1), padding=(1, 1), bias=False)\n",
       "      (bn2): BatchNorm2d(128, eps=1e-05, momentum=0.1, affine=True, track_running_stats=True)\n",
       "      (conv3): Conv2d(128, 512, kernel_size=(1, 1), stride=(1, 1), bias=False)\n",
       "      (bn3): BatchNorm2d(512, eps=1e-05, momentum=0.1, affine=True, track_running_stats=True)\n",
       "      (relu): ReLU(inplace=True)\n",
       "    )\n",
       "    (5): Bottleneck(\n",
       "      (conv1): Conv2d(512, 128, kernel_size=(1, 1), stride=(1, 1), bias=False)\n",
       "      (bn1): BatchNorm2d(128, eps=1e-05, momentum=0.1, affine=True, track_running_stats=True)\n",
       "      (conv2): Conv2d(128, 128, kernel_size=(3, 3), stride=(1, 1), padding=(1, 1), bias=False)\n",
       "      (bn2): BatchNorm2d(128, eps=1e-05, momentum=0.1, affine=True, track_running_stats=True)\n",
       "      (conv3): Conv2d(128, 512, kernel_size=(1, 1), stride=(1, 1), bias=False)\n",
       "      (bn3): BatchNorm2d(512, eps=1e-05, momentum=0.1, affine=True, track_running_stats=True)\n",
       "      (relu): ReLU(inplace=True)\n",
       "    )\n",
       "    (6): Bottleneck(\n",
       "      (conv1): Conv2d(512, 128, kernel_size=(1, 1), stride=(1, 1), bias=False)\n",
       "      (bn1): BatchNorm2d(128, eps=1e-05, momentum=0.1, affine=True, track_running_stats=True)\n",
       "      (conv2): Conv2d(128, 128, kernel_size=(3, 3), stride=(1, 1), padding=(1, 1), bias=False)\n",
       "      (bn2): BatchNorm2d(128, eps=1e-05, momentum=0.1, affine=True, track_running_stats=True)\n",
       "      (conv3): Conv2d(128, 512, kernel_size=(1, 1), stride=(1, 1), bias=False)\n",
       "      (bn3): BatchNorm2d(512, eps=1e-05, momentum=0.1, affine=True, track_running_stats=True)\n",
       "      (relu): ReLU(inplace=True)\n",
       "    )\n",
       "    (7): Bottleneck(\n",
       "      (conv1): Conv2d(512, 128, kernel_size=(1, 1), stride=(1, 1), bias=False)\n",
       "      (bn1): BatchNorm2d(128, eps=1e-05, momentum=0.1, affine=True, track_running_stats=True)\n",
       "      (conv2): Conv2d(128, 128, kernel_size=(3, 3), stride=(1, 1), padding=(1, 1), bias=False)\n",
       "      (bn2): BatchNorm2d(128, eps=1e-05, momentum=0.1, affine=True, track_running_stats=True)\n",
       "      (conv3): Conv2d(128, 512, kernel_size=(1, 1), stride=(1, 1), bias=False)\n",
       "      (bn3): BatchNorm2d(512, eps=1e-05, momentum=0.1, affine=True, track_running_stats=True)\n",
       "      (relu): ReLU(inplace=True)\n",
       "    )\n",
       "  )\n",
       "  (layer3): Sequential(\n",
       "    (0): Bottleneck(\n",
       "      (conv1): Conv2d(512, 256, kernel_size=(1, 1), stride=(1, 1), bias=False)\n",
       "      (bn1): BatchNorm2d(256, eps=1e-05, momentum=0.1, affine=True, track_running_stats=True)\n",
       "      (conv2): Conv2d(256, 256, kernel_size=(3, 3), stride=(2, 2), padding=(1, 1), bias=False)\n",
       "      (bn2): BatchNorm2d(256, eps=1e-05, momentum=0.1, affine=True, track_running_stats=True)\n",
       "      (conv3): Conv2d(256, 1024, kernel_size=(1, 1), stride=(1, 1), bias=False)\n",
       "      (bn3): BatchNorm2d(1024, eps=1e-05, momentum=0.1, affine=True, track_running_stats=True)\n",
       "      (relu): ReLU(inplace=True)\n",
       "      (downsample): Sequential(\n",
       "        (0): Conv2d(512, 1024, kernel_size=(1, 1), stride=(2, 2), bias=False)\n",
       "        (1): BatchNorm2d(1024, eps=1e-05, momentum=0.1, affine=True, track_running_stats=True)\n",
       "      )\n",
       "    )\n",
       "    (1): Bottleneck(\n",
       "      (conv1): Conv2d(1024, 256, kernel_size=(1, 1), stride=(1, 1), bias=False)\n",
       "      (bn1): BatchNorm2d(256, eps=1e-05, momentum=0.1, affine=True, track_running_stats=True)\n",
       "      (conv2): Conv2d(256, 256, kernel_size=(3, 3), stride=(1, 1), padding=(1, 1), bias=False)\n",
       "      (bn2): BatchNorm2d(256, eps=1e-05, momentum=0.1, affine=True, track_running_stats=True)\n",
       "      (conv3): Conv2d(256, 1024, kernel_size=(1, 1), stride=(1, 1), bias=False)\n",
       "      (bn3): BatchNorm2d(1024, eps=1e-05, momentum=0.1, affine=True, track_running_stats=True)\n",
       "      (relu): ReLU(inplace=True)\n",
       "    )\n",
       "    (2): Bottleneck(\n",
       "      (conv1): Conv2d(1024, 256, kernel_size=(1, 1), stride=(1, 1), bias=False)\n",
       "      (bn1): BatchNorm2d(256, eps=1e-05, momentum=0.1, affine=True, track_running_stats=True)\n",
       "      (conv2): Conv2d(256, 256, kernel_size=(3, 3), stride=(1, 1), padding=(1, 1), bias=False)\n",
       "      (bn2): BatchNorm2d(256, eps=1e-05, momentum=0.1, affine=True, track_running_stats=True)\n",
       "      (conv3): Conv2d(256, 1024, kernel_size=(1, 1), stride=(1, 1), bias=False)\n",
       "      (bn3): BatchNorm2d(1024, eps=1e-05, momentum=0.1, affine=True, track_running_stats=True)\n",
       "      (relu): ReLU(inplace=True)\n",
       "    )\n",
       "    (3): Bottleneck(\n",
       "      (conv1): Conv2d(1024, 256, kernel_size=(1, 1), stride=(1, 1), bias=False)\n",
       "      (bn1): BatchNorm2d(256, eps=1e-05, momentum=0.1, affine=True, track_running_stats=True)\n",
       "      (conv2): Conv2d(256, 256, kernel_size=(3, 3), stride=(1, 1), padding=(1, 1), bias=False)\n",
       "      (bn2): BatchNorm2d(256, eps=1e-05, momentum=0.1, affine=True, track_running_stats=True)\n",
       "      (conv3): Conv2d(256, 1024, kernel_size=(1, 1), stride=(1, 1), bias=False)\n",
       "      (bn3): BatchNorm2d(1024, eps=1e-05, momentum=0.1, affine=True, track_running_stats=True)\n",
       "      (relu): ReLU(inplace=True)\n",
       "    )\n",
       "    (4): Bottleneck(\n",
       "      (conv1): Conv2d(1024, 256, kernel_size=(1, 1), stride=(1, 1), bias=False)\n",
       "      (bn1): BatchNorm2d(256, eps=1e-05, momentum=0.1, affine=True, track_running_stats=True)\n",
       "      (conv2): Conv2d(256, 256, kernel_size=(3, 3), stride=(1, 1), padding=(1, 1), bias=False)\n",
       "      (bn2): BatchNorm2d(256, eps=1e-05, momentum=0.1, affine=True, track_running_stats=True)\n",
       "      (conv3): Conv2d(256, 1024, kernel_size=(1, 1), stride=(1, 1), bias=False)\n",
       "      (bn3): BatchNorm2d(1024, eps=1e-05, momentum=0.1, affine=True, track_running_stats=True)\n",
       "      (relu): ReLU(inplace=True)\n",
       "    )\n",
       "    (5): Bottleneck(\n",
       "      (conv1): Conv2d(1024, 256, kernel_size=(1, 1), stride=(1, 1), bias=False)\n",
       "      (bn1): BatchNorm2d(256, eps=1e-05, momentum=0.1, affine=True, track_running_stats=True)\n",
       "      (conv2): Conv2d(256, 256, kernel_size=(3, 3), stride=(1, 1), padding=(1, 1), bias=False)\n",
       "      (bn2): BatchNorm2d(256, eps=1e-05, momentum=0.1, affine=True, track_running_stats=True)\n",
       "      (conv3): Conv2d(256, 1024, kernel_size=(1, 1), stride=(1, 1), bias=False)\n",
       "      (bn3): BatchNorm2d(1024, eps=1e-05, momentum=0.1, affine=True, track_running_stats=True)\n",
       "      (relu): ReLU(inplace=True)\n",
       "    )\n",
       "    (6): Bottleneck(\n",
       "      (conv1): Conv2d(1024, 256, kernel_size=(1, 1), stride=(1, 1), bias=False)\n",
       "      (bn1): BatchNorm2d(256, eps=1e-05, momentum=0.1, affine=True, track_running_stats=True)\n",
       "      (conv2): Conv2d(256, 256, kernel_size=(3, 3), stride=(1, 1), padding=(1, 1), bias=False)\n",
       "      (bn2): BatchNorm2d(256, eps=1e-05, momentum=0.1, affine=True, track_running_stats=True)\n",
       "      (conv3): Conv2d(256, 1024, kernel_size=(1, 1), stride=(1, 1), bias=False)\n",
       "      (bn3): BatchNorm2d(1024, eps=1e-05, momentum=0.1, affine=True, track_running_stats=True)\n",
       "      (relu): ReLU(inplace=True)\n",
       "    )\n",
       "    (7): Bottleneck(\n",
       "      (conv1): Conv2d(1024, 256, kernel_size=(1, 1), stride=(1, 1), bias=False)\n",
       "      (bn1): BatchNorm2d(256, eps=1e-05, momentum=0.1, affine=True, track_running_stats=True)\n",
       "      (conv2): Conv2d(256, 256, kernel_size=(3, 3), stride=(1, 1), padding=(1, 1), bias=False)\n",
       "      (bn2): BatchNorm2d(256, eps=1e-05, momentum=0.1, affine=True, track_running_stats=True)\n",
       "      (conv3): Conv2d(256, 1024, kernel_size=(1, 1), stride=(1, 1), bias=False)\n",
       "      (bn3): BatchNorm2d(1024, eps=1e-05, momentum=0.1, affine=True, track_running_stats=True)\n",
       "      (relu): ReLU(inplace=True)\n",
       "    )\n",
       "    (8): Bottleneck(\n",
       "      (conv1): Conv2d(1024, 256, kernel_size=(1, 1), stride=(1, 1), bias=False)\n",
       "      (bn1): BatchNorm2d(256, eps=1e-05, momentum=0.1, affine=True, track_running_stats=True)\n",
       "      (conv2): Conv2d(256, 256, kernel_size=(3, 3), stride=(1, 1), padding=(1, 1), bias=False)\n",
       "      (bn2): BatchNorm2d(256, eps=1e-05, momentum=0.1, affine=True, track_running_stats=True)\n",
       "      (conv3): Conv2d(256, 1024, kernel_size=(1, 1), stride=(1, 1), bias=False)\n",
       "      (bn3): BatchNorm2d(1024, eps=1e-05, momentum=0.1, affine=True, track_running_stats=True)\n",
       "      (relu): ReLU(inplace=True)\n",
       "    )\n",
       "    (9): Bottleneck(\n",
       "      (conv1): Conv2d(1024, 256, kernel_size=(1, 1), stride=(1, 1), bias=False)\n",
       "      (bn1): BatchNorm2d(256, eps=1e-05, momentum=0.1, affine=True, track_running_stats=True)\n",
       "      (conv2): Conv2d(256, 256, kernel_size=(3, 3), stride=(1, 1), padding=(1, 1), bias=False)\n",
       "      (bn2): BatchNorm2d(256, eps=1e-05, momentum=0.1, affine=True, track_running_stats=True)\n",
       "      (conv3): Conv2d(256, 1024, kernel_size=(1, 1), stride=(1, 1), bias=False)\n",
       "      (bn3): BatchNorm2d(1024, eps=1e-05, momentum=0.1, affine=True, track_running_stats=True)\n",
       "      (relu): ReLU(inplace=True)\n",
       "    )\n",
       "    (10): Bottleneck(\n",
       "      (conv1): Conv2d(1024, 256, kernel_size=(1, 1), stride=(1, 1), bias=False)\n",
       "      (bn1): BatchNorm2d(256, eps=1e-05, momentum=0.1, affine=True, track_running_stats=True)\n",
       "      (conv2): Conv2d(256, 256, kernel_size=(3, 3), stride=(1, 1), padding=(1, 1), bias=False)\n",
       "      (bn2): BatchNorm2d(256, eps=1e-05, momentum=0.1, affine=True, track_running_stats=True)\n",
       "      (conv3): Conv2d(256, 1024, kernel_size=(1, 1), stride=(1, 1), bias=False)\n",
       "      (bn3): BatchNorm2d(1024, eps=1e-05, momentum=0.1, affine=True, track_running_stats=True)\n",
       "      (relu): ReLU(inplace=True)\n",
       "    )\n",
       "    (11): Bottleneck(\n",
       "      (conv1): Conv2d(1024, 256, kernel_size=(1, 1), stride=(1, 1), bias=False)\n",
       "      (bn1): BatchNorm2d(256, eps=1e-05, momentum=0.1, affine=True, track_running_stats=True)\n",
       "      (conv2): Conv2d(256, 256, kernel_size=(3, 3), stride=(1, 1), padding=(1, 1), bias=False)\n",
       "      (bn2): BatchNorm2d(256, eps=1e-05, momentum=0.1, affine=True, track_running_stats=True)\n",
       "      (conv3): Conv2d(256, 1024, kernel_size=(1, 1), stride=(1, 1), bias=False)\n",
       "      (bn3): BatchNorm2d(1024, eps=1e-05, momentum=0.1, affine=True, track_running_stats=True)\n",
       "      (relu): ReLU(inplace=True)\n",
       "    )\n",
       "    (12): Bottleneck(\n",
       "      (conv1): Conv2d(1024, 256, kernel_size=(1, 1), stride=(1, 1), bias=False)\n",
       "      (bn1): BatchNorm2d(256, eps=1e-05, momentum=0.1, affine=True, track_running_stats=True)\n",
       "      (conv2): Conv2d(256, 256, kernel_size=(3, 3), stride=(1, 1), padding=(1, 1), bias=False)\n",
       "      (bn2): BatchNorm2d(256, eps=1e-05, momentum=0.1, affine=True, track_running_stats=True)\n",
       "      (conv3): Conv2d(256, 1024, kernel_size=(1, 1), stride=(1, 1), bias=False)\n",
       "      (bn3): BatchNorm2d(1024, eps=1e-05, momentum=0.1, affine=True, track_running_stats=True)\n",
       "      (relu): ReLU(inplace=True)\n",
       "    )\n",
       "    (13): Bottleneck(\n",
       "      (conv1): Conv2d(1024, 256, kernel_size=(1, 1), stride=(1, 1), bias=False)\n",
       "      (bn1): BatchNorm2d(256, eps=1e-05, momentum=0.1, affine=True, track_running_stats=True)\n",
       "      (conv2): Conv2d(256, 256, kernel_size=(3, 3), stride=(1, 1), padding=(1, 1), bias=False)\n",
       "      (bn2): BatchNorm2d(256, eps=1e-05, momentum=0.1, affine=True, track_running_stats=True)\n",
       "      (conv3): Conv2d(256, 1024, kernel_size=(1, 1), stride=(1, 1), bias=False)\n",
       "      (bn3): BatchNorm2d(1024, eps=1e-05, momentum=0.1, affine=True, track_running_stats=True)\n",
       "      (relu): ReLU(inplace=True)\n",
       "    )\n",
       "    (14): Bottleneck(\n",
       "      (conv1): Conv2d(1024, 256, kernel_size=(1, 1), stride=(1, 1), bias=False)\n",
       "      (bn1): BatchNorm2d(256, eps=1e-05, momentum=0.1, affine=True, track_running_stats=True)\n",
       "      (conv2): Conv2d(256, 256, kernel_size=(3, 3), stride=(1, 1), padding=(1, 1), bias=False)\n",
       "      (bn2): BatchNorm2d(256, eps=1e-05, momentum=0.1, affine=True, track_running_stats=True)\n",
       "      (conv3): Conv2d(256, 1024, kernel_size=(1, 1), stride=(1, 1), bias=False)\n",
       "      (bn3): BatchNorm2d(1024, eps=1e-05, momentum=0.1, affine=True, track_running_stats=True)\n",
       "      (relu): ReLU(inplace=True)\n",
       "    )\n",
       "    (15): Bottleneck(\n",
       "      (conv1): Conv2d(1024, 256, kernel_size=(1, 1), stride=(1, 1), bias=False)\n",
       "      (bn1): BatchNorm2d(256, eps=1e-05, momentum=0.1, affine=True, track_running_stats=True)\n",
       "      (conv2): Conv2d(256, 256, kernel_size=(3, 3), stride=(1, 1), padding=(1, 1), bias=False)\n",
       "      (bn2): BatchNorm2d(256, eps=1e-05, momentum=0.1, affine=True, track_running_stats=True)\n",
       "      (conv3): Conv2d(256, 1024, kernel_size=(1, 1), stride=(1, 1), bias=False)\n",
       "      (bn3): BatchNorm2d(1024, eps=1e-05, momentum=0.1, affine=True, track_running_stats=True)\n",
       "      (relu): ReLU(inplace=True)\n",
       "    )\n",
       "    (16): Bottleneck(\n",
       "      (conv1): Conv2d(1024, 256, kernel_size=(1, 1), stride=(1, 1), bias=False)\n",
       "      (bn1): BatchNorm2d(256, eps=1e-05, momentum=0.1, affine=True, track_running_stats=True)\n",
       "      (conv2): Conv2d(256, 256, kernel_size=(3, 3), stride=(1, 1), padding=(1, 1), bias=False)\n",
       "      (bn2): BatchNorm2d(256, eps=1e-05, momentum=0.1, affine=True, track_running_stats=True)\n",
       "      (conv3): Conv2d(256, 1024, kernel_size=(1, 1), stride=(1, 1), bias=False)\n",
       "      (bn3): BatchNorm2d(1024, eps=1e-05, momentum=0.1, affine=True, track_running_stats=True)\n",
       "      (relu): ReLU(inplace=True)\n",
       "    )\n",
       "    (17): Bottleneck(\n",
       "      (conv1): Conv2d(1024, 256, kernel_size=(1, 1), stride=(1, 1), bias=False)\n",
       "      (bn1): BatchNorm2d(256, eps=1e-05, momentum=0.1, affine=True, track_running_stats=True)\n",
       "      (conv2): Conv2d(256, 256, kernel_size=(3, 3), stride=(1, 1), padding=(1, 1), bias=False)\n",
       "      (bn2): BatchNorm2d(256, eps=1e-05, momentum=0.1, affine=True, track_running_stats=True)\n",
       "      (conv3): Conv2d(256, 1024, kernel_size=(1, 1), stride=(1, 1), bias=False)\n",
       "      (bn3): BatchNorm2d(1024, eps=1e-05, momentum=0.1, affine=True, track_running_stats=True)\n",
       "      (relu): ReLU(inplace=True)\n",
       "    )\n",
       "    (18): Bottleneck(\n",
       "      (conv1): Conv2d(1024, 256, kernel_size=(1, 1), stride=(1, 1), bias=False)\n",
       "      (bn1): BatchNorm2d(256, eps=1e-05, momentum=0.1, affine=True, track_running_stats=True)\n",
       "      (conv2): Conv2d(256, 256, kernel_size=(3, 3), stride=(1, 1), padding=(1, 1), bias=False)\n",
       "      (bn2): BatchNorm2d(256, eps=1e-05, momentum=0.1, affine=True, track_running_stats=True)\n",
       "      (conv3): Conv2d(256, 1024, kernel_size=(1, 1), stride=(1, 1), bias=False)\n",
       "      (bn3): BatchNorm2d(1024, eps=1e-05, momentum=0.1, affine=True, track_running_stats=True)\n",
       "      (relu): ReLU(inplace=True)\n",
       "    )\n",
       "    (19): Bottleneck(\n",
       "      (conv1): Conv2d(1024, 256, kernel_size=(1, 1), stride=(1, 1), bias=False)\n",
       "      (bn1): BatchNorm2d(256, eps=1e-05, momentum=0.1, affine=True, track_running_stats=True)\n",
       "      (conv2): Conv2d(256, 256, kernel_size=(3, 3), stride=(1, 1), padding=(1, 1), bias=False)\n",
       "      (bn2): BatchNorm2d(256, eps=1e-05, momentum=0.1, affine=True, track_running_stats=True)\n",
       "      (conv3): Conv2d(256, 1024, kernel_size=(1, 1), stride=(1, 1), bias=False)\n",
       "      (bn3): BatchNorm2d(1024, eps=1e-05, momentum=0.1, affine=True, track_running_stats=True)\n",
       "      (relu): ReLU(inplace=True)\n",
       "    )\n",
       "    (20): Bottleneck(\n",
       "      (conv1): Conv2d(1024, 256, kernel_size=(1, 1), stride=(1, 1), bias=False)\n",
       "      (bn1): BatchNorm2d(256, eps=1e-05, momentum=0.1, affine=True, track_running_stats=True)\n",
       "      (conv2): Conv2d(256, 256, kernel_size=(3, 3), stride=(1, 1), padding=(1, 1), bias=False)\n",
       "      (bn2): BatchNorm2d(256, eps=1e-05, momentum=0.1, affine=True, track_running_stats=True)\n",
       "      (conv3): Conv2d(256, 1024, kernel_size=(1, 1), stride=(1, 1), bias=False)\n",
       "      (bn3): BatchNorm2d(1024, eps=1e-05, momentum=0.1, affine=True, track_running_stats=True)\n",
       "      (relu): ReLU(inplace=True)\n",
       "    )\n",
       "    (21): Bottleneck(\n",
       "      (conv1): Conv2d(1024, 256, kernel_size=(1, 1), stride=(1, 1), bias=False)\n",
       "      (bn1): BatchNorm2d(256, eps=1e-05, momentum=0.1, affine=True, track_running_stats=True)\n",
       "      (conv2): Conv2d(256, 256, kernel_size=(3, 3), stride=(1, 1), padding=(1, 1), bias=False)\n",
       "      (bn2): BatchNorm2d(256, eps=1e-05, momentum=0.1, affine=True, track_running_stats=True)\n",
       "      (conv3): Conv2d(256, 1024, kernel_size=(1, 1), stride=(1, 1), bias=False)\n",
       "      (bn3): BatchNorm2d(1024, eps=1e-05, momentum=0.1, affine=True, track_running_stats=True)\n",
       "      (relu): ReLU(inplace=True)\n",
       "    )\n",
       "    (22): Bottleneck(\n",
       "      (conv1): Conv2d(1024, 256, kernel_size=(1, 1), stride=(1, 1), bias=False)\n",
       "      (bn1): BatchNorm2d(256, eps=1e-05, momentum=0.1, affine=True, track_running_stats=True)\n",
       "      (conv2): Conv2d(256, 256, kernel_size=(3, 3), stride=(1, 1), padding=(1, 1), bias=False)\n",
       "      (bn2): BatchNorm2d(256, eps=1e-05, momentum=0.1, affine=True, track_running_stats=True)\n",
       "      (conv3): Conv2d(256, 1024, kernel_size=(1, 1), stride=(1, 1), bias=False)\n",
       "      (bn3): BatchNorm2d(1024, eps=1e-05, momentum=0.1, affine=True, track_running_stats=True)\n",
       "      (relu): ReLU(inplace=True)\n",
       "    )\n",
       "    (23): Bottleneck(\n",
       "      (conv1): Conv2d(1024, 256, kernel_size=(1, 1), stride=(1, 1), bias=False)\n",
       "      (bn1): BatchNorm2d(256, eps=1e-05, momentum=0.1, affine=True, track_running_stats=True)\n",
       "      (conv2): Conv2d(256, 256, kernel_size=(3, 3), stride=(1, 1), padding=(1, 1), bias=False)\n",
       "      (bn2): BatchNorm2d(256, eps=1e-05, momentum=0.1, affine=True, track_running_stats=True)\n",
       "      (conv3): Conv2d(256, 1024, kernel_size=(1, 1), stride=(1, 1), bias=False)\n",
       "      (bn3): BatchNorm2d(1024, eps=1e-05, momentum=0.1, affine=True, track_running_stats=True)\n",
       "      (relu): ReLU(inplace=True)\n",
       "    )\n",
       "    (24): Bottleneck(\n",
       "      (conv1): Conv2d(1024, 256, kernel_size=(1, 1), stride=(1, 1), bias=False)\n",
       "      (bn1): BatchNorm2d(256, eps=1e-05, momentum=0.1, affine=True, track_running_stats=True)\n",
       "      (conv2): Conv2d(256, 256, kernel_size=(3, 3), stride=(1, 1), padding=(1, 1), bias=False)\n",
       "      (bn2): BatchNorm2d(256, eps=1e-05, momentum=0.1, affine=True, track_running_stats=True)\n",
       "      (conv3): Conv2d(256, 1024, kernel_size=(1, 1), stride=(1, 1), bias=False)\n",
       "      (bn3): BatchNorm2d(1024, eps=1e-05, momentum=0.1, affine=True, track_running_stats=True)\n",
       "      (relu): ReLU(inplace=True)\n",
       "    )\n",
       "    (25): Bottleneck(\n",
       "      (conv1): Conv2d(1024, 256, kernel_size=(1, 1), stride=(1, 1), bias=False)\n",
       "      (bn1): BatchNorm2d(256, eps=1e-05, momentum=0.1, affine=True, track_running_stats=True)\n",
       "      (conv2): Conv2d(256, 256, kernel_size=(3, 3), stride=(1, 1), padding=(1, 1), bias=False)\n",
       "      (bn2): BatchNorm2d(256, eps=1e-05, momentum=0.1, affine=True, track_running_stats=True)\n",
       "      (conv3): Conv2d(256, 1024, kernel_size=(1, 1), stride=(1, 1), bias=False)\n",
       "      (bn3): BatchNorm2d(1024, eps=1e-05, momentum=0.1, affine=True, track_running_stats=True)\n",
       "      (relu): ReLU(inplace=True)\n",
       "    )\n",
       "    (26): Bottleneck(\n",
       "      (conv1): Conv2d(1024, 256, kernel_size=(1, 1), stride=(1, 1), bias=False)\n",
       "      (bn1): BatchNorm2d(256, eps=1e-05, momentum=0.1, affine=True, track_running_stats=True)\n",
       "      (conv2): Conv2d(256, 256, kernel_size=(3, 3), stride=(1, 1), padding=(1, 1), bias=False)\n",
       "      (bn2): BatchNorm2d(256, eps=1e-05, momentum=0.1, affine=True, track_running_stats=True)\n",
       "      (conv3): Conv2d(256, 1024, kernel_size=(1, 1), stride=(1, 1), bias=False)\n",
       "      (bn3): BatchNorm2d(1024, eps=1e-05, momentum=0.1, affine=True, track_running_stats=True)\n",
       "      (relu): ReLU(inplace=True)\n",
       "    )\n",
       "    (27): Bottleneck(\n",
       "      (conv1): Conv2d(1024, 256, kernel_size=(1, 1), stride=(1, 1), bias=False)\n",
       "      (bn1): BatchNorm2d(256, eps=1e-05, momentum=0.1, affine=True, track_running_stats=True)\n",
       "      (conv2): Conv2d(256, 256, kernel_size=(3, 3), stride=(1, 1), padding=(1, 1), bias=False)\n",
       "      (bn2): BatchNorm2d(256, eps=1e-05, momentum=0.1, affine=True, track_running_stats=True)\n",
       "      (conv3): Conv2d(256, 1024, kernel_size=(1, 1), stride=(1, 1), bias=False)\n",
       "      (bn3): BatchNorm2d(1024, eps=1e-05, momentum=0.1, affine=True, track_running_stats=True)\n",
       "      (relu): ReLU(inplace=True)\n",
       "    )\n",
       "    (28): Bottleneck(\n",
       "      (conv1): Conv2d(1024, 256, kernel_size=(1, 1), stride=(1, 1), bias=False)\n",
       "      (bn1): BatchNorm2d(256, eps=1e-05, momentum=0.1, affine=True, track_running_stats=True)\n",
       "      (conv2): Conv2d(256, 256, kernel_size=(3, 3), stride=(1, 1), padding=(1, 1), bias=False)\n",
       "      (bn2): BatchNorm2d(256, eps=1e-05, momentum=0.1, affine=True, track_running_stats=True)\n",
       "      (conv3): Conv2d(256, 1024, kernel_size=(1, 1), stride=(1, 1), bias=False)\n",
       "      (bn3): BatchNorm2d(1024, eps=1e-05, momentum=0.1, affine=True, track_running_stats=True)\n",
       "      (relu): ReLU(inplace=True)\n",
       "    )\n",
       "    (29): Bottleneck(\n",
       "      (conv1): Conv2d(1024, 256, kernel_size=(1, 1), stride=(1, 1), bias=False)\n",
       "      (bn1): BatchNorm2d(256, eps=1e-05, momentum=0.1, affine=True, track_running_stats=True)\n",
       "      (conv2): Conv2d(256, 256, kernel_size=(3, 3), stride=(1, 1), padding=(1, 1), bias=False)\n",
       "      (bn2): BatchNorm2d(256, eps=1e-05, momentum=0.1, affine=True, track_running_stats=True)\n",
       "      (conv3): Conv2d(256, 1024, kernel_size=(1, 1), stride=(1, 1), bias=False)\n",
       "      (bn3): BatchNorm2d(1024, eps=1e-05, momentum=0.1, affine=True, track_running_stats=True)\n",
       "      (relu): ReLU(inplace=True)\n",
       "    )\n",
       "    (30): Bottleneck(\n",
       "      (conv1): Conv2d(1024, 256, kernel_size=(1, 1), stride=(1, 1), bias=False)\n",
       "      (bn1): BatchNorm2d(256, eps=1e-05, momentum=0.1, affine=True, track_running_stats=True)\n",
       "      (conv2): Conv2d(256, 256, kernel_size=(3, 3), stride=(1, 1), padding=(1, 1), bias=False)\n",
       "      (bn2): BatchNorm2d(256, eps=1e-05, momentum=0.1, affine=True, track_running_stats=True)\n",
       "      (conv3): Conv2d(256, 1024, kernel_size=(1, 1), stride=(1, 1), bias=False)\n",
       "      (bn3): BatchNorm2d(1024, eps=1e-05, momentum=0.1, affine=True, track_running_stats=True)\n",
       "      (relu): ReLU(inplace=True)\n",
       "    )\n",
       "    (31): Bottleneck(\n",
       "      (conv1): Conv2d(1024, 256, kernel_size=(1, 1), stride=(1, 1), bias=False)\n",
       "      (bn1): BatchNorm2d(256, eps=1e-05, momentum=0.1, affine=True, track_running_stats=True)\n",
       "      (conv2): Conv2d(256, 256, kernel_size=(3, 3), stride=(1, 1), padding=(1, 1), bias=False)\n",
       "      (bn2): BatchNorm2d(256, eps=1e-05, momentum=0.1, affine=True, track_running_stats=True)\n",
       "      (conv3): Conv2d(256, 1024, kernel_size=(1, 1), stride=(1, 1), bias=False)\n",
       "      (bn3): BatchNorm2d(1024, eps=1e-05, momentum=0.1, affine=True, track_running_stats=True)\n",
       "      (relu): ReLU(inplace=True)\n",
       "    )\n",
       "    (32): Bottleneck(\n",
       "      (conv1): Conv2d(1024, 256, kernel_size=(1, 1), stride=(1, 1), bias=False)\n",
       "      (bn1): BatchNorm2d(256, eps=1e-05, momentum=0.1, affine=True, track_running_stats=True)\n",
       "      (conv2): Conv2d(256, 256, kernel_size=(3, 3), stride=(1, 1), padding=(1, 1), bias=False)\n",
       "      (bn2): BatchNorm2d(256, eps=1e-05, momentum=0.1, affine=True, track_running_stats=True)\n",
       "      (conv3): Conv2d(256, 1024, kernel_size=(1, 1), stride=(1, 1), bias=False)\n",
       "      (bn3): BatchNorm2d(1024, eps=1e-05, momentum=0.1, affine=True, track_running_stats=True)\n",
       "      (relu): ReLU(inplace=True)\n",
       "    )\n",
       "    (33): Bottleneck(\n",
       "      (conv1): Conv2d(1024, 256, kernel_size=(1, 1), stride=(1, 1), bias=False)\n",
       "      (bn1): BatchNorm2d(256, eps=1e-05, momentum=0.1, affine=True, track_running_stats=True)\n",
       "      (conv2): Conv2d(256, 256, kernel_size=(3, 3), stride=(1, 1), padding=(1, 1), bias=False)\n",
       "      (bn2): BatchNorm2d(256, eps=1e-05, momentum=0.1, affine=True, track_running_stats=True)\n",
       "      (conv3): Conv2d(256, 1024, kernel_size=(1, 1), stride=(1, 1), bias=False)\n",
       "      (bn3): BatchNorm2d(1024, eps=1e-05, momentum=0.1, affine=True, track_running_stats=True)\n",
       "      (relu): ReLU(inplace=True)\n",
       "    )\n",
       "    (34): Bottleneck(\n",
       "      (conv1): Conv2d(1024, 256, kernel_size=(1, 1), stride=(1, 1), bias=False)\n",
       "      (bn1): BatchNorm2d(256, eps=1e-05, momentum=0.1, affine=True, track_running_stats=True)\n",
       "      (conv2): Conv2d(256, 256, kernel_size=(3, 3), stride=(1, 1), padding=(1, 1), bias=False)\n",
       "      (bn2): BatchNorm2d(256, eps=1e-05, momentum=0.1, affine=True, track_running_stats=True)\n",
       "      (conv3): Conv2d(256, 1024, kernel_size=(1, 1), stride=(1, 1), bias=False)\n",
       "      (bn3): BatchNorm2d(1024, eps=1e-05, momentum=0.1, affine=True, track_running_stats=True)\n",
       "      (relu): ReLU(inplace=True)\n",
       "    )\n",
       "    (35): Bottleneck(\n",
       "      (conv1): Conv2d(1024, 256, kernel_size=(1, 1), stride=(1, 1), bias=False)\n",
       "      (bn1): BatchNorm2d(256, eps=1e-05, momentum=0.1, affine=True, track_running_stats=True)\n",
       "      (conv2): Conv2d(256, 256, kernel_size=(3, 3), stride=(1, 1), padding=(1, 1), bias=False)\n",
       "      (bn2): BatchNorm2d(256, eps=1e-05, momentum=0.1, affine=True, track_running_stats=True)\n",
       "      (conv3): Conv2d(256, 1024, kernel_size=(1, 1), stride=(1, 1), bias=False)\n",
       "      (bn3): BatchNorm2d(1024, eps=1e-05, momentum=0.1, affine=True, track_running_stats=True)\n",
       "      (relu): ReLU(inplace=True)\n",
       "    )\n",
       "  )\n",
       "  (layer4): Sequential(\n",
       "    (0): Bottleneck(\n",
       "      (conv1): Conv2d(1024, 512, kernel_size=(1, 1), stride=(1, 1), bias=False)\n",
       "      (bn1): BatchNorm2d(512, eps=1e-05, momentum=0.1, affine=True, track_running_stats=True)\n",
       "      (conv2): Conv2d(512, 512, kernel_size=(3, 3), stride=(2, 2), padding=(1, 1), bias=False)\n",
       "      (bn2): BatchNorm2d(512, eps=1e-05, momentum=0.1, affine=True, track_running_stats=True)\n",
       "      (conv3): Conv2d(512, 2048, kernel_size=(1, 1), stride=(1, 1), bias=False)\n",
       "      (bn3): BatchNorm2d(2048, eps=1e-05, momentum=0.1, affine=True, track_running_stats=True)\n",
       "      (relu): ReLU(inplace=True)\n",
       "      (downsample): Sequential(\n",
       "        (0): Conv2d(1024, 2048, kernel_size=(1, 1), stride=(2, 2), bias=False)\n",
       "        (1): BatchNorm2d(2048, eps=1e-05, momentum=0.1, affine=True, track_running_stats=True)\n",
       "      )\n",
       "    )\n",
       "    (1): Bottleneck(\n",
       "      (conv1): Conv2d(2048, 512, kernel_size=(1, 1), stride=(1, 1), bias=False)\n",
       "      (bn1): BatchNorm2d(512, eps=1e-05, momentum=0.1, affine=True, track_running_stats=True)\n",
       "      (conv2): Conv2d(512, 512, kernel_size=(3, 3), stride=(1, 1), padding=(1, 1), bias=False)\n",
       "      (bn2): BatchNorm2d(512, eps=1e-05, momentum=0.1, affine=True, track_running_stats=True)\n",
       "      (conv3): Conv2d(512, 2048, kernel_size=(1, 1), stride=(1, 1), bias=False)\n",
       "      (bn3): BatchNorm2d(2048, eps=1e-05, momentum=0.1, affine=True, track_running_stats=True)\n",
       "      (relu): ReLU(inplace=True)\n",
       "    )\n",
       "    (2): Bottleneck(\n",
       "      (conv1): Conv2d(2048, 512, kernel_size=(1, 1), stride=(1, 1), bias=False)\n",
       "      (bn1): BatchNorm2d(512, eps=1e-05, momentum=0.1, affine=True, track_running_stats=True)\n",
       "      (conv2): Conv2d(512, 512, kernel_size=(3, 3), stride=(1, 1), padding=(1, 1), bias=False)\n",
       "      (bn2): BatchNorm2d(512, eps=1e-05, momentum=0.1, affine=True, track_running_stats=True)\n",
       "      (conv3): Conv2d(512, 2048, kernel_size=(1, 1), stride=(1, 1), bias=False)\n",
       "      (bn3): BatchNorm2d(2048, eps=1e-05, momentum=0.1, affine=True, track_running_stats=True)\n",
       "      (relu): ReLU(inplace=True)\n",
       "    )\n",
       "  )\n",
       "  (avgpool): AdaptiveAvgPool2d(output_size=(1, 1))\n",
       "  (fc): Linear(in_features=2048, out_features=11, bias=True)\n",
       ")"
      ]
     },
     "execution_count": 4,
     "metadata": {},
     "output_type": "execute_result"
    }
   ],
   "source": [
    "from torchvision import models\n",
    "classifier = models.resnet152(pretrained=True)\n",
    "\n",
    "# Freeze model parameters\n",
    "# for par in classifier.parameters():\n",
    "#     par.requires_grad = False\n",
    "    \n",
    "# Modify the last fully connected layer in the model\n",
    "features= classifier.fc.in_features\n",
    "classifier.fc = nn.Linear(features, len(train_set.classes))\n",
    "\n",
    "# Use GPU computation if available\n",
    "# device = torch.device(\"cuda\" if torch.cuda.is_available() else 'cpu')\n",
    "\n",
    "device = torch.device('cuda:1')\n",
    "classifier.to(device)"
   ]
  },
  {
   "cell_type": "markdown",
   "metadata": {},
   "source": [
    "### Training the Network"
   ]
  },
  {
   "cell_type": "code",
   "execution_count": 5,
   "metadata": {},
   "outputs": [],
   "source": [
    "learning_rate = 1.0e-5\n",
    "criterion = nn.CrossEntropyLoss()\n",
    "optimizer = torch.optim.Adam(classifier.parameters(), lr=learning_rate)\n"
   ]
  },
  {
   "cell_type": "code",
   "execution_count": 6,
   "metadata": {},
   "outputs": [
    {
     "name": "stderr",
     "output_type": "stream",
     "text": [
      "/home/robotics/anaconda3/envs/estif/lib/python3.6/site-packages/PIL/JpegImagePlugin.py:796: UserWarning: Image appears to be a malformed MPO file, it will be interpreted as a base JPEG file\n",
      "  \"Image appears to be a malformed MPO file, it will be \"\n"
     ]
    },
    {
     "name": "stdout",
     "output_type": "stream",
     "text": [
      "Iteration number: 10/4000\n",
      "Training Accuracy: 12.500%\n",
      "Time elapsed: 0h 0m 16s\n",
      "======================================================================\n",
      "Iteration number: 20/4000\n",
      "Training Accuracy: 34.375%\n",
      "Time elapsed: 0h 0m 32s\n",
      "======================================================================\n"
     ]
    },
    {
     "name": "stderr",
     "output_type": "stream",
     "text": [
      "/home/robotics/anaconda3/envs/estif/lib/python3.6/site-packages/PIL/JpegImagePlugin.py:796: UserWarning: Image appears to be a malformed MPO file, it will be interpreted as a base JPEG file\n",
      "  \"Image appears to be a malformed MPO file, it will be \"\n"
     ]
    },
    {
     "name": "stdout",
     "output_type": "stream",
     "text": [
      "Iteration number: 30/4000\n",
      "Training Accuracy: 28.125%\n",
      "Time elapsed: 0h 0m 48s\n",
      "======================================================================\n",
      "Iteration number: 40/4000\n",
      "Training Accuracy: 37.500%\n",
      "Time elapsed: 0h 1m 4s\n",
      "======================================================================\n",
      "Iteration number: 50/4000\n",
      "Training Accuracy: 59.375%\n",
      "Time elapsed: 0h 1m 21s\n",
      "======================================================================\n"
     ]
    },
    {
     "name": "stderr",
     "output_type": "stream",
     "text": [
      "/home/robotics/anaconda3/envs/estif/lib/python3.6/site-packages/PIL/JpegImagePlugin.py:796: UserWarning: Image appears to be a malformed MPO file, it will be interpreted as a base JPEG file\n",
      "  \"Image appears to be a malformed MPO file, it will be \"\n"
     ]
    },
    {
     "name": "stdout",
     "output_type": "stream",
     "text": [
      "Iteration number: 60/4000\n",
      "Training Accuracy: 53.125%\n",
      "Time elapsed: 0h 1m 39s\n",
      "======================================================================\n",
      "Iteration number: 70/4000\n",
      "Training Accuracy: 59.375%\n",
      "Time elapsed: 0h 1m 56s\n",
      "======================================================================\n",
      "Iteration number: 80/4000\n",
      "Training Accuracy: 59.375%\n",
      "Time elapsed: 0h 2m 13s\n",
      "======================================================================\n"
     ]
    },
    {
     "name": "stderr",
     "output_type": "stream",
     "text": [
      "/home/robotics/anaconda3/envs/estif/lib/python3.6/site-packages/PIL/JpegImagePlugin.py:796: UserWarning: Image appears to be a malformed MPO file, it will be interpreted as a base JPEG file\n",
      "  \"Image appears to be a malformed MPO file, it will be \"\n"
     ]
    },
    {
     "name": "stdout",
     "output_type": "stream",
     "text": [
      "Iteration number: 90/4000\n",
      "Training Accuracy: 90.625%\n",
      "Time elapsed: 0h 2m 30s\n",
      "======================================================================\n"
     ]
    },
    {
     "name": "stderr",
     "output_type": "stream",
     "text": [
      "/home/robotics/anaconda3/envs/estif/lib/python3.6/site-packages/PIL/JpegImagePlugin.py:796: UserWarning: Image appears to be a malformed MPO file, it will be interpreted as a base JPEG file\n",
      "  \"Image appears to be a malformed MPO file, it will be \"\n"
     ]
    },
    {
     "name": "stdout",
     "output_type": "stream",
     "text": [
      "Iteration number: 100/4000\n",
      "Training Accuracy: 87.500%\n",
      "Time elapsed: 0h 2m 46s\n",
      "======================================================================\n",
      "Iteration number: 110/4000\n",
      "Training Accuracy: 96.875%\n",
      "Time elapsed: 0h 3m 4s\n",
      "======================================================================\n"
     ]
    },
    {
     "name": "stderr",
     "output_type": "stream",
     "text": [
      "/home/robotics/anaconda3/envs/estif/lib/python3.6/site-packages/PIL/JpegImagePlugin.py:796: UserWarning: Image appears to be a malformed MPO file, it will be interpreted as a base JPEG file\n",
      "  \"Image appears to be a malformed MPO file, it will be \"\n",
      "/home/robotics/anaconda3/envs/estif/lib/python3.6/site-packages/PIL/JpegImagePlugin.py:796: UserWarning: Image appears to be a malformed MPO file, it will be interpreted as a base JPEG file\n",
      "  \"Image appears to be a malformed MPO file, it will be \"\n"
     ]
    },
    {
     "name": "stdout",
     "output_type": "stream",
     "text": [
      "Iteration number: 120/4000\n",
      "Training Accuracy: 75.000%\n",
      "Time elapsed: 0h 3m 20s\n",
      "======================================================================\n",
      "Iteration number: 130/4000\n",
      "Training Accuracy: 78.125%\n",
      "Time elapsed: 0h 3m 37s\n",
      "======================================================================\n",
      "Iteration number: 140/4000\n",
      "Training Accuracy: 81.250%\n",
      "Time elapsed: 0h 3m 54s\n",
      "======================================================================\n"
     ]
    },
    {
     "name": "stderr",
     "output_type": "stream",
     "text": [
      "/home/robotics/anaconda3/envs/estif/lib/python3.6/site-packages/PIL/JpegImagePlugin.py:796: UserWarning: Image appears to be a malformed MPO file, it will be interpreted as a base JPEG file\n",
      "  \"Image appears to be a malformed MPO file, it will be \"\n"
     ]
    },
    {
     "name": "stdout",
     "output_type": "stream",
     "text": [
      "Iteration number: 150/4000\n",
      "Training Accuracy: 90.625%\n",
      "Time elapsed: 0h 4m 11s\n",
      "======================================================================\n",
      "Iteration number: 160/4000\n",
      "Training Accuracy: 93.750%\n",
      "Time elapsed: 0h 4m 27s\n",
      "======================================================================\n"
     ]
    },
    {
     "name": "stderr",
     "output_type": "stream",
     "text": [
      "/home/robotics/anaconda3/envs/estif/lib/python3.6/site-packages/PIL/JpegImagePlugin.py:796: UserWarning: Image appears to be a malformed MPO file, it will be interpreted as a base JPEG file\n",
      "  \"Image appears to be a malformed MPO file, it will be \"\n"
     ]
    },
    {
     "name": "stdout",
     "output_type": "stream",
     "text": [
      "Iteration number: 170/4000\n",
      "Training Accuracy: 93.750%\n",
      "Time elapsed: 0h 4m 45s\n",
      "======================================================================\n"
     ]
    },
    {
     "name": "stderr",
     "output_type": "stream",
     "text": [
      "/home/robotics/anaconda3/envs/estif/lib/python3.6/site-packages/PIL/JpegImagePlugin.py:796: UserWarning: Image appears to be a malformed MPO file, it will be interpreted as a base JPEG file\n",
      "  \"Image appears to be a malformed MPO file, it will be \"\n"
     ]
    },
    {
     "name": "stdout",
     "output_type": "stream",
     "text": [
      "Iteration number: 180/4000\n",
      "Training Accuracy: 93.750%\n",
      "Time elapsed: 0h 5m 1s\n",
      "======================================================================\n"
     ]
    },
    {
     "name": "stderr",
     "output_type": "stream",
     "text": [
      "/home/robotics/anaconda3/envs/estif/lib/python3.6/site-packages/PIL/JpegImagePlugin.py:796: UserWarning: Image appears to be a malformed MPO file, it will be interpreted as a base JPEG file\n",
      "  \"Image appears to be a malformed MPO file, it will be \"\n",
      "/home/robotics/anaconda3/envs/estif/lib/python3.6/site-packages/PIL/JpegImagePlugin.py:796: UserWarning: Image appears to be a malformed MPO file, it will be interpreted as a base JPEG file\n",
      "  \"Image appears to be a malformed MPO file, it will be \"\n"
     ]
    },
    {
     "name": "stdout",
     "output_type": "stream",
     "text": [
      "Iteration number: 190/4000\n",
      "Training Accuracy: 87.500%\n",
      "Time elapsed: 0h 5m 18s\n",
      "======================================================================\n"
     ]
    },
    {
     "name": "stderr",
     "output_type": "stream",
     "text": [
      "/home/robotics/anaconda3/envs/estif/lib/python3.6/site-packages/PIL/JpegImagePlugin.py:796: UserWarning: Image appears to be a malformed MPO file, it will be interpreted as a base JPEG file\n",
      "  \"Image appears to be a malformed MPO file, it will be \"\n",
      "/home/robotics/anaconda3/envs/estif/lib/python3.6/site-packages/PIL/JpegImagePlugin.py:796: UserWarning: Image appears to be a malformed MPO file, it will be interpreted as a base JPEG file\n",
      "  \"Image appears to be a malformed MPO file, it will be \"\n"
     ]
    },
    {
     "name": "stdout",
     "output_type": "stream",
     "text": [
      "Iteration number: 200/4000\n",
      "Training Accuracy: 93.750%\n",
      "Time elapsed: 0h 5m 34s\n",
      "======================================================================\n"
     ]
    },
    {
     "name": "stderr",
     "output_type": "stream",
     "text": [
      "/home/robotics/anaconda3/envs/estif/lib/python3.6/site-packages/PIL/JpegImagePlugin.py:796: UserWarning: Image appears to be a malformed MPO file, it will be interpreted as a base JPEG file\n",
      "  \"Image appears to be a malformed MPO file, it will be \"\n"
     ]
    },
    {
     "name": "stdout",
     "output_type": "stream",
     "text": [
      "Iteration number: 210/4000\n",
      "Training Accuracy: 93.750%\n",
      "Time elapsed: 0h 5m 53s\n",
      "======================================================================\n",
      "Iteration number: 220/4000\n",
      "Training Accuracy: 87.500%\n",
      "Time elapsed: 0h 6m 10s\n",
      "======================================================================\n",
      "Iteration number: 230/4000\n",
      "Training Accuracy: 96.875%\n",
      "Time elapsed: 0h 6m 28s\n",
      "======================================================================\n",
      "Iteration number: 240/4000\n",
      "Training Accuracy: 100.000%\n",
      "Time elapsed: 0h 6m 47s\n",
      "======================================================================\n"
     ]
    },
    {
     "name": "stderr",
     "output_type": "stream",
     "text": [
      "/home/robotics/anaconda3/envs/estif/lib/python3.6/site-packages/PIL/JpegImagePlugin.py:796: UserWarning: Image appears to be a malformed MPO file, it will be interpreted as a base JPEG file\n",
      "  \"Image appears to be a malformed MPO file, it will be \"\n"
     ]
    },
    {
     "name": "stdout",
     "output_type": "stream",
     "text": [
      "Iteration number: 250/4000\n",
      "Training Accuracy: 96.875%\n",
      "Time elapsed: 0h 7m 4s\n",
      "======================================================================\n",
      "Iteration number: 260/4000\n",
      "Training Accuracy: 100.000%\n",
      "Time elapsed: 0h 7m 22s\n",
      "======================================================================\n"
     ]
    },
    {
     "name": "stderr",
     "output_type": "stream",
     "text": [
      "/home/robotics/anaconda3/envs/estif/lib/python3.6/site-packages/PIL/JpegImagePlugin.py:796: UserWarning: Image appears to be a malformed MPO file, it will be interpreted as a base JPEG file\n",
      "  \"Image appears to be a malformed MPO file, it will be \"\n",
      "/home/robotics/anaconda3/envs/estif/lib/python3.6/site-packages/PIL/JpegImagePlugin.py:796: UserWarning: Image appears to be a malformed MPO file, it will be interpreted as a base JPEG file\n",
      "  \"Image appears to be a malformed MPO file, it will be \"\n"
     ]
    },
    {
     "name": "stdout",
     "output_type": "stream",
     "text": [
      "Iteration number: 270/4000\n",
      "Training Accuracy: 93.750%\n",
      "Time elapsed: 0h 7m 40s\n",
      "======================================================================\n"
     ]
    },
    {
     "name": "stderr",
     "output_type": "stream",
     "text": [
      "/home/robotics/anaconda3/envs/estif/lib/python3.6/site-packages/PIL/JpegImagePlugin.py:796: UserWarning: Image appears to be a malformed MPO file, it will be interpreted as a base JPEG file\n",
      "  \"Image appears to be a malformed MPO file, it will be \"\n"
     ]
    },
    {
     "name": "stdout",
     "output_type": "stream",
     "text": [
      "Iteration number: 280/4000\n",
      "Training Accuracy: 96.875%\n",
      "Time elapsed: 0h 7m 57s\n",
      "======================================================================\n"
     ]
    },
    {
     "name": "stderr",
     "output_type": "stream",
     "text": [
      "/home/robotics/anaconda3/envs/estif/lib/python3.6/site-packages/PIL/JpegImagePlugin.py:796: UserWarning: Image appears to be a malformed MPO file, it will be interpreted as a base JPEG file\n",
      "  \"Image appears to be a malformed MPO file, it will be \"\n"
     ]
    },
    {
     "name": "stdout",
     "output_type": "stream",
     "text": [
      "Iteration number: 290/4000\n",
      "Training Accuracy: 100.000%\n",
      "Time elapsed: 0h 8m 14s\n",
      "======================================================================\n",
      "Iteration number: 300/4000\n",
      "Training Accuracy: 96.875%\n",
      "Time elapsed: 0h 8m 31s\n",
      "======================================================================\n"
     ]
    },
    {
     "name": "stderr",
     "output_type": "stream",
     "text": [
      "/home/robotics/anaconda3/envs/estif/lib/python3.6/site-packages/PIL/JpegImagePlugin.py:796: UserWarning: Image appears to be a malformed MPO file, it will be interpreted as a base JPEG file\n",
      "  \"Image appears to be a malformed MPO file, it will be \"\n"
     ]
    },
    {
     "name": "stdout",
     "output_type": "stream",
     "text": [
      "Iteration number: 310/4000\n",
      "Training Accuracy: 93.750%\n",
      "Time elapsed: 0h 8m 49s\n",
      "======================================================================\n",
      "Iteration number: 320/4000\n",
      "Training Accuracy: 100.000%\n",
      "Time elapsed: 0h 9m 5s\n",
      "======================================================================\n",
      "Iteration number: 330/4000\n",
      "Training Accuracy: 93.750%\n",
      "Time elapsed: 0h 9m 22s\n",
      "======================================================================\n",
      "Iteration number: 340/4000\n",
      "Training Accuracy: 100.000%\n",
      "Time elapsed: 0h 9m 39s\n",
      "======================================================================\n",
      "Iteration number: 350/4000\n",
      "Training Accuracy: 96.875%\n",
      "Time elapsed: 0h 9m 56s\n",
      "======================================================================\n"
     ]
    },
    {
     "name": "stderr",
     "output_type": "stream",
     "text": [
      "/home/robotics/anaconda3/envs/estif/lib/python3.6/site-packages/PIL/JpegImagePlugin.py:796: UserWarning: Image appears to be a malformed MPO file, it will be interpreted as a base JPEG file\n",
      "  \"Image appears to be a malformed MPO file, it will be \"\n",
      "/home/robotics/anaconda3/envs/estif/lib/python3.6/site-packages/PIL/JpegImagePlugin.py:796: UserWarning: Image appears to be a malformed MPO file, it will be interpreted as a base JPEG file\n",
      "  \"Image appears to be a malformed MPO file, it will be \"\n"
     ]
    },
    {
     "name": "stdout",
     "output_type": "stream",
     "text": [
      "Iteration number: 360/4000\n",
      "Training Accuracy: 100.000%\n",
      "Time elapsed: 0h 10m 13s\n",
      "======================================================================\n"
     ]
    },
    {
     "name": "stderr",
     "output_type": "stream",
     "text": [
      "/home/robotics/anaconda3/envs/estif/lib/python3.6/site-packages/PIL/JpegImagePlugin.py:796: UserWarning: Image appears to be a malformed MPO file, it will be interpreted as a base JPEG file\n",
      "  \"Image appears to be a malformed MPO file, it will be \"\n"
     ]
    },
    {
     "name": "stdout",
     "output_type": "stream",
     "text": [
      "Iteration number: 370/4000\n",
      "Training Accuracy: 96.875%\n",
      "Time elapsed: 0h 10m 31s\n",
      "======================================================================\n",
      "Iteration number: 380/4000\n",
      "Training Accuracy: 100.000%\n",
      "Time elapsed: 0h 10m 48s\n",
      "======================================================================\n",
      "Iteration number: 390/4000\n",
      "Training Accuracy: 96.875%\n",
      "Time elapsed: 0h 11m 6s\n",
      "======================================================================\n",
      "Iteration number: 400/4000\n",
      "Training Accuracy: 100.000%\n",
      "Time elapsed: 0h 11m 23s\n",
      "======================================================================\n"
     ]
    },
    {
     "name": "stderr",
     "output_type": "stream",
     "text": [
      "/home/robotics/anaconda3/envs/estif/lib/python3.6/site-packages/PIL/JpegImagePlugin.py:796: UserWarning: Image appears to be a malformed MPO file, it will be interpreted as a base JPEG file\n",
      "  \"Image appears to be a malformed MPO file, it will be \"\n"
     ]
    },
    {
     "name": "stdout",
     "output_type": "stream",
     "text": [
      "Iteration number: 410/4000\n",
      "Training Accuracy: 96.875%\n",
      "Time elapsed: 0h 11m 40s\n",
      "======================================================================\n",
      "Iteration number: 420/4000\n",
      "Training Accuracy: 100.000%\n",
      "Time elapsed: 0h 11m 58s\n",
      "======================================================================\n",
      "Iteration number: 430/4000\n",
      "Training Accuracy: 100.000%\n",
      "Time elapsed: 0h 12m 16s\n",
      "======================================================================\n",
      "Iteration number: 440/4000\n",
      "Training Accuracy: 96.875%\n",
      "Time elapsed: 0h 12m 33s\n",
      "======================================================================\n",
      "Iteration number: 450/4000\n",
      "Training Accuracy: 100.000%\n",
      "Time elapsed: 0h 12m 50s\n",
      "======================================================================\n",
      "Iteration number: 460/4000\n",
      "Training Accuracy: 100.000%\n",
      "Time elapsed: 0h 13m 6s\n",
      "======================================================================\n",
      "Iteration number: 470/4000\n",
      "Training Accuracy: 100.000%\n",
      "Time elapsed: 0h 13m 24s\n",
      "======================================================================\n",
      "Iteration number: 480/4000\n",
      "Training Accuracy: 96.875%\n",
      "Time elapsed: 0h 13m 40s\n",
      "======================================================================\n"
     ]
    },
    {
     "name": "stderr",
     "output_type": "stream",
     "text": [
      "/home/robotics/anaconda3/envs/estif/lib/python3.6/site-packages/PIL/JpegImagePlugin.py:796: UserWarning: Image appears to be a malformed MPO file, it will be interpreted as a base JPEG file\n",
      "  \"Image appears to be a malformed MPO file, it will be \"\n"
     ]
    },
    {
     "name": "stdout",
     "output_type": "stream",
     "text": [
      "Iteration number: 490/4000\n",
      "Training Accuracy: 100.000%\n",
      "Time elapsed: 0h 13m 58s\n",
      "======================================================================\n"
     ]
    },
    {
     "name": "stderr",
     "output_type": "stream",
     "text": [
      "/home/robotics/anaconda3/envs/estif/lib/python3.6/site-packages/PIL/JpegImagePlugin.py:796: UserWarning: Image appears to be a malformed MPO file, it will be interpreted as a base JPEG file\n",
      "  \"Image appears to be a malformed MPO file, it will be \"\n",
      "/home/robotics/anaconda3/envs/estif/lib/python3.6/site-packages/PIL/JpegImagePlugin.py:796: UserWarning: Image appears to be a malformed MPO file, it will be interpreted as a base JPEG file\n",
      "  \"Image appears to be a malformed MPO file, it will be \"\n"
     ]
    },
    {
     "name": "stdout",
     "output_type": "stream",
     "text": [
      "Iteration number: 500/4000\n",
      "Training Accuracy: 96.875%\n",
      "Time elapsed: 0h 14m 14s\n",
      "======================================================================\n"
     ]
    },
    {
     "name": "stderr",
     "output_type": "stream",
     "text": [
      "/home/robotics/anaconda3/envs/estif/lib/python3.6/site-packages/PIL/JpegImagePlugin.py:796: UserWarning: Image appears to be a malformed MPO file, it will be interpreted as a base JPEG file\n",
      "  \"Image appears to be a malformed MPO file, it will be \"\n",
      "/home/robotics/anaconda3/envs/estif/lib/python3.6/site-packages/PIL/JpegImagePlugin.py:796: UserWarning: Image appears to be a malformed MPO file, it will be interpreted as a base JPEG file\n",
      "  \"Image appears to be a malformed MPO file, it will be \"\n"
     ]
    },
    {
     "name": "stdout",
     "output_type": "stream",
     "text": [
      "Iteration number: 510/4000\n",
      "Training Accuracy: 100.000%\n",
      "Time elapsed: 0h 14m 33s\n",
      "======================================================================\n"
     ]
    },
    {
     "name": "stderr",
     "output_type": "stream",
     "text": [
      "/home/robotics/anaconda3/envs/estif/lib/python3.6/site-packages/PIL/JpegImagePlugin.py:796: UserWarning: Image appears to be a malformed MPO file, it will be interpreted as a base JPEG file\n",
      "  \"Image appears to be a malformed MPO file, it will be \"\n",
      "/home/robotics/anaconda3/envs/estif/lib/python3.6/site-packages/PIL/JpegImagePlugin.py:796: UserWarning: Image appears to be a malformed MPO file, it will be interpreted as a base JPEG file\n",
      "  \"Image appears to be a malformed MPO file, it will be \"\n"
     ]
    },
    {
     "name": "stdout",
     "output_type": "stream",
     "text": [
      "Iteration number: 520/4000\n",
      "Training Accuracy: 100.000%\n",
      "Time elapsed: 0h 14m 51s\n",
      "======================================================================\n",
      "Iteration number: 530/4000\n",
      "Training Accuracy: 100.000%\n",
      "Time elapsed: 0h 15m 7s\n",
      "======================================================================\n"
     ]
    },
    {
     "name": "stderr",
     "output_type": "stream",
     "text": [
      "/home/robotics/anaconda3/envs/estif/lib/python3.6/site-packages/PIL/JpegImagePlugin.py:796: UserWarning: Image appears to be a malformed MPO file, it will be interpreted as a base JPEG file\n",
      "  \"Image appears to be a malformed MPO file, it will be \"\n"
     ]
    },
    {
     "name": "stdout",
     "output_type": "stream",
     "text": [
      "Iteration number: 540/4000\n",
      "Training Accuracy: 100.000%\n",
      "Time elapsed: 0h 15m 25s\n",
      "======================================================================\n"
     ]
    },
    {
     "name": "stderr",
     "output_type": "stream",
     "text": [
      "/home/robotics/anaconda3/envs/estif/lib/python3.6/site-packages/PIL/JpegImagePlugin.py:796: UserWarning: Image appears to be a malformed MPO file, it will be interpreted as a base JPEG file\n",
      "  \"Image appears to be a malformed MPO file, it will be \"\n"
     ]
    },
    {
     "name": "stdout",
     "output_type": "stream",
     "text": [
      "Iteration number: 550/4000\n",
      "Training Accuracy: 100.000%\n",
      "Time elapsed: 0h 15m 42s\n",
      "======================================================================\n"
     ]
    },
    {
     "name": "stderr",
     "output_type": "stream",
     "text": [
      "/home/robotics/anaconda3/envs/estif/lib/python3.6/site-packages/PIL/JpegImagePlugin.py:796: UserWarning: Image appears to be a malformed MPO file, it will be interpreted as a base JPEG file\n",
      "  \"Image appears to be a malformed MPO file, it will be \"\n"
     ]
    },
    {
     "name": "stdout",
     "output_type": "stream",
     "text": [
      "Iteration number: 560/4000\n",
      "Training Accuracy: 100.000%\n",
      "Time elapsed: 0h 16m 0s\n",
      "======================================================================\n"
     ]
    },
    {
     "name": "stderr",
     "output_type": "stream",
     "text": [
      "/home/robotics/anaconda3/envs/estif/lib/python3.6/site-packages/PIL/JpegImagePlugin.py:796: UserWarning: Image appears to be a malformed MPO file, it will be interpreted as a base JPEG file\n",
      "  \"Image appears to be a malformed MPO file, it will be \"\n"
     ]
    },
    {
     "name": "stdout",
     "output_type": "stream",
     "text": [
      "Iteration number: 570/4000\n",
      "Training Accuracy: 100.000%\n",
      "Time elapsed: 0h 16m 18s\n",
      "======================================================================\n",
      "Iteration number: 580/4000\n",
      "Training Accuracy: 100.000%\n",
      "Time elapsed: 0h 16m 35s\n",
      "======================================================================\n"
     ]
    },
    {
     "name": "stderr",
     "output_type": "stream",
     "text": [
      "/home/robotics/anaconda3/envs/estif/lib/python3.6/site-packages/PIL/JpegImagePlugin.py:796: UserWarning: Image appears to be a malformed MPO file, it will be interpreted as a base JPEG file\n",
      "  \"Image appears to be a malformed MPO file, it will be \"\n"
     ]
    },
    {
     "name": "stdout",
     "output_type": "stream",
     "text": [
      "Iteration number: 590/4000\n",
      "Training Accuracy: 100.000%\n",
      "Time elapsed: 0h 16m 52s\n",
      "======================================================================\n"
     ]
    },
    {
     "name": "stderr",
     "output_type": "stream",
     "text": [
      "/home/robotics/anaconda3/envs/estif/lib/python3.6/site-packages/PIL/JpegImagePlugin.py:796: UserWarning: Image appears to be a malformed MPO file, it will be interpreted as a base JPEG file\n",
      "  \"Image appears to be a malformed MPO file, it will be \"\n"
     ]
    },
    {
     "name": "stdout",
     "output_type": "stream",
     "text": [
      "Iteration number: 600/4000\n",
      "Training Accuracy: 100.000%\n",
      "Time elapsed: 0h 17m 10s\n",
      "======================================================================\n",
      "Iteration number: 610/4000\n",
      "Training Accuracy: 100.000%\n",
      "Time elapsed: 0h 17m 27s\n",
      "======================================================================\n"
     ]
    },
    {
     "name": "stderr",
     "output_type": "stream",
     "text": [
      "/home/robotics/anaconda3/envs/estif/lib/python3.6/site-packages/PIL/JpegImagePlugin.py:796: UserWarning: Image appears to be a malformed MPO file, it will be interpreted as a base JPEG file\n",
      "  \"Image appears to be a malformed MPO file, it will be \"\n",
      "/home/robotics/anaconda3/envs/estif/lib/python3.6/site-packages/PIL/JpegImagePlugin.py:796: UserWarning: Image appears to be a malformed MPO file, it will be interpreted as a base JPEG file\n",
      "  \"Image appears to be a malformed MPO file, it will be \"\n",
      "/home/robotics/anaconda3/envs/estif/lib/python3.6/site-packages/PIL/JpegImagePlugin.py:796: UserWarning: Image appears to be a malformed MPO file, it will be interpreted as a base JPEG file\n",
      "  \"Image appears to be a malformed MPO file, it will be \"\n"
     ]
    },
    {
     "name": "stdout",
     "output_type": "stream",
     "text": [
      "Iteration number: 620/4000\n",
      "Training Accuracy: 100.000%\n",
      "Time elapsed: 0h 17m 43s\n",
      "======================================================================\n",
      "Iteration number: 630/4000\n",
      "Training Accuracy: 100.000%\n",
      "Time elapsed: 0h 17m 60s\n",
      "======================================================================\n"
     ]
    },
    {
     "name": "stderr",
     "output_type": "stream",
     "text": [
      "/home/robotics/anaconda3/envs/estif/lib/python3.6/site-packages/PIL/JpegImagePlugin.py:796: UserWarning: Image appears to be a malformed MPO file, it will be interpreted as a base JPEG file\n",
      "  \"Image appears to be a malformed MPO file, it will be \"\n"
     ]
    },
    {
     "name": "stdout",
     "output_type": "stream",
     "text": [
      "Iteration number: 640/4000\n",
      "Training Accuracy: 100.000%\n",
      "Time elapsed: 0h 18m 17s\n",
      "======================================================================\n",
      "Iteration number: 650/4000\n",
      "Training Accuracy: 100.000%\n",
      "Time elapsed: 0h 18m 34s\n",
      "======================================================================\n",
      "Iteration number: 660/4000\n",
      "Training Accuracy: 100.000%\n",
      "Time elapsed: 0h 18m 51s\n",
      "======================================================================\n",
      "Iteration number: 670/4000\n",
      "Training Accuracy: 100.000%\n",
      "Time elapsed: 0h 19m 9s\n",
      "======================================================================\n"
     ]
    },
    {
     "name": "stderr",
     "output_type": "stream",
     "text": [
      "/home/robotics/anaconda3/envs/estif/lib/python3.6/site-packages/PIL/JpegImagePlugin.py:796: UserWarning: Image appears to be a malformed MPO file, it will be interpreted as a base JPEG file\n",
      "  \"Image appears to be a malformed MPO file, it will be \"\n"
     ]
    },
    {
     "name": "stdout",
     "output_type": "stream",
     "text": [
      "Iteration number: 680/4000\n",
      "Training Accuracy: 100.000%\n",
      "Time elapsed: 0h 19m 26s\n",
      "======================================================================\n",
      "Iteration number: 690/4000\n",
      "Training Accuracy: 100.000%\n",
      "Time elapsed: 0h 19m 44s\n",
      "======================================================================\n"
     ]
    },
    {
     "name": "stderr",
     "output_type": "stream",
     "text": [
      "/home/robotics/anaconda3/envs/estif/lib/python3.6/site-packages/PIL/JpegImagePlugin.py:796: UserWarning: Image appears to be a malformed MPO file, it will be interpreted as a base JPEG file\n",
      "  \"Image appears to be a malformed MPO file, it will be \"\n"
     ]
    },
    {
     "name": "stdout",
     "output_type": "stream",
     "text": [
      "Iteration number: 700/4000\n",
      "Training Accuracy: 100.000%\n",
      "Time elapsed: 0h 20m 1s\n",
      "======================================================================\n",
      "Iteration number: 710/4000\n",
      "Training Accuracy: 100.000%\n",
      "Time elapsed: 0h 20m 19s\n",
      "======================================================================\n"
     ]
    },
    {
     "name": "stderr",
     "output_type": "stream",
     "text": [
      "/home/robotics/anaconda3/envs/estif/lib/python3.6/site-packages/PIL/JpegImagePlugin.py:796: UserWarning: Image appears to be a malformed MPO file, it will be interpreted as a base JPEG file\n",
      "  \"Image appears to be a malformed MPO file, it will be \"\n"
     ]
    },
    {
     "name": "stdout",
     "output_type": "stream",
     "text": [
      "Iteration number: 720/4000\n",
      "Training Accuracy: 100.000%\n",
      "Time elapsed: 0h 20m 36s\n",
      "======================================================================\n",
      "Iteration number: 730/4000\n",
      "Training Accuracy: 100.000%\n",
      "Time elapsed: 0h 20m 53s\n",
      "======================================================================\n"
     ]
    },
    {
     "name": "stderr",
     "output_type": "stream",
     "text": [
      "Traceback (most recent call last):\n",
      "  File \"/home/robotics/anaconda3/envs/estif/lib/python3.6/multiprocessing/util.py\", line 262, in _run_finalizers\n",
      "    finalizer()\n",
      "  File \"/home/robotics/anaconda3/envs/estif/lib/python3.6/multiprocessing/util.py\", line 186, in __call__\n",
      "    res = self._callback(*self._args, **self._kwargs)\n",
      "  File \"/home/robotics/anaconda3/envs/estif/lib/python3.6/shutil.py\", line 490, in rmtree\n",
      "    onerror(os.rmdir, path, sys.exc_info())\n",
      "  File \"/home/robotics/anaconda3/envs/estif/lib/python3.6/shutil.py\", line 488, in rmtree\n",
      "    os.rmdir(path)\n",
      "OSError: [Errno 39] Directory not empty: '/tmp/pymp-yj39pw9j'\n",
      "/home/robotics/anaconda3/envs/estif/lib/python3.6/site-packages/PIL/JpegImagePlugin.py:796: UserWarning: Image appears to be a malformed MPO file, it will be interpreted as a base JPEG file\n",
      "  \"Image appears to be a malformed MPO file, it will be \"\n"
     ]
    },
    {
     "name": "stdout",
     "output_type": "stream",
     "text": [
      "Iteration number: 740/4000\n",
      "Training Accuracy: 100.000%\n",
      "Time elapsed: 0h 21m 10s\n",
      "======================================================================\n",
      "Iteration number: 750/4000\n",
      "Training Accuracy: 100.000%\n",
      "Time elapsed: 0h 21m 27s\n",
      "======================================================================\n"
     ]
    },
    {
     "name": "stderr",
     "output_type": "stream",
     "text": [
      "/home/robotics/anaconda3/envs/estif/lib/python3.6/site-packages/PIL/JpegImagePlugin.py:796: UserWarning: Image appears to be a malformed MPO file, it will be interpreted as a base JPEG file\n",
      "  \"Image appears to be a malformed MPO file, it will be \"\n"
     ]
    },
    {
     "name": "stdout",
     "output_type": "stream",
     "text": [
      "Iteration number: 760/4000\n",
      "Training Accuracy: 100.000%\n",
      "Time elapsed: 0h 21m 45s\n",
      "======================================================================\n",
      "Iteration number: 770/4000\n",
      "Training Accuracy: 96.875%\n",
      "Time elapsed: 0h 22m 2s\n",
      "======================================================================\n"
     ]
    },
    {
     "name": "stderr",
     "output_type": "stream",
     "text": [
      "/home/robotics/anaconda3/envs/estif/lib/python3.6/site-packages/PIL/JpegImagePlugin.py:796: UserWarning: Image appears to be a malformed MPO file, it will be interpreted as a base JPEG file\n",
      "  \"Image appears to be a malformed MPO file, it will be \"\n"
     ]
    },
    {
     "name": "stdout",
     "output_type": "stream",
     "text": [
      "Iteration number: 780/4000\n",
      "Training Accuracy: 100.000%\n",
      "Time elapsed: 0h 22m 20s\n",
      "======================================================================\n",
      "Iteration number: 790/4000\n",
      "Training Accuracy: 100.000%\n",
      "Time elapsed: 0h 22m 37s\n",
      "======================================================================\n",
      "Iteration number: 800/4000\n",
      "Training Accuracy: 100.000%\n",
      "Time elapsed: 0h 22m 54s\n",
      "======================================================================\n",
      "Iteration number: 810/4000\n",
      "Training Accuracy: 100.000%\n",
      "Time elapsed: 0h 23m 10s\n",
      "======================================================================\n"
     ]
    },
    {
     "name": "stderr",
     "output_type": "stream",
     "text": [
      "/home/robotics/anaconda3/envs/estif/lib/python3.6/site-packages/PIL/JpegImagePlugin.py:796: UserWarning: Image appears to be a malformed MPO file, it will be interpreted as a base JPEG file\n",
      "  \"Image appears to be a malformed MPO file, it will be \"\n",
      "/home/robotics/anaconda3/envs/estif/lib/python3.6/site-packages/PIL/JpegImagePlugin.py:796: UserWarning: Image appears to be a malformed MPO file, it will be interpreted as a base JPEG file\n",
      "  \"Image appears to be a malformed MPO file, it will be \"\n"
     ]
    },
    {
     "name": "stdout",
     "output_type": "stream",
     "text": [
      "Iteration number: 820/4000\n",
      "Training Accuracy: 100.000%\n",
      "Time elapsed: 0h 23m 28s\n",
      "======================================================================\n"
     ]
    },
    {
     "name": "stderr",
     "output_type": "stream",
     "text": [
      "/home/robotics/anaconda3/envs/estif/lib/python3.6/site-packages/PIL/JpegImagePlugin.py:796: UserWarning: Image appears to be a malformed MPO file, it will be interpreted as a base JPEG file\n",
      "  \"Image appears to be a malformed MPO file, it will be \"\n",
      "/home/robotics/anaconda3/envs/estif/lib/python3.6/site-packages/PIL/JpegImagePlugin.py:796: UserWarning: Image appears to be a malformed MPO file, it will be interpreted as a base JPEG file\n",
      "  \"Image appears to be a malformed MPO file, it will be \"\n"
     ]
    },
    {
     "name": "stdout",
     "output_type": "stream",
     "text": [
      "Iteration number: 830/4000\n",
      "Training Accuracy: 100.000%\n",
      "Time elapsed: 0h 23m 46s\n",
      "======================================================================\n"
     ]
    },
    {
     "name": "stderr",
     "output_type": "stream",
     "text": [
      "/home/robotics/anaconda3/envs/estif/lib/python3.6/site-packages/PIL/JpegImagePlugin.py:796: UserWarning: Image appears to be a malformed MPO file, it will be interpreted as a base JPEG file\n",
      "  \"Image appears to be a malformed MPO file, it will be \"\n"
     ]
    },
    {
     "name": "stdout",
     "output_type": "stream",
     "text": [
      "Iteration number: 840/4000\n",
      "Training Accuracy: 100.000%\n",
      "Time elapsed: 0h 24m 2s\n",
      "======================================================================\n"
     ]
    },
    {
     "name": "stderr",
     "output_type": "stream",
     "text": [
      "/home/robotics/anaconda3/envs/estif/lib/python3.6/site-packages/PIL/JpegImagePlugin.py:796: UserWarning: Image appears to be a malformed MPO file, it will be interpreted as a base JPEG file\n",
      "  \"Image appears to be a malformed MPO file, it will be \"\n"
     ]
    },
    {
     "name": "stdout",
     "output_type": "stream",
     "text": [
      "Iteration number: 850/4000\n",
      "Training Accuracy: 100.000%\n",
      "Time elapsed: 0h 24m 20s\n",
      "======================================================================\n",
      "Iteration number: 860/4000\n",
      "Training Accuracy: 100.000%\n",
      "Time elapsed: 0h 24m 38s\n",
      "======================================================================\n",
      "Iteration number: 870/4000\n",
      "Training Accuracy: 100.000%\n",
      "Time elapsed: 0h 24m 55s\n",
      "======================================================================\n",
      "Iteration number: 880/4000\n",
      "Training Accuracy: 100.000%\n",
      "Time elapsed: 0h 25m 11s\n",
      "======================================================================\n",
      "Iteration number: 890/4000\n",
      "Training Accuracy: 100.000%\n",
      "Time elapsed: 0h 25m 29s\n",
      "======================================================================\n"
     ]
    },
    {
     "name": "stderr",
     "output_type": "stream",
     "text": [
      "Traceback (most recent call last):\n",
      "  File \"/home/robotics/anaconda3/envs/estif/lib/python3.6/multiprocessing/util.py\", line 262, in _run_finalizers\n",
      "    finalizer()\n",
      "  File \"/home/robotics/anaconda3/envs/estif/lib/python3.6/multiprocessing/util.py\", line 186, in __call__\n",
      "    res = self._callback(*self._args, **self._kwargs)\n",
      "  File \"/home/robotics/anaconda3/envs/estif/lib/python3.6/shutil.py\", line 490, in rmtree\n",
      "    onerror(os.rmdir, path, sys.exc_info())\n",
      "  File \"/home/robotics/anaconda3/envs/estif/lib/python3.6/shutil.py\", line 488, in rmtree\n",
      "    os.rmdir(path)\n",
      "OSError: [Errno 39] Directory not empty: '/tmp/pymp-5ma_gi0f'\n"
     ]
    },
    {
     "name": "stdout",
     "output_type": "stream",
     "text": [
      "Iteration number: 900/4000\n",
      "Training Accuracy: 100.000%\n",
      "Time elapsed: 0h 25m 45s\n",
      "======================================================================\n"
     ]
    },
    {
     "name": "stderr",
     "output_type": "stream",
     "text": [
      "/home/robotics/anaconda3/envs/estif/lib/python3.6/site-packages/PIL/JpegImagePlugin.py:796: UserWarning: Image appears to be a malformed MPO file, it will be interpreted as a base JPEG file\n",
      "  \"Image appears to be a malformed MPO file, it will be \"\n"
     ]
    },
    {
     "name": "stdout",
     "output_type": "stream",
     "text": [
      "Iteration number: 910/4000\n",
      "Training Accuracy: 100.000%\n",
      "Time elapsed: 0h 26m 2s\n",
      "======================================================================\n"
     ]
    },
    {
     "name": "stderr",
     "output_type": "stream",
     "text": [
      "/home/robotics/anaconda3/envs/estif/lib/python3.6/site-packages/PIL/JpegImagePlugin.py:796: UserWarning: Image appears to be a malformed MPO file, it will be interpreted as a base JPEG file\n",
      "  \"Image appears to be a malformed MPO file, it will be \"\n"
     ]
    },
    {
     "name": "stdout",
     "output_type": "stream",
     "text": [
      "Iteration number: 920/4000\n",
      "Training Accuracy: 100.000%\n",
      "Time elapsed: 0h 26m 19s\n",
      "======================================================================\n",
      "Iteration number: 930/4000\n",
      "Training Accuracy: 100.000%\n",
      "Time elapsed: 0h 26m 37s\n",
      "======================================================================\n",
      "Iteration number: 940/4000\n",
      "Training Accuracy: 100.000%\n",
      "Time elapsed: 0h 26m 55s\n",
      "======================================================================\n",
      "Iteration number: 950/4000\n",
      "Training Accuracy: 100.000%\n",
      "Time elapsed: 0h 27m 12s\n",
      "======================================================================\n"
     ]
    },
    {
     "name": "stderr",
     "output_type": "stream",
     "text": [
      "/home/robotics/anaconda3/envs/estif/lib/python3.6/site-packages/PIL/JpegImagePlugin.py:796: UserWarning: Image appears to be a malformed MPO file, it will be interpreted as a base JPEG file\n",
      "  \"Image appears to be a malformed MPO file, it will be \"\n"
     ]
    },
    {
     "name": "stdout",
     "output_type": "stream",
     "text": [
      "Iteration number: 960/4000\n",
      "Training Accuracy: 100.000%\n",
      "Time elapsed: 0h 27m 29s\n",
      "======================================================================\n",
      "Iteration number: 970/4000\n",
      "Training Accuracy: 100.000%\n",
      "Time elapsed: 0h 27m 45s\n",
      "======================================================================\n",
      "Iteration number: 980/4000\n",
      "Training Accuracy: 100.000%\n",
      "Time elapsed: 0h 28m 3s\n",
      "======================================================================\n",
      "Iteration number: 990/4000\n",
      "Training Accuracy: 100.000%\n",
      "Time elapsed: 0h 28m 20s\n",
      "======================================================================\n",
      "Iteration number: 1000/4000\n",
      "Training Accuracy: 100.000%\n",
      "Time elapsed: 0h 28m 37s\n",
      "======================================================================\n"
     ]
    },
    {
     "name": "stderr",
     "output_type": "stream",
     "text": [
      "/home/robotics/anaconda3/envs/estif/lib/python3.6/site-packages/PIL/JpegImagePlugin.py:796: UserWarning: Image appears to be a malformed MPO file, it will be interpreted as a base JPEG file\n",
      "  \"Image appears to be a malformed MPO file, it will be \"\n",
      "/home/robotics/anaconda3/envs/estif/lib/python3.6/site-packages/PIL/JpegImagePlugin.py:796: UserWarning: Image appears to be a malformed MPO file, it will be interpreted as a base JPEG file\n",
      "  \"Image appears to be a malformed MPO file, it will be \"\n"
     ]
    },
    {
     "name": "stdout",
     "output_type": "stream",
     "text": [
      "Iteration number: 1010/4000\n",
      "Training Accuracy: 100.000%\n",
      "Time elapsed: 0h 28m 55s\n",
      "======================================================================\n",
      "Iteration number: 1020/4000\n",
      "Training Accuracy: 100.000%\n",
      "Time elapsed: 0h 29m 13s\n",
      "======================================================================\n"
     ]
    },
    {
     "name": "stderr",
     "output_type": "stream",
     "text": [
      "/home/robotics/anaconda3/envs/estif/lib/python3.6/site-packages/PIL/JpegImagePlugin.py:796: UserWarning: Image appears to be a malformed MPO file, it will be interpreted as a base JPEG file\n",
      "  \"Image appears to be a malformed MPO file, it will be \"\n"
     ]
    },
    {
     "name": "stdout",
     "output_type": "stream",
     "text": [
      "Iteration number: 1030/4000\n",
      "Training Accuracy: 100.000%\n",
      "Time elapsed: 0h 29m 30s\n",
      "======================================================================\n"
     ]
    },
    {
     "name": "stderr",
     "output_type": "stream",
     "text": [
      "/home/robotics/anaconda3/envs/estif/lib/python3.6/site-packages/PIL/JpegImagePlugin.py:796: UserWarning: Image appears to be a malformed MPO file, it will be interpreted as a base JPEG file\n",
      "  \"Image appears to be a malformed MPO file, it will be \"\n"
     ]
    },
    {
     "name": "stdout",
     "output_type": "stream",
     "text": [
      "Iteration number: 1040/4000\n",
      "Training Accuracy: 100.000%\n",
      "Time elapsed: 0h 29m 47s\n",
      "======================================================================\n"
     ]
    },
    {
     "name": "stderr",
     "output_type": "stream",
     "text": [
      "/home/robotics/anaconda3/envs/estif/lib/python3.6/site-packages/PIL/JpegImagePlugin.py:796: UserWarning: Image appears to be a malformed MPO file, it will be interpreted as a base JPEG file\n",
      "  \"Image appears to be a malformed MPO file, it will be \"\n"
     ]
    },
    {
     "name": "stdout",
     "output_type": "stream",
     "text": [
      "Iteration number: 1050/4000\n",
      "Training Accuracy: 100.000%\n",
      "Time elapsed: 0h 30m 5s\n",
      "======================================================================\n",
      "Iteration number: 1060/4000\n",
      "Training Accuracy: 100.000%\n",
      "Time elapsed: 0h 30m 23s\n",
      "======================================================================\n",
      "Iteration number: 1070/4000\n",
      "Training Accuracy: 100.000%\n",
      "Time elapsed: 0h 30m 41s\n",
      "======================================================================\n",
      "Iteration number: 1080/4000\n",
      "Training Accuracy: 100.000%\n",
      "Time elapsed: 0h 30m 58s\n",
      "======================================================================\n",
      "Iteration number: 1090/4000\n",
      "Training Accuracy: 100.000%\n",
      "Time elapsed: 0h 31m 15s\n",
      "======================================================================\n",
      "Iteration number: 1100/4000\n",
      "Training Accuracy: 100.000%\n",
      "Time elapsed: 0h 31m 33s\n",
      "======================================================================\n",
      "Iteration number: 1110/4000\n",
      "Training Accuracy: 100.000%\n",
      "Time elapsed: 0h 31m 50s\n",
      "======================================================================\n"
     ]
    },
    {
     "name": "stderr",
     "output_type": "stream",
     "text": [
      "/home/robotics/anaconda3/envs/estif/lib/python3.6/site-packages/PIL/JpegImagePlugin.py:796: UserWarning: Image appears to be a malformed MPO file, it will be interpreted as a base JPEG file\n",
      "  \"Image appears to be a malformed MPO file, it will be \"\n"
     ]
    },
    {
     "name": "stdout",
     "output_type": "stream",
     "text": [
      "Iteration number: 1120/4000\n",
      "Training Accuracy: 100.000%\n",
      "Time elapsed: 0h 32m 8s\n",
      "======================================================================\n"
     ]
    },
    {
     "name": "stderr",
     "output_type": "stream",
     "text": [
      "/home/robotics/anaconda3/envs/estif/lib/python3.6/site-packages/PIL/JpegImagePlugin.py:796: UserWarning: Image appears to be a malformed MPO file, it will be interpreted as a base JPEG file\n",
      "  \"Image appears to be a malformed MPO file, it will be \"\n",
      "/home/robotics/anaconda3/envs/estif/lib/python3.6/site-packages/PIL/JpegImagePlugin.py:796: UserWarning: Image appears to be a malformed MPO file, it will be interpreted as a base JPEG file\n",
      "  \"Image appears to be a malformed MPO file, it will be \"\n"
     ]
    },
    {
     "name": "stdout",
     "output_type": "stream",
     "text": [
      "Iteration number: 1130/4000\n",
      "Training Accuracy: 100.000%\n",
      "Time elapsed: 0h 32m 25s\n",
      "======================================================================\n"
     ]
    },
    {
     "name": "stderr",
     "output_type": "stream",
     "text": [
      "/home/robotics/anaconda3/envs/estif/lib/python3.6/site-packages/PIL/JpegImagePlugin.py:796: UserWarning: Image appears to be a malformed MPO file, it will be interpreted as a base JPEG file\n",
      "  \"Image appears to be a malformed MPO file, it will be \"\n"
     ]
    },
    {
     "name": "stdout",
     "output_type": "stream",
     "text": [
      "Iteration number: 1140/4000\n",
      "Training Accuracy: 100.000%\n",
      "Time elapsed: 0h 32m 41s\n",
      "======================================================================\n"
     ]
    },
    {
     "name": "stderr",
     "output_type": "stream",
     "text": [
      "/home/robotics/anaconda3/envs/estif/lib/python3.6/site-packages/PIL/JpegImagePlugin.py:796: UserWarning: Image appears to be a malformed MPO file, it will be interpreted as a base JPEG file\n",
      "  \"Image appears to be a malformed MPO file, it will be \"\n"
     ]
    },
    {
     "name": "stdout",
     "output_type": "stream",
     "text": [
      "Iteration number: 1150/4000\n",
      "Training Accuracy: 100.000%\n",
      "Time elapsed: 0h 32m 58s\n",
      "======================================================================\n",
      "Iteration number: 1160/4000\n",
      "Training Accuracy: 100.000%\n",
      "Time elapsed: 0h 33m 16s\n",
      "======================================================================\n",
      "Iteration number: 1170/4000\n",
      "Training Accuracy: 100.000%\n",
      "Time elapsed: 0h 33m 32s\n",
      "======================================================================\n"
     ]
    },
    {
     "name": "stderr",
     "output_type": "stream",
     "text": [
      "/home/robotics/anaconda3/envs/estif/lib/python3.6/site-packages/PIL/JpegImagePlugin.py:796: UserWarning: Image appears to be a malformed MPO file, it will be interpreted as a base JPEG file\n",
      "  \"Image appears to be a malformed MPO file, it will be \"\n"
     ]
    },
    {
     "name": "stdout",
     "output_type": "stream",
     "text": [
      "Iteration number: 1180/4000\n",
      "Training Accuracy: 100.000%\n",
      "Time elapsed: 0h 33m 48s\n",
      "======================================================================\n"
     ]
    },
    {
     "name": "stderr",
     "output_type": "stream",
     "text": [
      "/home/robotics/anaconda3/envs/estif/lib/python3.6/site-packages/PIL/JpegImagePlugin.py:796: UserWarning: Image appears to be a malformed MPO file, it will be interpreted as a base JPEG file\n",
      "  \"Image appears to be a malformed MPO file, it will be \"\n"
     ]
    },
    {
     "name": "stdout",
     "output_type": "stream",
     "text": [
      "Iteration number: 1190/4000\n",
      "Training Accuracy: 100.000%\n",
      "Time elapsed: 0h 34m 6s\n",
      "======================================================================\n",
      "Iteration number: 1200/4000\n",
      "Training Accuracy: 100.000%\n",
      "Time elapsed: 0h 34m 22s\n",
      "======================================================================\n",
      "Iteration number: 1210/4000\n",
      "Training Accuracy: 100.000%\n",
      "Time elapsed: 0h 34m 39s\n",
      "======================================================================\n"
     ]
    },
    {
     "name": "stderr",
     "output_type": "stream",
     "text": [
      "/home/robotics/anaconda3/envs/estif/lib/python3.6/site-packages/PIL/JpegImagePlugin.py:796: UserWarning: Image appears to be a malformed MPO file, it will be interpreted as a base JPEG file\n",
      "  \"Image appears to be a malformed MPO file, it will be \"\n"
     ]
    },
    {
     "name": "stdout",
     "output_type": "stream",
     "text": [
      "Iteration number: 1220/4000\n",
      "Training Accuracy: 100.000%\n",
      "Time elapsed: 0h 34m 57s\n",
      "======================================================================\n",
      "Iteration number: 1230/4000\n",
      "Training Accuracy: 100.000%\n",
      "Time elapsed: 0h 35m 13s\n",
      "======================================================================\n"
     ]
    },
    {
     "name": "stderr",
     "output_type": "stream",
     "text": [
      "/home/robotics/anaconda3/envs/estif/lib/python3.6/site-packages/PIL/JpegImagePlugin.py:796: UserWarning: Image appears to be a malformed MPO file, it will be interpreted as a base JPEG file\n",
      "  \"Image appears to be a malformed MPO file, it will be \"\n"
     ]
    },
    {
     "name": "stdout",
     "output_type": "stream",
     "text": [
      "Iteration number: 1240/4000\n",
      "Training Accuracy: 100.000%\n",
      "Time elapsed: 0h 35m 30s\n",
      "======================================================================\n",
      "Iteration number: 1250/4000\n",
      "Training Accuracy: 100.000%\n",
      "Time elapsed: 0h 35m 47s\n",
      "======================================================================\n",
      "Iteration number: 1260/4000\n",
      "Training Accuracy: 100.000%\n",
      "Time elapsed: 0h 36m 4s\n",
      "======================================================================\n",
      "Iteration number: 1270/4000\n",
      "Training Accuracy: 100.000%\n",
      "Time elapsed: 0h 36m 22s\n",
      "======================================================================\n"
     ]
    },
    {
     "name": "stderr",
     "output_type": "stream",
     "text": [
      "/home/robotics/anaconda3/envs/estif/lib/python3.6/site-packages/PIL/JpegImagePlugin.py:796: UserWarning: Image appears to be a malformed MPO file, it will be interpreted as a base JPEG file\n",
      "  \"Image appears to be a malformed MPO file, it will be \"\n",
      "/home/robotics/anaconda3/envs/estif/lib/python3.6/site-packages/PIL/JpegImagePlugin.py:796: UserWarning: Image appears to be a malformed MPO file, it will be interpreted as a base JPEG file\n",
      "  \"Image appears to be a malformed MPO file, it will be \"\n"
     ]
    },
    {
     "name": "stdout",
     "output_type": "stream",
     "text": [
      "Iteration number: 1280/4000\n",
      "Training Accuracy: 100.000%\n",
      "Time elapsed: 0h 36m 39s\n",
      "======================================================================\n",
      "Iteration number: 1290/4000\n",
      "Training Accuracy: 100.000%\n",
      "Time elapsed: 0h 36m 56s\n",
      "======================================================================\n"
     ]
    },
    {
     "name": "stderr",
     "output_type": "stream",
     "text": [
      "/home/robotics/anaconda3/envs/estif/lib/python3.6/site-packages/PIL/JpegImagePlugin.py:796: UserWarning: Image appears to be a malformed MPO file, it will be interpreted as a base JPEG file\n",
      "  \"Image appears to be a malformed MPO file, it will be \"\n"
     ]
    },
    {
     "name": "stdout",
     "output_type": "stream",
     "text": [
      "Iteration number: 1300/4000\n",
      "Training Accuracy: 100.000%\n",
      "Time elapsed: 0h 37m 15s\n",
      "======================================================================\n"
     ]
    },
    {
     "name": "stderr",
     "output_type": "stream",
     "text": [
      "/home/robotics/anaconda3/envs/estif/lib/python3.6/site-packages/PIL/JpegImagePlugin.py:796: UserWarning: Image appears to be a malformed MPO file, it will be interpreted as a base JPEG file\n",
      "  \"Image appears to be a malformed MPO file, it will be \"\n",
      "/home/robotics/anaconda3/envs/estif/lib/python3.6/site-packages/PIL/JpegImagePlugin.py:796: UserWarning: Image appears to be a malformed MPO file, it will be interpreted as a base JPEG file\n",
      "  \"Image appears to be a malformed MPO file, it will be \"\n"
     ]
    },
    {
     "name": "stdout",
     "output_type": "stream",
     "text": [
      "Iteration number: 1310/4000\n",
      "Training Accuracy: 100.000%\n",
      "Time elapsed: 0h 37m 32s\n",
      "======================================================================\n"
     ]
    },
    {
     "name": "stderr",
     "output_type": "stream",
     "text": [
      "/home/robotics/anaconda3/envs/estif/lib/python3.6/site-packages/PIL/JpegImagePlugin.py:796: UserWarning: Image appears to be a malformed MPO file, it will be interpreted as a base JPEG file\n",
      "  \"Image appears to be a malformed MPO file, it will be \"\n"
     ]
    },
    {
     "name": "stdout",
     "output_type": "stream",
     "text": [
      "Iteration number: 1320/4000\n",
      "Training Accuracy: 100.000%\n",
      "Time elapsed: 0h 37m 50s\n",
      "======================================================================\n"
     ]
    },
    {
     "name": "stderr",
     "output_type": "stream",
     "text": [
      "/home/robotics/anaconda3/envs/estif/lib/python3.6/site-packages/PIL/JpegImagePlugin.py:796: UserWarning: Image appears to be a malformed MPO file, it will be interpreted as a base JPEG file\n",
      "  \"Image appears to be a malformed MPO file, it will be \"\n"
     ]
    },
    {
     "name": "stdout",
     "output_type": "stream",
     "text": [
      "Iteration number: 1330/4000\n",
      "Training Accuracy: 100.000%\n",
      "Time elapsed: 0h 38m 7s\n",
      "======================================================================\n"
     ]
    },
    {
     "name": "stderr",
     "output_type": "stream",
     "text": [
      "/home/robotics/anaconda3/envs/estif/lib/python3.6/site-packages/PIL/JpegImagePlugin.py:796: UserWarning: Image appears to be a malformed MPO file, it will be interpreted as a base JPEG file\n",
      "  \"Image appears to be a malformed MPO file, it will be \"\n"
     ]
    },
    {
     "name": "stdout",
     "output_type": "stream",
     "text": [
      "Iteration number: 1340/4000\n",
      "Training Accuracy: 100.000%\n",
      "Time elapsed: 0h 38m 24s\n",
      "======================================================================\n",
      "Iteration number: 1350/4000\n",
      "Training Accuracy: 100.000%\n",
      "Time elapsed: 0h 38m 41s\n",
      "======================================================================\n"
     ]
    },
    {
     "name": "stderr",
     "output_type": "stream",
     "text": [
      "/home/robotics/anaconda3/envs/estif/lib/python3.6/site-packages/PIL/JpegImagePlugin.py:796: UserWarning: Image appears to be a malformed MPO file, it will be interpreted as a base JPEG file\n",
      "  \"Image appears to be a malformed MPO file, it will be \"\n",
      "/home/robotics/anaconda3/envs/estif/lib/python3.6/site-packages/PIL/JpegImagePlugin.py:796: UserWarning: Image appears to be a malformed MPO file, it will be interpreted as a base JPEG file\n",
      "  \"Image appears to be a malformed MPO file, it will be \"\n"
     ]
    },
    {
     "name": "stdout",
     "output_type": "stream",
     "text": [
      "Iteration number: 1360/4000\n",
      "Training Accuracy: 100.000%\n",
      "Time elapsed: 0h 38m 58s\n",
      "======================================================================\n"
     ]
    },
    {
     "name": "stderr",
     "output_type": "stream",
     "text": [
      "/home/robotics/anaconda3/envs/estif/lib/python3.6/site-packages/PIL/JpegImagePlugin.py:796: UserWarning: Image appears to be a malformed MPO file, it will be interpreted as a base JPEG file\n",
      "  \"Image appears to be a malformed MPO file, it will be \"\n",
      "/home/robotics/anaconda3/envs/estif/lib/python3.6/site-packages/PIL/JpegImagePlugin.py:796: UserWarning: Image appears to be a malformed MPO file, it will be interpreted as a base JPEG file\n",
      "  \"Image appears to be a malformed MPO file, it will be \"\n"
     ]
    },
    {
     "name": "stdout",
     "output_type": "stream",
     "text": [
      "Iteration number: 1370/4000\n",
      "Training Accuracy: 100.000%\n",
      "Time elapsed: 0h 39m 14s\n",
      "======================================================================\n"
     ]
    },
    {
     "name": "stderr",
     "output_type": "stream",
     "text": [
      "/home/robotics/anaconda3/envs/estif/lib/python3.6/site-packages/PIL/JpegImagePlugin.py:796: UserWarning: Image appears to be a malformed MPO file, it will be interpreted as a base JPEG file\n",
      "  \"Image appears to be a malformed MPO file, it will be \"\n"
     ]
    },
    {
     "name": "stdout",
     "output_type": "stream",
     "text": [
      "Iteration number: 1380/4000\n",
      "Training Accuracy: 100.000%\n",
      "Time elapsed: 0h 39m 32s\n",
      "======================================================================\n",
      "Iteration number: 1390/4000\n",
      "Training Accuracy: 100.000%\n",
      "Time elapsed: 0h 39m 49s\n",
      "======================================================================\n",
      "Iteration number: 1400/4000\n",
      "Training Accuracy: 100.000%\n",
      "Time elapsed: 0h 40m 6s\n",
      "======================================================================\n",
      "Iteration number: 1410/4000\n",
      "Training Accuracy: 100.000%\n",
      "Time elapsed: 0h 40m 23s\n",
      "======================================================================\n",
      "Iteration number: 1420/4000\n",
      "Training Accuracy: 100.000%\n",
      "Time elapsed: 0h 40m 40s\n",
      "======================================================================\n",
      "Iteration number: 1430/4000\n",
      "Training Accuracy: 100.000%\n",
      "Time elapsed: 0h 40m 56s\n",
      "======================================================================\n",
      "Iteration number: 1440/4000\n",
      "Training Accuracy: 100.000%\n",
      "Time elapsed: 0h 41m 13s\n",
      "======================================================================\n"
     ]
    },
    {
     "name": "stderr",
     "output_type": "stream",
     "text": [
      "/home/robotics/anaconda3/envs/estif/lib/python3.6/site-packages/PIL/JpegImagePlugin.py:796: UserWarning: Image appears to be a malformed MPO file, it will be interpreted as a base JPEG file\n",
      "  \"Image appears to be a malformed MPO file, it will be \"\n"
     ]
    },
    {
     "name": "stdout",
     "output_type": "stream",
     "text": [
      "Iteration number: 1450/4000\n",
      "Training Accuracy: 100.000%\n",
      "Time elapsed: 0h 41m 29s\n",
      "======================================================================\n",
      "Iteration number: 1460/4000\n",
      "Training Accuracy: 100.000%\n",
      "Time elapsed: 0h 41m 46s\n",
      "======================================================================\n",
      "Iteration number: 1470/4000\n",
      "Training Accuracy: 100.000%\n",
      "Time elapsed: 0h 42m 4s\n",
      "======================================================================\n",
      "Iteration number: 1480/4000\n",
      "Training Accuracy: 100.000%\n",
      "Time elapsed: 0h 42m 21s\n",
      "======================================================================\n"
     ]
    },
    {
     "name": "stderr",
     "output_type": "stream",
     "text": [
      "/home/robotics/anaconda3/envs/estif/lib/python3.6/site-packages/PIL/JpegImagePlugin.py:796: UserWarning: Image appears to be a malformed MPO file, it will be interpreted as a base JPEG file\n",
      "  \"Image appears to be a malformed MPO file, it will be \"\n"
     ]
    },
    {
     "name": "stdout",
     "output_type": "stream",
     "text": [
      "Iteration number: 1490/4000\n",
      "Training Accuracy: 100.000%\n",
      "Time elapsed: 0h 42m 39s\n",
      "======================================================================\n"
     ]
    },
    {
     "name": "stderr",
     "output_type": "stream",
     "text": [
      "/home/robotics/anaconda3/envs/estif/lib/python3.6/site-packages/PIL/JpegImagePlugin.py:796: UserWarning: Image appears to be a malformed MPO file, it will be interpreted as a base JPEG file\n",
      "  \"Image appears to be a malformed MPO file, it will be \"\n"
     ]
    },
    {
     "name": "stdout",
     "output_type": "stream",
     "text": [
      "Iteration number: 1500/4000\n",
      "Training Accuracy: 100.000%\n",
      "Time elapsed: 0h 42m 56s\n",
      "======================================================================\n"
     ]
    },
    {
     "name": "stderr",
     "output_type": "stream",
     "text": [
      "/home/robotics/anaconda3/envs/estif/lib/python3.6/site-packages/PIL/JpegImagePlugin.py:796: UserWarning: Image appears to be a malformed MPO file, it will be interpreted as a base JPEG file\n",
      "  \"Image appears to be a malformed MPO file, it will be \"\n",
      "/home/robotics/anaconda3/envs/estif/lib/python3.6/site-packages/PIL/JpegImagePlugin.py:796: UserWarning: Image appears to be a malformed MPO file, it will be interpreted as a base JPEG file\n",
      "  \"Image appears to be a malformed MPO file, it will be \"\n"
     ]
    },
    {
     "name": "stdout",
     "output_type": "stream",
     "text": [
      "Iteration number: 1510/4000\n",
      "Training Accuracy: 100.000%\n",
      "Time elapsed: 0h 43m 13s\n",
      "======================================================================\n",
      "Iteration number: 1520/4000\n",
      "Training Accuracy: 100.000%\n",
      "Time elapsed: 0h 43m 29s\n",
      "======================================================================\n",
      "Iteration number: 1530/4000\n",
      "Training Accuracy: 100.000%\n",
      "Time elapsed: 0h 43m 46s\n",
      "======================================================================\n",
      "Iteration number: 1540/4000\n",
      "Training Accuracy: 100.000%\n",
      "Time elapsed: 0h 44m 4s\n",
      "======================================================================\n"
     ]
    },
    {
     "name": "stderr",
     "output_type": "stream",
     "text": [
      "/home/robotics/anaconda3/envs/estif/lib/python3.6/site-packages/PIL/JpegImagePlugin.py:796: UserWarning: Image appears to be a malformed MPO file, it will be interpreted as a base JPEG file\n",
      "  \"Image appears to be a malformed MPO file, it will be \"\n",
      "/home/robotics/anaconda3/envs/estif/lib/python3.6/site-packages/PIL/JpegImagePlugin.py:796: UserWarning: Image appears to be a malformed MPO file, it will be interpreted as a base JPEG file\n",
      "  \"Image appears to be a malformed MPO file, it will be \"\n"
     ]
    },
    {
     "name": "stdout",
     "output_type": "stream",
     "text": [
      "Iteration number: 1550/4000\n",
      "Training Accuracy: 100.000%\n",
      "Time elapsed: 0h 44m 20s\n",
      "======================================================================\n",
      "Iteration number: 1560/4000\n",
      "Training Accuracy: 100.000%\n",
      "Time elapsed: 0h 44m 38s\n",
      "======================================================================\n",
      "Iteration number: 1570/4000\n",
      "Training Accuracy: 100.000%\n",
      "Time elapsed: 0h 44m 55s\n",
      "======================================================================\n",
      "Iteration number: 1580/4000\n",
      "Training Accuracy: 96.875%\n",
      "Time elapsed: 0h 45m 14s\n",
      "======================================================================\n"
     ]
    },
    {
     "name": "stderr",
     "output_type": "stream",
     "text": [
      "/home/robotics/anaconda3/envs/estif/lib/python3.6/site-packages/PIL/JpegImagePlugin.py:796: UserWarning: Image appears to be a malformed MPO file, it will be interpreted as a base JPEG file\n",
      "  \"Image appears to be a malformed MPO file, it will be \"\n"
     ]
    },
    {
     "name": "stdout",
     "output_type": "stream",
     "text": [
      "Iteration number: 1590/4000\n",
      "Training Accuracy: 100.000%\n",
      "Time elapsed: 0h 45m 30s\n",
      "======================================================================\n",
      "Iteration number: 1600/4000\n",
      "Training Accuracy: 100.000%\n",
      "Time elapsed: 0h 45m 48s\n",
      "======================================================================\n"
     ]
    },
    {
     "name": "stderr",
     "output_type": "stream",
     "text": [
      "/home/robotics/anaconda3/envs/estif/lib/python3.6/site-packages/PIL/JpegImagePlugin.py:796: UserWarning: Image appears to be a malformed MPO file, it will be interpreted as a base JPEG file\n",
      "  \"Image appears to be a malformed MPO file, it will be \"\n"
     ]
    },
    {
     "name": "stdout",
     "output_type": "stream",
     "text": [
      "Iteration number: 1610/4000\n",
      "Training Accuracy: 100.000%\n",
      "Time elapsed: 0h 46m 4s\n",
      "======================================================================\n"
     ]
    },
    {
     "name": "stderr",
     "output_type": "stream",
     "text": [
      "/home/robotics/anaconda3/envs/estif/lib/python3.6/site-packages/PIL/JpegImagePlugin.py:796: UserWarning: Image appears to be a malformed MPO file, it will be interpreted as a base JPEG file\n",
      "  \"Image appears to be a malformed MPO file, it will be \"\n"
     ]
    },
    {
     "name": "stdout",
     "output_type": "stream",
     "text": [
      "Iteration number: 1620/4000\n",
      "Training Accuracy: 100.000%\n",
      "Time elapsed: 0h 46m 22s\n",
      "======================================================================\n"
     ]
    },
    {
     "name": "stderr",
     "output_type": "stream",
     "text": [
      "/home/robotics/anaconda3/envs/estif/lib/python3.6/site-packages/PIL/JpegImagePlugin.py:796: UserWarning: Image appears to be a malformed MPO file, it will be interpreted as a base JPEG file\n",
      "  \"Image appears to be a malformed MPO file, it will be \"\n"
     ]
    },
    {
     "name": "stdout",
     "output_type": "stream",
     "text": [
      "Iteration number: 1630/4000\n",
      "Training Accuracy: 100.000%\n",
      "Time elapsed: 0h 46m 40s\n",
      "======================================================================\n",
      "Iteration number: 1640/4000\n",
      "Training Accuracy: 100.000%\n",
      "Time elapsed: 0h 46m 56s\n",
      "======================================================================\n"
     ]
    },
    {
     "name": "stderr",
     "output_type": "stream",
     "text": [
      "/home/robotics/anaconda3/envs/estif/lib/python3.6/site-packages/PIL/JpegImagePlugin.py:796: UserWarning: Image appears to be a malformed MPO file, it will be interpreted as a base JPEG file\n",
      "  \"Image appears to be a malformed MPO file, it will be \"\n",
      "/home/robotics/anaconda3/envs/estif/lib/python3.6/site-packages/PIL/JpegImagePlugin.py:796: UserWarning: Image appears to be a malformed MPO file, it will be interpreted as a base JPEG file\n",
      "  \"Image appears to be a malformed MPO file, it will be \"\n",
      "/home/robotics/anaconda3/envs/estif/lib/python3.6/site-packages/PIL/JpegImagePlugin.py:796: UserWarning: Image appears to be a malformed MPO file, it will be interpreted as a base JPEG file\n",
      "  \"Image appears to be a malformed MPO file, it will be \"\n"
     ]
    },
    {
     "name": "stdout",
     "output_type": "stream",
     "text": [
      "Iteration number: 1650/4000\n",
      "Training Accuracy: 100.000%\n",
      "Time elapsed: 0h 47m 14s\n",
      "======================================================================\n"
     ]
    },
    {
     "name": "stderr",
     "output_type": "stream",
     "text": [
      "/home/robotics/anaconda3/envs/estif/lib/python3.6/site-packages/PIL/JpegImagePlugin.py:796: UserWarning: Image appears to be a malformed MPO file, it will be interpreted as a base JPEG file\n",
      "  \"Image appears to be a malformed MPO file, it will be \"\n",
      "/home/robotics/anaconda3/envs/estif/lib/python3.6/site-packages/PIL/JpegImagePlugin.py:796: UserWarning: Image appears to be a malformed MPO file, it will be interpreted as a base JPEG file\n",
      "  \"Image appears to be a malformed MPO file, it will be \"\n"
     ]
    },
    {
     "name": "stdout",
     "output_type": "stream",
     "text": [
      "Iteration number: 1660/4000\n",
      "Training Accuracy: 100.000%\n",
      "Time elapsed: 0h 47m 31s\n",
      "======================================================================\n",
      "Iteration number: 1670/4000\n",
      "Training Accuracy: 100.000%\n",
      "Time elapsed: 0h 47m 50s\n",
      "======================================================================\n",
      "Iteration number: 1680/4000\n",
      "Training Accuracy: 100.000%\n",
      "Time elapsed: 0h 48m 9s\n",
      "======================================================================\n",
      "Iteration number: 1690/4000\n",
      "Training Accuracy: 100.000%\n",
      "Time elapsed: 0h 48m 25s\n",
      "======================================================================\n",
      "Iteration number: 1700/4000\n",
      "Training Accuracy: 100.000%\n",
      "Time elapsed: 0h 48m 43s\n",
      "======================================================================\n",
      "Iteration number: 1710/4000\n",
      "Training Accuracy: 100.000%\n",
      "Time elapsed: 0h 48m 59s\n",
      "======================================================================\n",
      "Iteration number: 1720/4000\n",
      "Training Accuracy: 100.000%\n",
      "Time elapsed: 0h 49m 16s\n",
      "======================================================================\n",
      "Iteration number: 1730/4000\n",
      "Training Accuracy: 100.000%\n",
      "Time elapsed: 0h 49m 33s\n",
      "======================================================================\n",
      "Iteration number: 1740/4000\n",
      "Training Accuracy: 100.000%\n",
      "Time elapsed: 0h 49m 50s\n",
      "======================================================================\n",
      "Iteration number: 1750/4000\n",
      "Training Accuracy: 100.000%\n",
      "Time elapsed: 0h 50m 7s\n",
      "======================================================================\n",
      "Iteration number: 1760/4000\n",
      "Training Accuracy: 100.000%\n",
      "Time elapsed: 0h 50m 24s\n",
      "======================================================================\n"
     ]
    },
    {
     "name": "stderr",
     "output_type": "stream",
     "text": [
      "/home/robotics/anaconda3/envs/estif/lib/python3.6/site-packages/PIL/JpegImagePlugin.py:796: UserWarning: Image appears to be a malformed MPO file, it will be interpreted as a base JPEG file\n",
      "  \"Image appears to be a malformed MPO file, it will be \"\n"
     ]
    },
    {
     "name": "stdout",
     "output_type": "stream",
     "text": [
      "Iteration number: 1770/4000\n",
      "Training Accuracy: 100.000%\n",
      "Time elapsed: 0h 50m 41s\n",
      "======================================================================\n"
     ]
    },
    {
     "name": "stderr",
     "output_type": "stream",
     "text": [
      "/home/robotics/anaconda3/envs/estif/lib/python3.6/site-packages/PIL/JpegImagePlugin.py:796: UserWarning: Image appears to be a malformed MPO file, it will be interpreted as a base JPEG file\n",
      "  \"Image appears to be a malformed MPO file, it will be \"\n"
     ]
    },
    {
     "name": "stdout",
     "output_type": "stream",
     "text": [
      "Iteration number: 1780/4000\n",
      "Training Accuracy: 100.000%\n",
      "Time elapsed: 0h 50m 60s\n",
      "======================================================================\n",
      "Iteration number: 1790/4000\n",
      "Training Accuracy: 100.000%\n",
      "Time elapsed: 0h 51m 16s\n",
      "======================================================================\n",
      "Iteration number: 1800/4000\n",
      "Training Accuracy: 100.000%\n",
      "Time elapsed: 0h 51m 34s\n",
      "======================================================================\n",
      "Iteration number: 1810/4000\n",
      "Training Accuracy: 100.000%\n",
      "Time elapsed: 0h 51m 50s\n",
      "======================================================================\n"
     ]
    },
    {
     "name": "stderr",
     "output_type": "stream",
     "text": [
      "/home/robotics/anaconda3/envs/estif/lib/python3.6/site-packages/PIL/JpegImagePlugin.py:796: UserWarning: Image appears to be a malformed MPO file, it will be interpreted as a base JPEG file\n",
      "  \"Image appears to be a malformed MPO file, it will be \"\n"
     ]
    },
    {
     "name": "stdout",
     "output_type": "stream",
     "text": [
      "Iteration number: 1820/4000\n",
      "Training Accuracy: 100.000%\n",
      "Time elapsed: 0h 52m 7s\n",
      "======================================================================\n",
      "Iteration number: 1830/4000\n",
      "Training Accuracy: 100.000%\n",
      "Time elapsed: 0h 52m 24s\n",
      "======================================================================\n",
      "Iteration number: 1840/4000\n",
      "Training Accuracy: 100.000%\n",
      "Time elapsed: 0h 52m 41s\n",
      "======================================================================\n"
     ]
    },
    {
     "name": "stderr",
     "output_type": "stream",
     "text": [
      "/home/robotics/anaconda3/envs/estif/lib/python3.6/site-packages/PIL/JpegImagePlugin.py:796: UserWarning: Image appears to be a malformed MPO file, it will be interpreted as a base JPEG file\n",
      "  \"Image appears to be a malformed MPO file, it will be \"\n",
      "/home/robotics/anaconda3/envs/estif/lib/python3.6/site-packages/PIL/JpegImagePlugin.py:796: UserWarning: Image appears to be a malformed MPO file, it will be interpreted as a base JPEG file\n",
      "  \"Image appears to be a malformed MPO file, it will be \"\n"
     ]
    },
    {
     "name": "stdout",
     "output_type": "stream",
     "text": [
      "Iteration number: 1850/4000\n",
      "Training Accuracy: 100.000%\n",
      "Time elapsed: 0h 52m 59s\n",
      "======================================================================\n",
      "Iteration number: 1860/4000\n",
      "Training Accuracy: 100.000%\n",
      "Time elapsed: 0h 53m 15s\n",
      "======================================================================\n"
     ]
    },
    {
     "name": "stderr",
     "output_type": "stream",
     "text": [
      "/home/robotics/anaconda3/envs/estif/lib/python3.6/site-packages/PIL/JpegImagePlugin.py:796: UserWarning: Image appears to be a malformed MPO file, it will be interpreted as a base JPEG file\n",
      "  \"Image appears to be a malformed MPO file, it will be \"\n",
      "/home/robotics/anaconda3/envs/estif/lib/python3.6/site-packages/PIL/JpegImagePlugin.py:796: UserWarning: Image appears to be a malformed MPO file, it will be interpreted as a base JPEG file\n",
      "  \"Image appears to be a malformed MPO file, it will be \"\n"
     ]
    },
    {
     "name": "stdout",
     "output_type": "stream",
     "text": [
      "Iteration number: 1870/4000\n",
      "Training Accuracy: 100.000%\n",
      "Time elapsed: 0h 53m 32s\n",
      "======================================================================\n"
     ]
    },
    {
     "name": "stderr",
     "output_type": "stream",
     "text": [
      "/home/robotics/anaconda3/envs/estif/lib/python3.6/site-packages/PIL/JpegImagePlugin.py:796: UserWarning: Image appears to be a malformed MPO file, it will be interpreted as a base JPEG file\n",
      "  \"Image appears to be a malformed MPO file, it will be \"\n"
     ]
    },
    {
     "name": "stdout",
     "output_type": "stream",
     "text": [
      "Iteration number: 1880/4000\n",
      "Training Accuracy: 100.000%\n",
      "Time elapsed: 0h 53m 49s\n",
      "======================================================================\n",
      "Iteration number: 1890/4000\n",
      "Training Accuracy: 100.000%\n",
      "Time elapsed: 0h 54m 7s\n",
      "======================================================================\n"
     ]
    },
    {
     "name": "stderr",
     "output_type": "stream",
     "text": [
      "/home/robotics/anaconda3/envs/estif/lib/python3.6/site-packages/PIL/JpegImagePlugin.py:796: UserWarning: Image appears to be a malformed MPO file, it will be interpreted as a base JPEG file\n",
      "  \"Image appears to be a malformed MPO file, it will be \"\n",
      "/home/robotics/anaconda3/envs/estif/lib/python3.6/site-packages/PIL/JpegImagePlugin.py:796: UserWarning: Image appears to be a malformed MPO file, it will be interpreted as a base JPEG file\n",
      "  \"Image appears to be a malformed MPO file, it will be \"\n"
     ]
    },
    {
     "name": "stdout",
     "output_type": "stream",
     "text": [
      "Iteration number: 1900/4000\n",
      "Training Accuracy: 100.000%\n",
      "Time elapsed: 0h 54m 24s\n",
      "======================================================================\n"
     ]
    },
    {
     "name": "stderr",
     "output_type": "stream",
     "text": [
      "/home/robotics/anaconda3/envs/estif/lib/python3.6/site-packages/PIL/JpegImagePlugin.py:796: UserWarning: Image appears to be a malformed MPO file, it will be interpreted as a base JPEG file\n",
      "  \"Image appears to be a malformed MPO file, it will be \"\n"
     ]
    },
    {
     "name": "stdout",
     "output_type": "stream",
     "text": [
      "Iteration number: 1910/4000\n",
      "Training Accuracy: 100.000%\n",
      "Time elapsed: 0h 54m 42s\n",
      "======================================================================\n"
     ]
    },
    {
     "name": "stderr",
     "output_type": "stream",
     "text": [
      "/home/robotics/anaconda3/envs/estif/lib/python3.6/site-packages/PIL/JpegImagePlugin.py:796: UserWarning: Image appears to be a malformed MPO file, it will be interpreted as a base JPEG file\n",
      "  \"Image appears to be a malformed MPO file, it will be \"\n"
     ]
    },
    {
     "name": "stdout",
     "output_type": "stream",
     "text": [
      "Iteration number: 1920/4000\n",
      "Training Accuracy: 100.000%\n",
      "Time elapsed: 0h 54m 60s\n",
      "======================================================================\n",
      "Iteration number: 1930/4000\n",
      "Training Accuracy: 100.000%\n",
      "Time elapsed: 0h 55m 18s\n",
      "======================================================================\n"
     ]
    },
    {
     "name": "stderr",
     "output_type": "stream",
     "text": [
      "/home/robotics/anaconda3/envs/estif/lib/python3.6/site-packages/PIL/JpegImagePlugin.py:796: UserWarning: Image appears to be a malformed MPO file, it will be interpreted as a base JPEG file\n",
      "  \"Image appears to be a malformed MPO file, it will be \"\n",
      "/home/robotics/anaconda3/envs/estif/lib/python3.6/site-packages/PIL/JpegImagePlugin.py:796: UserWarning: Image appears to be a malformed MPO file, it will be interpreted as a base JPEG file\n",
      "  \"Image appears to be a malformed MPO file, it will be \"\n"
     ]
    },
    {
     "name": "stdout",
     "output_type": "stream",
     "text": [
      "Iteration number: 1940/4000\n",
      "Training Accuracy: 100.000%\n",
      "Time elapsed: 0h 55m 34s\n",
      "======================================================================\n"
     ]
    },
    {
     "name": "stderr",
     "output_type": "stream",
     "text": [
      "/home/robotics/anaconda3/envs/estif/lib/python3.6/site-packages/PIL/JpegImagePlugin.py:796: UserWarning: Image appears to be a malformed MPO file, it will be interpreted as a base JPEG file\n",
      "  \"Image appears to be a malformed MPO file, it will be \"\n",
      "/home/robotics/anaconda3/envs/estif/lib/python3.6/site-packages/PIL/JpegImagePlugin.py:796: UserWarning: Image appears to be a malformed MPO file, it will be interpreted as a base JPEG file\n",
      "  \"Image appears to be a malformed MPO file, it will be \"\n"
     ]
    },
    {
     "name": "stdout",
     "output_type": "stream",
     "text": [
      "Iteration number: 1950/4000\n",
      "Training Accuracy: 100.000%\n",
      "Time elapsed: 0h 55m 52s\n",
      "======================================================================\n",
      "Iteration number: 1960/4000\n",
      "Training Accuracy: 100.000%\n",
      "Time elapsed: 0h 56m 9s\n",
      "======================================================================\n"
     ]
    },
    {
     "name": "stderr",
     "output_type": "stream",
     "text": [
      "/home/robotics/anaconda3/envs/estif/lib/python3.6/site-packages/PIL/JpegImagePlugin.py:796: UserWarning: Image appears to be a malformed MPO file, it will be interpreted as a base JPEG file\n",
      "  \"Image appears to be a malformed MPO file, it will be \"\n"
     ]
    },
    {
     "name": "stdout",
     "output_type": "stream",
     "text": [
      "Iteration number: 1970/4000\n",
      "Training Accuracy: 100.000%\n",
      "Time elapsed: 0h 56m 25s\n",
      "======================================================================\n"
     ]
    },
    {
     "name": "stderr",
     "output_type": "stream",
     "text": [
      "/home/robotics/anaconda3/envs/estif/lib/python3.6/site-packages/PIL/JpegImagePlugin.py:796: UserWarning: Image appears to be a malformed MPO file, it will be interpreted as a base JPEG file\n",
      "  \"Image appears to be a malformed MPO file, it will be \"\n"
     ]
    },
    {
     "name": "stdout",
     "output_type": "stream",
     "text": [
      "Iteration number: 1980/4000\n",
      "Training Accuracy: 100.000%\n",
      "Time elapsed: 0h 56m 42s\n",
      "======================================================================\n",
      "Iteration number: 1990/4000\n",
      "Training Accuracy: 100.000%\n",
      "Time elapsed: 0h 56m 59s\n",
      "======================================================================\n",
      "Iteration number: 2000/4000\n",
      "Training Accuracy: 100.000%\n",
      "Time elapsed: 0h 57m 17s\n",
      "======================================================================\n",
      "Iteration number: 2010/4000\n",
      "Training Accuracy: 100.000%\n",
      "Time elapsed: 0h 57m 33s\n",
      "======================================================================\n",
      "Iteration number: 2020/4000\n",
      "Training Accuracy: 100.000%\n",
      "Time elapsed: 0h 57m 50s\n",
      "======================================================================\n",
      "Iteration number: 2030/4000\n",
      "Training Accuracy: 100.000%\n",
      "Time elapsed: 0h 58m 7s\n",
      "======================================================================\n"
     ]
    },
    {
     "name": "stderr",
     "output_type": "stream",
     "text": [
      "/home/robotics/anaconda3/envs/estif/lib/python3.6/site-packages/PIL/JpegImagePlugin.py:796: UserWarning: Image appears to be a malformed MPO file, it will be interpreted as a base JPEG file\n",
      "  \"Image appears to be a malformed MPO file, it will be \"\n"
     ]
    },
    {
     "name": "stdout",
     "output_type": "stream",
     "text": [
      "Iteration number: 2040/4000\n",
      "Training Accuracy: 100.000%\n",
      "Time elapsed: 0h 58m 24s\n",
      "======================================================================\n",
      "Iteration number: 2050/4000\n",
      "Training Accuracy: 100.000%\n",
      "Time elapsed: 0h 58m 41s\n",
      "======================================================================\n",
      "Iteration number: 2060/4000\n",
      "Training Accuracy: 100.000%\n",
      "Time elapsed: 0h 58m 59s\n",
      "======================================================================\n"
     ]
    },
    {
     "name": "stderr",
     "output_type": "stream",
     "text": [
      "/home/robotics/anaconda3/envs/estif/lib/python3.6/site-packages/PIL/JpegImagePlugin.py:796: UserWarning: Image appears to be a malformed MPO file, it will be interpreted as a base JPEG file\n",
      "  \"Image appears to be a malformed MPO file, it will be \"\n"
     ]
    },
    {
     "name": "stdout",
     "output_type": "stream",
     "text": [
      "Iteration number: 2070/4000\n",
      "Training Accuracy: 100.000%\n",
      "Time elapsed: 0h 59m 16s\n",
      "======================================================================\n"
     ]
    },
    {
     "name": "stderr",
     "output_type": "stream",
     "text": [
      "/home/robotics/anaconda3/envs/estif/lib/python3.6/site-packages/PIL/JpegImagePlugin.py:796: UserWarning: Image appears to be a malformed MPO file, it will be interpreted as a base JPEG file\n",
      "  \"Image appears to be a malformed MPO file, it will be \"\n"
     ]
    },
    {
     "name": "stdout",
     "output_type": "stream",
     "text": [
      "Iteration number: 2080/4000\n",
      "Training Accuracy: 100.000%\n",
      "Time elapsed: 0h 59m 33s\n",
      "======================================================================\n",
      "Iteration number: 2090/4000\n",
      "Training Accuracy: 100.000%\n",
      "Time elapsed: 0h 59m 49s\n",
      "======================================================================\n"
     ]
    },
    {
     "name": "stderr",
     "output_type": "stream",
     "text": [
      "/home/robotics/anaconda3/envs/estif/lib/python3.6/site-packages/PIL/JpegImagePlugin.py:796: UserWarning: Image appears to be a malformed MPO file, it will be interpreted as a base JPEG file\n",
      "  \"Image appears to be a malformed MPO file, it will be \"\n"
     ]
    },
    {
     "name": "stdout",
     "output_type": "stream",
     "text": [
      "Iteration number: 2100/4000\n",
      "Training Accuracy: 100.000%\n",
      "Time elapsed: 1h 0m 6s\n",
      "======================================================================\n",
      "Iteration number: 2110/4000\n",
      "Training Accuracy: 100.000%\n",
      "Time elapsed: 1h 0m 23s\n",
      "======================================================================\n",
      "Iteration number: 2120/4000\n",
      "Training Accuracy: 100.000%\n",
      "Time elapsed: 1h 0m 39s\n",
      "======================================================================\n"
     ]
    },
    {
     "name": "stderr",
     "output_type": "stream",
     "text": [
      "/home/robotics/anaconda3/envs/estif/lib/python3.6/site-packages/PIL/JpegImagePlugin.py:796: UserWarning: Image appears to be a malformed MPO file, it will be interpreted as a base JPEG file\n",
      "  \"Image appears to be a malformed MPO file, it will be \"\n"
     ]
    },
    {
     "name": "stdout",
     "output_type": "stream",
     "text": [
      "Iteration number: 2130/4000\n",
      "Training Accuracy: 100.000%\n",
      "Time elapsed: 1h 0m 56s\n",
      "======================================================================\n",
      "Iteration number: 2140/4000\n",
      "Training Accuracy: 96.875%\n",
      "Time elapsed: 1h 1m 12s\n",
      "======================================================================\n"
     ]
    },
    {
     "name": "stderr",
     "output_type": "stream",
     "text": [
      "/home/robotics/anaconda3/envs/estif/lib/python3.6/site-packages/PIL/JpegImagePlugin.py:796: UserWarning: Image appears to be a malformed MPO file, it will be interpreted as a base JPEG file\n",
      "  \"Image appears to be a malformed MPO file, it will be \"\n"
     ]
    },
    {
     "name": "stdout",
     "output_type": "stream",
     "text": [
      "Iteration number: 2150/4000\n",
      "Training Accuracy: 100.000%\n",
      "Time elapsed: 1h 1m 28s\n",
      "======================================================================\n"
     ]
    },
    {
     "name": "stderr",
     "output_type": "stream",
     "text": [
      "/home/robotics/anaconda3/envs/estif/lib/python3.6/site-packages/PIL/JpegImagePlugin.py:796: UserWarning: Image appears to be a malformed MPO file, it will be interpreted as a base JPEG file\n",
      "  \"Image appears to be a malformed MPO file, it will be \"\n"
     ]
    },
    {
     "name": "stdout",
     "output_type": "stream",
     "text": [
      "Iteration number: 2160/4000\n",
      "Training Accuracy: 96.875%\n",
      "Time elapsed: 1h 1m 46s\n",
      "======================================================================\n",
      "Iteration number: 2170/4000\n",
      "Training Accuracy: 100.000%\n",
      "Time elapsed: 1h 2m 3s\n",
      "======================================================================\n"
     ]
    },
    {
     "name": "stderr",
     "output_type": "stream",
     "text": [
      "/home/robotics/anaconda3/envs/estif/lib/python3.6/site-packages/PIL/JpegImagePlugin.py:796: UserWarning: Image appears to be a malformed MPO file, it will be interpreted as a base JPEG file\n",
      "  \"Image appears to be a malformed MPO file, it will be \"\n"
     ]
    },
    {
     "name": "stdout",
     "output_type": "stream",
     "text": [
      "Iteration number: 2180/4000\n",
      "Training Accuracy: 100.000%\n",
      "Time elapsed: 1h 2m 22s\n",
      "======================================================================\n"
     ]
    },
    {
     "name": "stderr",
     "output_type": "stream",
     "text": [
      "/home/robotics/anaconda3/envs/estif/lib/python3.6/site-packages/PIL/JpegImagePlugin.py:796: UserWarning: Image appears to be a malformed MPO file, it will be interpreted as a base JPEG file\n",
      "  \"Image appears to be a malformed MPO file, it will be \"\n"
     ]
    },
    {
     "name": "stdout",
     "output_type": "stream",
     "text": [
      "Iteration number: 2190/4000\n",
      "Training Accuracy: 100.000%\n",
      "Time elapsed: 1h 2m 40s\n",
      "======================================================================\n",
      "Iteration number: 2200/4000\n",
      "Training Accuracy: 100.000%\n",
      "Time elapsed: 1h 2m 57s\n",
      "======================================================================\n",
      "Iteration number: 2210/4000\n",
      "Training Accuracy: 100.000%\n",
      "Time elapsed: 1h 3m 15s\n",
      "======================================================================\n",
      "Iteration number: 2220/4000\n",
      "Training Accuracy: 100.000%\n",
      "Time elapsed: 1h 3m 31s\n",
      "======================================================================\n"
     ]
    },
    {
     "name": "stderr",
     "output_type": "stream",
     "text": [
      "/home/robotics/anaconda3/envs/estif/lib/python3.6/site-packages/PIL/JpegImagePlugin.py:796: UserWarning: Image appears to be a malformed MPO file, it will be interpreted as a base JPEG file\n",
      "  \"Image appears to be a malformed MPO file, it will be \"\n"
     ]
    },
    {
     "name": "stdout",
     "output_type": "stream",
     "text": [
      "Iteration number: 2230/4000\n",
      "Training Accuracy: 100.000%\n",
      "Time elapsed: 1h 3m 47s\n",
      "======================================================================\n",
      "Iteration number: 2240/4000\n",
      "Training Accuracy: 96.875%\n",
      "Time elapsed: 1h 4m 5s\n",
      "======================================================================\n",
      "Iteration number: 2250/4000\n",
      "Training Accuracy: 100.000%\n",
      "Time elapsed: 1h 4m 23s\n",
      "======================================================================\n",
      "Iteration number: 2260/4000\n",
      "Training Accuracy: 100.000%\n",
      "Time elapsed: 1h 4m 40s\n",
      "======================================================================\n",
      "Iteration number: 2270/4000\n",
      "Training Accuracy: 100.000%\n",
      "Time elapsed: 1h 4m 56s\n",
      "======================================================================\n"
     ]
    },
    {
     "name": "stderr",
     "output_type": "stream",
     "text": [
      "/home/robotics/anaconda3/envs/estif/lib/python3.6/site-packages/PIL/JpegImagePlugin.py:796: UserWarning: Image appears to be a malformed MPO file, it will be interpreted as a base JPEG file\n",
      "  \"Image appears to be a malformed MPO file, it will be \"\n"
     ]
    },
    {
     "name": "stdout",
     "output_type": "stream",
     "text": [
      "Iteration number: 2280/4000\n",
      "Training Accuracy: 100.000%\n",
      "Time elapsed: 1h 5m 13s\n",
      "======================================================================\n",
      "Iteration number: 2290/4000\n",
      "Training Accuracy: 100.000%\n",
      "Time elapsed: 1h 5m 30s\n",
      "======================================================================\n",
      "Iteration number: 2300/4000\n",
      "Training Accuracy: 100.000%\n",
      "Time elapsed: 1h 5m 48s\n",
      "======================================================================\n",
      "Iteration number: 2310/4000\n",
      "Training Accuracy: 100.000%\n",
      "Time elapsed: 1h 6m 6s\n",
      "======================================================================\n"
     ]
    },
    {
     "name": "stderr",
     "output_type": "stream",
     "text": [
      "/home/robotics/anaconda3/envs/estif/lib/python3.6/site-packages/PIL/JpegImagePlugin.py:796: UserWarning: Image appears to be a malformed MPO file, it will be interpreted as a base JPEG file\n",
      "  \"Image appears to be a malformed MPO file, it will be \"\n"
     ]
    },
    {
     "name": "stdout",
     "output_type": "stream",
     "text": [
      "Iteration number: 2320/4000\n",
      "Training Accuracy: 100.000%\n",
      "Time elapsed: 1h 6m 22s\n",
      "======================================================================\n",
      "Iteration number: 2330/4000\n",
      "Training Accuracy: 100.000%\n",
      "Time elapsed: 1h 6m 41s\n",
      "======================================================================\n"
     ]
    },
    {
     "name": "stderr",
     "output_type": "stream",
     "text": [
      "/home/robotics/anaconda3/envs/estif/lib/python3.6/site-packages/PIL/JpegImagePlugin.py:796: UserWarning: Image appears to be a malformed MPO file, it will be interpreted as a base JPEG file\n",
      "  \"Image appears to be a malformed MPO file, it will be \"\n",
      "/home/robotics/anaconda3/envs/estif/lib/python3.6/site-packages/PIL/JpegImagePlugin.py:796: UserWarning: Image appears to be a malformed MPO file, it will be interpreted as a base JPEG file\n",
      "  \"Image appears to be a malformed MPO file, it will be \"\n"
     ]
    },
    {
     "name": "stdout",
     "output_type": "stream",
     "text": [
      "Iteration number: 2340/4000\n",
      "Training Accuracy: 100.000%\n",
      "Time elapsed: 1h 6m 57s\n",
      "======================================================================\n",
      "Iteration number: 2350/4000\n",
      "Training Accuracy: 100.000%\n",
      "Time elapsed: 1h 7m 14s\n",
      "======================================================================\n"
     ]
    },
    {
     "name": "stderr",
     "output_type": "stream",
     "text": [
      "/home/robotics/anaconda3/envs/estif/lib/python3.6/site-packages/PIL/JpegImagePlugin.py:796: UserWarning: Image appears to be a malformed MPO file, it will be interpreted as a base JPEG file\n",
      "  \"Image appears to be a malformed MPO file, it will be \"\n"
     ]
    },
    {
     "name": "stdout",
     "output_type": "stream",
     "text": [
      "Iteration number: 2360/4000\n",
      "Training Accuracy: 100.000%\n",
      "Time elapsed: 1h 7m 32s\n",
      "======================================================================\n",
      "Iteration number: 2370/4000\n",
      "Training Accuracy: 100.000%\n",
      "Time elapsed: 1h 7m 49s\n",
      "======================================================================\n",
      "Iteration number: 2380/4000\n",
      "Training Accuracy: 100.000%\n",
      "Time elapsed: 1h 8m 6s\n",
      "======================================================================\n"
     ]
    },
    {
     "name": "stderr",
     "output_type": "stream",
     "text": [
      "/home/robotics/anaconda3/envs/estif/lib/python3.6/site-packages/PIL/JpegImagePlugin.py:796: UserWarning: Image appears to be a malformed MPO file, it will be interpreted as a base JPEG file\n",
      "  \"Image appears to be a malformed MPO file, it will be \"\n"
     ]
    },
    {
     "name": "stdout",
     "output_type": "stream",
     "text": [
      "Iteration number: 2390/4000\n",
      "Training Accuracy: 100.000%\n",
      "Time elapsed: 1h 8m 23s\n",
      "======================================================================\n"
     ]
    },
    {
     "name": "stderr",
     "output_type": "stream",
     "text": [
      "/home/robotics/anaconda3/envs/estif/lib/python3.6/site-packages/PIL/JpegImagePlugin.py:796: UserWarning: Image appears to be a malformed MPO file, it will be interpreted as a base JPEG file\n",
      "  \"Image appears to be a malformed MPO file, it will be \"\n"
     ]
    },
    {
     "name": "stdout",
     "output_type": "stream",
     "text": [
      "Iteration number: 2400/4000\n",
      "Training Accuracy: 100.000%\n",
      "Time elapsed: 1h 8m 41s\n",
      "======================================================================\n"
     ]
    },
    {
     "name": "stderr",
     "output_type": "stream",
     "text": [
      "/home/robotics/anaconda3/envs/estif/lib/python3.6/site-packages/PIL/JpegImagePlugin.py:796: UserWarning: Image appears to be a malformed MPO file, it will be interpreted as a base JPEG file\n",
      "  \"Image appears to be a malformed MPO file, it will be \"\n"
     ]
    },
    {
     "name": "stdout",
     "output_type": "stream",
     "text": [
      "Iteration number: 2410/4000\n",
      "Training Accuracy: 100.000%\n",
      "Time elapsed: 1h 8m 59s\n",
      "======================================================================\n"
     ]
    },
    {
     "name": "stderr",
     "output_type": "stream",
     "text": [
      "/home/robotics/anaconda3/envs/estif/lib/python3.6/site-packages/PIL/JpegImagePlugin.py:796: UserWarning: Image appears to be a malformed MPO file, it will be interpreted as a base JPEG file\n",
      "  \"Image appears to be a malformed MPO file, it will be \"\n",
      "/home/robotics/anaconda3/envs/estif/lib/python3.6/site-packages/PIL/JpegImagePlugin.py:796: UserWarning: Image appears to be a malformed MPO file, it will be interpreted as a base JPEG file\n",
      "  \"Image appears to be a malformed MPO file, it will be \"\n"
     ]
    },
    {
     "name": "stdout",
     "output_type": "stream",
     "text": [
      "Iteration number: 2420/4000\n",
      "Training Accuracy: 100.000%\n",
      "Time elapsed: 1h 9m 16s\n",
      "======================================================================\n"
     ]
    },
    {
     "name": "stderr",
     "output_type": "stream",
     "text": [
      "/home/robotics/anaconda3/envs/estif/lib/python3.6/site-packages/PIL/JpegImagePlugin.py:796: UserWarning: Image appears to be a malformed MPO file, it will be interpreted as a base JPEG file\n",
      "  \"Image appears to be a malformed MPO file, it will be \"\n",
      "/home/robotics/anaconda3/envs/estif/lib/python3.6/site-packages/PIL/JpegImagePlugin.py:796: UserWarning: Image appears to be a malformed MPO file, it will be interpreted as a base JPEG file\n",
      "  \"Image appears to be a malformed MPO file, it will be \"\n",
      "/home/robotics/anaconda3/envs/estif/lib/python3.6/site-packages/PIL/JpegImagePlugin.py:796: UserWarning: Image appears to be a malformed MPO file, it will be interpreted as a base JPEG file\n",
      "  \"Image appears to be a malformed MPO file, it will be \"\n"
     ]
    },
    {
     "name": "stdout",
     "output_type": "stream",
     "text": [
      "Iteration number: 2430/4000\n",
      "Training Accuracy: 100.000%\n",
      "Time elapsed: 1h 9m 34s\n",
      "======================================================================\n"
     ]
    },
    {
     "name": "stderr",
     "output_type": "stream",
     "text": [
      "/home/robotics/anaconda3/envs/estif/lib/python3.6/site-packages/PIL/JpegImagePlugin.py:796: UserWarning: Image appears to be a malformed MPO file, it will be interpreted as a base JPEG file\n",
      "  \"Image appears to be a malformed MPO file, it will be \"\n"
     ]
    },
    {
     "name": "stdout",
     "output_type": "stream",
     "text": [
      "Iteration number: 2440/4000\n",
      "Training Accuracy: 100.000%\n",
      "Time elapsed: 1h 9m 51s\n",
      "======================================================================\n",
      "Iteration number: 2450/4000\n",
      "Training Accuracy: 100.000%\n",
      "Time elapsed: 1h 10m 9s\n",
      "======================================================================\n"
     ]
    },
    {
     "name": "stderr",
     "output_type": "stream",
     "text": [
      "/home/robotics/anaconda3/envs/estif/lib/python3.6/site-packages/PIL/JpegImagePlugin.py:796: UserWarning: Image appears to be a malformed MPO file, it will be interpreted as a base JPEG file\n",
      "  \"Image appears to be a malformed MPO file, it will be \"\n"
     ]
    },
    {
     "name": "stdout",
     "output_type": "stream",
     "text": [
      "Iteration number: 2460/4000\n",
      "Training Accuracy: 100.000%\n",
      "Time elapsed: 1h 10m 25s\n",
      "======================================================================\n"
     ]
    },
    {
     "name": "stderr",
     "output_type": "stream",
     "text": [
      "/home/robotics/anaconda3/envs/estif/lib/python3.6/site-packages/PIL/JpegImagePlugin.py:796: UserWarning: Image appears to be a malformed MPO file, it will be interpreted as a base JPEG file\n",
      "  \"Image appears to be a malformed MPO file, it will be \"\n",
      "/home/robotics/anaconda3/envs/estif/lib/python3.6/site-packages/PIL/JpegImagePlugin.py:796: UserWarning: Image appears to be a malformed MPO file, it will be interpreted as a base JPEG file\n",
      "  \"Image appears to be a malformed MPO file, it will be \"\n",
      "/home/robotics/anaconda3/envs/estif/lib/python3.6/site-packages/PIL/JpegImagePlugin.py:796: UserWarning: Image appears to be a malformed MPO file, it will be interpreted as a base JPEG file\n",
      "  \"Image appears to be a malformed MPO file, it will be \"\n",
      "/home/robotics/anaconda3/envs/estif/lib/python3.6/site-packages/PIL/JpegImagePlugin.py:796: UserWarning: Image appears to be a malformed MPO file, it will be interpreted as a base JPEG file\n",
      "  \"Image appears to be a malformed MPO file, it will be \"\n"
     ]
    },
    {
     "name": "stdout",
     "output_type": "stream",
     "text": [
      "Iteration number: 2470/4000\n",
      "Training Accuracy: 100.000%\n",
      "Time elapsed: 1h 10m 42s\n",
      "======================================================================\n",
      "Iteration number: 2480/4000\n",
      "Training Accuracy: 100.000%\n",
      "Time elapsed: 1h 10m 58s\n",
      "======================================================================\n",
      "Iteration number: 2490/4000\n",
      "Training Accuracy: 100.000%\n",
      "Time elapsed: 1h 11m 15s\n",
      "======================================================================\n"
     ]
    },
    {
     "name": "stderr",
     "output_type": "stream",
     "text": [
      "/home/robotics/anaconda3/envs/estif/lib/python3.6/site-packages/PIL/JpegImagePlugin.py:796: UserWarning: Image appears to be a malformed MPO file, it will be interpreted as a base JPEG file\n",
      "  \"Image appears to be a malformed MPO file, it will be \"\n",
      "/home/robotics/anaconda3/envs/estif/lib/python3.6/site-packages/PIL/JpegImagePlugin.py:796: UserWarning: Image appears to be a malformed MPO file, it will be interpreted as a base JPEG file\n",
      "  \"Image appears to be a malformed MPO file, it will be \"\n"
     ]
    },
    {
     "name": "stdout",
     "output_type": "stream",
     "text": [
      "Iteration number: 2500/4000\n",
      "Training Accuracy: 100.000%\n",
      "Time elapsed: 1h 11m 31s\n",
      "======================================================================\n",
      "Iteration number: 2510/4000\n",
      "Training Accuracy: 100.000%\n",
      "Time elapsed: 1h 11m 48s\n",
      "======================================================================\n",
      "Iteration number: 2520/4000\n",
      "Training Accuracy: 100.000%\n",
      "Time elapsed: 1h 12m 5s\n",
      "======================================================================\n",
      "Iteration number: 2530/4000\n",
      "Training Accuracy: 100.000%\n",
      "Time elapsed: 1h 12m 22s\n",
      "======================================================================\n",
      "Iteration number: 2540/4000\n",
      "Training Accuracy: 100.000%\n",
      "Time elapsed: 1h 12m 38s\n",
      "======================================================================\n",
      "Iteration number: 2550/4000\n",
      "Training Accuracy: 100.000%\n",
      "Time elapsed: 1h 12m 55s\n",
      "======================================================================\n",
      "Iteration number: 2560/4000\n",
      "Training Accuracy: 100.000%\n",
      "Time elapsed: 1h 13m 12s\n",
      "======================================================================\n"
     ]
    },
    {
     "name": "stderr",
     "output_type": "stream",
     "text": [
      "/home/robotics/anaconda3/envs/estif/lib/python3.6/site-packages/PIL/JpegImagePlugin.py:796: UserWarning: Image appears to be a malformed MPO file, it will be interpreted as a base JPEG file\n",
      "  \"Image appears to be a malformed MPO file, it will be \"\n",
      "/home/robotics/anaconda3/envs/estif/lib/python3.6/site-packages/PIL/JpegImagePlugin.py:796: UserWarning: Image appears to be a malformed MPO file, it will be interpreted as a base JPEG file\n",
      "  \"Image appears to be a malformed MPO file, it will be \"\n"
     ]
    },
    {
     "name": "stdout",
     "output_type": "stream",
     "text": [
      "Iteration number: 2570/4000\n",
      "Training Accuracy: 100.000%\n",
      "Time elapsed: 1h 13m 30s\n",
      "======================================================================\n",
      "Iteration number: 2580/4000\n",
      "Training Accuracy: 100.000%\n",
      "Time elapsed: 1h 13m 47s\n",
      "======================================================================\n"
     ]
    },
    {
     "name": "stderr",
     "output_type": "stream",
     "text": [
      "/home/robotics/anaconda3/envs/estif/lib/python3.6/site-packages/PIL/JpegImagePlugin.py:796: UserWarning: Image appears to be a malformed MPO file, it will be interpreted as a base JPEG file\n",
      "  \"Image appears to be a malformed MPO file, it will be \"\n",
      "/home/robotics/anaconda3/envs/estif/lib/python3.6/site-packages/PIL/JpegImagePlugin.py:796: UserWarning: Image appears to be a malformed MPO file, it will be interpreted as a base JPEG file\n",
      "  \"Image appears to be a malformed MPO file, it will be \"\n"
     ]
    },
    {
     "name": "stdout",
     "output_type": "stream",
     "text": [
      "Iteration number: 2590/4000\n",
      "Training Accuracy: 100.000%\n",
      "Time elapsed: 1h 14m 5s\n",
      "======================================================================\n"
     ]
    },
    {
     "name": "stderr",
     "output_type": "stream",
     "text": [
      "/home/robotics/anaconda3/envs/estif/lib/python3.6/site-packages/PIL/JpegImagePlugin.py:796: UserWarning: Image appears to be a malformed MPO file, it will be interpreted as a base JPEG file\n",
      "  \"Image appears to be a malformed MPO file, it will be \"\n"
     ]
    },
    {
     "name": "stdout",
     "output_type": "stream",
     "text": [
      "Iteration number: 2600/4000\n",
      "Training Accuracy: 100.000%\n",
      "Time elapsed: 1h 14m 24s\n",
      "======================================================================\n",
      "Iteration number: 2610/4000\n",
      "Training Accuracy: 100.000%\n",
      "Time elapsed: 1h 14m 41s\n",
      "======================================================================\n",
      "Iteration number: 2620/4000\n",
      "Training Accuracy: 100.000%\n",
      "Time elapsed: 1h 14m 59s\n",
      "======================================================================\n"
     ]
    },
    {
     "name": "stderr",
     "output_type": "stream",
     "text": [
      "/home/robotics/anaconda3/envs/estif/lib/python3.6/site-packages/PIL/JpegImagePlugin.py:796: UserWarning: Image appears to be a malformed MPO file, it will be interpreted as a base JPEG file\n",
      "  \"Image appears to be a malformed MPO file, it will be \"\n",
      "/home/robotics/anaconda3/envs/estif/lib/python3.6/site-packages/PIL/JpegImagePlugin.py:796: UserWarning: Image appears to be a malformed MPO file, it will be interpreted as a base JPEG file\n",
      "  \"Image appears to be a malformed MPO file, it will be \"\n"
     ]
    },
    {
     "name": "stdout",
     "output_type": "stream",
     "text": [
      "Iteration number: 2630/4000\n",
      "Training Accuracy: 100.000%\n",
      "Time elapsed: 1h 15m 16s\n",
      "======================================================================\n",
      "Iteration number: 2640/4000\n",
      "Training Accuracy: 100.000%\n",
      "Time elapsed: 1h 15m 33s\n",
      "======================================================================\n"
     ]
    },
    {
     "name": "stderr",
     "output_type": "stream",
     "text": [
      "/home/robotics/anaconda3/envs/estif/lib/python3.6/site-packages/PIL/JpegImagePlugin.py:796: UserWarning: Image appears to be a malformed MPO file, it will be interpreted as a base JPEG file\n",
      "  \"Image appears to be a malformed MPO file, it will be \"\n"
     ]
    },
    {
     "name": "stdout",
     "output_type": "stream",
     "text": [
      "Iteration number: 2650/4000\n",
      "Training Accuracy: 100.000%\n",
      "Time elapsed: 1h 15m 50s\n",
      "======================================================================\n",
      "Iteration number: 2660/4000\n",
      "Training Accuracy: 100.000%\n",
      "Time elapsed: 1h 16m 7s\n",
      "======================================================================\n",
      "Iteration number: 2670/4000\n",
      "Training Accuracy: 96.875%\n",
      "Time elapsed: 1h 16m 24s\n",
      "======================================================================\n",
      "Iteration number: 2680/4000\n",
      "Training Accuracy: 100.000%\n",
      "Time elapsed: 1h 16m 40s\n",
      "======================================================================\n"
     ]
    },
    {
     "name": "stderr",
     "output_type": "stream",
     "text": [
      "/home/robotics/anaconda3/envs/estif/lib/python3.6/site-packages/PIL/JpegImagePlugin.py:796: UserWarning: Image appears to be a malformed MPO file, it will be interpreted as a base JPEG file\n",
      "  \"Image appears to be a malformed MPO file, it will be \"\n"
     ]
    },
    {
     "name": "stdout",
     "output_type": "stream",
     "text": [
      "Iteration number: 2690/4000\n",
      "Training Accuracy: 100.000%\n",
      "Time elapsed: 1h 16m 57s\n",
      "======================================================================\n",
      "Iteration number: 2700/4000\n",
      "Training Accuracy: 100.000%\n",
      "Time elapsed: 1h 17m 14s\n",
      "======================================================================\n",
      "Iteration number: 2710/4000\n",
      "Training Accuracy: 100.000%\n",
      "Time elapsed: 1h 17m 32s\n",
      "======================================================================\n"
     ]
    },
    {
     "name": "stderr",
     "output_type": "stream",
     "text": [
      "/home/robotics/anaconda3/envs/estif/lib/python3.6/site-packages/PIL/JpegImagePlugin.py:796: UserWarning: Image appears to be a malformed MPO file, it will be interpreted as a base JPEG file\n",
      "  \"Image appears to be a malformed MPO file, it will be \"\n"
     ]
    },
    {
     "name": "stdout",
     "output_type": "stream",
     "text": [
      "Iteration number: 2720/4000\n",
      "Training Accuracy: 100.000%\n",
      "Time elapsed: 1h 17m 49s\n",
      "======================================================================\n",
      "Iteration number: 2730/4000\n",
      "Training Accuracy: 100.000%\n",
      "Time elapsed: 1h 18m 6s\n",
      "======================================================================\n"
     ]
    },
    {
     "name": "stderr",
     "output_type": "stream",
     "text": [
      "/home/robotics/anaconda3/envs/estif/lib/python3.6/site-packages/PIL/JpegImagePlugin.py:796: UserWarning: Image appears to be a malformed MPO file, it will be interpreted as a base JPEG file\n",
      "  \"Image appears to be a malformed MPO file, it will be \"\n",
      "/home/robotics/anaconda3/envs/estif/lib/python3.6/site-packages/PIL/JpegImagePlugin.py:796: UserWarning: Image appears to be a malformed MPO file, it will be interpreted as a base JPEG file\n",
      "  \"Image appears to be a malformed MPO file, it will be \"\n"
     ]
    },
    {
     "name": "stdout",
     "output_type": "stream",
     "text": [
      "Iteration number: 2740/4000\n",
      "Training Accuracy: 100.000%\n",
      "Time elapsed: 1h 18m 22s\n",
      "======================================================================\n",
      "Iteration number: 2750/4000\n",
      "Training Accuracy: 100.000%\n",
      "Time elapsed: 1h 18m 40s\n",
      "======================================================================\n",
      "Iteration number: 2760/4000\n",
      "Training Accuracy: 96.875%\n",
      "Time elapsed: 1h 18m 55s\n",
      "======================================================================\n",
      "Iteration number: 2770/4000\n",
      "Training Accuracy: 100.000%\n",
      "Time elapsed: 1h 19m 14s\n",
      "======================================================================\n",
      "Iteration number: 2780/4000\n",
      "Training Accuracy: 100.000%\n",
      "Time elapsed: 1h 19m 31s\n",
      "======================================================================\n",
      "Iteration number: 2790/4000\n",
      "Training Accuracy: 100.000%\n",
      "Time elapsed: 1h 19m 49s\n",
      "======================================================================\n",
      "Iteration number: 2800/4000\n",
      "Training Accuracy: 100.000%\n",
      "Time elapsed: 1h 20m 6s\n",
      "======================================================================\n",
      "Iteration number: 2810/4000\n",
      "Training Accuracy: 100.000%\n",
      "Time elapsed: 1h 20m 23s\n",
      "======================================================================\n",
      "Iteration number: 2820/4000\n",
      "Training Accuracy: 100.000%\n",
      "Time elapsed: 1h 20m 41s\n",
      "======================================================================\n"
     ]
    },
    {
     "name": "stderr",
     "output_type": "stream",
     "text": [
      "/home/robotics/anaconda3/envs/estif/lib/python3.6/site-packages/PIL/JpegImagePlugin.py:796: UserWarning: Image appears to be a malformed MPO file, it will be interpreted as a base JPEG file\n",
      "  \"Image appears to be a malformed MPO file, it will be \"\n"
     ]
    },
    {
     "name": "stdout",
     "output_type": "stream",
     "text": [
      "Iteration number: 2830/4000\n",
      "Training Accuracy: 100.000%\n",
      "Time elapsed: 1h 20m 59s\n",
      "======================================================================\n"
     ]
    },
    {
     "name": "stderr",
     "output_type": "stream",
     "text": [
      "/home/robotics/anaconda3/envs/estif/lib/python3.6/site-packages/PIL/JpegImagePlugin.py:796: UserWarning: Image appears to be a malformed MPO file, it will be interpreted as a base JPEG file\n",
      "  \"Image appears to be a malformed MPO file, it will be \"\n",
      "/home/robotics/anaconda3/envs/estif/lib/python3.6/site-packages/PIL/JpegImagePlugin.py:796: UserWarning: Image appears to be a malformed MPO file, it will be interpreted as a base JPEG file\n",
      "  \"Image appears to be a malformed MPO file, it will be \"\n"
     ]
    },
    {
     "name": "stdout",
     "output_type": "stream",
     "text": [
      "Iteration number: 2840/4000\n",
      "Training Accuracy: 100.000%\n",
      "Time elapsed: 1h 21m 17s\n",
      "======================================================================\n",
      "Iteration number: 2850/4000\n",
      "Training Accuracy: 100.000%\n",
      "Time elapsed: 1h 21m 34s\n",
      "======================================================================\n"
     ]
    },
    {
     "name": "stderr",
     "output_type": "stream",
     "text": [
      "/home/robotics/anaconda3/envs/estif/lib/python3.6/site-packages/PIL/JpegImagePlugin.py:796: UserWarning: Image appears to be a malformed MPO file, it will be interpreted as a base JPEG file\n",
      "  \"Image appears to be a malformed MPO file, it will be \"\n"
     ]
    },
    {
     "name": "stdout",
     "output_type": "stream",
     "text": [
      "Iteration number: 2860/4000\n",
      "Training Accuracy: 100.000%\n",
      "Time elapsed: 1h 21m 52s\n",
      "======================================================================\n"
     ]
    },
    {
     "name": "stderr",
     "output_type": "stream",
     "text": [
      "/home/robotics/anaconda3/envs/estif/lib/python3.6/site-packages/PIL/JpegImagePlugin.py:796: UserWarning: Image appears to be a malformed MPO file, it will be interpreted as a base JPEG file\n",
      "  \"Image appears to be a malformed MPO file, it will be \"\n"
     ]
    },
    {
     "name": "stdout",
     "output_type": "stream",
     "text": [
      "Iteration number: 2870/4000\n",
      "Training Accuracy: 100.000%\n",
      "Time elapsed: 1h 22m 11s\n",
      "======================================================================\n",
      "Iteration number: 2880/4000\n",
      "Training Accuracy: 100.000%\n",
      "Time elapsed: 1h 22m 28s\n",
      "======================================================================\n",
      "Iteration number: 2890/4000\n",
      "Training Accuracy: 100.000%\n",
      "Time elapsed: 1h 22m 45s\n",
      "======================================================================\n",
      "Iteration number: 2900/4000\n",
      "Training Accuracy: 100.000%\n",
      "Time elapsed: 1h 23m 4s\n",
      "======================================================================\n"
     ]
    },
    {
     "name": "stderr",
     "output_type": "stream",
     "text": [
      "/home/robotics/anaconda3/envs/estif/lib/python3.6/site-packages/PIL/JpegImagePlugin.py:796: UserWarning: Image appears to be a malformed MPO file, it will be interpreted as a base JPEG file\n",
      "  \"Image appears to be a malformed MPO file, it will be \"\n"
     ]
    },
    {
     "name": "stdout",
     "output_type": "stream",
     "text": [
      "Iteration number: 2910/4000\n",
      "Training Accuracy: 100.000%\n",
      "Time elapsed: 1h 23m 21s\n",
      "======================================================================\n",
      "Iteration number: 2920/4000\n",
      "Training Accuracy: 100.000%\n",
      "Time elapsed: 1h 23m 37s\n",
      "======================================================================\n",
      "Iteration number: 2930/4000\n",
      "Training Accuracy: 100.000%\n",
      "Time elapsed: 1h 23m 55s\n",
      "======================================================================\n"
     ]
    },
    {
     "name": "stderr",
     "output_type": "stream",
     "text": [
      "/home/robotics/anaconda3/envs/estif/lib/python3.6/site-packages/PIL/JpegImagePlugin.py:796: UserWarning: Image appears to be a malformed MPO file, it will be interpreted as a base JPEG file\n",
      "  \"Image appears to be a malformed MPO file, it will be \"\n"
     ]
    },
    {
     "name": "stdout",
     "output_type": "stream",
     "text": [
      "Iteration number: 2940/4000\n",
      "Training Accuracy: 100.000%\n",
      "Time elapsed: 1h 24m 12s\n",
      "======================================================================\n"
     ]
    },
    {
     "name": "stderr",
     "output_type": "stream",
     "text": [
      "/home/robotics/anaconda3/envs/estif/lib/python3.6/site-packages/PIL/JpegImagePlugin.py:796: UserWarning: Image appears to be a malformed MPO file, it will be interpreted as a base JPEG file\n",
      "  \"Image appears to be a malformed MPO file, it will be \"\n",
      "/home/robotics/anaconda3/envs/estif/lib/python3.6/site-packages/PIL/JpegImagePlugin.py:796: UserWarning: Image appears to be a malformed MPO file, it will be interpreted as a base JPEG file\n",
      "  \"Image appears to be a malformed MPO file, it will be \"\n"
     ]
    },
    {
     "name": "stdout",
     "output_type": "stream",
     "text": [
      "Iteration number: 2950/4000\n",
      "Training Accuracy: 100.000%\n",
      "Time elapsed: 1h 24m 29s\n",
      "======================================================================\n"
     ]
    },
    {
     "name": "stderr",
     "output_type": "stream",
     "text": [
      "/home/robotics/anaconda3/envs/estif/lib/python3.6/site-packages/PIL/JpegImagePlugin.py:796: UserWarning: Image appears to be a malformed MPO file, it will be interpreted as a base JPEG file\n",
      "  \"Image appears to be a malformed MPO file, it will be \"\n"
     ]
    },
    {
     "name": "stdout",
     "output_type": "stream",
     "text": [
      "Iteration number: 2960/4000\n",
      "Training Accuracy: 100.000%\n",
      "Time elapsed: 1h 24m 46s\n",
      "======================================================================\n"
     ]
    },
    {
     "name": "stderr",
     "output_type": "stream",
     "text": [
      "/home/robotics/anaconda3/envs/estif/lib/python3.6/site-packages/PIL/JpegImagePlugin.py:796: UserWarning: Image appears to be a malformed MPO file, it will be interpreted as a base JPEG file\n",
      "  \"Image appears to be a malformed MPO file, it will be \"\n"
     ]
    },
    {
     "name": "stdout",
     "output_type": "stream",
     "text": [
      "Iteration number: 2970/4000\n",
      "Training Accuracy: 100.000%\n",
      "Time elapsed: 1h 25m 3s\n",
      "======================================================================\n"
     ]
    },
    {
     "name": "stderr",
     "output_type": "stream",
     "text": [
      "/home/robotics/anaconda3/envs/estif/lib/python3.6/site-packages/PIL/JpegImagePlugin.py:796: UserWarning: Image appears to be a malformed MPO file, it will be interpreted as a base JPEG file\n",
      "  \"Image appears to be a malformed MPO file, it will be \"\n"
     ]
    },
    {
     "name": "stdout",
     "output_type": "stream",
     "text": [
      "Iteration number: 2980/4000\n",
      "Training Accuracy: 100.000%\n",
      "Time elapsed: 1h 25m 19s\n",
      "======================================================================\n"
     ]
    },
    {
     "name": "stderr",
     "output_type": "stream",
     "text": [
      "/home/robotics/anaconda3/envs/estif/lib/python3.6/site-packages/PIL/JpegImagePlugin.py:796: UserWarning: Image appears to be a malformed MPO file, it will be interpreted as a base JPEG file\n",
      "  \"Image appears to be a malformed MPO file, it will be \"\n"
     ]
    },
    {
     "name": "stdout",
     "output_type": "stream",
     "text": [
      "Iteration number: 2990/4000\n",
      "Training Accuracy: 100.000%\n",
      "Time elapsed: 1h 25m 36s\n",
      "======================================================================\n",
      "Iteration number: 3000/4000\n",
      "Training Accuracy: 100.000%\n",
      "Time elapsed: 1h 25m 55s\n",
      "======================================================================\n",
      "Iteration number: 3010/4000\n",
      "Training Accuracy: 100.000%\n",
      "Time elapsed: 1h 26m 12s\n",
      "======================================================================\n"
     ]
    },
    {
     "name": "stderr",
     "output_type": "stream",
     "text": [
      "/home/robotics/anaconda3/envs/estif/lib/python3.6/site-packages/PIL/JpegImagePlugin.py:796: UserWarning: Image appears to be a malformed MPO file, it will be interpreted as a base JPEG file\n",
      "  \"Image appears to be a malformed MPO file, it will be \"\n"
     ]
    },
    {
     "name": "stdout",
     "output_type": "stream",
     "text": [
      "Iteration number: 3020/4000\n",
      "Training Accuracy: 100.000%\n",
      "Time elapsed: 1h 26m 29s\n",
      "======================================================================\n"
     ]
    },
    {
     "name": "stderr",
     "output_type": "stream",
     "text": [
      "/home/robotics/anaconda3/envs/estif/lib/python3.6/site-packages/PIL/JpegImagePlugin.py:796: UserWarning: Image appears to be a malformed MPO file, it will be interpreted as a base JPEG file\n",
      "  \"Image appears to be a malformed MPO file, it will be \"\n"
     ]
    },
    {
     "name": "stdout",
     "output_type": "stream",
     "text": [
      "Iteration number: 3030/4000\n",
      "Training Accuracy: 100.000%\n",
      "Time elapsed: 1h 26m 46s\n",
      "======================================================================\n",
      "Iteration number: 3040/4000\n",
      "Training Accuracy: 100.000%\n",
      "Time elapsed: 1h 27m 4s\n",
      "======================================================================\n"
     ]
    },
    {
     "name": "stderr",
     "output_type": "stream",
     "text": [
      "/home/robotics/anaconda3/envs/estif/lib/python3.6/site-packages/PIL/JpegImagePlugin.py:796: UserWarning: Image appears to be a malformed MPO file, it will be interpreted as a base JPEG file\n",
      "  \"Image appears to be a malformed MPO file, it will be \"\n"
     ]
    },
    {
     "name": "stdout",
     "output_type": "stream",
     "text": [
      "Iteration number: 3050/4000\n",
      "Training Accuracy: 100.000%\n",
      "Time elapsed: 1h 27m 23s\n",
      "======================================================================\n"
     ]
    },
    {
     "name": "stderr",
     "output_type": "stream",
     "text": [
      "/home/robotics/anaconda3/envs/estif/lib/python3.6/site-packages/PIL/JpegImagePlugin.py:796: UserWarning: Image appears to be a malformed MPO file, it will be interpreted as a base JPEG file\n",
      "  \"Image appears to be a malformed MPO file, it will be \"\n"
     ]
    },
    {
     "name": "stdout",
     "output_type": "stream",
     "text": [
      "Iteration number: 3060/4000\n",
      "Training Accuracy: 100.000%\n",
      "Time elapsed: 1h 27m 40s\n",
      "======================================================================\n",
      "Iteration number: 3070/4000\n",
      "Training Accuracy: 100.000%\n",
      "Time elapsed: 1h 27m 57s\n",
      "======================================================================\n"
     ]
    },
    {
     "name": "stderr",
     "output_type": "stream",
     "text": [
      "/home/robotics/anaconda3/envs/estif/lib/python3.6/site-packages/PIL/JpegImagePlugin.py:796: UserWarning: Image appears to be a malformed MPO file, it will be interpreted as a base JPEG file\n",
      "  \"Image appears to be a malformed MPO file, it will be \"\n"
     ]
    },
    {
     "name": "stdout",
     "output_type": "stream",
     "text": [
      "Iteration number: 3080/4000\n",
      "Training Accuracy: 100.000%\n",
      "Time elapsed: 1h 28m 14s\n",
      "======================================================================\n"
     ]
    },
    {
     "name": "stderr",
     "output_type": "stream",
     "text": [
      "/home/robotics/anaconda3/envs/estif/lib/python3.6/site-packages/PIL/JpegImagePlugin.py:796: UserWarning: Image appears to be a malformed MPO file, it will be interpreted as a base JPEG file\n",
      "  \"Image appears to be a malformed MPO file, it will be \"\n"
     ]
    },
    {
     "name": "stdout",
     "output_type": "stream",
     "text": [
      "Iteration number: 3090/4000\n",
      "Training Accuracy: 100.000%\n",
      "Time elapsed: 1h 28m 32s\n",
      "======================================================================\n",
      "Iteration number: 3100/4000\n",
      "Training Accuracy: 100.000%\n",
      "Time elapsed: 1h 28m 49s\n",
      "======================================================================\n"
     ]
    },
    {
     "name": "stderr",
     "output_type": "stream",
     "text": [
      "/home/robotics/anaconda3/envs/estif/lib/python3.6/site-packages/PIL/JpegImagePlugin.py:796: UserWarning: Image appears to be a malformed MPO file, it will be interpreted as a base JPEG file\n",
      "  \"Image appears to be a malformed MPO file, it will be \"\n"
     ]
    },
    {
     "name": "stdout",
     "output_type": "stream",
     "text": [
      "Iteration number: 3110/4000\n",
      "Training Accuracy: 100.000%\n",
      "Time elapsed: 1h 29m 7s\n",
      "======================================================================\n"
     ]
    },
    {
     "name": "stderr",
     "output_type": "stream",
     "text": [
      "/home/robotics/anaconda3/envs/estif/lib/python3.6/site-packages/PIL/JpegImagePlugin.py:796: UserWarning: Image appears to be a malformed MPO file, it will be interpreted as a base JPEG file\n",
      "  \"Image appears to be a malformed MPO file, it will be \"\n"
     ]
    },
    {
     "name": "stdout",
     "output_type": "stream",
     "text": [
      "Iteration number: 3120/4000\n",
      "Training Accuracy: 100.000%\n",
      "Time elapsed: 1h 29m 24s\n",
      "======================================================================\n",
      "Iteration number: 3130/4000\n",
      "Training Accuracy: 100.000%\n",
      "Time elapsed: 1h 29m 41s\n",
      "======================================================================\n"
     ]
    },
    {
     "name": "stderr",
     "output_type": "stream",
     "text": [
      "/home/robotics/anaconda3/envs/estif/lib/python3.6/site-packages/PIL/JpegImagePlugin.py:796: UserWarning: Image appears to be a malformed MPO file, it will be interpreted as a base JPEG file\n",
      "  \"Image appears to be a malformed MPO file, it will be \"\n"
     ]
    },
    {
     "name": "stdout",
     "output_type": "stream",
     "text": [
      "Iteration number: 3140/4000\n",
      "Training Accuracy: 100.000%\n",
      "Time elapsed: 1h 29m 57s\n",
      "======================================================================\n",
      "Iteration number: 3150/4000\n",
      "Training Accuracy: 100.000%\n",
      "Time elapsed: 1h 30m 15s\n",
      "======================================================================\n"
     ]
    },
    {
     "name": "stderr",
     "output_type": "stream",
     "text": [
      "/home/robotics/anaconda3/envs/estif/lib/python3.6/site-packages/PIL/JpegImagePlugin.py:796: UserWarning: Image appears to be a malformed MPO file, it will be interpreted as a base JPEG file\n",
      "  \"Image appears to be a malformed MPO file, it will be \"\n"
     ]
    },
    {
     "name": "stdout",
     "output_type": "stream",
     "text": [
      "Iteration number: 3160/4000\n",
      "Training Accuracy: 100.000%\n",
      "Time elapsed: 1h 30m 32s\n",
      "======================================================================\n"
     ]
    },
    {
     "name": "stderr",
     "output_type": "stream",
     "text": [
      "/home/robotics/anaconda3/envs/estif/lib/python3.6/site-packages/PIL/JpegImagePlugin.py:796: UserWarning: Image appears to be a malformed MPO file, it will be interpreted as a base JPEG file\n",
      "  \"Image appears to be a malformed MPO file, it will be \"\n"
     ]
    },
    {
     "name": "stdout",
     "output_type": "stream",
     "text": [
      "Iteration number: 3170/4000\n",
      "Training Accuracy: 100.000%\n",
      "Time elapsed: 1h 30m 49s\n",
      "======================================================================\n",
      "Iteration number: 3180/4000\n",
      "Training Accuracy: 100.000%\n",
      "Time elapsed: 1h 31m 8s\n",
      "======================================================================\n",
      "Iteration number: 3190/4000\n",
      "Training Accuracy: 100.000%\n",
      "Time elapsed: 1h 31m 25s\n",
      "======================================================================\n",
      "Iteration number: 3200/4000\n",
      "Training Accuracy: 100.000%\n",
      "Time elapsed: 1h 31m 41s\n",
      "======================================================================\n"
     ]
    },
    {
     "name": "stderr",
     "output_type": "stream",
     "text": [
      "/home/robotics/anaconda3/envs/estif/lib/python3.6/site-packages/PIL/JpegImagePlugin.py:796: UserWarning: Image appears to be a malformed MPO file, it will be interpreted as a base JPEG file\n",
      "  \"Image appears to be a malformed MPO file, it will be \"\n"
     ]
    },
    {
     "name": "stdout",
     "output_type": "stream",
     "text": [
      "Iteration number: 3210/4000\n",
      "Training Accuracy: 100.000%\n",
      "Time elapsed: 1h 31m 59s\n",
      "======================================================================\n",
      "Iteration number: 3220/4000\n",
      "Training Accuracy: 100.000%\n",
      "Time elapsed: 1h 32m 16s\n",
      "======================================================================\n",
      "Iteration number: 3230/4000\n",
      "Training Accuracy: 100.000%\n",
      "Time elapsed: 1h 32m 33s\n",
      "======================================================================\n",
      "Iteration number: 3240/4000\n",
      "Training Accuracy: 100.000%\n",
      "Time elapsed: 1h 32m 50s\n",
      "======================================================================\n",
      "Iteration number: 3250/4000\n",
      "Training Accuracy: 100.000%\n",
      "Time elapsed: 1h 33m 7s\n",
      "======================================================================\n"
     ]
    },
    {
     "name": "stderr",
     "output_type": "stream",
     "text": [
      "/home/robotics/anaconda3/envs/estif/lib/python3.6/site-packages/PIL/JpegImagePlugin.py:796: UserWarning: Image appears to be a malformed MPO file, it will be interpreted as a base JPEG file\n",
      "  \"Image appears to be a malformed MPO file, it will be \"\n"
     ]
    },
    {
     "name": "stdout",
     "output_type": "stream",
     "text": [
      "Iteration number: 3260/4000\n",
      "Training Accuracy: 100.000%\n",
      "Time elapsed: 1h 33m 24s\n",
      "======================================================================\n"
     ]
    },
    {
     "name": "stderr",
     "output_type": "stream",
     "text": [
      "/home/robotics/anaconda3/envs/estif/lib/python3.6/site-packages/PIL/JpegImagePlugin.py:796: UserWarning: Image appears to be a malformed MPO file, it will be interpreted as a base JPEG file\n",
      "  \"Image appears to be a malformed MPO file, it will be \"\n"
     ]
    },
    {
     "name": "stdout",
     "output_type": "stream",
     "text": [
      "Iteration number: 3270/4000\n",
      "Training Accuracy: 100.000%\n",
      "Time elapsed: 1h 33m 41s\n",
      "======================================================================\n",
      "Iteration number: 3280/4000\n",
      "Training Accuracy: 100.000%\n",
      "Time elapsed: 1h 33m 57s\n",
      "======================================================================\n"
     ]
    },
    {
     "name": "stderr",
     "output_type": "stream",
     "text": [
      "/home/robotics/anaconda3/envs/estif/lib/python3.6/site-packages/PIL/JpegImagePlugin.py:796: UserWarning: Image appears to be a malformed MPO file, it will be interpreted as a base JPEG file\n",
      "  \"Image appears to be a malformed MPO file, it will be \"\n"
     ]
    },
    {
     "name": "stdout",
     "output_type": "stream",
     "text": [
      "Iteration number: 3290/4000\n",
      "Training Accuracy: 100.000%\n",
      "Time elapsed: 1h 34m 14s\n",
      "======================================================================\n"
     ]
    },
    {
     "name": "stderr",
     "output_type": "stream",
     "text": [
      "/home/robotics/anaconda3/envs/estif/lib/python3.6/site-packages/PIL/JpegImagePlugin.py:796: UserWarning: Image appears to be a malformed MPO file, it will be interpreted as a base JPEG file\n",
      "  \"Image appears to be a malformed MPO file, it will be \"\n",
      "/home/robotics/anaconda3/envs/estif/lib/python3.6/site-packages/PIL/JpegImagePlugin.py:796: UserWarning: Image appears to be a malformed MPO file, it will be interpreted as a base JPEG file\n",
      "  \"Image appears to be a malformed MPO file, it will be \"\n",
      "/home/robotics/anaconda3/envs/estif/lib/python3.6/site-packages/PIL/JpegImagePlugin.py:796: UserWarning: Image appears to be a malformed MPO file, it will be interpreted as a base JPEG file\n",
      "  \"Image appears to be a malformed MPO file, it will be \"\n"
     ]
    },
    {
     "name": "stdout",
     "output_type": "stream",
     "text": [
      "Iteration number: 3300/4000\n",
      "Training Accuracy: 100.000%\n",
      "Time elapsed: 1h 34m 31s\n",
      "======================================================================\n",
      "Iteration number: 3310/4000\n",
      "Training Accuracy: 100.000%\n",
      "Time elapsed: 1h 34m 48s\n",
      "======================================================================\n"
     ]
    },
    {
     "name": "stderr",
     "output_type": "stream",
     "text": [
      "/home/robotics/anaconda3/envs/estif/lib/python3.6/site-packages/PIL/JpegImagePlugin.py:796: UserWarning: Image appears to be a malformed MPO file, it will be interpreted as a base JPEG file\n",
      "  \"Image appears to be a malformed MPO file, it will be \"\n",
      "/home/robotics/anaconda3/envs/estif/lib/python3.6/site-packages/PIL/JpegImagePlugin.py:796: UserWarning: Image appears to be a malformed MPO file, it will be interpreted as a base JPEG file\n",
      "  \"Image appears to be a malformed MPO file, it will be \"\n",
      "/home/robotics/anaconda3/envs/estif/lib/python3.6/site-packages/PIL/JpegImagePlugin.py:796: UserWarning: Image appears to be a malformed MPO file, it will be interpreted as a base JPEG file\n",
      "  \"Image appears to be a malformed MPO file, it will be \"\n"
     ]
    },
    {
     "name": "stdout",
     "output_type": "stream",
     "text": [
      "Iteration number: 3320/4000\n",
      "Training Accuracy: 100.000%\n",
      "Time elapsed: 1h 35m 6s\n",
      "======================================================================\n",
      "Iteration number: 3330/4000\n",
      "Training Accuracy: 100.000%\n",
      "Time elapsed: 1h 35m 24s\n",
      "======================================================================\n",
      "Iteration number: 3340/4000\n",
      "Training Accuracy: 100.000%\n",
      "Time elapsed: 1h 35m 42s\n",
      "======================================================================\n",
      "Iteration number: 3350/4000\n",
      "Training Accuracy: 100.000%\n",
      "Time elapsed: 1h 35m 59s\n",
      "======================================================================\n",
      "Iteration number: 3360/4000\n",
      "Training Accuracy: 100.000%\n",
      "Time elapsed: 1h 36m 16s\n",
      "======================================================================\n"
     ]
    },
    {
     "name": "stderr",
     "output_type": "stream",
     "text": [
      "/home/robotics/anaconda3/envs/estif/lib/python3.6/site-packages/PIL/JpegImagePlugin.py:796: UserWarning: Image appears to be a malformed MPO file, it will be interpreted as a base JPEG file\n",
      "  \"Image appears to be a malformed MPO file, it will be \"\n"
     ]
    },
    {
     "name": "stdout",
     "output_type": "stream",
     "text": [
      "Iteration number: 3370/4000\n",
      "Training Accuracy: 100.000%\n",
      "Time elapsed: 1h 36m 32s\n",
      "======================================================================\n",
      "Iteration number: 3380/4000\n",
      "Training Accuracy: 100.000%\n",
      "Time elapsed: 1h 36m 50s\n",
      "======================================================================\n",
      "Iteration number: 3390/4000\n",
      "Training Accuracy: 100.000%\n",
      "Time elapsed: 1h 37m 7s\n",
      "======================================================================\n"
     ]
    },
    {
     "name": "stderr",
     "output_type": "stream",
     "text": [
      "/home/robotics/anaconda3/envs/estif/lib/python3.6/site-packages/PIL/JpegImagePlugin.py:796: UserWarning: Image appears to be a malformed MPO file, it will be interpreted as a base JPEG file\n",
      "  \"Image appears to be a malformed MPO file, it will be \"\n"
     ]
    },
    {
     "name": "stdout",
     "output_type": "stream",
     "text": [
      "Iteration number: 3400/4000\n",
      "Training Accuracy: 100.000%\n",
      "Time elapsed: 1h 37m 23s\n",
      "======================================================================\n",
      "Iteration number: 3410/4000\n",
      "Training Accuracy: 100.000%\n",
      "Time elapsed: 1h 37m 40s\n",
      "======================================================================\n"
     ]
    },
    {
     "name": "stderr",
     "output_type": "stream",
     "text": [
      "/home/robotics/anaconda3/envs/estif/lib/python3.6/site-packages/PIL/JpegImagePlugin.py:796: UserWarning: Image appears to be a malformed MPO file, it will be interpreted as a base JPEG file\n",
      "  \"Image appears to be a malformed MPO file, it will be \"\n"
     ]
    },
    {
     "name": "stdout",
     "output_type": "stream",
     "text": [
      "Iteration number: 3420/4000\n",
      "Training Accuracy: 100.000%\n",
      "Time elapsed: 1h 37m 57s\n",
      "======================================================================\n",
      "Iteration number: 3430/4000\n",
      "Training Accuracy: 100.000%\n",
      "Time elapsed: 1h 38m 14s\n",
      "======================================================================\n",
      "Iteration number: 3440/4000\n",
      "Training Accuracy: 100.000%\n",
      "Time elapsed: 1h 38m 32s\n",
      "======================================================================\n",
      "Iteration number: 3450/4000\n",
      "Training Accuracy: 100.000%\n",
      "Time elapsed: 1h 38m 50s\n",
      "======================================================================\n",
      "Iteration number: 3460/4000\n",
      "Training Accuracy: 100.000%\n",
      "Time elapsed: 1h 39m 8s\n",
      "======================================================================\n",
      "Iteration number: 3470/4000\n",
      "Training Accuracy: 100.000%\n",
      "Time elapsed: 1h 39m 27s\n",
      "======================================================================\n"
     ]
    },
    {
     "name": "stderr",
     "output_type": "stream",
     "text": [
      "/home/robotics/anaconda3/envs/estif/lib/python3.6/site-packages/PIL/JpegImagePlugin.py:796: UserWarning: Image appears to be a malformed MPO file, it will be interpreted as a base JPEG file\n",
      "  \"Image appears to be a malformed MPO file, it will be \"\n"
     ]
    },
    {
     "name": "stdout",
     "output_type": "stream",
     "text": [
      "Iteration number: 3480/4000\n",
      "Training Accuracy: 100.000%\n",
      "Time elapsed: 1h 39m 44s\n",
      "======================================================================\n",
      "Iteration number: 3490/4000\n",
      "Training Accuracy: 100.000%\n",
      "Time elapsed: 1h 40m 1s\n",
      "======================================================================\n"
     ]
    },
    {
     "name": "stderr",
     "output_type": "stream",
     "text": [
      "/home/robotics/anaconda3/envs/estif/lib/python3.6/site-packages/PIL/JpegImagePlugin.py:796: UserWarning: Image appears to be a malformed MPO file, it will be interpreted as a base JPEG file\n",
      "  \"Image appears to be a malformed MPO file, it will be \"\n"
     ]
    },
    {
     "name": "stdout",
     "output_type": "stream",
     "text": [
      "Iteration number: 3500/4000\n",
      "Training Accuracy: 100.000%\n",
      "Time elapsed: 1h 40m 18s\n",
      "======================================================================\n"
     ]
    },
    {
     "name": "stderr",
     "output_type": "stream",
     "text": [
      "/home/robotics/anaconda3/envs/estif/lib/python3.6/site-packages/PIL/JpegImagePlugin.py:796: UserWarning: Image appears to be a malformed MPO file, it will be interpreted as a base JPEG file\n",
      "  \"Image appears to be a malformed MPO file, it will be \"\n"
     ]
    },
    {
     "name": "stdout",
     "output_type": "stream",
     "text": [
      "Iteration number: 3510/4000\n",
      "Training Accuracy: 100.000%\n",
      "Time elapsed: 1h 40m 34s\n",
      "======================================================================\n",
      "Iteration number: 3520/4000\n",
      "Training Accuracy: 100.000%\n",
      "Time elapsed: 1h 40m 51s\n",
      "======================================================================\n",
      "Iteration number: 3530/4000\n",
      "Training Accuracy: 100.000%\n",
      "Time elapsed: 1h 41m 8s\n",
      "======================================================================\n",
      "Iteration number: 3540/4000\n",
      "Training Accuracy: 100.000%\n",
      "Time elapsed: 1h 41m 26s\n",
      "======================================================================\n"
     ]
    },
    {
     "name": "stderr",
     "output_type": "stream",
     "text": [
      "/home/robotics/anaconda3/envs/estif/lib/python3.6/site-packages/PIL/JpegImagePlugin.py:796: UserWarning: Image appears to be a malformed MPO file, it will be interpreted as a base JPEG file\n",
      "  \"Image appears to be a malformed MPO file, it will be \"\n"
     ]
    },
    {
     "name": "stdout",
     "output_type": "stream",
     "text": [
      "Iteration number: 3550/4000\n",
      "Training Accuracy: 100.000%\n",
      "Time elapsed: 1h 41m 45s\n",
      "======================================================================\n"
     ]
    },
    {
     "name": "stderr",
     "output_type": "stream",
     "text": [
      "/home/robotics/anaconda3/envs/estif/lib/python3.6/site-packages/PIL/JpegImagePlugin.py:796: UserWarning: Image appears to be a malformed MPO file, it will be interpreted as a base JPEG file\n",
      "  \"Image appears to be a malformed MPO file, it will be \"\n"
     ]
    },
    {
     "name": "stdout",
     "output_type": "stream",
     "text": [
      "Iteration number: 3560/4000\n",
      "Training Accuracy: 100.000%\n",
      "Time elapsed: 1h 42m 2s\n",
      "======================================================================\n"
     ]
    },
    {
     "name": "stderr",
     "output_type": "stream",
     "text": [
      "/home/robotics/anaconda3/envs/estif/lib/python3.6/site-packages/PIL/JpegImagePlugin.py:796: UserWarning: Image appears to be a malformed MPO file, it will be interpreted as a base JPEG file\n",
      "  \"Image appears to be a malformed MPO file, it will be \"\n"
     ]
    },
    {
     "name": "stdout",
     "output_type": "stream",
     "text": [
      "Iteration number: 3570/4000\n",
      "Training Accuracy: 100.000%\n",
      "Time elapsed: 1h 42m 19s\n",
      "======================================================================\n",
      "Iteration number: 3580/4000\n",
      "Training Accuracy: 100.000%\n",
      "Time elapsed: 1h 42m 37s\n",
      "======================================================================\n"
     ]
    },
    {
     "name": "stderr",
     "output_type": "stream",
     "text": [
      "/home/robotics/anaconda3/envs/estif/lib/python3.6/site-packages/PIL/JpegImagePlugin.py:796: UserWarning: Image appears to be a malformed MPO file, it will be interpreted as a base JPEG file\n",
      "  \"Image appears to be a malformed MPO file, it will be \"\n"
     ]
    },
    {
     "name": "stdout",
     "output_type": "stream",
     "text": [
      "Iteration number: 3590/4000\n",
      "Training Accuracy: 100.000%\n",
      "Time elapsed: 1h 42m 55s\n",
      "======================================================================\n",
      "Iteration number: 3600/4000\n",
      "Training Accuracy: 100.000%\n",
      "Time elapsed: 1h 43m 12s\n",
      "======================================================================\n",
      "Iteration number: 3610/4000\n",
      "Training Accuracy: 100.000%\n",
      "Time elapsed: 1h 43m 27s\n",
      "======================================================================\n",
      "Iteration number: 3620/4000\n",
      "Training Accuracy: 100.000%\n",
      "Time elapsed: 1h 43m 45s\n",
      "======================================================================\n"
     ]
    },
    {
     "name": "stderr",
     "output_type": "stream",
     "text": [
      "/home/robotics/anaconda3/envs/estif/lib/python3.6/site-packages/PIL/JpegImagePlugin.py:796: UserWarning: Image appears to be a malformed MPO file, it will be interpreted as a base JPEG file\n",
      "  \"Image appears to be a malformed MPO file, it will be \"\n"
     ]
    },
    {
     "name": "stdout",
     "output_type": "stream",
     "text": [
      "Iteration number: 3630/4000\n",
      "Training Accuracy: 100.000%\n",
      "Time elapsed: 1h 44m 3s\n",
      "======================================================================\n",
      "Iteration number: 3640/4000\n",
      "Training Accuracy: 100.000%\n",
      "Time elapsed: 1h 44m 20s\n",
      "======================================================================\n"
     ]
    },
    {
     "name": "stderr",
     "output_type": "stream",
     "text": [
      "/home/robotics/anaconda3/envs/estif/lib/python3.6/site-packages/PIL/JpegImagePlugin.py:796: UserWarning: Image appears to be a malformed MPO file, it will be interpreted as a base JPEG file\n",
      "  \"Image appears to be a malformed MPO file, it will be \"\n"
     ]
    },
    {
     "name": "stdout",
     "output_type": "stream",
     "text": [
      "Iteration number: 3650/4000\n",
      "Training Accuracy: 100.000%\n",
      "Time elapsed: 1h 44m 37s\n",
      "======================================================================\n",
      "Iteration number: 3660/4000\n",
      "Training Accuracy: 100.000%\n",
      "Time elapsed: 1h 44m 52s\n",
      "======================================================================\n"
     ]
    },
    {
     "name": "stderr",
     "output_type": "stream",
     "text": [
      "/home/robotics/anaconda3/envs/estif/lib/python3.6/site-packages/PIL/JpegImagePlugin.py:796: UserWarning: Image appears to be a malformed MPO file, it will be interpreted as a base JPEG file\n",
      "  \"Image appears to be a malformed MPO file, it will be \"\n"
     ]
    },
    {
     "name": "stdout",
     "output_type": "stream",
     "text": [
      "Iteration number: 3670/4000\n",
      "Training Accuracy: 100.000%\n",
      "Time elapsed: 1h 45m 8s\n",
      "======================================================================\n",
      "Iteration number: 3680/4000\n",
      "Training Accuracy: 100.000%\n",
      "Time elapsed: 1h 45m 26s\n",
      "======================================================================\n"
     ]
    },
    {
     "name": "stderr",
     "output_type": "stream",
     "text": [
      "/home/robotics/anaconda3/envs/estif/lib/python3.6/site-packages/PIL/JpegImagePlugin.py:796: UserWarning: Image appears to be a malformed MPO file, it will be interpreted as a base JPEG file\n",
      "  \"Image appears to be a malformed MPO file, it will be \"\n"
     ]
    },
    {
     "name": "stdout",
     "output_type": "stream",
     "text": [
      "Iteration number: 3690/4000\n",
      "Training Accuracy: 100.000%\n",
      "Time elapsed: 1h 45m 43s\n",
      "======================================================================\n",
      "Iteration number: 3700/4000\n",
      "Training Accuracy: 100.000%\n",
      "Time elapsed: 1h 45m 59s\n",
      "======================================================================\n",
      "Iteration number: 3710/4000\n",
      "Training Accuracy: 100.000%\n",
      "Time elapsed: 1h 46m 17s\n",
      "======================================================================\n"
     ]
    },
    {
     "name": "stderr",
     "output_type": "stream",
     "text": [
      "/home/robotics/anaconda3/envs/estif/lib/python3.6/site-packages/PIL/JpegImagePlugin.py:796: UserWarning: Image appears to be a malformed MPO file, it will be interpreted as a base JPEG file\n",
      "  \"Image appears to be a malformed MPO file, it will be \"\n"
     ]
    },
    {
     "name": "stdout",
     "output_type": "stream",
     "text": [
      "Iteration number: 3720/4000\n",
      "Training Accuracy: 100.000%\n",
      "Time elapsed: 1h 46m 35s\n",
      "======================================================================\n",
      "Iteration number: 3730/4000\n",
      "Training Accuracy: 100.000%\n",
      "Time elapsed: 1h 46m 53s\n",
      "======================================================================\n",
      "Iteration number: 3740/4000\n",
      "Training Accuracy: 100.000%\n",
      "Time elapsed: 1h 47m 9s\n",
      "======================================================================\n",
      "Iteration number: 3750/4000\n",
      "Training Accuracy: 100.000%\n",
      "Time elapsed: 1h 47m 26s\n",
      "======================================================================\n"
     ]
    },
    {
     "name": "stderr",
     "output_type": "stream",
     "text": [
      "/home/robotics/anaconda3/envs/estif/lib/python3.6/site-packages/PIL/JpegImagePlugin.py:796: UserWarning: Image appears to be a malformed MPO file, it will be interpreted as a base JPEG file\n",
      "  \"Image appears to be a malformed MPO file, it will be \"\n",
      "/home/robotics/anaconda3/envs/estif/lib/python3.6/site-packages/PIL/JpegImagePlugin.py:796: UserWarning: Image appears to be a malformed MPO file, it will be interpreted as a base JPEG file\n",
      "  \"Image appears to be a malformed MPO file, it will be \"\n"
     ]
    },
    {
     "name": "stdout",
     "output_type": "stream",
     "text": [
      "Iteration number: 3760/4000\n",
      "Training Accuracy: 100.000%\n",
      "Time elapsed: 1h 47m 42s\n",
      "======================================================================\n"
     ]
    },
    {
     "name": "stderr",
     "output_type": "stream",
     "text": [
      "/home/robotics/anaconda3/envs/estif/lib/python3.6/site-packages/PIL/JpegImagePlugin.py:796: UserWarning: Image appears to be a malformed MPO file, it will be interpreted as a base JPEG file\n",
      "  \"Image appears to be a malformed MPO file, it will be \"\n"
     ]
    },
    {
     "name": "stdout",
     "output_type": "stream",
     "text": [
      "Iteration number: 3770/4000\n",
      "Training Accuracy: 100.000%\n",
      "Time elapsed: 1h 47m 59s\n",
      "======================================================================\n",
      "Iteration number: 3780/4000\n",
      "Training Accuracy: 100.000%\n",
      "Time elapsed: 1h 48m 15s\n",
      "======================================================================\n",
      "Iteration number: 3790/4000\n",
      "Training Accuracy: 100.000%\n",
      "Time elapsed: 1h 48m 31s\n",
      "======================================================================\n"
     ]
    },
    {
     "name": "stderr",
     "output_type": "stream",
     "text": [
      "/home/robotics/anaconda3/envs/estif/lib/python3.6/site-packages/PIL/JpegImagePlugin.py:796: UserWarning: Image appears to be a malformed MPO file, it will be interpreted as a base JPEG file\n",
      "  \"Image appears to be a malformed MPO file, it will be \"\n"
     ]
    },
    {
     "name": "stdout",
     "output_type": "stream",
     "text": [
      "Iteration number: 3800/4000\n",
      "Training Accuracy: 100.000%\n",
      "Time elapsed: 1h 48m 48s\n",
      "======================================================================\n"
     ]
    },
    {
     "name": "stderr",
     "output_type": "stream",
     "text": [
      "/home/robotics/anaconda3/envs/estif/lib/python3.6/site-packages/PIL/JpegImagePlugin.py:796: UserWarning: Image appears to be a malformed MPO file, it will be interpreted as a base JPEG file\n",
      "  \"Image appears to be a malformed MPO file, it will be \"\n"
     ]
    },
    {
     "name": "stdout",
     "output_type": "stream",
     "text": [
      "Iteration number: 3810/4000\n",
      "Training Accuracy: 100.000%\n",
      "Time elapsed: 1h 49m 4s\n",
      "======================================================================\n"
     ]
    },
    {
     "name": "stderr",
     "output_type": "stream",
     "text": [
      "/home/robotics/anaconda3/envs/estif/lib/python3.6/site-packages/PIL/JpegImagePlugin.py:796: UserWarning: Image appears to be a malformed MPO file, it will be interpreted as a base JPEG file\n",
      "  \"Image appears to be a malformed MPO file, it will be \"\n"
     ]
    },
    {
     "name": "stdout",
     "output_type": "stream",
     "text": [
      "Iteration number: 3820/4000\n",
      "Training Accuracy: 100.000%\n",
      "Time elapsed: 1h 49m 20s\n",
      "======================================================================\n"
     ]
    },
    {
     "name": "stderr",
     "output_type": "stream",
     "text": [
      "/home/robotics/anaconda3/envs/estif/lib/python3.6/site-packages/PIL/JpegImagePlugin.py:796: UserWarning: Image appears to be a malformed MPO file, it will be interpreted as a base JPEG file\n",
      "  \"Image appears to be a malformed MPO file, it will be \"\n"
     ]
    },
    {
     "name": "stdout",
     "output_type": "stream",
     "text": [
      "Iteration number: 3830/4000\n",
      "Training Accuracy: 100.000%\n",
      "Time elapsed: 1h 49m 36s\n",
      "======================================================================\n"
     ]
    },
    {
     "name": "stderr",
     "output_type": "stream",
     "text": [
      "/home/robotics/anaconda3/envs/estif/lib/python3.6/site-packages/PIL/JpegImagePlugin.py:796: UserWarning: Image appears to be a malformed MPO file, it will be interpreted as a base JPEG file\n",
      "  \"Image appears to be a malformed MPO file, it will be \"\n",
      "/home/robotics/anaconda3/envs/estif/lib/python3.6/site-packages/PIL/JpegImagePlugin.py:796: UserWarning: Image appears to be a malformed MPO file, it will be interpreted as a base JPEG file\n",
      "  \"Image appears to be a malformed MPO file, it will be \"\n"
     ]
    },
    {
     "name": "stdout",
     "output_type": "stream",
     "text": [
      "Iteration number: 3840/4000\n",
      "Training Accuracy: 100.000%\n",
      "Time elapsed: 1h 49m 53s\n",
      "======================================================================\n"
     ]
    },
    {
     "name": "stderr",
     "output_type": "stream",
     "text": [
      "/home/robotics/anaconda3/envs/estif/lib/python3.6/site-packages/PIL/JpegImagePlugin.py:796: UserWarning: Image appears to be a malformed MPO file, it will be interpreted as a base JPEG file\n",
      "  \"Image appears to be a malformed MPO file, it will be \"\n"
     ]
    },
    {
     "name": "stdout",
     "output_type": "stream",
     "text": [
      "Iteration number: 3850/4000\n",
      "Training Accuracy: 100.000%\n",
      "Time elapsed: 1h 50m 9s\n",
      "======================================================================\n"
     ]
    },
    {
     "name": "stderr",
     "output_type": "stream",
     "text": [
      "/home/robotics/anaconda3/envs/estif/lib/python3.6/site-packages/PIL/JpegImagePlugin.py:796: UserWarning: Image appears to be a malformed MPO file, it will be interpreted as a base JPEG file\n",
      "  \"Image appears to be a malformed MPO file, it will be \"\n"
     ]
    },
    {
     "name": "stdout",
     "output_type": "stream",
     "text": [
      "Iteration number: 3860/4000\n",
      "Training Accuracy: 100.000%\n",
      "Time elapsed: 1h 50m 26s\n",
      "======================================================================\n",
      "Iteration number: 3870/4000\n",
      "Training Accuracy: 100.000%\n",
      "Time elapsed: 1h 50m 42s\n",
      "======================================================================\n"
     ]
    },
    {
     "name": "stderr",
     "output_type": "stream",
     "text": [
      "/home/robotics/anaconda3/envs/estif/lib/python3.6/site-packages/PIL/JpegImagePlugin.py:796: UserWarning: Image appears to be a malformed MPO file, it will be interpreted as a base JPEG file\n",
      "  \"Image appears to be a malformed MPO file, it will be \"\n"
     ]
    },
    {
     "name": "stdout",
     "output_type": "stream",
     "text": [
      "Iteration number: 3880/4000\n",
      "Training Accuracy: 100.000%\n",
      "Time elapsed: 1h 50m 58s\n",
      "======================================================================\n"
     ]
    },
    {
     "name": "stderr",
     "output_type": "stream",
     "text": [
      "/home/robotics/anaconda3/envs/estif/lib/python3.6/site-packages/PIL/JpegImagePlugin.py:796: UserWarning: Image appears to be a malformed MPO file, it will be interpreted as a base JPEG file\n",
      "  \"Image appears to be a malformed MPO file, it will be \"\n",
      "/home/robotics/anaconda3/envs/estif/lib/python3.6/site-packages/PIL/JpegImagePlugin.py:796: UserWarning: Image appears to be a malformed MPO file, it will be interpreted as a base JPEG file\n",
      "  \"Image appears to be a malformed MPO file, it will be \"\n"
     ]
    },
    {
     "name": "stdout",
     "output_type": "stream",
     "text": [
      "Iteration number: 3890/4000\n",
      "Training Accuracy: 100.000%\n",
      "Time elapsed: 1h 51m 15s\n",
      "======================================================================\n",
      "Iteration number: 3900/4000\n",
      "Training Accuracy: 100.000%\n",
      "Time elapsed: 1h 51m 32s\n",
      "======================================================================\n"
     ]
    },
    {
     "name": "stderr",
     "output_type": "stream",
     "text": [
      "/home/robotics/anaconda3/envs/estif/lib/python3.6/site-packages/PIL/JpegImagePlugin.py:796: UserWarning: Image appears to be a malformed MPO file, it will be interpreted as a base JPEG file\n",
      "  \"Image appears to be a malformed MPO file, it will be \"\n"
     ]
    },
    {
     "name": "stdout",
     "output_type": "stream",
     "text": [
      "Iteration number: 3910/4000\n",
      "Training Accuracy: 100.000%\n",
      "Time elapsed: 1h 51m 48s\n",
      "======================================================================\n",
      "Iteration number: 3920/4000\n",
      "Training Accuracy: 100.000%\n",
      "Time elapsed: 1h 52m 6s\n",
      "======================================================================\n",
      "Iteration number: 3930/4000\n",
      "Training Accuracy: 100.000%\n",
      "Time elapsed: 1h 52m 23s\n",
      "======================================================================\n",
      "Iteration number: 3940/4000\n",
      "Training Accuracy: 100.000%\n",
      "Time elapsed: 1h 52m 40s\n",
      "======================================================================\n",
      "Iteration number: 3950/4000\n",
      "Training Accuracy: 100.000%\n",
      "Time elapsed: 1h 52m 57s\n",
      "======================================================================\n"
     ]
    },
    {
     "name": "stderr",
     "output_type": "stream",
     "text": [
      "/home/robotics/anaconda3/envs/estif/lib/python3.6/site-packages/PIL/JpegImagePlugin.py:796: UserWarning: Image appears to be a malformed MPO file, it will be interpreted as a base JPEG file\n",
      "  \"Image appears to be a malformed MPO file, it will be \"\n"
     ]
    },
    {
     "name": "stdout",
     "output_type": "stream",
     "text": [
      "Iteration number: 3960/4000\n",
      "Training Accuracy: 100.000%\n",
      "Time elapsed: 1h 53m 13s\n",
      "======================================================================\n",
      "Iteration number: 3970/4000\n",
      "Training Accuracy: 100.000%\n",
      "Time elapsed: 1h 53m 30s\n",
      "======================================================================\n"
     ]
    },
    {
     "name": "stderr",
     "output_type": "stream",
     "text": [
      "/home/robotics/anaconda3/envs/estif/lib/python3.6/site-packages/PIL/JpegImagePlugin.py:796: UserWarning: Image appears to be a malformed MPO file, it will be interpreted as a base JPEG file\n",
      "  \"Image appears to be a malformed MPO file, it will be \"\n"
     ]
    },
    {
     "name": "stdout",
     "output_type": "stream",
     "text": [
      "Iteration number: 3980/4000\n",
      "Training Accuracy: 100.000%\n",
      "Time elapsed: 1h 53m 46s\n",
      "======================================================================\n",
      "Iteration number: 3990/4000\n",
      "Training Accuracy: 100.000%\n",
      "Time elapsed: 1h 54m 4s\n",
      "======================================================================\n",
      "Iteration number: 4000/4000\n",
      "Training Accuracy: 100.000%\n",
      "Time elapsed: 1h 54m 21s\n",
      "======================================================================\n",
      "Training Finished!\n",
      "Time elapsed: 1h 54m 21s\n"
     ]
    }
   ],
   "source": [
    "\n",
    "iterations = 4000\n",
    "loss_train_list = list()\n",
    "train_accuracy_list = list()\n",
    "\n",
    "start = time.time()\n",
    "\n",
    "for i in range(1,iterations+1):\n",
    "    classifier.train()\n",
    "    \n",
    "    images_train, labels_train = iter(train_loader).next()\n",
    "    images_train, labels_train = images_train.to(device), labels_train.to(device)\n",
    "    \n",
    "    optimizer.zero_grad()\n",
    "    \n",
    "    output_train = classifier.forward(images_train)\n",
    "    loss_train = criterion(output_train, labels_train)\n",
    "    prediction_train = output_train.max(dim=1)[1]\n",
    "\n",
    "    counter_train = (labels_train == prediction_train).sum().item()\n",
    "    loss_train_list.append(loss_train)\n",
    "    train_accuracy_list.append(counter_train/len(output_train))\n",
    "   \n",
    "    if i%10 == 0:\n",
    "        print(\"Iteration number: {}/{}\".format(i, iterations))\n",
    "        print('Training Accuracy: {:.3f}%'.format(counter_train/len(output_train) * 100))\n",
    "        time_taken = time.time() - start\n",
    "        print('Time elapsed: {:.0f}h {:.0f}m {:.0f}s'.format(time_taken//3600, (time_taken%3600)//60, (time_taken%3600)%60))\n",
    "        print('='*70)\n",
    "    loss_train.backward()\n",
    "    optimizer.step()\n",
    "    \n",
    "\n",
    "print('Training Finished!')\n",
    "print('Time elapsed: {:.0f}h {:.0f}m {:.0f}s'.format(time_taken//3600, (time_taken%3600)//60, (time_taken%3600)%60))\n"
   ]
  },
  {
   "cell_type": "code",
   "execution_count": 7,
   "metadata": {},
   "outputs": [
    {
     "data": {
      "text/plain": [
       "<Figure size 432x288 with 0 Axes>"
      ]
     },
     "metadata": {},
     "output_type": "display_data"
    },
    {
     "data": {
      "image/png": "[encoded data removed]",
      "text/plain": [
       "<Figure size 1800x720 with 1 Axes>"
      ]
     },
     "metadata": {
      "needs_background": "light"
     },
     "output_type": "display_data"
    },
    {
     "data": {
      "text/plain": [
       "<Figure size 432x288 with 0 Axes>"
      ]
     },
     "metadata": {},
     "output_type": "display_data"
    },
    {
     "data": {
      "image/png": "[encoded data removed]",
      "text/plain": [
       "<Figure size 1800x720 with 1 Axes>"
      ]
     },
     "metadata": {
      "needs_background": "light"
     },
     "output_type": "display_data"
    },
    {
     "data": {
      "text/plain": [
       "<Figure size 432x288 with 0 Axes>"
      ]
     },
     "metadata": {},
     "output_type": "display_data"
    },
    {
     "data": {
      "image/png": "[encoded data removed]",
      "text/plain": [
       "<Figure size 1800x720 with 1 Axes>"
      ]
     },
     "metadata": {
      "needs_background": "light"
     },
     "output_type": "display_data"
    }
   ],
   "source": [
    "# Loss at the end of every Iteration\n",
    "\n",
    "plt.figure(1)\n",
    "plt.figure(figsize = (25,10))\n",
    "plt.plot(np.array(loss_train_list), '-')\n",
    "plt.xlabel('Iteration')\n",
    "plt.ylabel('Training Loss')\n",
    "plt.rc('axes', labelsize=18)\n",
    "plt.xticks(fontsize=14)\n",
    "plt.yticks(fontsize=14)\n",
    "plt.show()\n",
    "\n",
    "\n",
    "# Loss at the end of every epoch\n",
    "\n",
    "LossPerEpoch = []\n",
    "for x in range(0, len(loss_train_list) +1, len(train_loader)):\n",
    "    LossPerEpoch.append(loss_train_list[x])\n",
    "    \n",
    "plt.figure(2)\n",
    "plt.figure(figsize = (25,10))\n",
    "plt.plot(np.array(LossPerEpoch), '-')\n",
    "plt.xlabel('Epoch')\n",
    "plt.ylabel('Training Loss')\n",
    "plt.rc('axes', labelsize=18)\n",
    "plt.xticks(fontsize=14)\n",
    "plt.yticks(fontsize=14)\n",
    "plt.show()\n",
    "\n",
    "plt.figure(3)\n",
    "plt.figure(figsize = (25,10))\n",
    "plt.plot(np.array(train_accuracy_list), '-')\n",
    "plt.xlabel('Iteration')\n",
    "plt.ylabel('Training Accuracy')\n",
    "plt.rc('axes', labelsize=18)\n",
    "plt.xticks(fontsize=14)\n",
    "plt.yticks(fontsize=14)\n",
    "plt.show()"
   ]
  },
  {
   "cell_type": "markdown",
   "metadata": {},
   "source": [
    "### Save finetuned model"
   ]
  },
  {
   "cell_type": "code",
   "execution_count": 1,
   "metadata": {},
   "outputs": [],
   "source": [
    "# print(\"Our Model: \\n\\n\", classifier, '\\n')\n",
    "# print(\"The state dict keys: \\n\\n\", classifier.state_dict().keys())"
   ]
  },
  {
   "cell_type": "code",
   "execution_count": 10,
   "metadata": {},
   "outputs": [],
   "source": [
    "# saving the model as a checkpoint file\n",
    "torch.save(classifier.state_dict(), 'BrandClassifier4000Iter.pth')"
   ]
  },
  {
   "cell_type": "code",
   "execution_count": 15,
   "metadata": {},
   "outputs": [],
   "source": [
    "from numpy import savetxt\n",
    "\n",
    "loss_resnet = np.array(loss_train_list)\n",
    "accuracy_resnet = np.array(train_accuracy_list)\n",
    "\n",
    "savetxt('loss_resnet152.csv', loss_resnet, delimiter=',')\n",
    "savetxt('accuracy_resnet152.csv', accuracy_resnet, delimiter=',')"
   ]
  },
  {
   "cell_type": "code",
   "execution_count": null,
   "metadata": {},
   "outputs": [],
   "source": []
  }
 ],
 "metadata": {
  "kernelspec": {
   "display_name": "estif",
   "language": "python",
   "name": "estif"
  },
  "language_info": {
   "codemirror_mode": {
    "name": "ipython",
    "version": 3
   },
   "file_extension": ".py",
   "mimetype": "text/x-python",
   "name": "python",
   "nbconvert_exporter": "python",
   "pygments_lexer": "ipython3",
   "version": "3.6.10"
  }
 },
 "nbformat": 4,
 "nbformat_minor": 4
}
