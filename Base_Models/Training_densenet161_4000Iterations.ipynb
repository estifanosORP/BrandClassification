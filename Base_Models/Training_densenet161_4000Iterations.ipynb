{
 "cells": [
  {
   "cell_type": "code",
   "execution_count": 1,
   "metadata": {},
   "outputs": [],
   "source": [
    "import torch\n",
    "import torch.nn as nn\n",
    "import torch.optim as optim\n",
    "from torch.optim import lr_scheduler\n",
    "\n",
    "import torchvision\n",
    "from torchvision import datasets, transforms\n",
    "\n",
    "\n",
    "import numpy as np\n",
    "import matplotlib.pyplot as plt\n",
    "\n",
    "\n",
    "import time"
   ]
  },
  {
   "cell_type": "markdown",
   "metadata": {},
   "source": [
    "### Dataset Loading and Transformation"
   ]
  },
  {
   "cell_type": "code",
   "execution_count": 2,
   "metadata": {},
   "outputs": [],
   "source": [
    "\n",
    "\n",
    "# Transforms defined for the train, validation, and test datasets\n",
    "train_transform = transforms.Compose([transforms.Resize((256,256)),\n",
    "                                     transforms.ToTensor()])\n",
    "\n",
    "val_transform = transforms.Compose([transforms.Resize((256,256)),\n",
    "                                   transforms.ToTensor()])\n"
   ]
  },
  {
   "cell_type": "code",
   "execution_count": 3,
   "metadata": {},
   "outputs": [],
   "source": [
    "dir = '../Label_Data_TrainTest/'\n",
    "train_dir, val_dir, test_dir = dir+'train', dir+'val', dir+'test'\n",
    "batch_size = 32\n",
    "num_workers = 2\n",
    "\n",
    "# Datasets extracted from their respective directories and some transformation applied to them\n",
    "train_set = datasets.ImageFolder(train_dir, transform = train_transform)\n",
    "val_set = datasets.ImageFolder(val_dir, transform = val_transform)\n",
    "\n",
    "\n",
    "# Datasets loaded onto iterable object in form of batches \n",
    "train_loader = torch.utils.data.DataLoader(train_set, batch_size = batch_size, shuffle=True, num_workers=num_workers)\n",
    "val_loader = torch.utils.data.DataLoader(val_set, batch_size = batch_size, shuffle=True, num_workers=num_workers)\n",
    "\n"
   ]
  },
  {
   "cell_type": "markdown",
   "metadata": {},
   "source": [
    "### Loading the pretrained densenet161() model"
   ]
  },
  {
   "cell_type": "code",
   "execution_count": 4,
   "metadata": {},
   "outputs": [
    {
     "name": "stdout",
     "output_type": "stream",
     "text": [
      "Using 2 GPUs!\n"
     ]
    },
    {
     "data": {
      "text/plain": [
       "DataParallel(\n",
       "  (module): DenseNet(\n",
       "    (features): Sequential(\n",
       "      (conv0): Conv2d(3, 96, kernel_size=(7, 7), stride=(2, 2), padding=(3, 3), bias=False)\n",
       "      (norm0): BatchNorm2d(96, eps=1e-05, momentum=0.1, affine=True, track_running_stats=True)\n",
       "      (relu0): ReLU(inplace=True)\n",
       "      (pool0): MaxPool2d(kernel_size=3, stride=2, padding=1, dilation=1, ceil_mode=False)\n",
       "      (denseblock1): _DenseBlock(\n",
       "        (denselayer1): _DenseLayer(\n",
       "          (norm1): BatchNorm2d(96, eps=1e-05, momentum=0.1, affine=True, track_running_stats=True)\n",
       "          (relu1): ReLU(inplace=True)\n",
       "          (conv1): Conv2d(96, 192, kernel_size=(1, 1), stride=(1, 1), bias=False)\n",
       "          (norm2): BatchNorm2d(192, eps=1e-05, momentum=0.1, affine=True, track_running_stats=True)\n",
       "          (relu2): ReLU(inplace=True)\n",
       "          (conv2): Conv2d(192, 48, kernel_size=(3, 3), stride=(1, 1), padding=(1, 1), bias=False)\n",
       "        )\n",
       "        (denselayer2): _DenseLayer(\n",
       "          (norm1): BatchNorm2d(144, eps=1e-05, momentum=0.1, affine=True, track_running_stats=True)\n",
       "          (relu1): ReLU(inplace=True)\n",
       "          (conv1): Conv2d(144, 192, kernel_size=(1, 1), stride=(1, 1), bias=False)\n",
       "          (norm2): BatchNorm2d(192, eps=1e-05, momentum=0.1, affine=True, track_running_stats=True)\n",
       "          (relu2): ReLU(inplace=True)\n",
       "          (conv2): Conv2d(192, 48, kernel_size=(3, 3), stride=(1, 1), padding=(1, 1), bias=False)\n",
       "        )\n",
       "        (denselayer3): _DenseLayer(\n",
       "          (norm1): BatchNorm2d(192, eps=1e-05, momentum=0.1, affine=True, track_running_stats=True)\n",
       "          (relu1): ReLU(inplace=True)\n",
       "          (conv1): Conv2d(192, 192, kernel_size=(1, 1), stride=(1, 1), bias=False)\n",
       "          (norm2): BatchNorm2d(192, eps=1e-05, momentum=0.1, affine=True, track_running_stats=True)\n",
       "          (relu2): ReLU(inplace=True)\n",
       "          (conv2): Conv2d(192, 48, kernel_size=(3, 3), stride=(1, 1), padding=(1, 1), bias=False)\n",
       "        )\n",
       "        (denselayer4): _DenseLayer(\n",
       "          (norm1): BatchNorm2d(240, eps=1e-05, momentum=0.1, affine=True, track_running_stats=True)\n",
       "          (relu1): ReLU(inplace=True)\n",
       "          (conv1): Conv2d(240, 192, kernel_size=(1, 1), stride=(1, 1), bias=False)\n",
       "          (norm2): BatchNorm2d(192, eps=1e-05, momentum=0.1, affine=True, track_running_stats=True)\n",
       "          (relu2): ReLU(inplace=True)\n",
       "          (conv2): Conv2d(192, 48, kernel_size=(3, 3), stride=(1, 1), padding=(1, 1), bias=False)\n",
       "        )\n",
       "        (denselayer5): _DenseLayer(\n",
       "          (norm1): BatchNorm2d(288, eps=1e-05, momentum=0.1, affine=True, track_running_stats=True)\n",
       "          (relu1): ReLU(inplace=True)\n",
       "          (conv1): Conv2d(288, 192, kernel_size=(1, 1), stride=(1, 1), bias=False)\n",
       "          (norm2): BatchNorm2d(192, eps=1e-05, momentum=0.1, affine=True, track_running_stats=True)\n",
       "          (relu2): ReLU(inplace=True)\n",
       "          (conv2): Conv2d(192, 48, kernel_size=(3, 3), stride=(1, 1), padding=(1, 1), bias=False)\n",
       "        )\n",
       "        (denselayer6): _DenseLayer(\n",
       "          (norm1): BatchNorm2d(336, eps=1e-05, momentum=0.1, affine=True, track_running_stats=True)\n",
       "          (relu1): ReLU(inplace=True)\n",
       "          (conv1): Conv2d(336, 192, kernel_size=(1, 1), stride=(1, 1), bias=False)\n",
       "          (norm2): BatchNorm2d(192, eps=1e-05, momentum=0.1, affine=True, track_running_stats=True)\n",
       "          (relu2): ReLU(inplace=True)\n",
       "          (conv2): Conv2d(192, 48, kernel_size=(3, 3), stride=(1, 1), padding=(1, 1), bias=False)\n",
       "        )\n",
       "      )\n",
       "      (transition1): _Transition(\n",
       "        (norm): BatchNorm2d(384, eps=1e-05, momentum=0.1, affine=True, track_running_stats=True)\n",
       "        (relu): ReLU(inplace=True)\n",
       "        (conv): Conv2d(384, 192, kernel_size=(1, 1), stride=(1, 1), bias=False)\n",
       "        (pool): AvgPool2d(kernel_size=2, stride=2, padding=0)\n",
       "      )\n",
       "      (denseblock2): _DenseBlock(\n",
       "        (denselayer1): _DenseLayer(\n",
       "          (norm1): BatchNorm2d(192, eps=1e-05, momentum=0.1, affine=True, track_running_stats=True)\n",
       "          (relu1): ReLU(inplace=True)\n",
       "          (conv1): Conv2d(192, 192, kernel_size=(1, 1), stride=(1, 1), bias=False)\n",
       "          (norm2): BatchNorm2d(192, eps=1e-05, momentum=0.1, affine=True, track_running_stats=True)\n",
       "          (relu2): ReLU(inplace=True)\n",
       "          (conv2): Conv2d(192, 48, kernel_size=(3, 3), stride=(1, 1), padding=(1, 1), bias=False)\n",
       "        )\n",
       "        (denselayer2): _DenseLayer(\n",
       "          (norm1): BatchNorm2d(240, eps=1e-05, momentum=0.1, affine=True, track_running_stats=True)\n",
       "          (relu1): ReLU(inplace=True)\n",
       "          (conv1): Conv2d(240, 192, kernel_size=(1, 1), stride=(1, 1), bias=False)\n",
       "          (norm2): BatchNorm2d(192, eps=1e-05, momentum=0.1, affine=True, track_running_stats=True)\n",
       "          (relu2): ReLU(inplace=True)\n",
       "          (conv2): Conv2d(192, 48, kernel_size=(3, 3), stride=(1, 1), padding=(1, 1), bias=False)\n",
       "        )\n",
       "        (denselayer3): _DenseLayer(\n",
       "          (norm1): BatchNorm2d(288, eps=1e-05, momentum=0.1, affine=True, track_running_stats=True)\n",
       "          (relu1): ReLU(inplace=True)\n",
       "          (conv1): Conv2d(288, 192, kernel_size=(1, 1), stride=(1, 1), bias=False)\n",
       "          (norm2): BatchNorm2d(192, eps=1e-05, momentum=0.1, affine=True, track_running_stats=True)\n",
       "          (relu2): ReLU(inplace=True)\n",
       "          (conv2): Conv2d(192, 48, kernel_size=(3, 3), stride=(1, 1), padding=(1, 1), bias=False)\n",
       "        )\n",
       "        (denselayer4): _DenseLayer(\n",
       "          (norm1): BatchNorm2d(336, eps=1e-05, momentum=0.1, affine=True, track_running_stats=True)\n",
       "          (relu1): ReLU(inplace=True)\n",
       "          (conv1): Conv2d(336, 192, kernel_size=(1, 1), stride=(1, 1), bias=False)\n",
       "          (norm2): BatchNorm2d(192, eps=1e-05, momentum=0.1, affine=True, track_running_stats=True)\n",
       "          (relu2): ReLU(inplace=True)\n",
       "          (conv2): Conv2d(192, 48, kernel_size=(3, 3), stride=(1, 1), padding=(1, 1), bias=False)\n",
       "        )\n",
       "        (denselayer5): _DenseLayer(\n",
       "          (norm1): BatchNorm2d(384, eps=1e-05, momentum=0.1, affine=True, track_running_stats=True)\n",
       "          (relu1): ReLU(inplace=True)\n",
       "          (conv1): Conv2d(384, 192, kernel_size=(1, 1), stride=(1, 1), bias=False)\n",
       "          (norm2): BatchNorm2d(192, eps=1e-05, momentum=0.1, affine=True, track_running_stats=True)\n",
       "          (relu2): ReLU(inplace=True)\n",
       "          (conv2): Conv2d(192, 48, kernel_size=(3, 3), stride=(1, 1), padding=(1, 1), bias=False)\n",
       "        )\n",
       "        (denselayer6): _DenseLayer(\n",
       "          (norm1): BatchNorm2d(432, eps=1e-05, momentum=0.1, affine=True, track_running_stats=True)\n",
       "          (relu1): ReLU(inplace=True)\n",
       "          (conv1): Conv2d(432, 192, kernel_size=(1, 1), stride=(1, 1), bias=False)\n",
       "          (norm2): BatchNorm2d(192, eps=1e-05, momentum=0.1, affine=True, track_running_stats=True)\n",
       "          (relu2): ReLU(inplace=True)\n",
       "          (conv2): Conv2d(192, 48, kernel_size=(3, 3), stride=(1, 1), padding=(1, 1), bias=False)\n",
       "        )\n",
       "        (denselayer7): _DenseLayer(\n",
       "          (norm1): BatchNorm2d(480, eps=1e-05, momentum=0.1, affine=True, track_running_stats=True)\n",
       "          (relu1): ReLU(inplace=True)\n",
       "          (conv1): Conv2d(480, 192, kernel_size=(1, 1), stride=(1, 1), bias=False)\n",
       "          (norm2): BatchNorm2d(192, eps=1e-05, momentum=0.1, affine=True, track_running_stats=True)\n",
       "          (relu2): ReLU(inplace=True)\n",
       "          (conv2): Conv2d(192, 48, kernel_size=(3, 3), stride=(1, 1), padding=(1, 1), bias=False)\n",
       "        )\n",
       "        (denselayer8): _DenseLayer(\n",
       "          (norm1): BatchNorm2d(528, eps=1e-05, momentum=0.1, affine=True, track_running_stats=True)\n",
       "          (relu1): ReLU(inplace=True)\n",
       "          (conv1): Conv2d(528, 192, kernel_size=(1, 1), stride=(1, 1), bias=False)\n",
       "          (norm2): BatchNorm2d(192, eps=1e-05, momentum=0.1, affine=True, track_running_stats=True)\n",
       "          (relu2): ReLU(inplace=True)\n",
       "          (conv2): Conv2d(192, 48, kernel_size=(3, 3), stride=(1, 1), padding=(1, 1), bias=False)\n",
       "        )\n",
       "        (denselayer9): _DenseLayer(\n",
       "          (norm1): BatchNorm2d(576, eps=1e-05, momentum=0.1, affine=True, track_running_stats=True)\n",
       "          (relu1): ReLU(inplace=True)\n",
       "          (conv1): Conv2d(576, 192, kernel_size=(1, 1), stride=(1, 1), bias=False)\n",
       "          (norm2): BatchNorm2d(192, eps=1e-05, momentum=0.1, affine=True, track_running_stats=True)\n",
       "          (relu2): ReLU(inplace=True)\n",
       "          (conv2): Conv2d(192, 48, kernel_size=(3, 3), stride=(1, 1), padding=(1, 1), bias=False)\n",
       "        )\n",
       "        (denselayer10): _DenseLayer(\n",
       "          (norm1): BatchNorm2d(624, eps=1e-05, momentum=0.1, affine=True, track_running_stats=True)\n",
       "          (relu1): ReLU(inplace=True)\n",
       "          (conv1): Conv2d(624, 192, kernel_size=(1, 1), stride=(1, 1), bias=False)\n",
       "          (norm2): BatchNorm2d(192, eps=1e-05, momentum=0.1, affine=True, track_running_stats=True)\n",
       "          (relu2): ReLU(inplace=True)\n",
       "          (conv2): Conv2d(192, 48, kernel_size=(3, 3), stride=(1, 1), padding=(1, 1), bias=False)\n",
       "        )\n",
       "        (denselayer11): _DenseLayer(\n",
       "          (norm1): BatchNorm2d(672, eps=1e-05, momentum=0.1, affine=True, track_running_stats=True)\n",
       "          (relu1): ReLU(inplace=True)\n",
       "          (conv1): Conv2d(672, 192, kernel_size=(1, 1), stride=(1, 1), bias=False)\n",
       "          (norm2): BatchNorm2d(192, eps=1e-05, momentum=0.1, affine=True, track_running_stats=True)\n",
       "          (relu2): ReLU(inplace=True)\n",
       "          (conv2): Conv2d(192, 48, kernel_size=(3, 3), stride=(1, 1), padding=(1, 1), bias=False)\n",
       "        )\n",
       "        (denselayer12): _DenseLayer(\n",
       "          (norm1): BatchNorm2d(720, eps=1e-05, momentum=0.1, affine=True, track_running_stats=True)\n",
       "          (relu1): ReLU(inplace=True)\n",
       "          (conv1): Conv2d(720, 192, kernel_size=(1, 1), stride=(1, 1), bias=False)\n",
       "          (norm2): BatchNorm2d(192, eps=1e-05, momentum=0.1, affine=True, track_running_stats=True)\n",
       "          (relu2): ReLU(inplace=True)\n",
       "          (conv2): Conv2d(192, 48, kernel_size=(3, 3), stride=(1, 1), padding=(1, 1), bias=False)\n",
       "        )\n",
       "      )\n",
       "      (transition2): _Transition(\n",
       "        (norm): BatchNorm2d(768, eps=1e-05, momentum=0.1, affine=True, track_running_stats=True)\n",
       "        (relu): ReLU(inplace=True)\n",
       "        (conv): Conv2d(768, 384, kernel_size=(1, 1), stride=(1, 1), bias=False)\n",
       "        (pool): AvgPool2d(kernel_size=2, stride=2, padding=0)\n",
       "      )\n",
       "      (denseblock3): _DenseBlock(\n",
       "        (denselayer1): _DenseLayer(\n",
       "          (norm1): BatchNorm2d(384, eps=1e-05, momentum=0.1, affine=True, track_running_stats=True)\n",
       "          (relu1): ReLU(inplace=True)\n",
       "          (conv1): Conv2d(384, 192, kernel_size=(1, 1), stride=(1, 1), bias=False)\n",
       "          (norm2): BatchNorm2d(192, eps=1e-05, momentum=0.1, affine=True, track_running_stats=True)\n",
       "          (relu2): ReLU(inplace=True)\n",
       "          (conv2): Conv2d(192, 48, kernel_size=(3, 3), stride=(1, 1), padding=(1, 1), bias=False)\n",
       "        )\n",
       "        (denselayer2): _DenseLayer(\n",
       "          (norm1): BatchNorm2d(432, eps=1e-05, momentum=0.1, affine=True, track_running_stats=True)\n",
       "          (relu1): ReLU(inplace=True)\n",
       "          (conv1): Conv2d(432, 192, kernel_size=(1, 1), stride=(1, 1), bias=False)\n",
       "          (norm2): BatchNorm2d(192, eps=1e-05, momentum=0.1, affine=True, track_running_stats=True)\n",
       "          (relu2): ReLU(inplace=True)\n",
       "          (conv2): Conv2d(192, 48, kernel_size=(3, 3), stride=(1, 1), padding=(1, 1), bias=False)\n",
       "        )\n",
       "        (denselayer3): _DenseLayer(\n",
       "          (norm1): BatchNorm2d(480, eps=1e-05, momentum=0.1, affine=True, track_running_stats=True)\n",
       "          (relu1): ReLU(inplace=True)\n",
       "          (conv1): Conv2d(480, 192, kernel_size=(1, 1), stride=(1, 1), bias=False)\n",
       "          (norm2): BatchNorm2d(192, eps=1e-05, momentum=0.1, affine=True, track_running_stats=True)\n",
       "          (relu2): ReLU(inplace=True)\n",
       "          (conv2): Conv2d(192, 48, kernel_size=(3, 3), stride=(1, 1), padding=(1, 1), bias=False)\n",
       "        )\n",
       "        (denselayer4): _DenseLayer(\n",
       "          (norm1): BatchNorm2d(528, eps=1e-05, momentum=0.1, affine=True, track_running_stats=True)\n",
       "          (relu1): ReLU(inplace=True)\n",
       "          (conv1): Conv2d(528, 192, kernel_size=(1, 1), stride=(1, 1), bias=False)\n",
       "          (norm2): BatchNorm2d(192, eps=1e-05, momentum=0.1, affine=True, track_running_stats=True)\n",
       "          (relu2): ReLU(inplace=True)\n",
       "          (conv2): Conv2d(192, 48, kernel_size=(3, 3), stride=(1, 1), padding=(1, 1), bias=False)\n",
       "        )\n",
       "        (denselayer5): _DenseLayer(\n",
       "          (norm1): BatchNorm2d(576, eps=1e-05, momentum=0.1, affine=True, track_running_stats=True)\n",
       "          (relu1): ReLU(inplace=True)\n",
       "          (conv1): Conv2d(576, 192, kernel_size=(1, 1), stride=(1, 1), bias=False)\n",
       "          (norm2): BatchNorm2d(192, eps=1e-05, momentum=0.1, affine=True, track_running_stats=True)\n",
       "          (relu2): ReLU(inplace=True)\n",
       "          (conv2): Conv2d(192, 48, kernel_size=(3, 3), stride=(1, 1), padding=(1, 1), bias=False)\n",
       "        )\n",
       "        (denselayer6): _DenseLayer(\n",
       "          (norm1): BatchNorm2d(624, eps=1e-05, momentum=0.1, affine=True, track_running_stats=True)\n",
       "          (relu1): ReLU(inplace=True)\n",
       "          (conv1): Conv2d(624, 192, kernel_size=(1, 1), stride=(1, 1), bias=False)\n",
       "          (norm2): BatchNorm2d(192, eps=1e-05, momentum=0.1, affine=True, track_running_stats=True)\n",
       "          (relu2): ReLU(inplace=True)\n",
       "          (conv2): Conv2d(192, 48, kernel_size=(3, 3), stride=(1, 1), padding=(1, 1), bias=False)\n",
       "        )\n",
       "        (denselayer7): _DenseLayer(\n",
       "          (norm1): BatchNorm2d(672, eps=1e-05, momentum=0.1, affine=True, track_running_stats=True)\n",
       "          (relu1): ReLU(inplace=True)\n",
       "          (conv1): Conv2d(672, 192, kernel_size=(1, 1), stride=(1, 1), bias=False)\n",
       "          (norm2): BatchNorm2d(192, eps=1e-05, momentum=0.1, affine=True, track_running_stats=True)\n",
       "          (relu2): ReLU(inplace=True)\n",
       "          (conv2): Conv2d(192, 48, kernel_size=(3, 3), stride=(1, 1), padding=(1, 1), bias=False)\n",
       "        )\n",
       "        (denselayer8): _DenseLayer(\n",
       "          (norm1): BatchNorm2d(720, eps=1e-05, momentum=0.1, affine=True, track_running_stats=True)\n",
       "          (relu1): ReLU(inplace=True)\n",
       "          (conv1): Conv2d(720, 192, kernel_size=(1, 1), stride=(1, 1), bias=False)\n",
       "          (norm2): BatchNorm2d(192, eps=1e-05, momentum=0.1, affine=True, track_running_stats=True)\n",
       "          (relu2): ReLU(inplace=True)\n",
       "          (conv2): Conv2d(192, 48, kernel_size=(3, 3), stride=(1, 1), padding=(1, 1), bias=False)\n",
       "        )\n",
       "        (denselayer9): _DenseLayer(\n",
       "          (norm1): BatchNorm2d(768, eps=1e-05, momentum=0.1, affine=True, track_running_stats=True)\n",
       "          (relu1): ReLU(inplace=True)\n",
       "          (conv1): Conv2d(768, 192, kernel_size=(1, 1), stride=(1, 1), bias=False)\n",
       "          (norm2): BatchNorm2d(192, eps=1e-05, momentum=0.1, affine=True, track_running_stats=True)\n",
       "          (relu2): ReLU(inplace=True)\n",
       "          (conv2): Conv2d(192, 48, kernel_size=(3, 3), stride=(1, 1), padding=(1, 1), bias=False)\n",
       "        )\n",
       "        (denselayer10): _DenseLayer(\n",
       "          (norm1): BatchNorm2d(816, eps=1e-05, momentum=0.1, affine=True, track_running_stats=True)\n",
       "          (relu1): ReLU(inplace=True)\n",
       "          (conv1): Conv2d(816, 192, kernel_size=(1, 1), stride=(1, 1), bias=False)\n",
       "          (norm2): BatchNorm2d(192, eps=1e-05, momentum=0.1, affine=True, track_running_stats=True)\n",
       "          (relu2): ReLU(inplace=True)\n",
       "          (conv2): Conv2d(192, 48, kernel_size=(3, 3), stride=(1, 1), padding=(1, 1), bias=False)\n",
       "        )\n",
       "        (denselayer11): _DenseLayer(\n",
       "          (norm1): BatchNorm2d(864, eps=1e-05, momentum=0.1, affine=True, track_running_stats=True)\n",
       "          (relu1): ReLU(inplace=True)\n",
       "          (conv1): Conv2d(864, 192, kernel_size=(1, 1), stride=(1, 1), bias=False)\n",
       "          (norm2): BatchNorm2d(192, eps=1e-05, momentum=0.1, affine=True, track_running_stats=True)\n",
       "          (relu2): ReLU(inplace=True)\n",
       "          (conv2): Conv2d(192, 48, kernel_size=(3, 3), stride=(1, 1), padding=(1, 1), bias=False)\n",
       "        )\n",
       "        (denselayer12): _DenseLayer(\n",
       "          (norm1): BatchNorm2d(912, eps=1e-05, momentum=0.1, affine=True, track_running_stats=True)\n",
       "          (relu1): ReLU(inplace=True)\n",
       "          (conv1): Conv2d(912, 192, kernel_size=(1, 1), stride=(1, 1), bias=False)\n",
       "          (norm2): BatchNorm2d(192, eps=1e-05, momentum=0.1, affine=True, track_running_stats=True)\n",
       "          (relu2): ReLU(inplace=True)\n",
       "          (conv2): Conv2d(192, 48, kernel_size=(3, 3), stride=(1, 1), padding=(1, 1), bias=False)\n",
       "        )\n",
       "        (denselayer13): _DenseLayer(\n",
       "          (norm1): BatchNorm2d(960, eps=1e-05, momentum=0.1, affine=True, track_running_stats=True)\n",
       "          (relu1): ReLU(inplace=True)\n",
       "          (conv1): Conv2d(960, 192, kernel_size=(1, 1), stride=(1, 1), bias=False)\n",
       "          (norm2): BatchNorm2d(192, eps=1e-05, momentum=0.1, affine=True, track_running_stats=True)\n",
       "          (relu2): ReLU(inplace=True)\n",
       "          (conv2): Conv2d(192, 48, kernel_size=(3, 3), stride=(1, 1), padding=(1, 1), bias=False)\n",
       "        )\n",
       "        (denselayer14): _DenseLayer(\n",
       "          (norm1): BatchNorm2d(1008, eps=1e-05, momentum=0.1, affine=True, track_running_stats=True)\n",
       "          (relu1): ReLU(inplace=True)\n",
       "          (conv1): Conv2d(1008, 192, kernel_size=(1, 1), stride=(1, 1), bias=False)\n",
       "          (norm2): BatchNorm2d(192, eps=1e-05, momentum=0.1, affine=True, track_running_stats=True)\n",
       "          (relu2): ReLU(inplace=True)\n",
       "          (conv2): Conv2d(192, 48, kernel_size=(3, 3), stride=(1, 1), padding=(1, 1), bias=False)\n",
       "        )\n",
       "        (denselayer15): _DenseLayer(\n",
       "          (norm1): BatchNorm2d(1056, eps=1e-05, momentum=0.1, affine=True, track_running_stats=True)\n",
       "          (relu1): ReLU(inplace=True)\n",
       "          (conv1): Conv2d(1056, 192, kernel_size=(1, 1), stride=(1, 1), bias=False)\n",
       "          (norm2): BatchNorm2d(192, eps=1e-05, momentum=0.1, affine=True, track_running_stats=True)\n",
       "          (relu2): ReLU(inplace=True)\n",
       "          (conv2): Conv2d(192, 48, kernel_size=(3, 3), stride=(1, 1), padding=(1, 1), bias=False)\n",
       "        )\n",
       "        (denselayer16): _DenseLayer(\n",
       "          (norm1): BatchNorm2d(1104, eps=1e-05, momentum=0.1, affine=True, track_running_stats=True)\n",
       "          (relu1): ReLU(inplace=True)\n",
       "          (conv1): Conv2d(1104, 192, kernel_size=(1, 1), stride=(1, 1), bias=False)\n",
       "          (norm2): BatchNorm2d(192, eps=1e-05, momentum=0.1, affine=True, track_running_stats=True)\n",
       "          (relu2): ReLU(inplace=True)\n",
       "          (conv2): Conv2d(192, 48, kernel_size=(3, 3), stride=(1, 1), padding=(1, 1), bias=False)\n",
       "        )\n",
       "        (denselayer17): _DenseLayer(\n",
       "          (norm1): BatchNorm2d(1152, eps=1e-05, momentum=0.1, affine=True, track_running_stats=True)\n",
       "          (relu1): ReLU(inplace=True)\n",
       "          (conv1): Conv2d(1152, 192, kernel_size=(1, 1), stride=(1, 1), bias=False)\n",
       "          (norm2): BatchNorm2d(192, eps=1e-05, momentum=0.1, affine=True, track_running_stats=True)\n",
       "          (relu2): ReLU(inplace=True)\n",
       "          (conv2): Conv2d(192, 48, kernel_size=(3, 3), stride=(1, 1), padding=(1, 1), bias=False)\n",
       "        )\n",
       "        (denselayer18): _DenseLayer(\n",
       "          (norm1): BatchNorm2d(1200, eps=1e-05, momentum=0.1, affine=True, track_running_stats=True)\n",
       "          (relu1): ReLU(inplace=True)\n",
       "          (conv1): Conv2d(1200, 192, kernel_size=(1, 1), stride=(1, 1), bias=False)\n",
       "          (norm2): BatchNorm2d(192, eps=1e-05, momentum=0.1, affine=True, track_running_stats=True)\n",
       "          (relu2): ReLU(inplace=True)\n",
       "          (conv2): Conv2d(192, 48, kernel_size=(3, 3), stride=(1, 1), padding=(1, 1), bias=False)\n",
       "        )\n",
       "        (denselayer19): _DenseLayer(\n",
       "          (norm1): BatchNorm2d(1248, eps=1e-05, momentum=0.1, affine=True, track_running_stats=True)\n",
       "          (relu1): ReLU(inplace=True)\n",
       "          (conv1): Conv2d(1248, 192, kernel_size=(1, 1), stride=(1, 1), bias=False)\n",
       "          (norm2): BatchNorm2d(192, eps=1e-05, momentum=0.1, affine=True, track_running_stats=True)\n",
       "          (relu2): ReLU(inplace=True)\n",
       "          (conv2): Conv2d(192, 48, kernel_size=(3, 3), stride=(1, 1), padding=(1, 1), bias=False)\n",
       "        )\n",
       "        (denselayer20): _DenseLayer(\n",
       "          (norm1): BatchNorm2d(1296, eps=1e-05, momentum=0.1, affine=True, track_running_stats=True)\n",
       "          (relu1): ReLU(inplace=True)\n",
       "          (conv1): Conv2d(1296, 192, kernel_size=(1, 1), stride=(1, 1), bias=False)\n",
       "          (norm2): BatchNorm2d(192, eps=1e-05, momentum=0.1, affine=True, track_running_stats=True)\n",
       "          (relu2): ReLU(inplace=True)\n",
       "          (conv2): Conv2d(192, 48, kernel_size=(3, 3), stride=(1, 1), padding=(1, 1), bias=False)\n",
       "        )\n",
       "        (denselayer21): _DenseLayer(\n",
       "          (norm1): BatchNorm2d(1344, eps=1e-05, momentum=0.1, affine=True, track_running_stats=True)\n",
       "          (relu1): ReLU(inplace=True)\n",
       "          (conv1): Conv2d(1344, 192, kernel_size=(1, 1), stride=(1, 1), bias=False)\n",
       "          (norm2): BatchNorm2d(192, eps=1e-05, momentum=0.1, affine=True, track_running_stats=True)\n",
       "          (relu2): ReLU(inplace=True)\n",
       "          (conv2): Conv2d(192, 48, kernel_size=(3, 3), stride=(1, 1), padding=(1, 1), bias=False)\n",
       "        )\n",
       "        (denselayer22): _DenseLayer(\n",
       "          (norm1): BatchNorm2d(1392, eps=1e-05, momentum=0.1, affine=True, track_running_stats=True)\n",
       "          (relu1): ReLU(inplace=True)\n",
       "          (conv1): Conv2d(1392, 192, kernel_size=(1, 1), stride=(1, 1), bias=False)\n",
       "          (norm2): BatchNorm2d(192, eps=1e-05, momentum=0.1, affine=True, track_running_stats=True)\n",
       "          (relu2): ReLU(inplace=True)\n",
       "          (conv2): Conv2d(192, 48, kernel_size=(3, 3), stride=(1, 1), padding=(1, 1), bias=False)\n",
       "        )\n",
       "        (denselayer23): _DenseLayer(\n",
       "          (norm1): BatchNorm2d(1440, eps=1e-05, momentum=0.1, affine=True, track_running_stats=True)\n",
       "          (relu1): ReLU(inplace=True)\n",
       "          (conv1): Conv2d(1440, 192, kernel_size=(1, 1), stride=(1, 1), bias=False)\n",
       "          (norm2): BatchNorm2d(192, eps=1e-05, momentum=0.1, affine=True, track_running_stats=True)\n",
       "          (relu2): ReLU(inplace=True)\n",
       "          (conv2): Conv2d(192, 48, kernel_size=(3, 3), stride=(1, 1), padding=(1, 1), bias=False)\n",
       "        )\n",
       "        (denselayer24): _DenseLayer(\n",
       "          (norm1): BatchNorm2d(1488, eps=1e-05, momentum=0.1, affine=True, track_running_stats=True)\n",
       "          (relu1): ReLU(inplace=True)\n",
       "          (conv1): Conv2d(1488, 192, kernel_size=(1, 1), stride=(1, 1), bias=False)\n",
       "          (norm2): BatchNorm2d(192, eps=1e-05, momentum=0.1, affine=True, track_running_stats=True)\n",
       "          (relu2): ReLU(inplace=True)\n",
       "          (conv2): Conv2d(192, 48, kernel_size=(3, 3), stride=(1, 1), padding=(1, 1), bias=False)\n",
       "        )\n",
       "        (denselayer25): _DenseLayer(\n",
       "          (norm1): BatchNorm2d(1536, eps=1e-05, momentum=0.1, affine=True, track_running_stats=True)\n",
       "          (relu1): ReLU(inplace=True)\n",
       "          (conv1): Conv2d(1536, 192, kernel_size=(1, 1), stride=(1, 1), bias=False)\n",
       "          (norm2): BatchNorm2d(192, eps=1e-05, momentum=0.1, affine=True, track_running_stats=True)\n",
       "          (relu2): ReLU(inplace=True)\n",
       "          (conv2): Conv2d(192, 48, kernel_size=(3, 3), stride=(1, 1), padding=(1, 1), bias=False)\n",
       "        )\n",
       "        (denselayer26): _DenseLayer(\n",
       "          (norm1): BatchNorm2d(1584, eps=1e-05, momentum=0.1, affine=True, track_running_stats=True)\n",
       "          (relu1): ReLU(inplace=True)\n",
       "          (conv1): Conv2d(1584, 192, kernel_size=(1, 1), stride=(1, 1), bias=False)\n",
       "          (norm2): BatchNorm2d(192, eps=1e-05, momentum=0.1, affine=True, track_running_stats=True)\n",
       "          (relu2): ReLU(inplace=True)\n",
       "          (conv2): Conv2d(192, 48, kernel_size=(3, 3), stride=(1, 1), padding=(1, 1), bias=False)\n",
       "        )\n",
       "        (denselayer27): _DenseLayer(\n",
       "          (norm1): BatchNorm2d(1632, eps=1e-05, momentum=0.1, affine=True, track_running_stats=True)\n",
       "          (relu1): ReLU(inplace=True)\n",
       "          (conv1): Conv2d(1632, 192, kernel_size=(1, 1), stride=(1, 1), bias=False)\n",
       "          (norm2): BatchNorm2d(192, eps=1e-05, momentum=0.1, affine=True, track_running_stats=True)\n",
       "          (relu2): ReLU(inplace=True)\n",
       "          (conv2): Conv2d(192, 48, kernel_size=(3, 3), stride=(1, 1), padding=(1, 1), bias=False)\n",
       "        )\n",
       "        (denselayer28): _DenseLayer(\n",
       "          (norm1): BatchNorm2d(1680, eps=1e-05, momentum=0.1, affine=True, track_running_stats=True)\n",
       "          (relu1): ReLU(inplace=True)\n",
       "          (conv1): Conv2d(1680, 192, kernel_size=(1, 1), stride=(1, 1), bias=False)\n",
       "          (norm2): BatchNorm2d(192, eps=1e-05, momentum=0.1, affine=True, track_running_stats=True)\n",
       "          (relu2): ReLU(inplace=True)\n",
       "          (conv2): Conv2d(192, 48, kernel_size=(3, 3), stride=(1, 1), padding=(1, 1), bias=False)\n",
       "        )\n",
       "        (denselayer29): _DenseLayer(\n",
       "          (norm1): BatchNorm2d(1728, eps=1e-05, momentum=0.1, affine=True, track_running_stats=True)\n",
       "          (relu1): ReLU(inplace=True)\n",
       "          (conv1): Conv2d(1728, 192, kernel_size=(1, 1), stride=(1, 1), bias=False)\n",
       "          (norm2): BatchNorm2d(192, eps=1e-05, momentum=0.1, affine=True, track_running_stats=True)\n",
       "          (relu2): ReLU(inplace=True)\n",
       "          (conv2): Conv2d(192, 48, kernel_size=(3, 3), stride=(1, 1), padding=(1, 1), bias=False)\n",
       "        )\n",
       "        (denselayer30): _DenseLayer(\n",
       "          (norm1): BatchNorm2d(1776, eps=1e-05, momentum=0.1, affine=True, track_running_stats=True)\n",
       "          (relu1): ReLU(inplace=True)\n",
       "          (conv1): Conv2d(1776, 192, kernel_size=(1, 1), stride=(1, 1), bias=False)\n",
       "          (norm2): BatchNorm2d(192, eps=1e-05, momentum=0.1, affine=True, track_running_stats=True)\n",
       "          (relu2): ReLU(inplace=True)\n",
       "          (conv2): Conv2d(192, 48, kernel_size=(3, 3), stride=(1, 1), padding=(1, 1), bias=False)\n",
       "        )\n",
       "        (denselayer31): _DenseLayer(\n",
       "          (norm1): BatchNorm2d(1824, eps=1e-05, momentum=0.1, affine=True, track_running_stats=True)\n",
       "          (relu1): ReLU(inplace=True)\n",
       "          (conv1): Conv2d(1824, 192, kernel_size=(1, 1), stride=(1, 1), bias=False)\n",
       "          (norm2): BatchNorm2d(192, eps=1e-05, momentum=0.1, affine=True, track_running_stats=True)\n",
       "          (relu2): ReLU(inplace=True)\n",
       "          (conv2): Conv2d(192, 48, kernel_size=(3, 3), stride=(1, 1), padding=(1, 1), bias=False)\n",
       "        )\n",
       "        (denselayer32): _DenseLayer(\n",
       "          (norm1): BatchNorm2d(1872, eps=1e-05, momentum=0.1, affine=True, track_running_stats=True)\n",
       "          (relu1): ReLU(inplace=True)\n",
       "          (conv1): Conv2d(1872, 192, kernel_size=(1, 1), stride=(1, 1), bias=False)\n",
       "          (norm2): BatchNorm2d(192, eps=1e-05, momentum=0.1, affine=True, track_running_stats=True)\n",
       "          (relu2): ReLU(inplace=True)\n",
       "          (conv2): Conv2d(192, 48, kernel_size=(3, 3), stride=(1, 1), padding=(1, 1), bias=False)\n",
       "        )\n",
       "        (denselayer33): _DenseLayer(\n",
       "          (norm1): BatchNorm2d(1920, eps=1e-05, momentum=0.1, affine=True, track_running_stats=True)\n",
       "          (relu1): ReLU(inplace=True)\n",
       "          (conv1): Conv2d(1920, 192, kernel_size=(1, 1), stride=(1, 1), bias=False)\n",
       "          (norm2): BatchNorm2d(192, eps=1e-05, momentum=0.1, affine=True, track_running_stats=True)\n",
       "          (relu2): ReLU(inplace=True)\n",
       "          (conv2): Conv2d(192, 48, kernel_size=(3, 3), stride=(1, 1), padding=(1, 1), bias=False)\n",
       "        )\n",
       "        (denselayer34): _DenseLayer(\n",
       "          (norm1): BatchNorm2d(1968, eps=1e-05, momentum=0.1, affine=True, track_running_stats=True)\n",
       "          (relu1): ReLU(inplace=True)\n",
       "          (conv1): Conv2d(1968, 192, kernel_size=(1, 1), stride=(1, 1), bias=False)\n",
       "          (norm2): BatchNorm2d(192, eps=1e-05, momentum=0.1, affine=True, track_running_stats=True)\n",
       "          (relu2): ReLU(inplace=True)\n",
       "          (conv2): Conv2d(192, 48, kernel_size=(3, 3), stride=(1, 1), padding=(1, 1), bias=False)\n",
       "        )\n",
       "        (denselayer35): _DenseLayer(\n",
       "          (norm1): BatchNorm2d(2016, eps=1e-05, momentum=0.1, affine=True, track_running_stats=True)\n",
       "          (relu1): ReLU(inplace=True)\n",
       "          (conv1): Conv2d(2016, 192, kernel_size=(1, 1), stride=(1, 1), bias=False)\n",
       "          (norm2): BatchNorm2d(192, eps=1e-05, momentum=0.1, affine=True, track_running_stats=True)\n",
       "          (relu2): ReLU(inplace=True)\n",
       "          (conv2): Conv2d(192, 48, kernel_size=(3, 3), stride=(1, 1), padding=(1, 1), bias=False)\n",
       "        )\n",
       "        (denselayer36): _DenseLayer(\n",
       "          (norm1): BatchNorm2d(2064, eps=1e-05, momentum=0.1, affine=True, track_running_stats=True)\n",
       "          (relu1): ReLU(inplace=True)\n",
       "          (conv1): Conv2d(2064, 192, kernel_size=(1, 1), stride=(1, 1), bias=False)\n",
       "          (norm2): BatchNorm2d(192, eps=1e-05, momentum=0.1, affine=True, track_running_stats=True)\n",
       "          (relu2): ReLU(inplace=True)\n",
       "          (conv2): Conv2d(192, 48, kernel_size=(3, 3), stride=(1, 1), padding=(1, 1), bias=False)\n",
       "        )\n",
       "      )\n",
       "      (transition3): _Transition(\n",
       "        (norm): BatchNorm2d(2112, eps=1e-05, momentum=0.1, affine=True, track_running_stats=True)\n",
       "        (relu): ReLU(inplace=True)\n",
       "        (conv): Conv2d(2112, 1056, kernel_size=(1, 1), stride=(1, 1), bias=False)\n",
       "        (pool): AvgPool2d(kernel_size=2, stride=2, padding=0)\n",
       "      )\n",
       "      (denseblock4): _DenseBlock(\n",
       "        (denselayer1): _DenseLayer(\n",
       "          (norm1): BatchNorm2d(1056, eps=1e-05, momentum=0.1, affine=True, track_running_stats=True)\n",
       "          (relu1): ReLU(inplace=True)\n",
       "          (conv1): Conv2d(1056, 192, kernel_size=(1, 1), stride=(1, 1), bias=False)\n",
       "          (norm2): BatchNorm2d(192, eps=1e-05, momentum=0.1, affine=True, track_running_stats=True)\n",
       "          (relu2): ReLU(inplace=True)\n",
       "          (conv2): Conv2d(192, 48, kernel_size=(3, 3), stride=(1, 1), padding=(1, 1), bias=False)\n",
       "        )\n",
       "        (denselayer2): _DenseLayer(\n",
       "          (norm1): BatchNorm2d(1104, eps=1e-05, momentum=0.1, affine=True, track_running_stats=True)\n",
       "          (relu1): ReLU(inplace=True)\n",
       "          (conv1): Conv2d(1104, 192, kernel_size=(1, 1), stride=(1, 1), bias=False)\n",
       "          (norm2): BatchNorm2d(192, eps=1e-05, momentum=0.1, affine=True, track_running_stats=True)\n",
       "          (relu2): ReLU(inplace=True)\n",
       "          (conv2): Conv2d(192, 48, kernel_size=(3, 3), stride=(1, 1), padding=(1, 1), bias=False)\n",
       "        )\n",
       "        (denselayer3): _DenseLayer(\n",
       "          (norm1): BatchNorm2d(1152, eps=1e-05, momentum=0.1, affine=True, track_running_stats=True)\n",
       "          (relu1): ReLU(inplace=True)\n",
       "          (conv1): Conv2d(1152, 192, kernel_size=(1, 1), stride=(1, 1), bias=False)\n",
       "          (norm2): BatchNorm2d(192, eps=1e-05, momentum=0.1, affine=True, track_running_stats=True)\n",
       "          (relu2): ReLU(inplace=True)\n",
       "          (conv2): Conv2d(192, 48, kernel_size=(3, 3), stride=(1, 1), padding=(1, 1), bias=False)\n",
       "        )\n",
       "        (denselayer4): _DenseLayer(\n",
       "          (norm1): BatchNorm2d(1200, eps=1e-05, momentum=0.1, affine=True, track_running_stats=True)\n",
       "          (relu1): ReLU(inplace=True)\n",
       "          (conv1): Conv2d(1200, 192, kernel_size=(1, 1), stride=(1, 1), bias=False)\n",
       "          (norm2): BatchNorm2d(192, eps=1e-05, momentum=0.1, affine=True, track_running_stats=True)\n",
       "          (relu2): ReLU(inplace=True)\n",
       "          (conv2): Conv2d(192, 48, kernel_size=(3, 3), stride=(1, 1), padding=(1, 1), bias=False)\n",
       "        )\n",
       "        (denselayer5): _DenseLayer(\n",
       "          (norm1): BatchNorm2d(1248, eps=1e-05, momentum=0.1, affine=True, track_running_stats=True)\n",
       "          (relu1): ReLU(inplace=True)\n",
       "          (conv1): Conv2d(1248, 192, kernel_size=(1, 1), stride=(1, 1), bias=False)\n",
       "          (norm2): BatchNorm2d(192, eps=1e-05, momentum=0.1, affine=True, track_running_stats=True)\n",
       "          (relu2): ReLU(inplace=True)\n",
       "          (conv2): Conv2d(192, 48, kernel_size=(3, 3), stride=(1, 1), padding=(1, 1), bias=False)\n",
       "        )\n",
       "        (denselayer6): _DenseLayer(\n",
       "          (norm1): BatchNorm2d(1296, eps=1e-05, momentum=0.1, affine=True, track_running_stats=True)\n",
       "          (relu1): ReLU(inplace=True)\n",
       "          (conv1): Conv2d(1296, 192, kernel_size=(1, 1), stride=(1, 1), bias=False)\n",
       "          (norm2): BatchNorm2d(192, eps=1e-05, momentum=0.1, affine=True, track_running_stats=True)\n",
       "          (relu2): ReLU(inplace=True)\n",
       "          (conv2): Conv2d(192, 48, kernel_size=(3, 3), stride=(1, 1), padding=(1, 1), bias=False)\n",
       "        )\n",
       "        (denselayer7): _DenseLayer(\n",
       "          (norm1): BatchNorm2d(1344, eps=1e-05, momentum=0.1, affine=True, track_running_stats=True)\n",
       "          (relu1): ReLU(inplace=True)\n",
       "          (conv1): Conv2d(1344, 192, kernel_size=(1, 1), stride=(1, 1), bias=False)\n",
       "          (norm2): BatchNorm2d(192, eps=1e-05, momentum=0.1, affine=True, track_running_stats=True)\n",
       "          (relu2): ReLU(inplace=True)\n",
       "          (conv2): Conv2d(192, 48, kernel_size=(3, 3), stride=(1, 1), padding=(1, 1), bias=False)\n",
       "        )\n",
       "        (denselayer8): _DenseLayer(\n",
       "          (norm1): BatchNorm2d(1392, eps=1e-05, momentum=0.1, affine=True, track_running_stats=True)\n",
       "          (relu1): ReLU(inplace=True)\n",
       "          (conv1): Conv2d(1392, 192, kernel_size=(1, 1), stride=(1, 1), bias=False)\n",
       "          (norm2): BatchNorm2d(192, eps=1e-05, momentum=0.1, affine=True, track_running_stats=True)\n",
       "          (relu2): ReLU(inplace=True)\n",
       "          (conv2): Conv2d(192, 48, kernel_size=(3, 3), stride=(1, 1), padding=(1, 1), bias=False)\n",
       "        )\n",
       "        (denselayer9): _DenseLayer(\n",
       "          (norm1): BatchNorm2d(1440, eps=1e-05, momentum=0.1, affine=True, track_running_stats=True)\n",
       "          (relu1): ReLU(inplace=True)\n",
       "          (conv1): Conv2d(1440, 192, kernel_size=(1, 1), stride=(1, 1), bias=False)\n",
       "          (norm2): BatchNorm2d(192, eps=1e-05, momentum=0.1, affine=True, track_running_stats=True)\n",
       "          (relu2): ReLU(inplace=True)\n",
       "          (conv2): Conv2d(192, 48, kernel_size=(3, 3), stride=(1, 1), padding=(1, 1), bias=False)\n",
       "        )\n",
       "        (denselayer10): _DenseLayer(\n",
       "          (norm1): BatchNorm2d(1488, eps=1e-05, momentum=0.1, affine=True, track_running_stats=True)\n",
       "          (relu1): ReLU(inplace=True)\n",
       "          (conv1): Conv2d(1488, 192, kernel_size=(1, 1), stride=(1, 1), bias=False)\n",
       "          (norm2): BatchNorm2d(192, eps=1e-05, momentum=0.1, affine=True, track_running_stats=True)\n",
       "          (relu2): ReLU(inplace=True)\n",
       "          (conv2): Conv2d(192, 48, kernel_size=(3, 3), stride=(1, 1), padding=(1, 1), bias=False)\n",
       "        )\n",
       "        (denselayer11): _DenseLayer(\n",
       "          (norm1): BatchNorm2d(1536, eps=1e-05, momentum=0.1, affine=True, track_running_stats=True)\n",
       "          (relu1): ReLU(inplace=True)\n",
       "          (conv1): Conv2d(1536, 192, kernel_size=(1, 1), stride=(1, 1), bias=False)\n",
       "          (norm2): BatchNorm2d(192, eps=1e-05, momentum=0.1, affine=True, track_running_stats=True)\n",
       "          (relu2): ReLU(inplace=True)\n",
       "          (conv2): Conv2d(192, 48, kernel_size=(3, 3), stride=(1, 1), padding=(1, 1), bias=False)\n",
       "        )\n",
       "        (denselayer12): _DenseLayer(\n",
       "          (norm1): BatchNorm2d(1584, eps=1e-05, momentum=0.1, affine=True, track_running_stats=True)\n",
       "          (relu1): ReLU(inplace=True)\n",
       "          (conv1): Conv2d(1584, 192, kernel_size=(1, 1), stride=(1, 1), bias=False)\n",
       "          (norm2): BatchNorm2d(192, eps=1e-05, momentum=0.1, affine=True, track_running_stats=True)\n",
       "          (relu2): ReLU(inplace=True)\n",
       "          (conv2): Conv2d(192, 48, kernel_size=(3, 3), stride=(1, 1), padding=(1, 1), bias=False)\n",
       "        )\n",
       "        (denselayer13): _DenseLayer(\n",
       "          (norm1): BatchNorm2d(1632, eps=1e-05, momentum=0.1, affine=True, track_running_stats=True)\n",
       "          (relu1): ReLU(inplace=True)\n",
       "          (conv1): Conv2d(1632, 192, kernel_size=(1, 1), stride=(1, 1), bias=False)\n",
       "          (norm2): BatchNorm2d(192, eps=1e-05, momentum=0.1, affine=True, track_running_stats=True)\n",
       "          (relu2): ReLU(inplace=True)\n",
       "          (conv2): Conv2d(192, 48, kernel_size=(3, 3), stride=(1, 1), padding=(1, 1), bias=False)\n",
       "        )\n",
       "        (denselayer14): _DenseLayer(\n",
       "          (norm1): BatchNorm2d(1680, eps=1e-05, momentum=0.1, affine=True, track_running_stats=True)\n",
       "          (relu1): ReLU(inplace=True)\n",
       "          (conv1): Conv2d(1680, 192, kernel_size=(1, 1), stride=(1, 1), bias=False)\n",
       "          (norm2): BatchNorm2d(192, eps=1e-05, momentum=0.1, affine=True, track_running_stats=True)\n",
       "          (relu2): ReLU(inplace=True)\n",
       "          (conv2): Conv2d(192, 48, kernel_size=(3, 3), stride=(1, 1), padding=(1, 1), bias=False)\n",
       "        )\n",
       "        (denselayer15): _DenseLayer(\n",
       "          (norm1): BatchNorm2d(1728, eps=1e-05, momentum=0.1, affine=True, track_running_stats=True)\n",
       "          (relu1): ReLU(inplace=True)\n",
       "          (conv1): Conv2d(1728, 192, kernel_size=(1, 1), stride=(1, 1), bias=False)\n",
       "          (norm2): BatchNorm2d(192, eps=1e-05, momentum=0.1, affine=True, track_running_stats=True)\n",
       "          (relu2): ReLU(inplace=True)\n",
       "          (conv2): Conv2d(192, 48, kernel_size=(3, 3), stride=(1, 1), padding=(1, 1), bias=False)\n",
       "        )\n",
       "        (denselayer16): _DenseLayer(\n",
       "          (norm1): BatchNorm2d(1776, eps=1e-05, momentum=0.1, affine=True, track_running_stats=True)\n",
       "          (relu1): ReLU(inplace=True)\n",
       "          (conv1): Conv2d(1776, 192, kernel_size=(1, 1), stride=(1, 1), bias=False)\n",
       "          (norm2): BatchNorm2d(192, eps=1e-05, momentum=0.1, affine=True, track_running_stats=True)\n",
       "          (relu2): ReLU(inplace=True)\n",
       "          (conv2): Conv2d(192, 48, kernel_size=(3, 3), stride=(1, 1), padding=(1, 1), bias=False)\n",
       "        )\n",
       "        (denselayer17): _DenseLayer(\n",
       "          (norm1): BatchNorm2d(1824, eps=1e-05, momentum=0.1, affine=True, track_running_stats=True)\n",
       "          (relu1): ReLU(inplace=True)\n",
       "          (conv1): Conv2d(1824, 192, kernel_size=(1, 1), stride=(1, 1), bias=False)\n",
       "          (norm2): BatchNorm2d(192, eps=1e-05, momentum=0.1, affine=True, track_running_stats=True)\n",
       "          (relu2): ReLU(inplace=True)\n",
       "          (conv2): Conv2d(192, 48, kernel_size=(3, 3), stride=(1, 1), padding=(1, 1), bias=False)\n",
       "        )\n",
       "        (denselayer18): _DenseLayer(\n",
       "          (norm1): BatchNorm2d(1872, eps=1e-05, momentum=0.1, affine=True, track_running_stats=True)\n",
       "          (relu1): ReLU(inplace=True)\n",
       "          (conv1): Conv2d(1872, 192, kernel_size=(1, 1), stride=(1, 1), bias=False)\n",
       "          (norm2): BatchNorm2d(192, eps=1e-05, momentum=0.1, affine=True, track_running_stats=True)\n",
       "          (relu2): ReLU(inplace=True)\n",
       "          (conv2): Conv2d(192, 48, kernel_size=(3, 3), stride=(1, 1), padding=(1, 1), bias=False)\n",
       "        )\n",
       "        (denselayer19): _DenseLayer(\n",
       "          (norm1): BatchNorm2d(1920, eps=1e-05, momentum=0.1, affine=True, track_running_stats=True)\n",
       "          (relu1): ReLU(inplace=True)\n",
       "          (conv1): Conv2d(1920, 192, kernel_size=(1, 1), stride=(1, 1), bias=False)\n",
       "          (norm2): BatchNorm2d(192, eps=1e-05, momentum=0.1, affine=True, track_running_stats=True)\n",
       "          (relu2): ReLU(inplace=True)\n",
       "          (conv2): Conv2d(192, 48, kernel_size=(3, 3), stride=(1, 1), padding=(1, 1), bias=False)\n",
       "        )\n",
       "        (denselayer20): _DenseLayer(\n",
       "          (norm1): BatchNorm2d(1968, eps=1e-05, momentum=0.1, affine=True, track_running_stats=True)\n",
       "          (relu1): ReLU(inplace=True)\n",
       "          (conv1): Conv2d(1968, 192, kernel_size=(1, 1), stride=(1, 1), bias=False)\n",
       "          (norm2): BatchNorm2d(192, eps=1e-05, momentum=0.1, affine=True, track_running_stats=True)\n",
       "          (relu2): ReLU(inplace=True)\n",
       "          (conv2): Conv2d(192, 48, kernel_size=(3, 3), stride=(1, 1), padding=(1, 1), bias=False)\n",
       "        )\n",
       "        (denselayer21): _DenseLayer(\n",
       "          (norm1): BatchNorm2d(2016, eps=1e-05, momentum=0.1, affine=True, track_running_stats=True)\n",
       "          (relu1): ReLU(inplace=True)\n",
       "          (conv1): Conv2d(2016, 192, kernel_size=(1, 1), stride=(1, 1), bias=False)\n",
       "          (norm2): BatchNorm2d(192, eps=1e-05, momentum=0.1, affine=True, track_running_stats=True)\n",
       "          (relu2): ReLU(inplace=True)\n",
       "          (conv2): Conv2d(192, 48, kernel_size=(3, 3), stride=(1, 1), padding=(1, 1), bias=False)\n",
       "        )\n",
       "        (denselayer22): _DenseLayer(\n",
       "          (norm1): BatchNorm2d(2064, eps=1e-05, momentum=0.1, affine=True, track_running_stats=True)\n",
       "          (relu1): ReLU(inplace=True)\n",
       "          (conv1): Conv2d(2064, 192, kernel_size=(1, 1), stride=(1, 1), bias=False)\n",
       "          (norm2): BatchNorm2d(192, eps=1e-05, momentum=0.1, affine=True, track_running_stats=True)\n",
       "          (relu2): ReLU(inplace=True)\n",
       "          (conv2): Conv2d(192, 48, kernel_size=(3, 3), stride=(1, 1), padding=(1, 1), bias=False)\n",
       "        )\n",
       "        (denselayer23): _DenseLayer(\n",
       "          (norm1): BatchNorm2d(2112, eps=1e-05, momentum=0.1, affine=True, track_running_stats=True)\n",
       "          (relu1): ReLU(inplace=True)\n",
       "          (conv1): Conv2d(2112, 192, kernel_size=(1, 1), stride=(1, 1), bias=False)\n",
       "          (norm2): BatchNorm2d(192, eps=1e-05, momentum=0.1, affine=True, track_running_stats=True)\n",
       "          (relu2): ReLU(inplace=True)\n",
       "          (conv2): Conv2d(192, 48, kernel_size=(3, 3), stride=(1, 1), padding=(1, 1), bias=False)\n",
       "        )\n",
       "        (denselayer24): _DenseLayer(\n",
       "          (norm1): BatchNorm2d(2160, eps=1e-05, momentum=0.1, affine=True, track_running_stats=True)\n",
       "          (relu1): ReLU(inplace=True)\n",
       "          (conv1): Conv2d(2160, 192, kernel_size=(1, 1), stride=(1, 1), bias=False)\n",
       "          (norm2): BatchNorm2d(192, eps=1e-05, momentum=0.1, affine=True, track_running_stats=True)\n",
       "          (relu2): ReLU(inplace=True)\n",
       "          (conv2): Conv2d(192, 48, kernel_size=(3, 3), stride=(1, 1), padding=(1, 1), bias=False)\n",
       "        )\n",
       "      )\n",
       "      (norm5): BatchNorm2d(2208, eps=1e-05, momentum=0.1, affine=True, track_running_stats=True)\n",
       "    )\n",
       "    (classifier): Linear(in_features=2208, out_features=11, bias=True)\n",
       "  )\n",
       ")"
      ]
     },
     "execution_count": 4,
     "metadata": {},
     "output_type": "execute_result"
    }
   ],
   "source": [
    "from torchvision import models\n",
    "classifier = models.densenet161(pretrained=True)\n",
    "\n",
    "\n",
    "    \n",
    "# Modify the last fully connected layer in the model\n",
    "classifier.classifier = nn.Linear(in_features=2208, out_features=len(train_set.classes))\n",
    "\n",
    "# Use GPU computation if available\n",
    "# device = torch.device(\"cuda\" if torch.cuda.is_available() else 'cpu')\n",
    "\n",
    "device = torch.device('cuda')\n",
    "# classifier.to(torch.device('cuda'))\n",
    "\n",
    "# Train on multiple GPU cores if possible\n",
    "if torch.cuda.device_count() > 1:\n",
    "  print(\"Using\", torch.cuda.device_count(), \"GPUs!\")\n",
    "  classifier = nn.DataParallel(classifier)\n",
    "\n",
    "classifier.to(device)"
   ]
  },
  {
   "cell_type": "markdown",
   "metadata": {},
   "source": [
    "### Training the Network"
   ]
  },
  {
   "cell_type": "code",
   "execution_count": 5,
   "metadata": {},
   "outputs": [],
   "source": [
    "learning_rate = 1.0e-5\n",
    "criterion = nn.CrossEntropyLoss()\n",
    "optimizer = torch.optim.Adam(classifier.parameters(), lr=learning_rate)\n"
   ]
  },
  {
   "cell_type": "code",
   "execution_count": 6,
   "metadata": {
    "scrolled": true
   },
   "outputs": [
    {
     "name": "stdout",
     "output_type": "stream",
     "text": [
      "Iteration number: 10/4000\n",
      "Training Accuracy: 12.500%\n",
      "Time elapsed: 0h 0m 19s\n",
      "======================================================================\n"
     ]
    },
    {
     "name": "stderr",
     "output_type": "stream",
     "text": [
      "/home/robotics/anaconda3/envs/estif/lib/python3.6/site-packages/PIL/JpegImagePlugin.py:796: UserWarning: Image appears to be a malformed MPO file, it will be interpreted as a base JPEG file\n",
      "  \"Image appears to be a malformed MPO file, it will be \"\n",
      "/home/robotics/anaconda3/envs/estif/lib/python3.6/site-packages/PIL/JpegImagePlugin.py:796: UserWarning: Image appears to be a malformed MPO file, it will be interpreted as a base JPEG file\n",
      "  \"Image appears to be a malformed MPO file, it will be \"\n"
     ]
    },
    {
     "name": "stdout",
     "output_type": "stream",
     "text": [
      "Iteration number: 20/4000\n",
      "Training Accuracy: 18.750%\n",
      "Time elapsed: 0h 0m 36s\n",
      "======================================================================\n"
     ]
    },
    {
     "name": "stderr",
     "output_type": "stream",
     "text": [
      "/home/robotics/anaconda3/envs/estif/lib/python3.6/site-packages/PIL/JpegImagePlugin.py:796: UserWarning: Image appears to be a malformed MPO file, it will be interpreted as a base JPEG file\n",
      "  \"Image appears to be a malformed MPO file, it will be \"\n"
     ]
    },
    {
     "name": "stdout",
     "output_type": "stream",
     "text": [
      "Iteration number: 30/4000\n",
      "Training Accuracy: 28.125%\n",
      "Time elapsed: 0h 0m 55s\n",
      "======================================================================\n",
      "Iteration number: 40/4000\n",
      "Training Accuracy: 34.375%\n",
      "Time elapsed: 0h 1m 12s\n",
      "======================================================================\n",
      "Iteration number: 50/4000\n",
      "Training Accuracy: 25.000%\n",
      "Time elapsed: 0h 1m 30s\n",
      "======================================================================\n"
     ]
    },
    {
     "name": "stderr",
     "output_type": "stream",
     "text": [
      "/home/robotics/anaconda3/envs/estif/lib/python3.6/site-packages/PIL/JpegImagePlugin.py:796: UserWarning: Image appears to be a malformed MPO file, it will be interpreted as a base JPEG file\n",
      "  \"Image appears to be a malformed MPO file, it will be \"\n",
      "/home/robotics/anaconda3/envs/estif/lib/python3.6/site-packages/PIL/JpegImagePlugin.py:796: UserWarning: Image appears to be a malformed MPO file, it will be interpreted as a base JPEG file\n",
      "  \"Image appears to be a malformed MPO file, it will be \"\n"
     ]
    },
    {
     "name": "stdout",
     "output_type": "stream",
     "text": [
      "Iteration number: 60/4000\n",
      "Training Accuracy: 46.875%\n",
      "Time elapsed: 0h 1m 48s\n",
      "======================================================================\n"
     ]
    },
    {
     "name": "stderr",
     "output_type": "stream",
     "text": [
      "/home/robotics/anaconda3/envs/estif/lib/python3.6/site-packages/PIL/JpegImagePlugin.py:796: UserWarning: Image appears to be a malformed MPO file, it will be interpreted as a base JPEG file\n",
      "  \"Image appears to be a malformed MPO file, it will be \"\n"
     ]
    },
    {
     "name": "stdout",
     "output_type": "stream",
     "text": [
      "Iteration number: 70/4000\n",
      "Training Accuracy: 43.750%\n",
      "Time elapsed: 0h 2m 5s\n",
      "======================================================================\n",
      "Iteration number: 80/4000\n",
      "Training Accuracy: 62.500%\n",
      "Time elapsed: 0h 2m 22s\n",
      "======================================================================\n",
      "Iteration number: 90/4000\n",
      "Training Accuracy: 53.125%\n",
      "Time elapsed: 0h 2m 40s\n",
      "======================================================================\n",
      "Iteration number: 100/4000\n",
      "Training Accuracy: 53.125%\n",
      "Time elapsed: 0h 2m 57s\n",
      "======================================================================\n",
      "Iteration number: 110/4000\n",
      "Training Accuracy: 62.500%\n",
      "Time elapsed: 0h 3m 15s\n",
      "======================================================================\n",
      "Iteration number: 120/4000\n",
      "Training Accuracy: 75.000%\n",
      "Time elapsed: 0h 3m 32s\n",
      "======================================================================\n",
      "Iteration number: 130/4000\n",
      "Training Accuracy: 75.000%\n",
      "Time elapsed: 0h 3m 50s\n",
      "======================================================================\n"
     ]
    },
    {
     "name": "stderr",
     "output_type": "stream",
     "text": [
      "/home/robotics/anaconda3/envs/estif/lib/python3.6/site-packages/PIL/JpegImagePlugin.py:796: UserWarning: Image appears to be a malformed MPO file, it will be interpreted as a base JPEG file\n",
      "  \"Image appears to be a malformed MPO file, it will be \"\n",
      "/home/robotics/anaconda3/envs/estif/lib/python3.6/site-packages/PIL/JpegImagePlugin.py:796: UserWarning: Image appears to be a malformed MPO file, it will be interpreted as a base JPEG file\n",
      "  \"Image appears to be a malformed MPO file, it will be \"\n"
     ]
    },
    {
     "name": "stdout",
     "output_type": "stream",
     "text": [
      "Iteration number: 140/4000\n",
      "Training Accuracy: 87.500%\n",
      "Time elapsed: 0h 4m 8s\n",
      "======================================================================\n"
     ]
    },
    {
     "name": "stderr",
     "output_type": "stream",
     "text": [
      "/home/robotics/anaconda3/envs/estif/lib/python3.6/site-packages/PIL/JpegImagePlugin.py:796: UserWarning: Image appears to be a malformed MPO file, it will be interpreted as a base JPEG file\n",
      "  \"Image appears to be a malformed MPO file, it will be \"\n"
     ]
    },
    {
     "name": "stdout",
     "output_type": "stream",
     "text": [
      "Iteration number: 150/4000\n",
      "Training Accuracy: 71.875%\n",
      "Time elapsed: 0h 4m 25s\n",
      "======================================================================\n",
      "Iteration number: 160/4000\n",
      "Training Accuracy: 81.250%\n",
      "Time elapsed: 0h 4m 44s\n",
      "======================================================================\n"
     ]
    },
    {
     "name": "stderr",
     "output_type": "stream",
     "text": [
      "/home/robotics/anaconda3/envs/estif/lib/python3.6/site-packages/PIL/JpegImagePlugin.py:796: UserWarning: Image appears to be a malformed MPO file, it will be interpreted as a base JPEG file\n",
      "  \"Image appears to be a malformed MPO file, it will be \"\n"
     ]
    },
    {
     "name": "stdout",
     "output_type": "stream",
     "text": [
      "Iteration number: 170/4000\n",
      "Training Accuracy: 84.375%\n",
      "Time elapsed: 0h 5m 1s\n",
      "======================================================================\n",
      "Iteration number: 180/4000\n",
      "Training Accuracy: 90.625%\n",
      "Time elapsed: 0h 5m 19s\n",
      "======================================================================\n"
     ]
    },
    {
     "name": "stderr",
     "output_type": "stream",
     "text": [
      "/home/robotics/anaconda3/envs/estif/lib/python3.6/site-packages/PIL/JpegImagePlugin.py:796: UserWarning: Image appears to be a malformed MPO file, it will be interpreted as a base JPEG file\n",
      "  \"Image appears to be a malformed MPO file, it will be \"\n",
      "/home/robotics/anaconda3/envs/estif/lib/python3.6/site-packages/PIL/JpegImagePlugin.py:796: UserWarning: Image appears to be a malformed MPO file, it will be interpreted as a base JPEG file\n",
      "  \"Image appears to be a malformed MPO file, it will be \"\n"
     ]
    },
    {
     "name": "stdout",
     "output_type": "stream",
     "text": [
      "Iteration number: 190/4000\n",
      "Training Accuracy: 75.000%\n",
      "Time elapsed: 0h 5m 36s\n",
      "======================================================================\n",
      "Iteration number: 200/4000\n",
      "Training Accuracy: 84.375%\n",
      "Time elapsed: 0h 5m 54s\n",
      "======================================================================\n"
     ]
    },
    {
     "name": "stderr",
     "output_type": "stream",
     "text": [
      "/home/robotics/anaconda3/envs/estif/lib/python3.6/site-packages/PIL/JpegImagePlugin.py:796: UserWarning: Image appears to be a malformed MPO file, it will be interpreted as a base JPEG file\n",
      "  \"Image appears to be a malformed MPO file, it will be \"\n"
     ]
    },
    {
     "name": "stdout",
     "output_type": "stream",
     "text": [
      "Iteration number: 210/4000\n",
      "Training Accuracy: 96.875%\n",
      "Time elapsed: 0h 6m 11s\n",
      "======================================================================\n"
     ]
    },
    {
     "name": "stderr",
     "output_type": "stream",
     "text": [
      "/home/robotics/anaconda3/envs/estif/lib/python3.6/site-packages/PIL/JpegImagePlugin.py:796: UserWarning: Image appears to be a malformed MPO file, it will be interpreted as a base JPEG file\n",
      "  \"Image appears to be a malformed MPO file, it will be \"\n"
     ]
    },
    {
     "name": "stdout",
     "output_type": "stream",
     "text": [
      "Iteration number: 220/4000\n",
      "Training Accuracy: 87.500%\n",
      "Time elapsed: 0h 6m 29s\n",
      "======================================================================\n",
      "Iteration number: 230/4000\n",
      "Training Accuracy: 78.125%\n",
      "Time elapsed: 0h 6m 47s\n",
      "======================================================================\n",
      "Iteration number: 240/4000\n",
      "Training Accuracy: 90.625%\n",
      "Time elapsed: 0h 7m 5s\n",
      "======================================================================\n"
     ]
    },
    {
     "name": "stderr",
     "output_type": "stream",
     "text": [
      "/home/robotics/anaconda3/envs/estif/lib/python3.6/site-packages/PIL/JpegImagePlugin.py:796: UserWarning: Image appears to be a malformed MPO file, it will be interpreted as a base JPEG file\n",
      "  \"Image appears to be a malformed MPO file, it will be \"\n"
     ]
    },
    {
     "name": "stdout",
     "output_type": "stream",
     "text": [
      "Iteration number: 250/4000\n",
      "Training Accuracy: 96.875%\n",
      "Time elapsed: 0h 7m 23s\n",
      "======================================================================\n",
      "Iteration number: 260/4000\n",
      "Training Accuracy: 84.375%\n",
      "Time elapsed: 0h 7m 41s\n",
      "======================================================================\n"
     ]
    },
    {
     "name": "stderr",
     "output_type": "stream",
     "text": [
      "/home/robotics/anaconda3/envs/estif/lib/python3.6/site-packages/PIL/JpegImagePlugin.py:796: UserWarning: Image appears to be a malformed MPO file, it will be interpreted as a base JPEG file\n",
      "  \"Image appears to be a malformed MPO file, it will be \"\n"
     ]
    },
    {
     "name": "stdout",
     "output_type": "stream",
     "text": [
      "Iteration number: 270/4000\n",
      "Training Accuracy: 87.500%\n",
      "Time elapsed: 0h 7m 60s\n",
      "======================================================================\n",
      "Iteration number: 280/4000\n",
      "Training Accuracy: 84.375%\n",
      "Time elapsed: 0h 8m 18s\n",
      "======================================================================\n",
      "Iteration number: 290/4000\n",
      "Training Accuracy: 93.750%\n",
      "Time elapsed: 0h 8m 37s\n",
      "======================================================================\n",
      "Iteration number: 300/4000\n",
      "Training Accuracy: 93.750%\n",
      "Time elapsed: 0h 8m 54s\n",
      "======================================================================\n",
      "Iteration number: 310/4000\n",
      "Training Accuracy: 93.750%\n",
      "Time elapsed: 0h 9m 12s\n",
      "======================================================================\n"
     ]
    },
    {
     "name": "stderr",
     "output_type": "stream",
     "text": [
      "/home/robotics/anaconda3/envs/estif/lib/python3.6/site-packages/PIL/JpegImagePlugin.py:796: UserWarning: Image appears to be a malformed MPO file, it will be interpreted as a base JPEG file\n",
      "  \"Image appears to be a malformed MPO file, it will be \"\n"
     ]
    },
    {
     "name": "stdout",
     "output_type": "stream",
     "text": [
      "Iteration number: 320/4000\n",
      "Training Accuracy: 96.875%\n",
      "Time elapsed: 0h 9m 31s\n",
      "======================================================================\n"
     ]
    },
    {
     "name": "stderr",
     "output_type": "stream",
     "text": [
      "/home/robotics/anaconda3/envs/estif/lib/python3.6/site-packages/PIL/JpegImagePlugin.py:796: UserWarning: Image appears to be a malformed MPO file, it will be interpreted as a base JPEG file\n",
      "  \"Image appears to be a malformed MPO file, it will be \"\n",
      "/home/robotics/anaconda3/envs/estif/lib/python3.6/site-packages/PIL/JpegImagePlugin.py:796: UserWarning: Image appears to be a malformed MPO file, it will be interpreted as a base JPEG file\n",
      "  \"Image appears to be a malformed MPO file, it will be \"\n"
     ]
    },
    {
     "name": "stdout",
     "output_type": "stream",
     "text": [
      "Iteration number: 330/4000\n",
      "Training Accuracy: 87.500%\n",
      "Time elapsed: 0h 9m 49s\n",
      "======================================================================\n"
     ]
    },
    {
     "name": "stderr",
     "output_type": "stream",
     "text": [
      "/home/robotics/anaconda3/envs/estif/lib/python3.6/site-packages/PIL/JpegImagePlugin.py:796: UserWarning: Image appears to be a malformed MPO file, it will be interpreted as a base JPEG file\n",
      "  \"Image appears to be a malformed MPO file, it will be \"\n"
     ]
    },
    {
     "name": "stdout",
     "output_type": "stream",
     "text": [
      "Iteration number: 340/4000\n",
      "Training Accuracy: 100.000%\n",
      "Time elapsed: 0h 10m 7s\n",
      "======================================================================\n"
     ]
    },
    {
     "name": "stderr",
     "output_type": "stream",
     "text": [
      "/home/robotics/anaconda3/envs/estif/lib/python3.6/site-packages/PIL/JpegImagePlugin.py:796: UserWarning: Image appears to be a malformed MPO file, it will be interpreted as a base JPEG file\n",
      "  \"Image appears to be a malformed MPO file, it will be \"\n"
     ]
    },
    {
     "name": "stdout",
     "output_type": "stream",
     "text": [
      "Iteration number: 350/4000\n",
      "Training Accuracy: 81.250%\n",
      "Time elapsed: 0h 10m 25s\n",
      "======================================================================\n",
      "Iteration number: 360/4000\n",
      "Training Accuracy: 84.375%\n",
      "Time elapsed: 0h 10m 43s\n",
      "======================================================================\n"
     ]
    },
    {
     "name": "stderr",
     "output_type": "stream",
     "text": [
      "/home/robotics/anaconda3/envs/estif/lib/python3.6/site-packages/PIL/JpegImagePlugin.py:796: UserWarning: Image appears to be a malformed MPO file, it will be interpreted as a base JPEG file\n",
      "  \"Image appears to be a malformed MPO file, it will be \"\n"
     ]
    },
    {
     "name": "stdout",
     "output_type": "stream",
     "text": [
      "Iteration number: 370/4000\n",
      "Training Accuracy: 93.750%\n",
      "Time elapsed: 0h 11m 1s\n",
      "======================================================================\n"
     ]
    },
    {
     "name": "stderr",
     "output_type": "stream",
     "text": [
      "/home/robotics/anaconda3/envs/estif/lib/python3.6/site-packages/PIL/JpegImagePlugin.py:796: UserWarning: Image appears to be a malformed MPO file, it will be interpreted as a base JPEG file\n",
      "  \"Image appears to be a malformed MPO file, it will be \"\n",
      "/home/robotics/anaconda3/envs/estif/lib/python3.6/site-packages/PIL/JpegImagePlugin.py:796: UserWarning: Image appears to be a malformed MPO file, it will be interpreted as a base JPEG file\n",
      "  \"Image appears to be a malformed MPO file, it will be \"\n"
     ]
    },
    {
     "name": "stdout",
     "output_type": "stream",
     "text": [
      "Iteration number: 380/4000\n",
      "Training Accuracy: 93.750%\n",
      "Time elapsed: 0h 11m 19s\n",
      "======================================================================\n"
     ]
    },
    {
     "name": "stderr",
     "output_type": "stream",
     "text": [
      "/home/robotics/anaconda3/envs/estif/lib/python3.6/site-packages/PIL/JpegImagePlugin.py:796: UserWarning: Image appears to be a malformed MPO file, it will be interpreted as a base JPEG file\n",
      "  \"Image appears to be a malformed MPO file, it will be \"\n",
      "/home/robotics/anaconda3/envs/estif/lib/python3.6/site-packages/PIL/JpegImagePlugin.py:796: UserWarning: Image appears to be a malformed MPO file, it will be interpreted as a base JPEG file\n",
      "  \"Image appears to be a malformed MPO file, it will be \"\n"
     ]
    },
    {
     "name": "stdout",
     "output_type": "stream",
     "text": [
      "Iteration number: 390/4000\n",
      "Training Accuracy: 100.000%\n",
      "Time elapsed: 0h 11m 38s\n",
      "======================================================================\n",
      "Iteration number: 400/4000\n",
      "Training Accuracy: 93.750%\n",
      "Time elapsed: 0h 11m 56s\n",
      "======================================================================\n",
      "Iteration number: 410/4000\n",
      "Training Accuracy: 96.875%\n",
      "Time elapsed: 0h 12m 16s\n",
      "======================================================================\n",
      "Iteration number: 420/4000\n",
      "Training Accuracy: 93.750%\n",
      "Time elapsed: 0h 12m 34s\n",
      "======================================================================\n",
      "Iteration number: 430/4000\n",
      "Training Accuracy: 93.750%\n",
      "Time elapsed: 0h 12m 54s\n",
      "======================================================================\n",
      "Iteration number: 440/4000\n",
      "Training Accuracy: 90.625%\n",
      "Time elapsed: 0h 13m 13s\n",
      "======================================================================\n"
     ]
    },
    {
     "name": "stderr",
     "output_type": "stream",
     "text": [
      "/home/robotics/anaconda3/envs/estif/lib/python3.6/site-packages/PIL/JpegImagePlugin.py:796: UserWarning: Image appears to be a malformed MPO file, it will be interpreted as a base JPEG file\n",
      "  \"Image appears to be a malformed MPO file, it will be \"\n"
     ]
    },
    {
     "name": "stdout",
     "output_type": "stream",
     "text": [
      "Iteration number: 450/4000\n",
      "Training Accuracy: 100.000%\n",
      "Time elapsed: 0h 13m 31s\n",
      "======================================================================\n"
     ]
    },
    {
     "name": "stderr",
     "output_type": "stream",
     "text": [
      "/home/robotics/anaconda3/envs/estif/lib/python3.6/site-packages/PIL/JpegImagePlugin.py:796: UserWarning: Image appears to be a malformed MPO file, it will be interpreted as a base JPEG file\n",
      "  \"Image appears to be a malformed MPO file, it will be \"\n"
     ]
    },
    {
     "name": "stdout",
     "output_type": "stream",
     "text": [
      "Iteration number: 460/4000\n",
      "Training Accuracy: 96.875%\n",
      "Time elapsed: 0h 13m 49s\n",
      "======================================================================\n"
     ]
    },
    {
     "name": "stderr",
     "output_type": "stream",
     "text": [
      "/home/robotics/anaconda3/envs/estif/lib/python3.6/site-packages/PIL/JpegImagePlugin.py:796: UserWarning: Image appears to be a malformed MPO file, it will be interpreted as a base JPEG file\n",
      "  \"Image appears to be a malformed MPO file, it will be \"\n"
     ]
    },
    {
     "name": "stdout",
     "output_type": "stream",
     "text": [
      "Iteration number: 470/4000\n",
      "Training Accuracy: 96.875%\n",
      "Time elapsed: 0h 14m 6s\n",
      "======================================================================\n"
     ]
    },
    {
     "name": "stderr",
     "output_type": "stream",
     "text": [
      "/home/robotics/anaconda3/envs/estif/lib/python3.6/site-packages/PIL/JpegImagePlugin.py:796: UserWarning: Image appears to be a malformed MPO file, it will be interpreted as a base JPEG file\n",
      "  \"Image appears to be a malformed MPO file, it will be \"\n"
     ]
    },
    {
     "name": "stdout",
     "output_type": "stream",
     "text": [
      "Iteration number: 480/4000\n",
      "Training Accuracy: 93.750%\n",
      "Time elapsed: 0h 14m 25s\n",
      "======================================================================\n",
      "Iteration number: 490/4000\n",
      "Training Accuracy: 96.875%\n",
      "Time elapsed: 0h 14m 44s\n",
      "======================================================================\n",
      "Iteration number: 500/4000\n",
      "Training Accuracy: 90.625%\n",
      "Time elapsed: 0h 15m 3s\n",
      "======================================================================\n",
      "Iteration number: 510/4000\n",
      "Training Accuracy: 96.875%\n",
      "Time elapsed: 0h 15m 20s\n",
      "======================================================================\n"
     ]
    },
    {
     "name": "stderr",
     "output_type": "stream",
     "text": [
      "/home/robotics/anaconda3/envs/estif/lib/python3.6/site-packages/PIL/JpegImagePlugin.py:796: UserWarning: Image appears to be a malformed MPO file, it will be interpreted as a base JPEG file\n",
      "  \"Image appears to be a malformed MPO file, it will be \"\n"
     ]
    },
    {
     "name": "stdout",
     "output_type": "stream",
     "text": [
      "Iteration number: 520/4000\n",
      "Training Accuracy: 93.750%\n",
      "Time elapsed: 0h 15m 38s\n",
      "======================================================================\n"
     ]
    },
    {
     "name": "stderr",
     "output_type": "stream",
     "text": [
      "/home/robotics/anaconda3/envs/estif/lib/python3.6/site-packages/PIL/JpegImagePlugin.py:796: UserWarning: Image appears to be a malformed MPO file, it will be interpreted as a base JPEG file\n",
      "  \"Image appears to be a malformed MPO file, it will be \"\n"
     ]
    },
    {
     "name": "stdout",
     "output_type": "stream",
     "text": [
      "Iteration number: 530/4000\n",
      "Training Accuracy: 96.875%\n",
      "Time elapsed: 0h 15m 57s\n",
      "======================================================================\n",
      "Iteration number: 540/4000\n",
      "Training Accuracy: 93.750%\n",
      "Time elapsed: 0h 16m 15s\n",
      "======================================================================\n",
      "Iteration number: 550/4000\n",
      "Training Accuracy: 96.875%\n",
      "Time elapsed: 0h 16m 33s\n",
      "======================================================================\n",
      "Iteration number: 560/4000\n",
      "Training Accuracy: 93.750%\n",
      "Time elapsed: 0h 16m 51s\n",
      "======================================================================\n",
      "Iteration number: 570/4000\n",
      "Training Accuracy: 93.750%\n",
      "Time elapsed: 0h 17m 9s\n",
      "======================================================================\n",
      "Iteration number: 580/4000\n",
      "Training Accuracy: 100.000%\n",
      "Time elapsed: 0h 17m 26s\n",
      "======================================================================\n"
     ]
    },
    {
     "name": "stderr",
     "output_type": "stream",
     "text": [
      "/home/robotics/anaconda3/envs/estif/lib/python3.6/site-packages/PIL/JpegImagePlugin.py:796: UserWarning: Image appears to be a malformed MPO file, it will be interpreted as a base JPEG file\n",
      "  \"Image appears to be a malformed MPO file, it will be \"\n"
     ]
    },
    {
     "name": "stdout",
     "output_type": "stream",
     "text": [
      "Iteration number: 590/4000\n",
      "Training Accuracy: 96.875%\n",
      "Time elapsed: 0h 17m 44s\n",
      "======================================================================\n",
      "Iteration number: 600/4000\n",
      "Training Accuracy: 90.625%\n",
      "Time elapsed: 0h 18m 3s\n",
      "======================================================================\n"
     ]
    },
    {
     "name": "stderr",
     "output_type": "stream",
     "text": [
      "/home/robotics/anaconda3/envs/estif/lib/python3.6/site-packages/PIL/JpegImagePlugin.py:796: UserWarning: Image appears to be a malformed MPO file, it will be interpreted as a base JPEG file\n",
      "  \"Image appears to be a malformed MPO file, it will be \"\n"
     ]
    },
    {
     "name": "stdout",
     "output_type": "stream",
     "text": [
      "Iteration number: 610/4000\n",
      "Training Accuracy: 96.875%\n",
      "Time elapsed: 0h 18m 20s\n",
      "======================================================================\n",
      "Iteration number: 620/4000\n",
      "Training Accuracy: 96.875%\n",
      "Time elapsed: 0h 18m 38s\n",
      "======================================================================\n",
      "Iteration number: 630/4000\n",
      "Training Accuracy: 100.000%\n",
      "Time elapsed: 0h 18m 56s\n",
      "======================================================================\n",
      "Iteration number: 640/4000\n",
      "Training Accuracy: 100.000%\n",
      "Time elapsed: 0h 19m 14s\n",
      "======================================================================\n"
     ]
    },
    {
     "name": "stderr",
     "output_type": "stream",
     "text": [
      "/home/robotics/anaconda3/envs/estif/lib/python3.6/site-packages/PIL/JpegImagePlugin.py:796: UserWarning: Image appears to be a malformed MPO file, it will be interpreted as a base JPEG file\n",
      "  \"Image appears to be a malformed MPO file, it will be \"\n",
      "/home/robotics/anaconda3/envs/estif/lib/python3.6/site-packages/PIL/JpegImagePlugin.py:796: UserWarning: Image appears to be a malformed MPO file, it will be interpreted as a base JPEG file\n",
      "  \"Image appears to be a malformed MPO file, it will be \"\n",
      "/home/robotics/anaconda3/envs/estif/lib/python3.6/site-packages/PIL/JpegImagePlugin.py:796: UserWarning: Image appears to be a malformed MPO file, it will be interpreted as a base JPEG file\n",
      "  \"Image appears to be a malformed MPO file, it will be \"\n"
     ]
    },
    {
     "name": "stdout",
     "output_type": "stream",
     "text": [
      "Iteration number: 650/4000\n",
      "Training Accuracy: 100.000%\n",
      "Time elapsed: 0h 19m 31s\n",
      "======================================================================\n"
     ]
    },
    {
     "name": "stderr",
     "output_type": "stream",
     "text": [
      "/home/robotics/anaconda3/envs/estif/lib/python3.6/site-packages/PIL/JpegImagePlugin.py:796: UserWarning: Image appears to be a malformed MPO file, it will be interpreted as a base JPEG file\n",
      "  \"Image appears to be a malformed MPO file, it will be \"\n"
     ]
    },
    {
     "name": "stdout",
     "output_type": "stream",
     "text": [
      "Iteration number: 660/4000\n",
      "Training Accuracy: 96.875%\n",
      "Time elapsed: 0h 19m 48s\n",
      "======================================================================\n",
      "Iteration number: 670/4000\n",
      "Training Accuracy: 96.875%\n",
      "Time elapsed: 0h 20m 6s\n",
      "======================================================================\n"
     ]
    },
    {
     "name": "stderr",
     "output_type": "stream",
     "text": [
      "/home/robotics/anaconda3/envs/estif/lib/python3.6/site-packages/PIL/JpegImagePlugin.py:796: UserWarning: Image appears to be a malformed MPO file, it will be interpreted as a base JPEG file\n",
      "  \"Image appears to be a malformed MPO file, it will be \"\n",
      "/home/robotics/anaconda3/envs/estif/lib/python3.6/site-packages/PIL/JpegImagePlugin.py:796: UserWarning: Image appears to be a malformed MPO file, it will be interpreted as a base JPEG file\n",
      "  \"Image appears to be a malformed MPO file, it will be \"\n"
     ]
    },
    {
     "name": "stdout",
     "output_type": "stream",
     "text": [
      "Iteration number: 680/4000\n",
      "Training Accuracy: 100.000%\n",
      "Time elapsed: 0h 20m 25s\n",
      "======================================================================\n",
      "Iteration number: 690/4000\n",
      "Training Accuracy: 100.000%\n",
      "Time elapsed: 0h 20m 42s\n",
      "======================================================================\n",
      "Iteration number: 700/4000\n",
      "Training Accuracy: 96.875%\n",
      "Time elapsed: 0h 20m 60s\n",
      "======================================================================\n",
      "Iteration number: 710/4000\n",
      "Training Accuracy: 100.000%\n",
      "Time elapsed: 0h 21m 17s\n",
      "======================================================================\n",
      "Iteration number: 720/4000\n",
      "Training Accuracy: 96.875%\n",
      "Time elapsed: 0h 21m 36s\n",
      "======================================================================\n"
     ]
    },
    {
     "name": "stderr",
     "output_type": "stream",
     "text": [
      "/home/robotics/anaconda3/envs/estif/lib/python3.6/site-packages/PIL/JpegImagePlugin.py:796: UserWarning: Image appears to be a malformed MPO file, it will be interpreted as a base JPEG file\n",
      "  \"Image appears to be a malformed MPO file, it will be \"\n"
     ]
    },
    {
     "name": "stdout",
     "output_type": "stream",
     "text": [
      "Iteration number: 730/4000\n",
      "Training Accuracy: 93.750%\n",
      "Time elapsed: 0h 21m 54s\n",
      "======================================================================\n",
      "Iteration number: 740/4000\n",
      "Training Accuracy: 100.000%\n",
      "Time elapsed: 0h 22m 12s\n",
      "======================================================================\n"
     ]
    },
    {
     "name": "stderr",
     "output_type": "stream",
     "text": [
      "/home/robotics/anaconda3/envs/estif/lib/python3.6/site-packages/PIL/JpegImagePlugin.py:796: UserWarning: Image appears to be a malformed MPO file, it will be interpreted as a base JPEG file\n",
      "  \"Image appears to be a malformed MPO file, it will be \"\n"
     ]
    },
    {
     "name": "stdout",
     "output_type": "stream",
     "text": [
      "Iteration number: 750/4000\n",
      "Training Accuracy: 96.875%\n",
      "Time elapsed: 0h 22m 30s\n",
      "======================================================================\n"
     ]
    },
    {
     "name": "stderr",
     "output_type": "stream",
     "text": [
      "/home/robotics/anaconda3/envs/estif/lib/python3.6/site-packages/PIL/JpegImagePlugin.py:796: UserWarning: Image appears to be a malformed MPO file, it will be interpreted as a base JPEG file\n",
      "  \"Image appears to be a malformed MPO file, it will be \"\n"
     ]
    },
    {
     "name": "stdout",
     "output_type": "stream",
     "text": [
      "Iteration number: 760/4000\n",
      "Training Accuracy: 100.000%\n",
      "Time elapsed: 0h 22m 49s\n",
      "======================================================================\n",
      "Iteration number: 770/4000\n",
      "Training Accuracy: 100.000%\n",
      "Time elapsed: 0h 23m 8s\n",
      "======================================================================\n"
     ]
    },
    {
     "name": "stderr",
     "output_type": "stream",
     "text": [
      "/home/robotics/anaconda3/envs/estif/lib/python3.6/site-packages/PIL/JpegImagePlugin.py:796: UserWarning: Image appears to be a malformed MPO file, it will be interpreted as a base JPEG file\n",
      "  \"Image appears to be a malformed MPO file, it will be \"\n"
     ]
    },
    {
     "name": "stdout",
     "output_type": "stream",
     "text": [
      "Iteration number: 780/4000\n",
      "Training Accuracy: 96.875%\n",
      "Time elapsed: 0h 23m 25s\n",
      "======================================================================\n",
      "Iteration number: 790/4000\n",
      "Training Accuracy: 100.000%\n",
      "Time elapsed: 0h 23m 44s\n",
      "======================================================================\n",
      "Iteration number: 800/4000\n",
      "Training Accuracy: 100.000%\n",
      "Time elapsed: 0h 24m 1s\n",
      "======================================================================\n"
     ]
    },
    {
     "name": "stderr",
     "output_type": "stream",
     "text": [
      "/home/robotics/anaconda3/envs/estif/lib/python3.6/site-packages/PIL/JpegImagePlugin.py:796: UserWarning: Image appears to be a malformed MPO file, it will be interpreted as a base JPEG file\n",
      "  \"Image appears to be a malformed MPO file, it will be \"\n"
     ]
    },
    {
     "name": "stdout",
     "output_type": "stream",
     "text": [
      "Iteration number: 810/4000\n",
      "Training Accuracy: 100.000%\n",
      "Time elapsed: 0h 24m 20s\n",
      "======================================================================\n"
     ]
    },
    {
     "name": "stderr",
     "output_type": "stream",
     "text": [
      "/home/robotics/anaconda3/envs/estif/lib/python3.6/site-packages/PIL/JpegImagePlugin.py:796: UserWarning: Image appears to be a malformed MPO file, it will be interpreted as a base JPEG file\n",
      "  \"Image appears to be a malformed MPO file, it will be \"\n",
      "/home/robotics/anaconda3/envs/estif/lib/python3.6/site-packages/PIL/JpegImagePlugin.py:796: UserWarning: Image appears to be a malformed MPO file, it will be interpreted as a base JPEG file\n",
      "  \"Image appears to be a malformed MPO file, it will be \"\n"
     ]
    },
    {
     "name": "stdout",
     "output_type": "stream",
     "text": [
      "Iteration number: 820/4000\n",
      "Training Accuracy: 100.000%\n",
      "Time elapsed: 0h 24m 38s\n",
      "======================================================================\n"
     ]
    },
    {
     "name": "stderr",
     "output_type": "stream",
     "text": [
      "/home/robotics/anaconda3/envs/estif/lib/python3.6/site-packages/PIL/JpegImagePlugin.py:796: UserWarning: Image appears to be a malformed MPO file, it will be interpreted as a base JPEG file\n",
      "  \"Image appears to be a malformed MPO file, it will be \"\n"
     ]
    },
    {
     "name": "stdout",
     "output_type": "stream",
     "text": [
      "Iteration number: 830/4000\n",
      "Training Accuracy: 100.000%\n",
      "Time elapsed: 0h 24m 56s\n",
      "======================================================================\n",
      "Iteration number: 840/4000\n",
      "Training Accuracy: 100.000%\n",
      "Time elapsed: 0h 25m 15s\n",
      "======================================================================\n"
     ]
    },
    {
     "name": "stderr",
     "output_type": "stream",
     "text": [
      "/home/robotics/anaconda3/envs/estif/lib/python3.6/site-packages/PIL/JpegImagePlugin.py:796: UserWarning: Image appears to be a malformed MPO file, it will be interpreted as a base JPEG file\n",
      "  \"Image appears to be a malformed MPO file, it will be \"\n",
      "/home/robotics/anaconda3/envs/estif/lib/python3.6/site-packages/PIL/JpegImagePlugin.py:796: UserWarning: Image appears to be a malformed MPO file, it will be interpreted as a base JPEG file\n",
      "  \"Image appears to be a malformed MPO file, it will be \"\n"
     ]
    },
    {
     "name": "stdout",
     "output_type": "stream",
     "text": [
      "Iteration number: 850/4000\n",
      "Training Accuracy: 100.000%\n",
      "Time elapsed: 0h 25m 33s\n",
      "======================================================================\n"
     ]
    },
    {
     "name": "stderr",
     "output_type": "stream",
     "text": [
      "/home/robotics/anaconda3/envs/estif/lib/python3.6/site-packages/PIL/JpegImagePlugin.py:796: UserWarning: Image appears to be a malformed MPO file, it will be interpreted as a base JPEG file\n",
      "  \"Image appears to be a malformed MPO file, it will be \"\n"
     ]
    },
    {
     "name": "stdout",
     "output_type": "stream",
     "text": [
      "Iteration number: 860/4000\n",
      "Training Accuracy: 100.000%\n",
      "Time elapsed: 0h 25m 49s\n",
      "======================================================================\n",
      "Iteration number: 870/4000\n",
      "Training Accuracy: 100.000%\n",
      "Time elapsed: 0h 26m 8s\n",
      "======================================================================\n",
      "Iteration number: 880/4000\n",
      "Training Accuracy: 100.000%\n",
      "Time elapsed: 0h 26m 26s\n",
      "======================================================================\n",
      "Iteration number: 890/4000\n",
      "Training Accuracy: 100.000%\n",
      "Time elapsed: 0h 26m 44s\n",
      "======================================================================\n"
     ]
    },
    {
     "name": "stderr",
     "output_type": "stream",
     "text": [
      "/home/robotics/anaconda3/envs/estif/lib/python3.6/site-packages/PIL/JpegImagePlugin.py:796: UserWarning: Image appears to be a malformed MPO file, it will be interpreted as a base JPEG file\n",
      "  \"Image appears to be a malformed MPO file, it will be \"\n"
     ]
    },
    {
     "name": "stdout",
     "output_type": "stream",
     "text": [
      "Iteration number: 900/4000\n",
      "Training Accuracy: 100.000%\n",
      "Time elapsed: 0h 27m 1s\n",
      "======================================================================\n",
      "Iteration number: 910/4000\n",
      "Training Accuracy: 100.000%\n",
      "Time elapsed: 0h 27m 20s\n",
      "======================================================================\n"
     ]
    },
    {
     "name": "stderr",
     "output_type": "stream",
     "text": [
      "/home/robotics/anaconda3/envs/estif/lib/python3.6/site-packages/PIL/JpegImagePlugin.py:796: UserWarning: Image appears to be a malformed MPO file, it will be interpreted as a base JPEG file\n",
      "  \"Image appears to be a malformed MPO file, it will be \"\n"
     ]
    },
    {
     "name": "stdout",
     "output_type": "stream",
     "text": [
      "Iteration number: 920/4000\n",
      "Training Accuracy: 96.875%\n",
      "Time elapsed: 0h 27m 38s\n",
      "======================================================================\n"
     ]
    },
    {
     "name": "stderr",
     "output_type": "stream",
     "text": [
      "/home/robotics/anaconda3/envs/estif/lib/python3.6/site-packages/PIL/JpegImagePlugin.py:796: UserWarning: Image appears to be a malformed MPO file, it will be interpreted as a base JPEG file\n",
      "  \"Image appears to be a malformed MPO file, it will be \"\n",
      "/home/robotics/anaconda3/envs/estif/lib/python3.6/site-packages/PIL/JpegImagePlugin.py:796: UserWarning: Image appears to be a malformed MPO file, it will be interpreted as a base JPEG file\n",
      "  \"Image appears to be a malformed MPO file, it will be \"\n"
     ]
    },
    {
     "name": "stdout",
     "output_type": "stream",
     "text": [
      "Iteration number: 930/4000\n",
      "Training Accuracy: 100.000%\n",
      "Time elapsed: 0h 27m 56s\n",
      "======================================================================\n",
      "Iteration number: 940/4000\n",
      "Training Accuracy: 100.000%\n",
      "Time elapsed: 0h 28m 16s\n",
      "======================================================================\n"
     ]
    },
    {
     "name": "stderr",
     "output_type": "stream",
     "text": [
      "/home/robotics/anaconda3/envs/estif/lib/python3.6/site-packages/PIL/JpegImagePlugin.py:796: UserWarning: Image appears to be a malformed MPO file, it will be interpreted as a base JPEG file\n",
      "  \"Image appears to be a malformed MPO file, it will be \"\n"
     ]
    },
    {
     "name": "stdout",
     "output_type": "stream",
     "text": [
      "Iteration number: 950/4000\n",
      "Training Accuracy: 100.000%\n",
      "Time elapsed: 0h 28m 34s\n",
      "======================================================================\n"
     ]
    },
    {
     "name": "stderr",
     "output_type": "stream",
     "text": [
      "/home/robotics/anaconda3/envs/estif/lib/python3.6/site-packages/PIL/JpegImagePlugin.py:796: UserWarning: Image appears to be a malformed MPO file, it will be interpreted as a base JPEG file\n",
      "  \"Image appears to be a malformed MPO file, it will be \"\n"
     ]
    },
    {
     "name": "stdout",
     "output_type": "stream",
     "text": [
      "Iteration number: 960/4000\n",
      "Training Accuracy: 100.000%\n",
      "Time elapsed: 0h 28m 52s\n",
      "======================================================================\n",
      "Iteration number: 970/4000\n",
      "Training Accuracy: 100.000%\n",
      "Time elapsed: 0h 29m 10s\n",
      "======================================================================\n"
     ]
    },
    {
     "name": "stderr",
     "output_type": "stream",
     "text": [
      "/home/robotics/anaconda3/envs/estif/lib/python3.6/site-packages/PIL/JpegImagePlugin.py:796: UserWarning: Image appears to be a malformed MPO file, it will be interpreted as a base JPEG file\n",
      "  \"Image appears to be a malformed MPO file, it will be \"\n"
     ]
    },
    {
     "name": "stdout",
     "output_type": "stream",
     "text": [
      "Iteration number: 980/4000\n",
      "Training Accuracy: 100.000%\n",
      "Time elapsed: 0h 29m 29s\n",
      "======================================================================\n",
      "Iteration number: 990/4000\n",
      "Training Accuracy: 100.000%\n",
      "Time elapsed: 0h 29m 48s\n",
      "======================================================================\n"
     ]
    },
    {
     "name": "stderr",
     "output_type": "stream",
     "text": [
      "/home/robotics/anaconda3/envs/estif/lib/python3.6/site-packages/PIL/JpegImagePlugin.py:796: UserWarning: Image appears to be a malformed MPO file, it will be interpreted as a base JPEG file\n",
      "  \"Image appears to be a malformed MPO file, it will be \"\n"
     ]
    },
    {
     "name": "stdout",
     "output_type": "stream",
     "text": [
      "Iteration number: 1000/4000\n",
      "Training Accuracy: 100.000%\n",
      "Time elapsed: 0h 30m 6s\n",
      "======================================================================\n",
      "Iteration number: 1010/4000\n",
      "Training Accuracy: 100.000%\n",
      "Time elapsed: 0h 30m 24s\n",
      "======================================================================\n"
     ]
    },
    {
     "name": "stderr",
     "output_type": "stream",
     "text": [
      "/home/robotics/anaconda3/envs/estif/lib/python3.6/site-packages/PIL/JpegImagePlugin.py:796: UserWarning: Image appears to be a malformed MPO file, it will be interpreted as a base JPEG file\n",
      "  \"Image appears to be a malformed MPO file, it will be \"\n"
     ]
    },
    {
     "name": "stdout",
     "output_type": "stream",
     "text": [
      "Iteration number: 1020/4000\n",
      "Training Accuracy: 100.000%\n",
      "Time elapsed: 0h 30m 42s\n",
      "======================================================================\n"
     ]
    },
    {
     "name": "stderr",
     "output_type": "stream",
     "text": [
      "/home/robotics/anaconda3/envs/estif/lib/python3.6/site-packages/PIL/JpegImagePlugin.py:796: UserWarning: Image appears to be a malformed MPO file, it will be interpreted as a base JPEG file\n",
      "  \"Image appears to be a malformed MPO file, it will be \"\n"
     ]
    },
    {
     "name": "stdout",
     "output_type": "stream",
     "text": [
      "Iteration number: 1030/4000\n",
      "Training Accuracy: 100.000%\n",
      "Time elapsed: 0h 30m 60s\n",
      "======================================================================\n"
     ]
    },
    {
     "name": "stderr",
     "output_type": "stream",
     "text": [
      "/home/robotics/anaconda3/envs/estif/lib/python3.6/site-packages/PIL/JpegImagePlugin.py:796: UserWarning: Image appears to be a malformed MPO file, it will be interpreted as a base JPEG file\n",
      "  \"Image appears to be a malformed MPO file, it will be \"\n"
     ]
    },
    {
     "name": "stdout",
     "output_type": "stream",
     "text": [
      "Iteration number: 1040/4000\n",
      "Training Accuracy: 100.000%\n",
      "Time elapsed: 0h 31m 18s\n",
      "======================================================================\n",
      "Iteration number: 1050/4000\n",
      "Training Accuracy: 100.000%\n",
      "Time elapsed: 0h 31m 36s\n",
      "======================================================================\n",
      "Iteration number: 1060/4000\n",
      "Training Accuracy: 100.000%\n",
      "Time elapsed: 0h 31m 54s\n",
      "======================================================================\n"
     ]
    },
    {
     "name": "stderr",
     "output_type": "stream",
     "text": [
      "/home/robotics/anaconda3/envs/estif/lib/python3.6/site-packages/PIL/JpegImagePlugin.py:796: UserWarning: Image appears to be a malformed MPO file, it will be interpreted as a base JPEG file\n",
      "  \"Image appears to be a malformed MPO file, it will be \"\n"
     ]
    },
    {
     "name": "stdout",
     "output_type": "stream",
     "text": [
      "Iteration number: 1070/4000\n",
      "Training Accuracy: 100.000%\n",
      "Time elapsed: 0h 32m 12s\n",
      "======================================================================\n",
      "Iteration number: 1080/4000\n",
      "Training Accuracy: 100.000%\n",
      "Time elapsed: 0h 32m 31s\n",
      "======================================================================\n",
      "Iteration number: 1090/4000\n",
      "Training Accuracy: 100.000%\n",
      "Time elapsed: 0h 32m 50s\n",
      "======================================================================\n",
      "Iteration number: 1100/4000\n",
      "Training Accuracy: 96.875%\n",
      "Time elapsed: 0h 33m 8s\n",
      "======================================================================\n",
      "Iteration number: 1110/4000\n",
      "Training Accuracy: 100.000%\n",
      "Time elapsed: 0h 33m 26s\n",
      "======================================================================\n",
      "Iteration number: 1120/4000\n",
      "Training Accuracy: 96.875%\n",
      "Time elapsed: 0h 33m 44s\n",
      "======================================================================\n",
      "Iteration number: 1130/4000\n",
      "Training Accuracy: 100.000%\n",
      "Time elapsed: 0h 34m 3s\n",
      "======================================================================\n",
      "Iteration number: 1140/4000\n",
      "Training Accuracy: 100.000%\n",
      "Time elapsed: 0h 34m 22s\n",
      "======================================================================\n"
     ]
    },
    {
     "name": "stderr",
     "output_type": "stream",
     "text": [
      "/home/robotics/anaconda3/envs/estif/lib/python3.6/site-packages/PIL/JpegImagePlugin.py:796: UserWarning: Image appears to be a malformed MPO file, it will be interpreted as a base JPEG file\n",
      "  \"Image appears to be a malformed MPO file, it will be \"\n",
      "/home/robotics/anaconda3/envs/estif/lib/python3.6/site-packages/PIL/JpegImagePlugin.py:796: UserWarning: Image appears to be a malformed MPO file, it will be interpreted as a base JPEG file\n",
      "  \"Image appears to be a malformed MPO file, it will be \"\n"
     ]
    },
    {
     "name": "stdout",
     "output_type": "stream",
     "text": [
      "Iteration number: 1150/4000\n",
      "Training Accuracy: 93.750%\n",
      "Time elapsed: 0h 34m 39s\n",
      "======================================================================\n",
      "Iteration number: 1160/4000\n",
      "Training Accuracy: 100.000%\n",
      "Time elapsed: 0h 34m 58s\n",
      "======================================================================\n",
      "Iteration number: 1170/4000\n",
      "Training Accuracy: 100.000%\n",
      "Time elapsed: 0h 35m 17s\n",
      "======================================================================\n",
      "Iteration number: 1180/4000\n",
      "Training Accuracy: 100.000%\n",
      "Time elapsed: 0h 35m 35s\n",
      "======================================================================\n",
      "Iteration number: 1190/4000\n",
      "Training Accuracy: 100.000%\n",
      "Time elapsed: 0h 35m 55s\n",
      "======================================================================\n"
     ]
    },
    {
     "name": "stderr",
     "output_type": "stream",
     "text": [
      "/home/robotics/anaconda3/envs/estif/lib/python3.6/site-packages/PIL/JpegImagePlugin.py:796: UserWarning: Image appears to be a malformed MPO file, it will be interpreted as a base JPEG file\n",
      "  \"Image appears to be a malformed MPO file, it will be \"\n"
     ]
    },
    {
     "name": "stdout",
     "output_type": "stream",
     "text": [
      "Iteration number: 1200/4000\n",
      "Training Accuracy: 100.000%\n",
      "Time elapsed: 0h 36m 14s\n",
      "======================================================================\n"
     ]
    },
    {
     "name": "stderr",
     "output_type": "stream",
     "text": [
      "/home/robotics/anaconda3/envs/estif/lib/python3.6/site-packages/PIL/JpegImagePlugin.py:796: UserWarning: Image appears to be a malformed MPO file, it will be interpreted as a base JPEG file\n",
      "  \"Image appears to be a malformed MPO file, it will be \"\n",
      "/home/robotics/anaconda3/envs/estif/lib/python3.6/site-packages/PIL/JpegImagePlugin.py:796: UserWarning: Image appears to be a malformed MPO file, it will be interpreted as a base JPEG file\n",
      "  \"Image appears to be a malformed MPO file, it will be \"\n"
     ]
    },
    {
     "name": "stdout",
     "output_type": "stream",
     "text": [
      "Iteration number: 1210/4000\n",
      "Training Accuracy: 100.000%\n",
      "Time elapsed: 0h 36m 33s\n",
      "======================================================================\n",
      "Iteration number: 1220/4000\n",
      "Training Accuracy: 96.875%\n",
      "Time elapsed: 0h 36m 51s\n",
      "======================================================================\n"
     ]
    },
    {
     "name": "stderr",
     "output_type": "stream",
     "text": [
      "/home/robotics/anaconda3/envs/estif/lib/python3.6/site-packages/PIL/JpegImagePlugin.py:796: UserWarning: Image appears to be a malformed MPO file, it will be interpreted as a base JPEG file\n",
      "  \"Image appears to be a malformed MPO file, it will be \"\n"
     ]
    },
    {
     "name": "stdout",
     "output_type": "stream",
     "text": [
      "Iteration number: 1230/4000\n",
      "Training Accuracy: 100.000%\n",
      "Time elapsed: 0h 37m 9s\n",
      "======================================================================\n"
     ]
    },
    {
     "name": "stderr",
     "output_type": "stream",
     "text": [
      "/home/robotics/anaconda3/envs/estif/lib/python3.6/site-packages/PIL/JpegImagePlugin.py:796: UserWarning: Image appears to be a malformed MPO file, it will be interpreted as a base JPEG file\n",
      "  \"Image appears to be a malformed MPO file, it will be \"\n"
     ]
    },
    {
     "name": "stdout",
     "output_type": "stream",
     "text": [
      "Iteration number: 1240/4000\n",
      "Training Accuracy: 96.875%\n",
      "Time elapsed: 0h 37m 27s\n",
      "======================================================================\n",
      "Iteration number: 1250/4000\n",
      "Training Accuracy: 100.000%\n",
      "Time elapsed: 0h 37m 46s\n",
      "======================================================================\n",
      "Iteration number: 1260/4000\n",
      "Training Accuracy: 100.000%\n",
      "Time elapsed: 0h 38m 3s\n",
      "======================================================================\n",
      "Iteration number: 1270/4000\n",
      "Training Accuracy: 96.875%\n",
      "Time elapsed: 0h 38m 20s\n",
      "======================================================================\n",
      "Iteration number: 1280/4000\n",
      "Training Accuracy: 100.000%\n",
      "Time elapsed: 0h 38m 38s\n",
      "======================================================================\n",
      "Iteration number: 1290/4000\n",
      "Training Accuracy: 100.000%\n",
      "Time elapsed: 0h 38m 56s\n",
      "======================================================================\n"
     ]
    },
    {
     "name": "stderr",
     "output_type": "stream",
     "text": [
      "/home/robotics/anaconda3/envs/estif/lib/python3.6/site-packages/PIL/JpegImagePlugin.py:796: UserWarning: Image appears to be a malformed MPO file, it will be interpreted as a base JPEG file\n",
      "  \"Image appears to be a malformed MPO file, it will be \"\n",
      "/home/robotics/anaconda3/envs/estif/lib/python3.6/site-packages/PIL/JpegImagePlugin.py:796: UserWarning: Image appears to be a malformed MPO file, it will be interpreted as a base JPEG file\n",
      "  \"Image appears to be a malformed MPO file, it will be \"\n",
      "/home/robotics/anaconda3/envs/estif/lib/python3.6/site-packages/PIL/JpegImagePlugin.py:796: UserWarning: Image appears to be a malformed MPO file, it will be interpreted as a base JPEG file\n",
      "  \"Image appears to be a malformed MPO file, it will be \"\n",
      "/home/robotics/anaconda3/envs/estif/lib/python3.6/site-packages/PIL/JpegImagePlugin.py:796: UserWarning: Image appears to be a malformed MPO file, it will be interpreted as a base JPEG file\n",
      "  \"Image appears to be a malformed MPO file, it will be \"\n"
     ]
    },
    {
     "name": "stdout",
     "output_type": "stream",
     "text": [
      "Iteration number: 1300/4000\n",
      "Training Accuracy: 100.000%\n",
      "Time elapsed: 0h 39m 14s\n",
      "======================================================================\n",
      "Iteration number: 1310/4000\n",
      "Training Accuracy: 100.000%\n",
      "Time elapsed: 0h 39m 32s\n",
      "======================================================================\n"
     ]
    },
    {
     "name": "stderr",
     "output_type": "stream",
     "text": [
      "/home/robotics/anaconda3/envs/estif/lib/python3.6/site-packages/PIL/JpegImagePlugin.py:796: UserWarning: Image appears to be a malformed MPO file, it will be interpreted as a base JPEG file\n",
      "  \"Image appears to be a malformed MPO file, it will be \"\n"
     ]
    },
    {
     "name": "stdout",
     "output_type": "stream",
     "text": [
      "Iteration number: 1320/4000\n",
      "Training Accuracy: 100.000%\n",
      "Time elapsed: 0h 39m 49s\n",
      "======================================================================\n",
      "Iteration number: 1330/4000\n",
      "Training Accuracy: 100.000%\n",
      "Time elapsed: 0h 40m 8s\n",
      "======================================================================\n"
     ]
    },
    {
     "name": "stderr",
     "output_type": "stream",
     "text": [
      "/home/robotics/anaconda3/envs/estif/lib/python3.6/site-packages/PIL/JpegImagePlugin.py:796: UserWarning: Image appears to be a malformed MPO file, it will be interpreted as a base JPEG file\n",
      "  \"Image appears to be a malformed MPO file, it will be \"\n"
     ]
    },
    {
     "name": "stdout",
     "output_type": "stream",
     "text": [
      "Iteration number: 1340/4000\n",
      "Training Accuracy: 100.000%\n",
      "Time elapsed: 0h 40m 25s\n",
      "======================================================================\n"
     ]
    },
    {
     "name": "stderr",
     "output_type": "stream",
     "text": [
      "/home/robotics/anaconda3/envs/estif/lib/python3.6/site-packages/PIL/JpegImagePlugin.py:796: UserWarning: Image appears to be a malformed MPO file, it will be interpreted as a base JPEG file\n",
      "  \"Image appears to be a malformed MPO file, it will be \"\n"
     ]
    },
    {
     "name": "stdout",
     "output_type": "stream",
     "text": [
      "Iteration number: 1350/4000\n",
      "Training Accuracy: 100.000%\n",
      "Time elapsed: 0h 40m 43s\n",
      "======================================================================\n",
      "Iteration number: 1360/4000\n",
      "Training Accuracy: 96.875%\n",
      "Time elapsed: 0h 41m 0s\n",
      "======================================================================\n"
     ]
    },
    {
     "name": "stderr",
     "output_type": "stream",
     "text": [
      "/home/robotics/anaconda3/envs/estif/lib/python3.6/site-packages/PIL/JpegImagePlugin.py:796: UserWarning: Image appears to be a malformed MPO file, it will be interpreted as a base JPEG file\n",
      "  \"Image appears to be a malformed MPO file, it will be \"\n"
     ]
    },
    {
     "name": "stdout",
     "output_type": "stream",
     "text": [
      "Iteration number: 1370/4000\n",
      "Training Accuracy: 100.000%\n",
      "Time elapsed: 0h 41m 19s\n",
      "======================================================================\n",
      "Iteration number: 1380/4000\n",
      "Training Accuracy: 100.000%\n",
      "Time elapsed: 0h 41m 37s\n",
      "======================================================================\n"
     ]
    },
    {
     "name": "stderr",
     "output_type": "stream",
     "text": [
      "/home/robotics/anaconda3/envs/estif/lib/python3.6/site-packages/PIL/JpegImagePlugin.py:796: UserWarning: Image appears to be a malformed MPO file, it will be interpreted as a base JPEG file\n",
      "  \"Image appears to be a malformed MPO file, it will be \"\n"
     ]
    },
    {
     "name": "stdout",
     "output_type": "stream",
     "text": [
      "Iteration number: 1390/4000\n",
      "Training Accuracy: 100.000%\n",
      "Time elapsed: 0h 41m 55s\n",
      "======================================================================\n"
     ]
    },
    {
     "name": "stderr",
     "output_type": "stream",
     "text": [
      "/home/robotics/anaconda3/envs/estif/lib/python3.6/site-packages/PIL/JpegImagePlugin.py:796: UserWarning: Image appears to be a malformed MPO file, it will be interpreted as a base JPEG file\n",
      "  \"Image appears to be a malformed MPO file, it will be \"\n"
     ]
    },
    {
     "name": "stdout",
     "output_type": "stream",
     "text": [
      "Iteration number: 1400/4000\n",
      "Training Accuracy: 100.000%\n",
      "Time elapsed: 0h 42m 14s\n",
      "======================================================================\n"
     ]
    },
    {
     "name": "stderr",
     "output_type": "stream",
     "text": [
      "/home/robotics/anaconda3/envs/estif/lib/python3.6/site-packages/PIL/JpegImagePlugin.py:796: UserWarning: Image appears to be a malformed MPO file, it will be interpreted as a base JPEG file\n",
      "  \"Image appears to be a malformed MPO file, it will be \"\n",
      "/home/robotics/anaconda3/envs/estif/lib/python3.6/site-packages/PIL/JpegImagePlugin.py:796: UserWarning: Image appears to be a malformed MPO file, it will be interpreted as a base JPEG file\n",
      "  \"Image appears to be a malformed MPO file, it will be \"\n"
     ]
    },
    {
     "name": "stdout",
     "output_type": "stream",
     "text": [
      "Iteration number: 1410/4000\n",
      "Training Accuracy: 93.750%\n",
      "Time elapsed: 0h 42m 32s\n",
      "======================================================================\n",
      "Iteration number: 1420/4000\n",
      "Training Accuracy: 100.000%\n",
      "Time elapsed: 0h 42m 51s\n",
      "======================================================================\n",
      "Iteration number: 1430/4000\n",
      "Training Accuracy: 100.000%\n",
      "Time elapsed: 0h 43m 10s\n",
      "======================================================================\n",
      "Iteration number: 1440/4000\n",
      "Training Accuracy: 100.000%\n",
      "Time elapsed: 0h 43m 27s\n",
      "======================================================================\n",
      "Iteration number: 1450/4000\n",
      "Training Accuracy: 100.000%\n",
      "Time elapsed: 0h 43m 45s\n",
      "======================================================================\n",
      "Iteration number: 1460/4000\n",
      "Training Accuracy: 100.000%\n",
      "Time elapsed: 0h 44m 4s\n",
      "======================================================================\n"
     ]
    },
    {
     "name": "stderr",
     "output_type": "stream",
     "text": [
      "/home/robotics/anaconda3/envs/estif/lib/python3.6/site-packages/PIL/JpegImagePlugin.py:796: UserWarning: Image appears to be a malformed MPO file, it will be interpreted as a base JPEG file\n",
      "  \"Image appears to be a malformed MPO file, it will be \"\n"
     ]
    },
    {
     "name": "stdout",
     "output_type": "stream",
     "text": [
      "Iteration number: 1470/4000\n",
      "Training Accuracy: 100.000%\n",
      "Time elapsed: 0h 44m 22s\n",
      "======================================================================\n"
     ]
    },
    {
     "name": "stderr",
     "output_type": "stream",
     "text": [
      "/home/robotics/anaconda3/envs/estif/lib/python3.6/site-packages/PIL/JpegImagePlugin.py:796: UserWarning: Image appears to be a malformed MPO file, it will be interpreted as a base JPEG file\n",
      "  \"Image appears to be a malformed MPO file, it will be \"\n",
      "/home/robotics/anaconda3/envs/estif/lib/python3.6/site-packages/PIL/JpegImagePlugin.py:796: UserWarning: Image appears to be a malformed MPO file, it will be interpreted as a base JPEG file\n",
      "  \"Image appears to be a malformed MPO file, it will be \"\n"
     ]
    },
    {
     "name": "stdout",
     "output_type": "stream",
     "text": [
      "Iteration number: 1480/4000\n",
      "Training Accuracy: 100.000%\n",
      "Time elapsed: 0h 44m 41s\n",
      "======================================================================\n"
     ]
    },
    {
     "name": "stderr",
     "output_type": "stream",
     "text": [
      "/home/robotics/anaconda3/envs/estif/lib/python3.6/site-packages/PIL/JpegImagePlugin.py:796: UserWarning: Image appears to be a malformed MPO file, it will be interpreted as a base JPEG file\n",
      "  \"Image appears to be a malformed MPO file, it will be \"\n"
     ]
    },
    {
     "name": "stdout",
     "output_type": "stream",
     "text": [
      "Iteration number: 1490/4000\n",
      "Training Accuracy: 100.000%\n",
      "Time elapsed: 0h 44m 59s\n",
      "======================================================================\n"
     ]
    },
    {
     "name": "stderr",
     "output_type": "stream",
     "text": [
      "/home/robotics/anaconda3/envs/estif/lib/python3.6/site-packages/PIL/JpegImagePlugin.py:796: UserWarning: Image appears to be a malformed MPO file, it will be interpreted as a base JPEG file\n",
      "  \"Image appears to be a malformed MPO file, it will be \"\n"
     ]
    },
    {
     "name": "stdout",
     "output_type": "stream",
     "text": [
      "Iteration number: 1500/4000\n",
      "Training Accuracy: 100.000%\n",
      "Time elapsed: 0h 45m 17s\n",
      "======================================================================\n",
      "Iteration number: 1510/4000\n",
      "Training Accuracy: 100.000%\n",
      "Time elapsed: 0h 45m 35s\n",
      "======================================================================\n",
      "Iteration number: 1520/4000\n",
      "Training Accuracy: 96.875%\n",
      "Time elapsed: 0h 45m 53s\n",
      "======================================================================\n",
      "Iteration number: 1530/4000\n",
      "Training Accuracy: 100.000%\n",
      "Time elapsed: 0h 46m 11s\n",
      "======================================================================\n",
      "Iteration number: 1540/4000\n",
      "Training Accuracy: 100.000%\n",
      "Time elapsed: 0h 46m 29s\n",
      "======================================================================\n"
     ]
    },
    {
     "name": "stderr",
     "output_type": "stream",
     "text": [
      "/home/robotics/anaconda3/envs/estif/lib/python3.6/site-packages/PIL/JpegImagePlugin.py:796: UserWarning: Image appears to be a malformed MPO file, it will be interpreted as a base JPEG file\n",
      "  \"Image appears to be a malformed MPO file, it will be \"\n"
     ]
    },
    {
     "name": "stdout",
     "output_type": "stream",
     "text": [
      "Iteration number: 1550/4000\n",
      "Training Accuracy: 100.000%\n",
      "Time elapsed: 0h 46m 47s\n",
      "======================================================================\n",
      "Iteration number: 1560/4000\n",
      "Training Accuracy: 100.000%\n",
      "Time elapsed: 0h 47m 5s\n",
      "======================================================================\n"
     ]
    },
    {
     "name": "stderr",
     "output_type": "stream",
     "text": [
      "/home/robotics/anaconda3/envs/estif/lib/python3.6/site-packages/PIL/JpegImagePlugin.py:796: UserWarning: Image appears to be a malformed MPO file, it will be interpreted as a base JPEG file\n",
      "  \"Image appears to be a malformed MPO file, it will be \"\n"
     ]
    },
    {
     "name": "stdout",
     "output_type": "stream",
     "text": [
      "Iteration number: 1570/4000\n",
      "Training Accuracy: 100.000%\n",
      "Time elapsed: 0h 47m 24s\n",
      "======================================================================\n",
      "Iteration number: 1580/4000\n",
      "Training Accuracy: 100.000%\n",
      "Time elapsed: 0h 47m 42s\n",
      "======================================================================\n"
     ]
    },
    {
     "name": "stderr",
     "output_type": "stream",
     "text": [
      "/home/robotics/anaconda3/envs/estif/lib/python3.6/site-packages/PIL/JpegImagePlugin.py:796: UserWarning: Image appears to be a malformed MPO file, it will be interpreted as a base JPEG file\n",
      "  \"Image appears to be a malformed MPO file, it will be \"\n",
      "/home/robotics/anaconda3/envs/estif/lib/python3.6/site-packages/PIL/JpegImagePlugin.py:796: UserWarning: Image appears to be a malformed MPO file, it will be interpreted as a base JPEG file\n",
      "  \"Image appears to be a malformed MPO file, it will be \"\n"
     ]
    },
    {
     "name": "stdout",
     "output_type": "stream",
     "text": [
      "Iteration number: 1590/4000\n",
      "Training Accuracy: 100.000%\n",
      "Time elapsed: 0h 48m 1s\n",
      "======================================================================\n",
      "Iteration number: 1600/4000\n",
      "Training Accuracy: 100.000%\n",
      "Time elapsed: 0h 48m 20s\n",
      "======================================================================\n"
     ]
    },
    {
     "name": "stderr",
     "output_type": "stream",
     "text": [
      "/home/robotics/anaconda3/envs/estif/lib/python3.6/site-packages/PIL/JpegImagePlugin.py:796: UserWarning: Image appears to be a malformed MPO file, it will be interpreted as a base JPEG file\n",
      "  \"Image appears to be a malformed MPO file, it will be \"\n"
     ]
    },
    {
     "name": "stdout",
     "output_type": "stream",
     "text": [
      "Iteration number: 1610/4000\n",
      "Training Accuracy: 100.000%\n",
      "Time elapsed: 0h 48m 38s\n",
      "======================================================================\n"
     ]
    },
    {
     "name": "stderr",
     "output_type": "stream",
     "text": [
      "/home/robotics/anaconda3/envs/estif/lib/python3.6/site-packages/PIL/JpegImagePlugin.py:796: UserWarning: Image appears to be a malformed MPO file, it will be interpreted as a base JPEG file\n",
      "  \"Image appears to be a malformed MPO file, it will be \"\n"
     ]
    },
    {
     "name": "stdout",
     "output_type": "stream",
     "text": [
      "Iteration number: 1620/4000\n",
      "Training Accuracy: 100.000%\n",
      "Time elapsed: 0h 48m 57s\n",
      "======================================================================\n",
      "Iteration number: 1630/4000\n",
      "Training Accuracy: 100.000%\n",
      "Time elapsed: 0h 49m 16s\n",
      "======================================================================\n"
     ]
    },
    {
     "name": "stderr",
     "output_type": "stream",
     "text": [
      "/home/robotics/anaconda3/envs/estif/lib/python3.6/site-packages/PIL/JpegImagePlugin.py:796: UserWarning: Image appears to be a malformed MPO file, it will be interpreted as a base JPEG file\n",
      "  \"Image appears to be a malformed MPO file, it will be \"\n",
      "/home/robotics/anaconda3/envs/estif/lib/python3.6/site-packages/PIL/JpegImagePlugin.py:796: UserWarning: Image appears to be a malformed MPO file, it will be interpreted as a base JPEG file\n",
      "  \"Image appears to be a malformed MPO file, it will be \"\n",
      "/home/robotics/anaconda3/envs/estif/lib/python3.6/site-packages/PIL/JpegImagePlugin.py:796: UserWarning: Image appears to be a malformed MPO file, it will be interpreted as a base JPEG file\n",
      "  \"Image appears to be a malformed MPO file, it will be \"\n"
     ]
    },
    {
     "name": "stdout",
     "output_type": "stream",
     "text": [
      "Iteration number: 1640/4000\n",
      "Training Accuracy: 100.000%\n",
      "Time elapsed: 0h 49m 34s\n",
      "======================================================================\n",
      "Iteration number: 1650/4000\n",
      "Training Accuracy: 100.000%\n",
      "Time elapsed: 0h 49m 54s\n",
      "======================================================================\n"
     ]
    },
    {
     "name": "stderr",
     "output_type": "stream",
     "text": [
      "/home/robotics/anaconda3/envs/estif/lib/python3.6/site-packages/PIL/JpegImagePlugin.py:796: UserWarning: Image appears to be a malformed MPO file, it will be interpreted as a base JPEG file\n",
      "  \"Image appears to be a malformed MPO file, it will be \"\n"
     ]
    },
    {
     "name": "stdout",
     "output_type": "stream",
     "text": [
      "Iteration number: 1660/4000\n",
      "Training Accuracy: 100.000%\n",
      "Time elapsed: 0h 50m 13s\n",
      "======================================================================\n",
      "Iteration number: 1670/4000\n",
      "Training Accuracy: 100.000%\n",
      "Time elapsed: 0h 50m 31s\n",
      "======================================================================\n",
      "Iteration number: 1680/4000\n",
      "Training Accuracy: 100.000%\n",
      "Time elapsed: 0h 50m 49s\n",
      "======================================================================\n",
      "Iteration number: 1690/4000\n",
      "Training Accuracy: 100.000%\n",
      "Time elapsed: 0h 51m 7s\n",
      "======================================================================\n",
      "Iteration number: 1700/4000\n",
      "Training Accuracy: 100.000%\n",
      "Time elapsed: 0h 51m 26s\n",
      "======================================================================\n"
     ]
    },
    {
     "name": "stderr",
     "output_type": "stream",
     "text": [
      "/home/robotics/anaconda3/envs/estif/lib/python3.6/site-packages/PIL/JpegImagePlugin.py:796: UserWarning: Image appears to be a malformed MPO file, it will be interpreted as a base JPEG file\n",
      "  \"Image appears to be a malformed MPO file, it will be \"\n"
     ]
    },
    {
     "name": "stdout",
     "output_type": "stream",
     "text": [
      "Iteration number: 1710/4000\n",
      "Training Accuracy: 100.000%\n",
      "Time elapsed: 0h 51m 44s\n",
      "======================================================================\n"
     ]
    },
    {
     "name": "stderr",
     "output_type": "stream",
     "text": [
      "/home/robotics/anaconda3/envs/estif/lib/python3.6/site-packages/PIL/JpegImagePlugin.py:796: UserWarning: Image appears to be a malformed MPO file, it will be interpreted as a base JPEG file\n",
      "  \"Image appears to be a malformed MPO file, it will be \"\n"
     ]
    },
    {
     "name": "stdout",
     "output_type": "stream",
     "text": [
      "Iteration number: 1720/4000\n",
      "Training Accuracy: 100.000%\n",
      "Time elapsed: 0h 52m 2s\n",
      "======================================================================\n"
     ]
    },
    {
     "name": "stderr",
     "output_type": "stream",
     "text": [
      "/home/robotics/anaconda3/envs/estif/lib/python3.6/site-packages/PIL/JpegImagePlugin.py:796: UserWarning: Image appears to be a malformed MPO file, it will be interpreted as a base JPEG file\n",
      "  \"Image appears to be a malformed MPO file, it will be \"\n"
     ]
    },
    {
     "name": "stdout",
     "output_type": "stream",
     "text": [
      "Iteration number: 1730/4000\n",
      "Training Accuracy: 100.000%\n",
      "Time elapsed: 0h 52m 20s\n",
      "======================================================================\n"
     ]
    },
    {
     "name": "stderr",
     "output_type": "stream",
     "text": [
      "/home/robotics/anaconda3/envs/estif/lib/python3.6/site-packages/PIL/JpegImagePlugin.py:796: UserWarning: Image appears to be a malformed MPO file, it will be interpreted as a base JPEG file\n",
      "  \"Image appears to be a malformed MPO file, it will be \"\n"
     ]
    },
    {
     "name": "stdout",
     "output_type": "stream",
     "text": [
      "Iteration number: 1740/4000\n",
      "Training Accuracy: 100.000%\n",
      "Time elapsed: 0h 52m 39s\n",
      "======================================================================\n",
      "Iteration number: 1750/4000\n",
      "Training Accuracy: 100.000%\n",
      "Time elapsed: 0h 52m 59s\n",
      "======================================================================\n",
      "Iteration number: 1760/4000\n",
      "Training Accuracy: 100.000%\n",
      "Time elapsed: 0h 53m 18s\n",
      "======================================================================\n",
      "Iteration number: 1770/4000\n",
      "Training Accuracy: 100.000%\n",
      "Time elapsed: 0h 53m 36s\n",
      "======================================================================\n",
      "Iteration number: 1780/4000\n",
      "Training Accuracy: 100.000%\n",
      "Time elapsed: 0h 53m 54s\n",
      "======================================================================\n"
     ]
    },
    {
     "name": "stderr",
     "output_type": "stream",
     "text": [
      "/home/robotics/anaconda3/envs/estif/lib/python3.6/site-packages/PIL/JpegImagePlugin.py:796: UserWarning: Image appears to be a malformed MPO file, it will be interpreted as a base JPEG file\n",
      "  \"Image appears to be a malformed MPO file, it will be \"\n"
     ]
    },
    {
     "name": "stdout",
     "output_type": "stream",
     "text": [
      "Iteration number: 1790/4000\n",
      "Training Accuracy: 100.000%\n",
      "Time elapsed: 0h 54m 13s\n",
      "======================================================================\n",
      "Iteration number: 1800/4000\n",
      "Training Accuracy: 100.000%\n",
      "Time elapsed: 0h 54m 32s\n",
      "======================================================================\n",
      "Iteration number: 1810/4000\n",
      "Training Accuracy: 100.000%\n",
      "Time elapsed: 0h 54m 50s\n",
      "======================================================================\n",
      "Iteration number: 1820/4000\n",
      "Training Accuracy: 100.000%\n",
      "Time elapsed: 0h 55m 8s\n",
      "======================================================================\n",
      "Iteration number: 1830/4000\n",
      "Training Accuracy: 100.000%\n",
      "Time elapsed: 0h 55m 26s\n",
      "======================================================================\n",
      "Iteration number: 1840/4000\n",
      "Training Accuracy: 100.000%\n",
      "Time elapsed: 0h 55m 44s\n",
      "======================================================================\n"
     ]
    },
    {
     "name": "stderr",
     "output_type": "stream",
     "text": [
      "/home/robotics/anaconda3/envs/estif/lib/python3.6/site-packages/PIL/JpegImagePlugin.py:796: UserWarning: Image appears to be a malformed MPO file, it will be interpreted as a base JPEG file\n",
      "  \"Image appears to be a malformed MPO file, it will be \"\n"
     ]
    },
    {
     "name": "stdout",
     "output_type": "stream",
     "text": [
      "Iteration number: 1850/4000\n",
      "Training Accuracy: 100.000%\n",
      "Time elapsed: 0h 56m 2s\n",
      "======================================================================\n",
      "Iteration number: 1860/4000\n",
      "Training Accuracy: 100.000%\n",
      "Time elapsed: 0h 56m 21s\n",
      "======================================================================\n"
     ]
    },
    {
     "name": "stderr",
     "output_type": "stream",
     "text": [
      "/home/robotics/anaconda3/envs/estif/lib/python3.6/site-packages/PIL/JpegImagePlugin.py:796: UserWarning: Image appears to be a malformed MPO file, it will be interpreted as a base JPEG file\n",
      "  \"Image appears to be a malformed MPO file, it will be \"\n"
     ]
    },
    {
     "name": "stdout",
     "output_type": "stream",
     "text": [
      "Iteration number: 1870/4000\n",
      "Training Accuracy: 100.000%\n",
      "Time elapsed: 0h 56m 39s\n",
      "======================================================================\n"
     ]
    },
    {
     "name": "stderr",
     "output_type": "stream",
     "text": [
      "/home/robotics/anaconda3/envs/estif/lib/python3.6/site-packages/PIL/JpegImagePlugin.py:796: UserWarning: Image appears to be a malformed MPO file, it will be interpreted as a base JPEG file\n",
      "  \"Image appears to be a malformed MPO file, it will be \"\n",
      "/home/robotics/anaconda3/envs/estif/lib/python3.6/site-packages/PIL/JpegImagePlugin.py:796: UserWarning: Image appears to be a malformed MPO file, it will be interpreted as a base JPEG file\n",
      "  \"Image appears to be a malformed MPO file, it will be \"\n"
     ]
    },
    {
     "name": "stdout",
     "output_type": "stream",
     "text": [
      "Iteration number: 1880/4000\n",
      "Training Accuracy: 100.000%\n",
      "Time elapsed: 0h 56m 57s\n",
      "======================================================================\n",
      "Iteration number: 1890/4000\n",
      "Training Accuracy: 100.000%\n",
      "Time elapsed: 0h 57m 15s\n",
      "======================================================================\n",
      "Iteration number: 1900/4000\n",
      "Training Accuracy: 100.000%\n",
      "Time elapsed: 0h 57m 34s\n",
      "======================================================================\n",
      "Iteration number: 1910/4000\n",
      "Training Accuracy: 100.000%\n",
      "Time elapsed: 0h 57m 53s\n",
      "======================================================================\n",
      "Iteration number: 1920/4000\n",
      "Training Accuracy: 100.000%\n",
      "Time elapsed: 0h 58m 12s\n",
      "======================================================================\n",
      "Iteration number: 1930/4000\n",
      "Training Accuracy: 100.000%\n",
      "Time elapsed: 0h 58m 31s\n",
      "======================================================================\n",
      "Iteration number: 1940/4000\n",
      "Training Accuracy: 100.000%\n",
      "Time elapsed: 0h 58m 49s\n",
      "======================================================================\n",
      "Iteration number: 1950/4000\n",
      "Training Accuracy: 100.000%\n",
      "Time elapsed: 0h 59m 6s\n",
      "======================================================================\n",
      "Iteration number: 1960/4000\n",
      "Training Accuracy: 100.000%\n",
      "Time elapsed: 0h 59m 24s\n",
      "======================================================================\n",
      "Iteration number: 1970/4000\n",
      "Training Accuracy: 100.000%\n",
      "Time elapsed: 0h 59m 42s\n",
      "======================================================================\n",
      "Iteration number: 1980/4000\n",
      "Training Accuracy: 96.875%\n",
      "Time elapsed: 1h 0m 1s\n",
      "======================================================================\n"
     ]
    },
    {
     "name": "stderr",
     "output_type": "stream",
     "text": [
      "/home/robotics/anaconda3/envs/estif/lib/python3.6/site-packages/PIL/JpegImagePlugin.py:796: UserWarning: Image appears to be a malformed MPO file, it will be interpreted as a base JPEG file\n",
      "  \"Image appears to be a malformed MPO file, it will be \"\n"
     ]
    },
    {
     "name": "stdout",
     "output_type": "stream",
     "text": [
      "Iteration number: 1990/4000\n",
      "Training Accuracy: 100.000%\n",
      "Time elapsed: 1h 0m 20s\n",
      "======================================================================\n"
     ]
    },
    {
     "name": "stderr",
     "output_type": "stream",
     "text": [
      "/home/robotics/anaconda3/envs/estif/lib/python3.6/site-packages/PIL/JpegImagePlugin.py:796: UserWarning: Image appears to be a malformed MPO file, it will be interpreted as a base JPEG file\n",
      "  \"Image appears to be a malformed MPO file, it will be \"\n"
     ]
    },
    {
     "name": "stdout",
     "output_type": "stream",
     "text": [
      "Iteration number: 2000/4000\n",
      "Training Accuracy: 100.000%\n",
      "Time elapsed: 1h 0m 38s\n",
      "======================================================================\n",
      "Iteration number: 2010/4000\n",
      "Training Accuracy: 100.000%\n",
      "Time elapsed: 1h 0m 56s\n",
      "======================================================================\n",
      "Iteration number: 2020/4000\n",
      "Training Accuracy: 100.000%\n",
      "Time elapsed: 1h 1m 15s\n",
      "======================================================================\n",
      "Iteration number: 2030/4000\n",
      "Training Accuracy: 100.000%\n",
      "Time elapsed: 1h 1m 33s\n",
      "======================================================================\n"
     ]
    },
    {
     "name": "stderr",
     "output_type": "stream",
     "text": [
      "/home/robotics/anaconda3/envs/estif/lib/python3.6/site-packages/PIL/JpegImagePlugin.py:796: UserWarning: Image appears to be a malformed MPO file, it will be interpreted as a base JPEG file\n",
      "  \"Image appears to be a malformed MPO file, it will be \"\n"
     ]
    },
    {
     "name": "stdout",
     "output_type": "stream",
     "text": [
      "Iteration number: 2040/4000\n",
      "Training Accuracy: 100.000%\n",
      "Time elapsed: 1h 1m 51s\n",
      "======================================================================\n",
      "Iteration number: 2050/4000\n",
      "Training Accuracy: 100.000%\n",
      "Time elapsed: 1h 2m 9s\n",
      "======================================================================\n"
     ]
    },
    {
     "name": "stderr",
     "output_type": "stream",
     "text": [
      "/home/robotics/anaconda3/envs/estif/lib/python3.6/site-packages/PIL/JpegImagePlugin.py:796: UserWarning: Image appears to be a malformed MPO file, it will be interpreted as a base JPEG file\n",
      "  \"Image appears to be a malformed MPO file, it will be \"\n"
     ]
    },
    {
     "name": "stdout",
     "output_type": "stream",
     "text": [
      "Iteration number: 2060/4000\n",
      "Training Accuracy: 100.000%\n",
      "Time elapsed: 1h 2m 27s\n",
      "======================================================================\n",
      "Iteration number: 2070/4000\n",
      "Training Accuracy: 100.000%\n",
      "Time elapsed: 1h 2m 47s\n",
      "======================================================================\n"
     ]
    },
    {
     "name": "stderr",
     "output_type": "stream",
     "text": [
      "/home/robotics/anaconda3/envs/estif/lib/python3.6/site-packages/PIL/JpegImagePlugin.py:796: UserWarning: Image appears to be a malformed MPO file, it will be interpreted as a base JPEG file\n",
      "  \"Image appears to be a malformed MPO file, it will be \"\n"
     ]
    },
    {
     "name": "stdout",
     "output_type": "stream",
     "text": [
      "Iteration number: 2080/4000\n",
      "Training Accuracy: 100.000%\n",
      "Time elapsed: 1h 3m 5s\n",
      "======================================================================\n"
     ]
    },
    {
     "name": "stderr",
     "output_type": "stream",
     "text": [
      "/home/robotics/anaconda3/envs/estif/lib/python3.6/site-packages/PIL/JpegImagePlugin.py:796: UserWarning: Image appears to be a malformed MPO file, it will be interpreted as a base JPEG file\n",
      "  \"Image appears to be a malformed MPO file, it will be \"\n"
     ]
    },
    {
     "name": "stdout",
     "output_type": "stream",
     "text": [
      "Iteration number: 2090/4000\n",
      "Training Accuracy: 100.000%\n",
      "Time elapsed: 1h 3m 24s\n",
      "======================================================================\n",
      "Iteration number: 2100/4000\n",
      "Training Accuracy: 96.875%\n",
      "Time elapsed: 1h 3m 43s\n",
      "======================================================================\n",
      "Iteration number: 2110/4000\n",
      "Training Accuracy: 100.000%\n",
      "Time elapsed: 1h 4m 1s\n",
      "======================================================================\n",
      "Iteration number: 2120/4000\n",
      "Training Accuracy: 100.000%\n",
      "Time elapsed: 1h 4m 19s\n",
      "======================================================================\n",
      "Iteration number: 2130/4000\n",
      "Training Accuracy: 100.000%\n",
      "Time elapsed: 1h 4m 37s\n",
      "======================================================================\n",
      "Iteration number: 2140/4000\n",
      "Training Accuracy: 100.000%\n",
      "Time elapsed: 1h 4m 55s\n",
      "======================================================================\n",
      "Iteration number: 2150/4000\n",
      "Training Accuracy: 100.000%\n",
      "Time elapsed: 1h 5m 13s\n",
      "======================================================================\n"
     ]
    },
    {
     "name": "stderr",
     "output_type": "stream",
     "text": [
      "/home/robotics/anaconda3/envs/estif/lib/python3.6/site-packages/PIL/JpegImagePlugin.py:796: UserWarning: Image appears to be a malformed MPO file, it will be interpreted as a base JPEG file\n",
      "  \"Image appears to be a malformed MPO file, it will be \"\n"
     ]
    },
    {
     "name": "stdout",
     "output_type": "stream",
     "text": [
      "Iteration number: 2160/4000\n",
      "Training Accuracy: 100.000%\n",
      "Time elapsed: 1h 5m 31s\n",
      "======================================================================\n"
     ]
    },
    {
     "name": "stderr",
     "output_type": "stream",
     "text": [
      "/home/robotics/anaconda3/envs/estif/lib/python3.6/site-packages/PIL/JpegImagePlugin.py:796: UserWarning: Image appears to be a malformed MPO file, it will be interpreted as a base JPEG file\n",
      "  \"Image appears to be a malformed MPO file, it will be \"\n",
      "/home/robotics/anaconda3/envs/estif/lib/python3.6/site-packages/PIL/JpegImagePlugin.py:796: UserWarning: Image appears to be a malformed MPO file, it will be interpreted as a base JPEG file\n",
      "  \"Image appears to be a malformed MPO file, it will be \"\n"
     ]
    },
    {
     "name": "stdout",
     "output_type": "stream",
     "text": [
      "Iteration number: 2170/4000\n",
      "Training Accuracy: 100.000%\n",
      "Time elapsed: 1h 5m 50s\n",
      "======================================================================\n",
      "Iteration number: 2180/4000\n",
      "Training Accuracy: 100.000%\n",
      "Time elapsed: 1h 6m 9s\n",
      "======================================================================\n",
      "Iteration number: 2190/4000\n",
      "Training Accuracy: 100.000%\n",
      "Time elapsed: 1h 6m 26s\n",
      "======================================================================\n"
     ]
    },
    {
     "name": "stderr",
     "output_type": "stream",
     "text": [
      "/home/robotics/anaconda3/envs/estif/lib/python3.6/site-packages/PIL/JpegImagePlugin.py:796: UserWarning: Image appears to be a malformed MPO file, it will be interpreted as a base JPEG file\n",
      "  \"Image appears to be a malformed MPO file, it will be \"\n"
     ]
    },
    {
     "name": "stdout",
     "output_type": "stream",
     "text": [
      "Iteration number: 2200/4000\n",
      "Training Accuracy: 100.000%\n",
      "Time elapsed: 1h 6m 45s\n",
      "======================================================================\n",
      "Iteration number: 2210/4000\n",
      "Training Accuracy: 100.000%\n",
      "Time elapsed: 1h 7m 3s\n",
      "======================================================================\n",
      "Iteration number: 2220/4000\n",
      "Training Accuracy: 100.000%\n",
      "Time elapsed: 1h 7m 22s\n",
      "======================================================================\n",
      "Iteration number: 2230/4000\n",
      "Training Accuracy: 100.000%\n",
      "Time elapsed: 1h 7m 41s\n",
      "======================================================================\n",
      "Iteration number: 2240/4000\n",
      "Training Accuracy: 100.000%\n",
      "Time elapsed: 1h 7m 59s\n",
      "======================================================================\n"
     ]
    },
    {
     "name": "stderr",
     "output_type": "stream",
     "text": [
      "/home/robotics/anaconda3/envs/estif/lib/python3.6/site-packages/PIL/JpegImagePlugin.py:796: UserWarning: Image appears to be a malformed MPO file, it will be interpreted as a base JPEG file\n",
      "  \"Image appears to be a malformed MPO file, it will be \"\n"
     ]
    },
    {
     "name": "stdout",
     "output_type": "stream",
     "text": [
      "Iteration number: 2250/4000\n",
      "Training Accuracy: 100.000%\n",
      "Time elapsed: 1h 8m 18s\n",
      "======================================================================\n",
      "Iteration number: 2260/4000\n",
      "Training Accuracy: 100.000%\n",
      "Time elapsed: 1h 8m 35s\n",
      "======================================================================\n",
      "Iteration number: 2270/4000\n",
      "Training Accuracy: 100.000%\n",
      "Time elapsed: 1h 8m 53s\n",
      "======================================================================\n",
      "Iteration number: 2280/4000\n",
      "Training Accuracy: 100.000%\n",
      "Time elapsed: 1h 9m 12s\n",
      "======================================================================\n",
      "Iteration number: 2290/4000\n",
      "Training Accuracy: 100.000%\n",
      "Time elapsed: 1h 9m 31s\n",
      "======================================================================\n"
     ]
    },
    {
     "name": "stderr",
     "output_type": "stream",
     "text": [
      "/home/robotics/anaconda3/envs/estif/lib/python3.6/site-packages/PIL/JpegImagePlugin.py:796: UserWarning: Image appears to be a malformed MPO file, it will be interpreted as a base JPEG file\n",
      "  \"Image appears to be a malformed MPO file, it will be \"\n",
      "/home/robotics/anaconda3/envs/estif/lib/python3.6/site-packages/PIL/JpegImagePlugin.py:796: UserWarning: Image appears to be a malformed MPO file, it will be interpreted as a base JPEG file\n",
      "  \"Image appears to be a malformed MPO file, it will be \"\n"
     ]
    },
    {
     "name": "stdout",
     "output_type": "stream",
     "text": [
      "Iteration number: 2300/4000\n",
      "Training Accuracy: 100.000%\n",
      "Time elapsed: 1h 9m 49s\n",
      "======================================================================\n"
     ]
    },
    {
     "name": "stderr",
     "output_type": "stream",
     "text": [
      "/home/robotics/anaconda3/envs/estif/lib/python3.6/site-packages/PIL/JpegImagePlugin.py:796: UserWarning: Image appears to be a malformed MPO file, it will be interpreted as a base JPEG file\n",
      "  \"Image appears to be a malformed MPO file, it will be \"\n"
     ]
    },
    {
     "name": "stdout",
     "output_type": "stream",
     "text": [
      "Iteration number: 2310/4000\n",
      "Training Accuracy: 100.000%\n",
      "Time elapsed: 1h 10m 9s\n",
      "======================================================================\n",
      "Iteration number: 2320/4000\n",
      "Training Accuracy: 100.000%\n",
      "Time elapsed: 1h 10m 28s\n",
      "======================================================================\n",
      "Iteration number: 2330/4000\n",
      "Training Accuracy: 100.000%\n",
      "Time elapsed: 1h 10m 47s\n",
      "======================================================================\n",
      "Iteration number: 2340/4000\n",
      "Training Accuracy: 100.000%\n",
      "Time elapsed: 1h 11m 5s\n",
      "======================================================================\n"
     ]
    },
    {
     "name": "stderr",
     "output_type": "stream",
     "text": [
      "/home/robotics/anaconda3/envs/estif/lib/python3.6/site-packages/PIL/JpegImagePlugin.py:796: UserWarning: Image appears to be a malformed MPO file, it will be interpreted as a base JPEG file\n",
      "  \"Image appears to be a malformed MPO file, it will be \"\n"
     ]
    },
    {
     "name": "stdout",
     "output_type": "stream",
     "text": [
      "Iteration number: 2350/4000\n",
      "Training Accuracy: 100.000%\n",
      "Time elapsed: 1h 11m 24s\n",
      "======================================================================\n"
     ]
    },
    {
     "name": "stderr",
     "output_type": "stream",
     "text": [
      "/home/robotics/anaconda3/envs/estif/lib/python3.6/site-packages/PIL/JpegImagePlugin.py:796: UserWarning: Image appears to be a malformed MPO file, it will be interpreted as a base JPEG file\n",
      "  \"Image appears to be a malformed MPO file, it will be \"\n"
     ]
    },
    {
     "name": "stdout",
     "output_type": "stream",
     "text": [
      "Iteration number: 2360/4000\n",
      "Training Accuracy: 100.000%\n",
      "Time elapsed: 1h 11m 44s\n",
      "======================================================================\n"
     ]
    },
    {
     "name": "stderr",
     "output_type": "stream",
     "text": [
      "/home/robotics/anaconda3/envs/estif/lib/python3.6/site-packages/PIL/JpegImagePlugin.py:796: UserWarning: Image appears to be a malformed MPO file, it will be interpreted as a base JPEG file\n",
      "  \"Image appears to be a malformed MPO file, it will be \"\n"
     ]
    },
    {
     "name": "stdout",
     "output_type": "stream",
     "text": [
      "Iteration number: 2370/4000\n",
      "Training Accuracy: 100.000%\n",
      "Time elapsed: 1h 12m 3s\n",
      "======================================================================\n"
     ]
    },
    {
     "name": "stderr",
     "output_type": "stream",
     "text": [
      "/home/robotics/anaconda3/envs/estif/lib/python3.6/site-packages/PIL/JpegImagePlugin.py:796: UserWarning: Image appears to be a malformed MPO file, it will be interpreted as a base JPEG file\n",
      "  \"Image appears to be a malformed MPO file, it will be \"\n"
     ]
    },
    {
     "name": "stdout",
     "output_type": "stream",
     "text": [
      "Iteration number: 2380/4000\n",
      "Training Accuracy: 100.000%\n",
      "Time elapsed: 1h 12m 21s\n",
      "======================================================================\n",
      "Iteration number: 2390/4000\n",
      "Training Accuracy: 100.000%\n",
      "Time elapsed: 1h 12m 39s\n",
      "======================================================================\n",
      "Iteration number: 2400/4000\n",
      "Training Accuracy: 100.000%\n",
      "Time elapsed: 1h 12m 59s\n",
      "======================================================================\n"
     ]
    },
    {
     "name": "stderr",
     "output_type": "stream",
     "text": [
      "/home/robotics/anaconda3/envs/estif/lib/python3.6/site-packages/PIL/JpegImagePlugin.py:796: UserWarning: Image appears to be a malformed MPO file, it will be interpreted as a base JPEG file\n",
      "  \"Image appears to be a malformed MPO file, it will be \"\n"
     ]
    },
    {
     "name": "stdout",
     "output_type": "stream",
     "text": [
      "Iteration number: 2410/4000\n",
      "Training Accuracy: 100.000%\n",
      "Time elapsed: 1h 13m 18s\n",
      "======================================================================\n",
      "Iteration number: 2420/4000\n",
      "Training Accuracy: 100.000%\n",
      "Time elapsed: 1h 13m 36s\n",
      "======================================================================\n",
      "Iteration number: 2430/4000\n",
      "Training Accuracy: 100.000%\n",
      "Time elapsed: 1h 13m 55s\n",
      "======================================================================\n",
      "Iteration number: 2440/4000\n",
      "Training Accuracy: 100.000%\n",
      "Time elapsed: 1h 14m 12s\n",
      "======================================================================\n",
      "Iteration number: 2450/4000\n",
      "Training Accuracy: 100.000%\n",
      "Time elapsed: 1h 14m 31s\n",
      "======================================================================\n",
      "Iteration number: 2460/4000\n",
      "Training Accuracy: 100.000%\n",
      "Time elapsed: 1h 14m 51s\n",
      "======================================================================\n"
     ]
    },
    {
     "name": "stderr",
     "output_type": "stream",
     "text": [
      "/home/robotics/anaconda3/envs/estif/lib/python3.6/site-packages/PIL/JpegImagePlugin.py:796: UserWarning: Image appears to be a malformed MPO file, it will be interpreted as a base JPEG file\n",
      "  \"Image appears to be a malformed MPO file, it will be \"\n"
     ]
    },
    {
     "name": "stdout",
     "output_type": "stream",
     "text": [
      "Iteration number: 2470/4000\n",
      "Training Accuracy: 96.875%\n",
      "Time elapsed: 1h 15m 10s\n",
      "======================================================================\n"
     ]
    },
    {
     "name": "stderr",
     "output_type": "stream",
     "text": [
      "/home/robotics/anaconda3/envs/estif/lib/python3.6/site-packages/PIL/JpegImagePlugin.py:796: UserWarning: Image appears to be a malformed MPO file, it will be interpreted as a base JPEG file\n",
      "  \"Image appears to be a malformed MPO file, it will be \"\n"
     ]
    },
    {
     "name": "stdout",
     "output_type": "stream",
     "text": [
      "Iteration number: 2480/4000\n",
      "Training Accuracy: 100.000%\n",
      "Time elapsed: 1h 15m 29s\n",
      "======================================================================\n",
      "Iteration number: 2490/4000\n",
      "Training Accuracy: 100.000%\n",
      "Time elapsed: 1h 15m 47s\n",
      "======================================================================\n",
      "Iteration number: 2500/4000\n",
      "Training Accuracy: 100.000%\n",
      "Time elapsed: 1h 16m 6s\n",
      "======================================================================\n"
     ]
    },
    {
     "name": "stderr",
     "output_type": "stream",
     "text": [
      "/home/robotics/anaconda3/envs/estif/lib/python3.6/site-packages/PIL/JpegImagePlugin.py:796: UserWarning: Image appears to be a malformed MPO file, it will be interpreted as a base JPEG file\n",
      "  \"Image appears to be a malformed MPO file, it will be \"\n"
     ]
    },
    {
     "name": "stdout",
     "output_type": "stream",
     "text": [
      "Iteration number: 2510/4000\n",
      "Training Accuracy: 100.000%\n",
      "Time elapsed: 1h 16m 25s\n",
      "======================================================================\n",
      "Iteration number: 2520/4000\n",
      "Training Accuracy: 100.000%\n",
      "Time elapsed: 1h 16m 44s\n",
      "======================================================================\n",
      "Iteration number: 2530/4000\n",
      "Training Accuracy: 100.000%\n",
      "Time elapsed: 1h 17m 3s\n",
      "======================================================================\n"
     ]
    },
    {
     "name": "stderr",
     "output_type": "stream",
     "text": [
      "/home/robotics/anaconda3/envs/estif/lib/python3.6/site-packages/PIL/JpegImagePlugin.py:796: UserWarning: Image appears to be a malformed MPO file, it will be interpreted as a base JPEG file\n",
      "  \"Image appears to be a malformed MPO file, it will be \"\n"
     ]
    },
    {
     "name": "stdout",
     "output_type": "stream",
     "text": [
      "Iteration number: 2540/4000\n",
      "Training Accuracy: 100.000%\n",
      "Time elapsed: 1h 17m 21s\n",
      "======================================================================\n"
     ]
    },
    {
     "name": "stderr",
     "output_type": "stream",
     "text": [
      "/home/robotics/anaconda3/envs/estif/lib/python3.6/site-packages/PIL/JpegImagePlugin.py:796: UserWarning: Image appears to be a malformed MPO file, it will be interpreted as a base JPEG file\n",
      "  \"Image appears to be a malformed MPO file, it will be \"\n"
     ]
    },
    {
     "name": "stdout",
     "output_type": "stream",
     "text": [
      "Iteration number: 2550/4000\n",
      "Training Accuracy: 100.000%\n",
      "Time elapsed: 1h 17m 40s\n",
      "======================================================================\n",
      "Iteration number: 2560/4000\n",
      "Training Accuracy: 100.000%\n",
      "Time elapsed: 1h 17m 59s\n",
      "======================================================================\n",
      "Iteration number: 2570/4000\n",
      "Training Accuracy: 100.000%\n",
      "Time elapsed: 1h 18m 18s\n",
      "======================================================================\n",
      "Iteration number: 2580/4000\n",
      "Training Accuracy: 100.000%\n",
      "Time elapsed: 1h 18m 36s\n",
      "======================================================================\n",
      "Iteration number: 2590/4000\n",
      "Training Accuracy: 100.000%\n",
      "Time elapsed: 1h 18m 54s\n",
      "======================================================================\n",
      "Iteration number: 2600/4000\n",
      "Training Accuracy: 100.000%\n",
      "Time elapsed: 1h 19m 13s\n",
      "======================================================================\n",
      "Iteration number: 2610/4000\n",
      "Training Accuracy: 100.000%\n",
      "Time elapsed: 1h 19m 31s\n",
      "======================================================================\n",
      "Iteration number: 2620/4000\n",
      "Training Accuracy: 100.000%\n",
      "Time elapsed: 1h 19m 49s\n",
      "======================================================================\n"
     ]
    },
    {
     "name": "stderr",
     "output_type": "stream",
     "text": [
      "/home/robotics/anaconda3/envs/estif/lib/python3.6/site-packages/PIL/JpegImagePlugin.py:796: UserWarning: Image appears to be a malformed MPO file, it will be interpreted as a base JPEG file\n",
      "  \"Image appears to be a malformed MPO file, it will be \"\n",
      "/home/robotics/anaconda3/envs/estif/lib/python3.6/site-packages/PIL/JpegImagePlugin.py:796: UserWarning: Image appears to be a malformed MPO file, it will be interpreted as a base JPEG file\n",
      "  \"Image appears to be a malformed MPO file, it will be \"\n"
     ]
    },
    {
     "name": "stdout",
     "output_type": "stream",
     "text": [
      "Iteration number: 2630/4000\n",
      "Training Accuracy: 100.000%\n",
      "Time elapsed: 1h 20m 8s\n",
      "======================================================================\n",
      "Iteration number: 2640/4000\n",
      "Training Accuracy: 100.000%\n",
      "Time elapsed: 1h 20m 26s\n",
      "======================================================================\n",
      "Iteration number: 2650/4000\n",
      "Training Accuracy: 100.000%\n",
      "Time elapsed: 1h 20m 45s\n",
      "======================================================================\n"
     ]
    },
    {
     "name": "stderr",
     "output_type": "stream",
     "text": [
      "/home/robotics/anaconda3/envs/estif/lib/python3.6/site-packages/PIL/JpegImagePlugin.py:796: UserWarning: Image appears to be a malformed MPO file, it will be interpreted as a base JPEG file\n",
      "  \"Image appears to be a malformed MPO file, it will be \"\n",
      "/home/robotics/anaconda3/envs/estif/lib/python3.6/site-packages/PIL/JpegImagePlugin.py:796: UserWarning: Image appears to be a malformed MPO file, it will be interpreted as a base JPEG file\n",
      "  \"Image appears to be a malformed MPO file, it will be \"\n"
     ]
    },
    {
     "name": "stdout",
     "output_type": "stream",
     "text": [
      "Iteration number: 2660/4000\n",
      "Training Accuracy: 100.000%\n",
      "Time elapsed: 1h 21m 4s\n",
      "======================================================================\n"
     ]
    },
    {
     "name": "stderr",
     "output_type": "stream",
     "text": [
      "/home/robotics/anaconda3/envs/estif/lib/python3.6/site-packages/PIL/JpegImagePlugin.py:796: UserWarning: Image appears to be a malformed MPO file, it will be interpreted as a base JPEG file\n",
      "  \"Image appears to be a malformed MPO file, it will be \"\n"
     ]
    },
    {
     "name": "stdout",
     "output_type": "stream",
     "text": [
      "Iteration number: 2670/4000\n",
      "Training Accuracy: 100.000%\n",
      "Time elapsed: 1h 21m 23s\n",
      "======================================================================\n",
      "Iteration number: 2680/4000\n",
      "Training Accuracy: 100.000%\n",
      "Time elapsed: 1h 21m 41s\n",
      "======================================================================\n",
      "Iteration number: 2690/4000\n",
      "Training Accuracy: 100.000%\n",
      "Time elapsed: 1h 21m 58s\n",
      "======================================================================\n"
     ]
    },
    {
     "name": "stderr",
     "output_type": "stream",
     "text": [
      "/home/robotics/anaconda3/envs/estif/lib/python3.6/site-packages/PIL/JpegImagePlugin.py:796: UserWarning: Image appears to be a malformed MPO file, it will be interpreted as a base JPEG file\n",
      "  \"Image appears to be a malformed MPO file, it will be \"\n"
     ]
    },
    {
     "name": "stdout",
     "output_type": "stream",
     "text": [
      "Iteration number: 2700/4000\n",
      "Training Accuracy: 100.000%\n",
      "Time elapsed: 1h 22m 16s\n",
      "======================================================================\n"
     ]
    },
    {
     "name": "stderr",
     "output_type": "stream",
     "text": [
      "/home/robotics/anaconda3/envs/estif/lib/python3.6/site-packages/PIL/JpegImagePlugin.py:796: UserWarning: Image appears to be a malformed MPO file, it will be interpreted as a base JPEG file\n",
      "  \"Image appears to be a malformed MPO file, it will be \"\n"
     ]
    },
    {
     "name": "stdout",
     "output_type": "stream",
     "text": [
      "Iteration number: 2710/4000\n",
      "Training Accuracy: 100.000%\n",
      "Time elapsed: 1h 22m 34s\n",
      "======================================================================\n"
     ]
    },
    {
     "name": "stderr",
     "output_type": "stream",
     "text": [
      "/home/robotics/anaconda3/envs/estif/lib/python3.6/site-packages/PIL/JpegImagePlugin.py:796: UserWarning: Image appears to be a malformed MPO file, it will be interpreted as a base JPEG file\n",
      "  \"Image appears to be a malformed MPO file, it will be \"\n",
      "/home/robotics/anaconda3/envs/estif/lib/python3.6/site-packages/PIL/JpegImagePlugin.py:796: UserWarning: Image appears to be a malformed MPO file, it will be interpreted as a base JPEG file\n",
      "  \"Image appears to be a malformed MPO file, it will be \"\n"
     ]
    },
    {
     "name": "stdout",
     "output_type": "stream",
     "text": [
      "Iteration number: 2720/4000\n",
      "Training Accuracy: 100.000%\n",
      "Time elapsed: 1h 22m 53s\n",
      "======================================================================\n"
     ]
    },
    {
     "name": "stderr",
     "output_type": "stream",
     "text": [
      "/home/robotics/anaconda3/envs/estif/lib/python3.6/site-packages/PIL/JpegImagePlugin.py:796: UserWarning: Image appears to be a malformed MPO file, it will be interpreted as a base JPEG file\n",
      "  \"Image appears to be a malformed MPO file, it will be \"\n"
     ]
    },
    {
     "name": "stdout",
     "output_type": "stream",
     "text": [
      "Iteration number: 2730/4000\n",
      "Training Accuracy: 100.000%\n",
      "Time elapsed: 1h 23m 12s\n",
      "======================================================================\n"
     ]
    },
    {
     "name": "stderr",
     "output_type": "stream",
     "text": [
      "/home/robotics/anaconda3/envs/estif/lib/python3.6/site-packages/PIL/JpegImagePlugin.py:796: UserWarning: Image appears to be a malformed MPO file, it will be interpreted as a base JPEG file\n",
      "  \"Image appears to be a malformed MPO file, it will be \"\n"
     ]
    },
    {
     "name": "stdout",
     "output_type": "stream",
     "text": [
      "Iteration number: 2740/4000\n",
      "Training Accuracy: 100.000%\n",
      "Time elapsed: 1h 23m 32s\n",
      "======================================================================\n"
     ]
    },
    {
     "name": "stderr",
     "output_type": "stream",
     "text": [
      "/home/robotics/anaconda3/envs/estif/lib/python3.6/site-packages/PIL/JpegImagePlugin.py:796: UserWarning: Image appears to be a malformed MPO file, it will be interpreted as a base JPEG file\n",
      "  \"Image appears to be a malformed MPO file, it will be \"\n"
     ]
    },
    {
     "name": "stdout",
     "output_type": "stream",
     "text": [
      "Iteration number: 2750/4000\n",
      "Training Accuracy: 100.000%\n",
      "Time elapsed: 1h 23m 51s\n",
      "======================================================================\n"
     ]
    },
    {
     "name": "stderr",
     "output_type": "stream",
     "text": [
      "/home/robotics/anaconda3/envs/estif/lib/python3.6/site-packages/PIL/JpegImagePlugin.py:796: UserWarning: Image appears to be a malformed MPO file, it will be interpreted as a base JPEG file\n",
      "  \"Image appears to be a malformed MPO file, it will be \"\n",
      "/home/robotics/anaconda3/envs/estif/lib/python3.6/site-packages/PIL/JpegImagePlugin.py:796: UserWarning: Image appears to be a malformed MPO file, it will be interpreted as a base JPEG file\n",
      "  \"Image appears to be a malformed MPO file, it will be \"\n"
     ]
    },
    {
     "name": "stdout",
     "output_type": "stream",
     "text": [
      "Iteration number: 2760/4000\n",
      "Training Accuracy: 100.000%\n",
      "Time elapsed: 1h 24m 11s\n",
      "======================================================================\n",
      "Iteration number: 2770/4000\n",
      "Training Accuracy: 100.000%\n",
      "Time elapsed: 1h 24m 31s\n",
      "======================================================================\n"
     ]
    },
    {
     "name": "stderr",
     "output_type": "stream",
     "text": [
      "/home/robotics/anaconda3/envs/estif/lib/python3.6/site-packages/PIL/JpegImagePlugin.py:796: UserWarning: Image appears to be a malformed MPO file, it will be interpreted as a base JPEG file\n",
      "  \"Image appears to be a malformed MPO file, it will be \"\n"
     ]
    },
    {
     "name": "stdout",
     "output_type": "stream",
     "text": [
      "Iteration number: 2780/4000\n",
      "Training Accuracy: 100.000%\n",
      "Time elapsed: 1h 24m 50s\n",
      "======================================================================\n"
     ]
    },
    {
     "name": "stderr",
     "output_type": "stream",
     "text": [
      "/home/robotics/anaconda3/envs/estif/lib/python3.6/site-packages/PIL/JpegImagePlugin.py:796: UserWarning: Image appears to be a malformed MPO file, it will be interpreted as a base JPEG file\n",
      "  \"Image appears to be a malformed MPO file, it will be \"\n"
     ]
    },
    {
     "name": "stdout",
     "output_type": "stream",
     "text": [
      "Iteration number: 2790/4000\n",
      "Training Accuracy: 100.000%\n",
      "Time elapsed: 1h 25m 9s\n",
      "======================================================================\n"
     ]
    },
    {
     "name": "stderr",
     "output_type": "stream",
     "text": [
      "/home/robotics/anaconda3/envs/estif/lib/python3.6/site-packages/PIL/JpegImagePlugin.py:796: UserWarning: Image appears to be a malformed MPO file, it will be interpreted as a base JPEG file\n",
      "  \"Image appears to be a malformed MPO file, it will be \"\n",
      "/home/robotics/anaconda3/envs/estif/lib/python3.6/site-packages/PIL/JpegImagePlugin.py:796: UserWarning: Image appears to be a malformed MPO file, it will be interpreted as a base JPEG file\n",
      "  \"Image appears to be a malformed MPO file, it will be \"\n",
      "/home/robotics/anaconda3/envs/estif/lib/python3.6/site-packages/PIL/JpegImagePlugin.py:796: UserWarning: Image appears to be a malformed MPO file, it will be interpreted as a base JPEG file\n",
      "  \"Image appears to be a malformed MPO file, it will be \"\n"
     ]
    },
    {
     "name": "stdout",
     "output_type": "stream",
     "text": [
      "Iteration number: 2800/4000\n",
      "Training Accuracy: 100.000%\n",
      "Time elapsed: 1h 25m 28s\n",
      "======================================================================\n"
     ]
    },
    {
     "name": "stderr",
     "output_type": "stream",
     "text": [
      "/home/robotics/anaconda3/envs/estif/lib/python3.6/site-packages/PIL/JpegImagePlugin.py:796: UserWarning: Image appears to be a malformed MPO file, it will be interpreted as a base JPEG file\n",
      "  \"Image appears to be a malformed MPO file, it will be \"\n"
     ]
    },
    {
     "name": "stdout",
     "output_type": "stream",
     "text": [
      "Iteration number: 2810/4000\n",
      "Training Accuracy: 100.000%\n",
      "Time elapsed: 1h 25m 47s\n",
      "======================================================================\n",
      "Iteration number: 2820/4000\n",
      "Training Accuracy: 100.000%\n",
      "Time elapsed: 1h 26m 6s\n",
      "======================================================================\n",
      "Iteration number: 2830/4000\n",
      "Training Accuracy: 100.000%\n",
      "Time elapsed: 1h 26m 26s\n",
      "======================================================================\n"
     ]
    },
    {
     "name": "stderr",
     "output_type": "stream",
     "text": [
      "/home/robotics/anaconda3/envs/estif/lib/python3.6/site-packages/PIL/JpegImagePlugin.py:796: UserWarning: Image appears to be a malformed MPO file, it will be interpreted as a base JPEG file\n",
      "  \"Image appears to be a malformed MPO file, it will be \"\n"
     ]
    },
    {
     "name": "stdout",
     "output_type": "stream",
     "text": [
      "Iteration number: 2840/4000\n",
      "Training Accuracy: 100.000%\n",
      "Time elapsed: 1h 26m 45s\n",
      "======================================================================\n",
      "Iteration number: 2850/4000\n",
      "Training Accuracy: 100.000%\n",
      "Time elapsed: 1h 27m 4s\n",
      "======================================================================\n",
      "Iteration number: 2860/4000\n",
      "Training Accuracy: 100.000%\n",
      "Time elapsed: 1h 27m 23s\n",
      "======================================================================\n"
     ]
    },
    {
     "name": "stderr",
     "output_type": "stream",
     "text": [
      "/home/robotics/anaconda3/envs/estif/lib/python3.6/site-packages/PIL/JpegImagePlugin.py:796: UserWarning: Image appears to be a malformed MPO file, it will be interpreted as a base JPEG file\n",
      "  \"Image appears to be a malformed MPO file, it will be \"\n"
     ]
    },
    {
     "name": "stdout",
     "output_type": "stream",
     "text": [
      "Iteration number: 2870/4000\n",
      "Training Accuracy: 100.000%\n",
      "Time elapsed: 1h 27m 42s\n",
      "======================================================================\n",
      "Iteration number: 2880/4000\n",
      "Training Accuracy: 100.000%\n",
      "Time elapsed: 1h 27m 60s\n",
      "======================================================================\n"
     ]
    },
    {
     "name": "stderr",
     "output_type": "stream",
     "text": [
      "/home/robotics/anaconda3/envs/estif/lib/python3.6/site-packages/PIL/JpegImagePlugin.py:796: UserWarning: Image appears to be a malformed MPO file, it will be interpreted as a base JPEG file\n",
      "  \"Image appears to be a malformed MPO file, it will be \"\n"
     ]
    },
    {
     "name": "stdout",
     "output_type": "stream",
     "text": [
      "Iteration number: 2890/4000\n",
      "Training Accuracy: 100.000%\n",
      "Time elapsed: 1h 28m 18s\n",
      "======================================================================\n",
      "Iteration number: 2900/4000\n",
      "Training Accuracy: 100.000%\n",
      "Time elapsed: 1h 28m 37s\n",
      "======================================================================\n",
      "Iteration number: 2910/4000\n",
      "Training Accuracy: 100.000%\n",
      "Time elapsed: 1h 28m 56s\n",
      "======================================================================\n",
      "Iteration number: 2920/4000\n",
      "Training Accuracy: 100.000%\n",
      "Time elapsed: 1h 29m 14s\n",
      "======================================================================\n"
     ]
    },
    {
     "name": "stderr",
     "output_type": "stream",
     "text": [
      "/home/robotics/anaconda3/envs/estif/lib/python3.6/site-packages/PIL/JpegImagePlugin.py:796: UserWarning: Image appears to be a malformed MPO file, it will be interpreted as a base JPEG file\n",
      "  \"Image appears to be a malformed MPO file, it will be \"\n"
     ]
    },
    {
     "name": "stdout",
     "output_type": "stream",
     "text": [
      "Iteration number: 2930/4000\n",
      "Training Accuracy: 96.875%\n",
      "Time elapsed: 1h 29m 34s\n",
      "======================================================================\n",
      "Iteration number: 2940/4000\n",
      "Training Accuracy: 100.000%\n",
      "Time elapsed: 1h 29m 53s\n",
      "======================================================================\n",
      "Iteration number: 2950/4000\n",
      "Training Accuracy: 100.000%\n",
      "Time elapsed: 1h 30m 11s\n",
      "======================================================================\n"
     ]
    },
    {
     "name": "stderr",
     "output_type": "stream",
     "text": [
      "/home/robotics/anaconda3/envs/estif/lib/python3.6/site-packages/PIL/JpegImagePlugin.py:796: UserWarning: Image appears to be a malformed MPO file, it will be interpreted as a base JPEG file\n",
      "  \"Image appears to be a malformed MPO file, it will be \"\n"
     ]
    },
    {
     "name": "stdout",
     "output_type": "stream",
     "text": [
      "Iteration number: 2960/4000\n",
      "Training Accuracy: 100.000%\n",
      "Time elapsed: 1h 30m 30s\n",
      "======================================================================\n"
     ]
    },
    {
     "name": "stderr",
     "output_type": "stream",
     "text": [
      "/home/robotics/anaconda3/envs/estif/lib/python3.6/site-packages/PIL/JpegImagePlugin.py:796: UserWarning: Image appears to be a malformed MPO file, it will be interpreted as a base JPEG file\n",
      "  \"Image appears to be a malformed MPO file, it will be \"\n"
     ]
    },
    {
     "name": "stdout",
     "output_type": "stream",
     "text": [
      "Iteration number: 2970/4000\n",
      "Training Accuracy: 100.000%\n",
      "Time elapsed: 1h 30m 49s\n",
      "======================================================================\n"
     ]
    },
    {
     "name": "stderr",
     "output_type": "stream",
     "text": [
      "/home/robotics/anaconda3/envs/estif/lib/python3.6/site-packages/PIL/JpegImagePlugin.py:796: UserWarning: Image appears to be a malformed MPO file, it will be interpreted as a base JPEG file\n",
      "  \"Image appears to be a malformed MPO file, it will be \"\n"
     ]
    },
    {
     "name": "stdout",
     "output_type": "stream",
     "text": [
      "Iteration number: 2980/4000\n",
      "Training Accuracy: 100.000%\n",
      "Time elapsed: 1h 31m 9s\n",
      "======================================================================\n"
     ]
    },
    {
     "name": "stderr",
     "output_type": "stream",
     "text": [
      "/home/robotics/anaconda3/envs/estif/lib/python3.6/site-packages/PIL/JpegImagePlugin.py:796: UserWarning: Image appears to be a malformed MPO file, it will be interpreted as a base JPEG file\n",
      "  \"Image appears to be a malformed MPO file, it will be \"\n"
     ]
    },
    {
     "name": "stdout",
     "output_type": "stream",
     "text": [
      "Iteration number: 2990/4000\n",
      "Training Accuracy: 100.000%\n",
      "Time elapsed: 1h 31m 28s\n",
      "======================================================================\n"
     ]
    },
    {
     "name": "stderr",
     "output_type": "stream",
     "text": [
      "/home/robotics/anaconda3/envs/estif/lib/python3.6/site-packages/PIL/JpegImagePlugin.py:796: UserWarning: Image appears to be a malformed MPO file, it will be interpreted as a base JPEG file\n",
      "  \"Image appears to be a malformed MPO file, it will be \"\n"
     ]
    },
    {
     "name": "stdout",
     "output_type": "stream",
     "text": [
      "Iteration number: 3000/4000\n",
      "Training Accuracy: 100.000%\n",
      "Time elapsed: 1h 31m 48s\n",
      "======================================================================\n",
      "Iteration number: 3010/4000\n",
      "Training Accuracy: 100.000%\n",
      "Time elapsed: 1h 32m 7s\n",
      "======================================================================\n"
     ]
    },
    {
     "name": "stderr",
     "output_type": "stream",
     "text": [
      "/home/robotics/anaconda3/envs/estif/lib/python3.6/site-packages/PIL/JpegImagePlugin.py:796: UserWarning: Image appears to be a malformed MPO file, it will be interpreted as a base JPEG file\n",
      "  \"Image appears to be a malformed MPO file, it will be \"\n"
     ]
    },
    {
     "name": "stdout",
     "output_type": "stream",
     "text": [
      "Iteration number: 3020/4000\n",
      "Training Accuracy: 100.000%\n",
      "Time elapsed: 1h 32m 25s\n",
      "======================================================================\n",
      "Iteration number: 3030/4000\n",
      "Training Accuracy: 100.000%\n",
      "Time elapsed: 1h 32m 44s\n",
      "======================================================================\n",
      "Iteration number: 3040/4000\n",
      "Training Accuracy: 100.000%\n",
      "Time elapsed: 1h 33m 3s\n",
      "======================================================================\n"
     ]
    },
    {
     "name": "stderr",
     "output_type": "stream",
     "text": [
      "/home/robotics/anaconda3/envs/estif/lib/python3.6/site-packages/PIL/JpegImagePlugin.py:796: UserWarning: Image appears to be a malformed MPO file, it will be interpreted as a base JPEG file\n",
      "  \"Image appears to be a malformed MPO file, it will be \"\n"
     ]
    },
    {
     "name": "stdout",
     "output_type": "stream",
     "text": [
      "Iteration number: 3050/4000\n",
      "Training Accuracy: 100.000%\n",
      "Time elapsed: 1h 33m 22s\n",
      "======================================================================\n",
      "Iteration number: 3060/4000\n",
      "Training Accuracy: 100.000%\n",
      "Time elapsed: 1h 33m 42s\n",
      "======================================================================\n"
     ]
    },
    {
     "name": "stderr",
     "output_type": "stream",
     "text": [
      "/home/robotics/anaconda3/envs/estif/lib/python3.6/site-packages/PIL/JpegImagePlugin.py:796: UserWarning: Image appears to be a malformed MPO file, it will be interpreted as a base JPEG file\n",
      "  \"Image appears to be a malformed MPO file, it will be \"\n"
     ]
    },
    {
     "name": "stdout",
     "output_type": "stream",
     "text": [
      "Iteration number: 3070/4000\n",
      "Training Accuracy: 100.000%\n",
      "Time elapsed: 1h 34m 1s\n",
      "======================================================================\n",
      "Iteration number: 3080/4000\n",
      "Training Accuracy: 100.000%\n",
      "Time elapsed: 1h 34m 20s\n",
      "======================================================================\n",
      "Iteration number: 3090/4000\n",
      "Training Accuracy: 100.000%\n",
      "Time elapsed: 1h 34m 38s\n",
      "======================================================================\n",
      "Iteration number: 3100/4000\n",
      "Training Accuracy: 100.000%\n",
      "Time elapsed: 1h 34m 58s\n",
      "======================================================================\n"
     ]
    },
    {
     "name": "stderr",
     "output_type": "stream",
     "text": [
      "/home/robotics/anaconda3/envs/estif/lib/python3.6/site-packages/PIL/JpegImagePlugin.py:796: UserWarning: Image appears to be a malformed MPO file, it will be interpreted as a base JPEG file\n",
      "  \"Image appears to be a malformed MPO file, it will be \"\n"
     ]
    },
    {
     "name": "stdout",
     "output_type": "stream",
     "text": [
      "Iteration number: 3110/4000\n",
      "Training Accuracy: 100.000%\n",
      "Time elapsed: 1h 35m 18s\n",
      "======================================================================\n",
      "Iteration number: 3120/4000\n",
      "Training Accuracy: 96.875%\n",
      "Time elapsed: 1h 35m 37s\n",
      "======================================================================\n"
     ]
    },
    {
     "name": "stderr",
     "output_type": "stream",
     "text": [
      "/home/robotics/anaconda3/envs/estif/lib/python3.6/site-packages/PIL/JpegImagePlugin.py:796: UserWarning: Image appears to be a malformed MPO file, it will be interpreted as a base JPEG file\n",
      "  \"Image appears to be a malformed MPO file, it will be \"\n"
     ]
    },
    {
     "name": "stdout",
     "output_type": "stream",
     "text": [
      "Iteration number: 3130/4000\n",
      "Training Accuracy: 100.000%\n",
      "Time elapsed: 1h 35m 56s\n",
      "======================================================================\n",
      "Iteration number: 3140/4000\n",
      "Training Accuracy: 100.000%\n",
      "Time elapsed: 1h 36m 16s\n",
      "======================================================================\n"
     ]
    },
    {
     "name": "stderr",
     "output_type": "stream",
     "text": [
      "/home/robotics/anaconda3/envs/estif/lib/python3.6/site-packages/PIL/JpegImagePlugin.py:796: UserWarning: Image appears to be a malformed MPO file, it will be interpreted as a base JPEG file\n",
      "  \"Image appears to be a malformed MPO file, it will be \"\n",
      "/home/robotics/anaconda3/envs/estif/lib/python3.6/site-packages/PIL/JpegImagePlugin.py:796: UserWarning: Image appears to be a malformed MPO file, it will be interpreted as a base JPEG file\n",
      "  \"Image appears to be a malformed MPO file, it will be \"\n"
     ]
    },
    {
     "name": "stdout",
     "output_type": "stream",
     "text": [
      "Iteration number: 3150/4000\n",
      "Training Accuracy: 100.000%\n",
      "Time elapsed: 1h 36m 36s\n",
      "======================================================================\n",
      "Iteration number: 3160/4000\n",
      "Training Accuracy: 100.000%\n",
      "Time elapsed: 1h 36m 55s\n",
      "======================================================================\n",
      "Iteration number: 3170/4000\n",
      "Training Accuracy: 100.000%\n",
      "Time elapsed: 1h 37m 15s\n",
      "======================================================================\n",
      "Iteration number: 3180/4000\n",
      "Training Accuracy: 100.000%\n",
      "Time elapsed: 1h 37m 33s\n",
      "======================================================================\n",
      "Iteration number: 3190/4000\n",
      "Training Accuracy: 100.000%\n",
      "Time elapsed: 1h 37m 53s\n",
      "======================================================================\n",
      "Iteration number: 3200/4000\n",
      "Training Accuracy: 100.000%\n",
      "Time elapsed: 1h 38m 12s\n",
      "======================================================================\n",
      "Iteration number: 3210/4000\n",
      "Training Accuracy: 100.000%\n",
      "Time elapsed: 1h 38m 32s\n",
      "======================================================================\n"
     ]
    },
    {
     "name": "stderr",
     "output_type": "stream",
     "text": [
      "/home/robotics/anaconda3/envs/estif/lib/python3.6/site-packages/PIL/JpegImagePlugin.py:796: UserWarning: Image appears to be a malformed MPO file, it will be interpreted as a base JPEG file\n",
      "  \"Image appears to be a malformed MPO file, it will be \"\n"
     ]
    },
    {
     "name": "stdout",
     "output_type": "stream",
     "text": [
      "Iteration number: 3220/4000\n",
      "Training Accuracy: 100.000%\n",
      "Time elapsed: 1h 38m 51s\n",
      "======================================================================\n"
     ]
    },
    {
     "name": "stderr",
     "output_type": "stream",
     "text": [
      "/home/robotics/anaconda3/envs/estif/lib/python3.6/site-packages/PIL/JpegImagePlugin.py:796: UserWarning: Image appears to be a malformed MPO file, it will be interpreted as a base JPEG file\n",
      "  \"Image appears to be a malformed MPO file, it will be \"\n"
     ]
    },
    {
     "name": "stdout",
     "output_type": "stream",
     "text": [
      "Iteration number: 3230/4000\n",
      "Training Accuracy: 100.000%\n",
      "Time elapsed: 1h 39m 11s\n",
      "======================================================================\n",
      "Iteration number: 3240/4000\n",
      "Training Accuracy: 100.000%\n",
      "Time elapsed: 1h 39m 30s\n",
      "======================================================================\n",
      "Iteration number: 3250/4000\n",
      "Training Accuracy: 96.875%\n",
      "Time elapsed: 1h 39m 49s\n",
      "======================================================================\n"
     ]
    },
    {
     "name": "stderr",
     "output_type": "stream",
     "text": [
      "/home/robotics/anaconda3/envs/estif/lib/python3.6/site-packages/PIL/JpegImagePlugin.py:796: UserWarning: Image appears to be a malformed MPO file, it will be interpreted as a base JPEG file\n",
      "  \"Image appears to be a malformed MPO file, it will be \"\n"
     ]
    },
    {
     "name": "stdout",
     "output_type": "stream",
     "text": [
      "Iteration number: 3260/4000\n",
      "Training Accuracy: 100.000%\n",
      "Time elapsed: 1h 40m 9s\n",
      "======================================================================\n",
      "Iteration number: 3270/4000\n",
      "Training Accuracy: 100.000%\n",
      "Time elapsed: 1h 40m 27s\n",
      "======================================================================\n"
     ]
    },
    {
     "name": "stderr",
     "output_type": "stream",
     "text": [
      "/home/robotics/anaconda3/envs/estif/lib/python3.6/site-packages/PIL/JpegImagePlugin.py:796: UserWarning: Image appears to be a malformed MPO file, it will be interpreted as a base JPEG file\n",
      "  \"Image appears to be a malformed MPO file, it will be \"\n"
     ]
    },
    {
     "name": "stdout",
     "output_type": "stream",
     "text": [
      "Iteration number: 3280/4000\n",
      "Training Accuracy: 100.000%\n",
      "Time elapsed: 1h 40m 45s\n",
      "======================================================================\n"
     ]
    },
    {
     "name": "stderr",
     "output_type": "stream",
     "text": [
      "/home/robotics/anaconda3/envs/estif/lib/python3.6/site-packages/PIL/JpegImagePlugin.py:796: UserWarning: Image appears to be a malformed MPO file, it will be interpreted as a base JPEG file\n",
      "  \"Image appears to be a malformed MPO file, it will be \"\n"
     ]
    },
    {
     "name": "stdout",
     "output_type": "stream",
     "text": [
      "Iteration number: 3290/4000\n",
      "Training Accuracy: 100.000%\n",
      "Time elapsed: 1h 41m 4s\n",
      "======================================================================\n"
     ]
    },
    {
     "name": "stderr",
     "output_type": "stream",
     "text": [
      "/home/robotics/anaconda3/envs/estif/lib/python3.6/site-packages/PIL/JpegImagePlugin.py:796: UserWarning: Image appears to be a malformed MPO file, it will be interpreted as a base JPEG file\n",
      "  \"Image appears to be a malformed MPO file, it will be \"\n"
     ]
    },
    {
     "name": "stdout",
     "output_type": "stream",
     "text": [
      "Iteration number: 3300/4000\n",
      "Training Accuracy: 100.000%\n",
      "Time elapsed: 1h 41m 23s\n",
      "======================================================================\n",
      "Iteration number: 3310/4000\n",
      "Training Accuracy: 100.000%\n",
      "Time elapsed: 1h 41m 42s\n",
      "======================================================================\n"
     ]
    },
    {
     "name": "stderr",
     "output_type": "stream",
     "text": [
      "/home/robotics/anaconda3/envs/estif/lib/python3.6/site-packages/PIL/JpegImagePlugin.py:796: UserWarning: Image appears to be a malformed MPO file, it will be interpreted as a base JPEG file\n",
      "  \"Image appears to be a malformed MPO file, it will be \"\n"
     ]
    },
    {
     "name": "stdout",
     "output_type": "stream",
     "text": [
      "Iteration number: 3320/4000\n",
      "Training Accuracy: 100.000%\n",
      "Time elapsed: 1h 42m 1s\n",
      "======================================================================\n"
     ]
    },
    {
     "name": "stderr",
     "output_type": "stream",
     "text": [
      "/home/robotics/anaconda3/envs/estif/lib/python3.6/site-packages/PIL/JpegImagePlugin.py:796: UserWarning: Image appears to be a malformed MPO file, it will be interpreted as a base JPEG file\n",
      "  \"Image appears to be a malformed MPO file, it will be \"\n"
     ]
    },
    {
     "name": "stdout",
     "output_type": "stream",
     "text": [
      "Iteration number: 3330/4000\n",
      "Training Accuracy: 100.000%\n",
      "Time elapsed: 1h 42m 19s\n",
      "======================================================================\n"
     ]
    },
    {
     "name": "stderr",
     "output_type": "stream",
     "text": [
      "/home/robotics/anaconda3/envs/estif/lib/python3.6/site-packages/PIL/JpegImagePlugin.py:796: UserWarning: Image appears to be a malformed MPO file, it will be interpreted as a base JPEG file\n",
      "  \"Image appears to be a malformed MPO file, it will be \"\n"
     ]
    },
    {
     "name": "stdout",
     "output_type": "stream",
     "text": [
      "Iteration number: 3340/4000\n",
      "Training Accuracy: 100.000%\n",
      "Time elapsed: 1h 42m 38s\n",
      "======================================================================\n"
     ]
    },
    {
     "name": "stderr",
     "output_type": "stream",
     "text": [
      "/home/robotics/anaconda3/envs/estif/lib/python3.6/site-packages/PIL/JpegImagePlugin.py:796: UserWarning: Image appears to be a malformed MPO file, it will be interpreted as a base JPEG file\n",
      "  \"Image appears to be a malformed MPO file, it will be \"\n"
     ]
    },
    {
     "name": "stdout",
     "output_type": "stream",
     "text": [
      "Iteration number: 3350/4000\n",
      "Training Accuracy: 100.000%\n",
      "Time elapsed: 1h 42m 57s\n",
      "======================================================================\n",
      "Iteration number: 3360/4000\n",
      "Training Accuracy: 100.000%\n",
      "Time elapsed: 1h 43m 16s\n",
      "======================================================================\n"
     ]
    },
    {
     "name": "stderr",
     "output_type": "stream",
     "text": [
      "/home/robotics/anaconda3/envs/estif/lib/python3.6/site-packages/PIL/JpegImagePlugin.py:796: UserWarning: Image appears to be a malformed MPO file, it will be interpreted as a base JPEG file\n",
      "  \"Image appears to be a malformed MPO file, it will be \"\n",
      "/home/robotics/anaconda3/envs/estif/lib/python3.6/site-packages/PIL/JpegImagePlugin.py:796: UserWarning: Image appears to be a malformed MPO file, it will be interpreted as a base JPEG file\n",
      "  \"Image appears to be a malformed MPO file, it will be \"\n"
     ]
    },
    {
     "name": "stdout",
     "output_type": "stream",
     "text": [
      "Iteration number: 3370/4000\n",
      "Training Accuracy: 100.000%\n",
      "Time elapsed: 1h 43m 34s\n",
      "======================================================================\n",
      "Iteration number: 3380/4000\n",
      "Training Accuracy: 100.000%\n",
      "Time elapsed: 1h 43m 53s\n",
      "======================================================================\n"
     ]
    },
    {
     "name": "stderr",
     "output_type": "stream",
     "text": [
      "/home/robotics/anaconda3/envs/estif/lib/python3.6/site-packages/PIL/JpegImagePlugin.py:796: UserWarning: Image appears to be a malformed MPO file, it will be interpreted as a base JPEG file\n",
      "  \"Image appears to be a malformed MPO file, it will be \"\n"
     ]
    },
    {
     "name": "stdout",
     "output_type": "stream",
     "text": [
      "Iteration number: 3390/4000\n",
      "Training Accuracy: 100.000%\n",
      "Time elapsed: 1h 44m 12s\n",
      "======================================================================\n"
     ]
    },
    {
     "name": "stderr",
     "output_type": "stream",
     "text": [
      "/home/robotics/anaconda3/envs/estif/lib/python3.6/site-packages/PIL/JpegImagePlugin.py:796: UserWarning: Image appears to be a malformed MPO file, it will be interpreted as a base JPEG file\n",
      "  \"Image appears to be a malformed MPO file, it will be \"\n",
      "/home/robotics/anaconda3/envs/estif/lib/python3.6/site-packages/PIL/JpegImagePlugin.py:796: UserWarning: Image appears to be a malformed MPO file, it will be interpreted as a base JPEG file\n",
      "  \"Image appears to be a malformed MPO file, it will be \"\n"
     ]
    },
    {
     "name": "stdout",
     "output_type": "stream",
     "text": [
      "Iteration number: 3400/4000\n",
      "Training Accuracy: 100.000%\n",
      "Time elapsed: 1h 44m 31s\n",
      "======================================================================\n",
      "Iteration number: 3410/4000\n",
      "Training Accuracy: 100.000%\n",
      "Time elapsed: 1h 44m 50s\n",
      "======================================================================\n",
      "Iteration number: 3420/4000\n",
      "Training Accuracy: 100.000%\n",
      "Time elapsed: 1h 45m 10s\n",
      "======================================================================\n"
     ]
    },
    {
     "name": "stderr",
     "output_type": "stream",
     "text": [
      "/home/robotics/anaconda3/envs/estif/lib/python3.6/site-packages/PIL/JpegImagePlugin.py:796: UserWarning: Image appears to be a malformed MPO file, it will be interpreted as a base JPEG file\n",
      "  \"Image appears to be a malformed MPO file, it will be \"\n"
     ]
    },
    {
     "name": "stdout",
     "output_type": "stream",
     "text": [
      "Iteration number: 3430/4000\n",
      "Training Accuracy: 100.000%\n",
      "Time elapsed: 1h 45m 30s\n",
      "======================================================================\n"
     ]
    },
    {
     "name": "stderr",
     "output_type": "stream",
     "text": [
      "/home/robotics/anaconda3/envs/estif/lib/python3.6/site-packages/PIL/JpegImagePlugin.py:796: UserWarning: Image appears to be a malformed MPO file, it will be interpreted as a base JPEG file\n",
      "  \"Image appears to be a malformed MPO file, it will be \"\n"
     ]
    },
    {
     "name": "stdout",
     "output_type": "stream",
     "text": [
      "Iteration number: 3440/4000\n",
      "Training Accuracy: 100.000%\n",
      "Time elapsed: 1h 45m 49s\n",
      "======================================================================\n"
     ]
    },
    {
     "name": "stderr",
     "output_type": "stream",
     "text": [
      "/home/robotics/anaconda3/envs/estif/lib/python3.6/site-packages/PIL/JpegImagePlugin.py:796: UserWarning: Image appears to be a malformed MPO file, it will be interpreted as a base JPEG file\n",
      "  \"Image appears to be a malformed MPO file, it will be \"\n",
      "/home/robotics/anaconda3/envs/estif/lib/python3.6/site-packages/PIL/JpegImagePlugin.py:796: UserWarning: Image appears to be a malformed MPO file, it will be interpreted as a base JPEG file\n",
      "  \"Image appears to be a malformed MPO file, it will be \"\n"
     ]
    },
    {
     "name": "stdout",
     "output_type": "stream",
     "text": [
      "Iteration number: 3450/4000\n",
      "Training Accuracy: 100.000%\n",
      "Time elapsed: 1h 46m 8s\n",
      "======================================================================\n"
     ]
    },
    {
     "name": "stderr",
     "output_type": "stream",
     "text": [
      "/home/robotics/anaconda3/envs/estif/lib/python3.6/site-packages/PIL/JpegImagePlugin.py:796: UserWarning: Image appears to be a malformed MPO file, it will be interpreted as a base JPEG file\n",
      "  \"Image appears to be a malformed MPO file, it will be \"\n"
     ]
    },
    {
     "name": "stdout",
     "output_type": "stream",
     "text": [
      "Iteration number: 3460/4000\n",
      "Training Accuracy: 100.000%\n",
      "Time elapsed: 1h 46m 25s\n",
      "======================================================================\n",
      "Iteration number: 3470/4000\n",
      "Training Accuracy: 100.000%\n",
      "Time elapsed: 1h 46m 44s\n",
      "======================================================================\n"
     ]
    },
    {
     "name": "stderr",
     "output_type": "stream",
     "text": [
      "/home/robotics/anaconda3/envs/estif/lib/python3.6/site-packages/PIL/JpegImagePlugin.py:796: UserWarning: Image appears to be a malformed MPO file, it will be interpreted as a base JPEG file\n",
      "  \"Image appears to be a malformed MPO file, it will be \"\n"
     ]
    },
    {
     "name": "stdout",
     "output_type": "stream",
     "text": [
      "Iteration number: 3480/4000\n",
      "Training Accuracy: 100.000%\n",
      "Time elapsed: 1h 47m 2s\n",
      "======================================================================\n",
      "Iteration number: 3490/4000\n",
      "Training Accuracy: 100.000%\n",
      "Time elapsed: 1h 47m 20s\n",
      "======================================================================\n"
     ]
    },
    {
     "name": "stderr",
     "output_type": "stream",
     "text": [
      "/home/robotics/anaconda3/envs/estif/lib/python3.6/site-packages/PIL/JpegImagePlugin.py:796: UserWarning: Image appears to be a malformed MPO file, it will be interpreted as a base JPEG file\n",
      "  \"Image appears to be a malformed MPO file, it will be \"\n"
     ]
    },
    {
     "name": "stdout",
     "output_type": "stream",
     "text": [
      "Iteration number: 3500/4000\n",
      "Training Accuracy: 100.000%\n",
      "Time elapsed: 1h 47m 39s\n",
      "======================================================================\n",
      "Iteration number: 3510/4000\n",
      "Training Accuracy: 100.000%\n",
      "Time elapsed: 1h 47m 59s\n",
      "======================================================================\n",
      "Iteration number: 3520/4000\n",
      "Training Accuracy: 100.000%\n",
      "Time elapsed: 1h 48m 17s\n",
      "======================================================================\n",
      "Iteration number: 3530/4000\n",
      "Training Accuracy: 100.000%\n",
      "Time elapsed: 1h 48m 37s\n",
      "======================================================================\n"
     ]
    },
    {
     "name": "stderr",
     "output_type": "stream",
     "text": [
      "/home/robotics/anaconda3/envs/estif/lib/python3.6/site-packages/PIL/JpegImagePlugin.py:796: UserWarning: Image appears to be a malformed MPO file, it will be interpreted as a base JPEG file\n",
      "  \"Image appears to be a malformed MPO file, it will be \"\n",
      "/home/robotics/anaconda3/envs/estif/lib/python3.6/site-packages/PIL/JpegImagePlugin.py:796: UserWarning: Image appears to be a malformed MPO file, it will be interpreted as a base JPEG file\n",
      "  \"Image appears to be a malformed MPO file, it will be \"\n"
     ]
    },
    {
     "name": "stdout",
     "output_type": "stream",
     "text": [
      "Iteration number: 3540/4000\n",
      "Training Accuracy: 100.000%\n",
      "Time elapsed: 1h 48m 57s\n",
      "======================================================================\n",
      "Iteration number: 3550/4000\n",
      "Training Accuracy: 100.000%\n",
      "Time elapsed: 1h 49m 17s\n",
      "======================================================================\n"
     ]
    },
    {
     "name": "stderr",
     "output_type": "stream",
     "text": [
      "/home/robotics/anaconda3/envs/estif/lib/python3.6/site-packages/PIL/JpegImagePlugin.py:796: UserWarning: Image appears to be a malformed MPO file, it will be interpreted as a base JPEG file\n",
      "  \"Image appears to be a malformed MPO file, it will be \"\n"
     ]
    },
    {
     "name": "stdout",
     "output_type": "stream",
     "text": [
      "Iteration number: 3560/4000\n",
      "Training Accuracy: 100.000%\n",
      "Time elapsed: 1h 49m 35s\n",
      "======================================================================\n",
      "Iteration number: 3570/4000\n",
      "Training Accuracy: 100.000%\n",
      "Time elapsed: 1h 49m 54s\n",
      "======================================================================\n"
     ]
    },
    {
     "name": "stderr",
     "output_type": "stream",
     "text": [
      "/home/robotics/anaconda3/envs/estif/lib/python3.6/site-packages/PIL/JpegImagePlugin.py:796: UserWarning: Image appears to be a malformed MPO file, it will be interpreted as a base JPEG file\n",
      "  \"Image appears to be a malformed MPO file, it will be \"\n"
     ]
    },
    {
     "name": "stdout",
     "output_type": "stream",
     "text": [
      "Iteration number: 3580/4000\n",
      "Training Accuracy: 100.000%\n",
      "Time elapsed: 1h 50m 13s\n",
      "======================================================================\n",
      "Iteration number: 3590/4000\n",
      "Training Accuracy: 100.000%\n",
      "Time elapsed: 1h 50m 32s\n",
      "======================================================================\n",
      "Iteration number: 3600/4000\n",
      "Training Accuracy: 100.000%\n",
      "Time elapsed: 1h 50m 50s\n",
      "======================================================================\n"
     ]
    },
    {
     "name": "stderr",
     "output_type": "stream",
     "text": [
      "/home/robotics/anaconda3/envs/estif/lib/python3.6/site-packages/PIL/JpegImagePlugin.py:796: UserWarning: Image appears to be a malformed MPO file, it will be interpreted as a base JPEG file\n",
      "  \"Image appears to be a malformed MPO file, it will be \"\n"
     ]
    },
    {
     "name": "stdout",
     "output_type": "stream",
     "text": [
      "Iteration number: 3610/4000\n",
      "Training Accuracy: 100.000%\n",
      "Time elapsed: 1h 51m 9s\n",
      "======================================================================\n"
     ]
    },
    {
     "name": "stderr",
     "output_type": "stream",
     "text": [
      "/home/robotics/anaconda3/envs/estif/lib/python3.6/site-packages/PIL/JpegImagePlugin.py:796: UserWarning: Image appears to be a malformed MPO file, it will be interpreted as a base JPEG file\n",
      "  \"Image appears to be a malformed MPO file, it will be \"\n"
     ]
    },
    {
     "name": "stdout",
     "output_type": "stream",
     "text": [
      "Iteration number: 3620/4000\n",
      "Training Accuracy: 100.000%\n",
      "Time elapsed: 1h 51m 29s\n",
      "======================================================================\n",
      "Iteration number: 3630/4000\n",
      "Training Accuracy: 100.000%\n",
      "Time elapsed: 1h 51m 49s\n",
      "======================================================================\n",
      "Iteration number: 3640/4000\n",
      "Training Accuracy: 100.000%\n",
      "Time elapsed: 1h 52m 8s\n",
      "======================================================================\n",
      "Iteration number: 3650/4000\n",
      "Training Accuracy: 100.000%\n",
      "Time elapsed: 1h 52m 27s\n",
      "======================================================================\n",
      "Iteration number: 3660/4000\n",
      "Training Accuracy: 100.000%\n",
      "Time elapsed: 1h 52m 47s\n",
      "======================================================================\n",
      "Iteration number: 3670/4000\n",
      "Training Accuracy: 100.000%\n",
      "Time elapsed: 1h 53m 6s\n",
      "======================================================================\n"
     ]
    },
    {
     "name": "stderr",
     "output_type": "stream",
     "text": [
      "/home/robotics/anaconda3/envs/estif/lib/python3.6/site-packages/PIL/JpegImagePlugin.py:796: UserWarning: Image appears to be a malformed MPO file, it will be interpreted as a base JPEG file\n",
      "  \"Image appears to be a malformed MPO file, it will be \"\n"
     ]
    },
    {
     "name": "stdout",
     "output_type": "stream",
     "text": [
      "Iteration number: 3680/4000\n",
      "Training Accuracy: 100.000%\n",
      "Time elapsed: 1h 53m 25s\n",
      "======================================================================\n",
      "Iteration number: 3690/4000\n",
      "Training Accuracy: 100.000%\n",
      "Time elapsed: 1h 53m 45s\n",
      "======================================================================\n",
      "Iteration number: 3700/4000\n",
      "Training Accuracy: 100.000%\n",
      "Time elapsed: 1h 54m 4s\n",
      "======================================================================\n",
      "Iteration number: 3710/4000\n",
      "Training Accuracy: 100.000%\n",
      "Time elapsed: 1h 54m 22s\n",
      "======================================================================\n",
      "Iteration number: 3720/4000\n",
      "Training Accuracy: 100.000%\n",
      "Time elapsed: 1h 54m 39s\n",
      "======================================================================\n"
     ]
    },
    {
     "name": "stderr",
     "output_type": "stream",
     "text": [
      "/home/robotics/anaconda3/envs/estif/lib/python3.6/site-packages/PIL/JpegImagePlugin.py:796: UserWarning: Image appears to be a malformed MPO file, it will be interpreted as a base JPEG file\n",
      "  \"Image appears to be a malformed MPO file, it will be \"\n",
      "/home/robotics/anaconda3/envs/estif/lib/python3.6/site-packages/PIL/JpegImagePlugin.py:796: UserWarning: Image appears to be a malformed MPO file, it will be interpreted as a base JPEG file\n",
      "  \"Image appears to be a malformed MPO file, it will be \"\n"
     ]
    },
    {
     "name": "stdout",
     "output_type": "stream",
     "text": [
      "Iteration number: 3730/4000\n",
      "Training Accuracy: 100.000%\n",
      "Time elapsed: 1h 54m 58s\n",
      "======================================================================\n",
      "Iteration number: 3740/4000\n",
      "Training Accuracy: 100.000%\n",
      "Time elapsed: 1h 55m 18s\n",
      "======================================================================\n",
      "Iteration number: 3750/4000\n",
      "Training Accuracy: 100.000%\n",
      "Time elapsed: 1h 55m 37s\n",
      "======================================================================\n",
      "Iteration number: 3760/4000\n",
      "Training Accuracy: 100.000%\n",
      "Time elapsed: 1h 55m 56s\n",
      "======================================================================\n"
     ]
    },
    {
     "name": "stderr",
     "output_type": "stream",
     "text": [
      "/home/robotics/anaconda3/envs/estif/lib/python3.6/site-packages/PIL/JpegImagePlugin.py:796: UserWarning: Image appears to be a malformed MPO file, it will be interpreted as a base JPEG file\n",
      "  \"Image appears to be a malformed MPO file, it will be \"\n"
     ]
    },
    {
     "name": "stdout",
     "output_type": "stream",
     "text": [
      "Iteration number: 3770/4000\n",
      "Training Accuracy: 100.000%\n",
      "Time elapsed: 1h 56m 16s\n",
      "======================================================================\n",
      "Iteration number: 3780/4000\n",
      "Training Accuracy: 96.875%\n",
      "Time elapsed: 1h 56m 35s\n",
      "======================================================================\n",
      "Iteration number: 3790/4000\n",
      "Training Accuracy: 100.000%\n",
      "Time elapsed: 1h 56m 53s\n",
      "======================================================================\n",
      "Iteration number: 3800/4000\n",
      "Training Accuracy: 100.000%\n",
      "Time elapsed: 1h 57m 13s\n",
      "======================================================================\n",
      "Iteration number: 3810/4000\n",
      "Training Accuracy: 100.000%\n",
      "Time elapsed: 1h 57m 32s\n",
      "======================================================================\n",
      "Iteration number: 3820/4000\n",
      "Training Accuracy: 100.000%\n",
      "Time elapsed: 1h 57m 51s\n",
      "======================================================================\n",
      "Iteration number: 3830/4000\n",
      "Training Accuracy: 100.000%\n",
      "Time elapsed: 1h 58m 10s\n",
      "======================================================================\n"
     ]
    },
    {
     "name": "stderr",
     "output_type": "stream",
     "text": [
      "/home/robotics/anaconda3/envs/estif/lib/python3.6/site-packages/PIL/JpegImagePlugin.py:796: UserWarning: Image appears to be a malformed MPO file, it will be interpreted as a base JPEG file\n",
      "  \"Image appears to be a malformed MPO file, it will be \"\n"
     ]
    },
    {
     "name": "stdout",
     "output_type": "stream",
     "text": [
      "Iteration number: 3840/4000\n",
      "Training Accuracy: 100.000%\n",
      "Time elapsed: 1h 58m 29s\n",
      "======================================================================\n",
      "Iteration number: 3850/4000\n",
      "Training Accuracy: 100.000%\n",
      "Time elapsed: 1h 58m 49s\n",
      "======================================================================\n",
      "Iteration number: 3860/4000\n",
      "Training Accuracy: 100.000%\n",
      "Time elapsed: 1h 59m 8s\n",
      "======================================================================\n",
      "Iteration number: 3870/4000\n",
      "Training Accuracy: 100.000%\n",
      "Time elapsed: 1h 59m 28s\n",
      "======================================================================\n",
      "Iteration number: 3880/4000\n",
      "Training Accuracy: 100.000%\n",
      "Time elapsed: 1h 59m 46s\n",
      "======================================================================\n",
      "Iteration number: 3890/4000\n",
      "Training Accuracy: 100.000%\n",
      "Time elapsed: 2h 0m 6s\n",
      "======================================================================\n",
      "Iteration number: 3900/4000\n",
      "Training Accuracy: 100.000%\n",
      "Time elapsed: 2h 0m 26s\n",
      "======================================================================\n"
     ]
    },
    {
     "name": "stderr",
     "output_type": "stream",
     "text": [
      "/home/robotics/anaconda3/envs/estif/lib/python3.6/site-packages/PIL/JpegImagePlugin.py:796: UserWarning: Image appears to be a malformed MPO file, it will be interpreted as a base JPEG file\n",
      "  \"Image appears to be a malformed MPO file, it will be \"\n"
     ]
    },
    {
     "name": "stdout",
     "output_type": "stream",
     "text": [
      "Iteration number: 3910/4000\n",
      "Training Accuracy: 100.000%\n",
      "Time elapsed: 2h 0m 45s\n",
      "======================================================================\n"
     ]
    },
    {
     "name": "stderr",
     "output_type": "stream",
     "text": [
      "/home/robotics/anaconda3/envs/estif/lib/python3.6/site-packages/PIL/JpegImagePlugin.py:796: UserWarning: Image appears to be a malformed MPO file, it will be interpreted as a base JPEG file\n",
      "  \"Image appears to be a malformed MPO file, it will be \"\n"
     ]
    },
    {
     "name": "stdout",
     "output_type": "stream",
     "text": [
      "Iteration number: 3920/4000\n",
      "Training Accuracy: 100.000%\n",
      "Time elapsed: 2h 1m 5s\n",
      "======================================================================\n"
     ]
    },
    {
     "name": "stderr",
     "output_type": "stream",
     "text": [
      "/home/robotics/anaconda3/envs/estif/lib/python3.6/site-packages/PIL/JpegImagePlugin.py:796: UserWarning: Image appears to be a malformed MPO file, it will be interpreted as a base JPEG file\n",
      "  \"Image appears to be a malformed MPO file, it will be \"\n"
     ]
    },
    {
     "name": "stdout",
     "output_type": "stream",
     "text": [
      "Iteration number: 3930/4000\n",
      "Training Accuracy: 96.875%\n",
      "Time elapsed: 2h 1m 24s\n",
      "======================================================================\n",
      "Iteration number: 3940/4000\n",
      "Training Accuracy: 100.000%\n",
      "Time elapsed: 2h 1m 43s\n",
      "======================================================================\n",
      "Iteration number: 3950/4000\n",
      "Training Accuracy: 100.000%\n",
      "Time elapsed: 2h 2m 3s\n",
      "======================================================================\n",
      "Iteration number: 3960/4000\n",
      "Training Accuracy: 100.000%\n",
      "Time elapsed: 2h 2m 23s\n",
      "======================================================================\n"
     ]
    },
    {
     "name": "stderr",
     "output_type": "stream",
     "text": [
      "/home/robotics/anaconda3/envs/estif/lib/python3.6/site-packages/PIL/JpegImagePlugin.py:796: UserWarning: Image appears to be a malformed MPO file, it will be interpreted as a base JPEG file\n",
      "  \"Image appears to be a malformed MPO file, it will be \"\n",
      "/home/robotics/anaconda3/envs/estif/lib/python3.6/site-packages/PIL/JpegImagePlugin.py:796: UserWarning: Image appears to be a malformed MPO file, it will be interpreted as a base JPEG file\n",
      "  \"Image appears to be a malformed MPO file, it will be \"\n"
     ]
    },
    {
     "name": "stdout",
     "output_type": "stream",
     "text": [
      "Iteration number: 3970/4000\n",
      "Training Accuracy: 100.000%\n",
      "Time elapsed: 2h 2m 42s\n",
      "======================================================================\n",
      "Iteration number: 3980/4000\n",
      "Training Accuracy: 100.000%\n",
      "Time elapsed: 2h 3m 2s\n",
      "======================================================================\n",
      "Iteration number: 3990/4000\n",
      "Training Accuracy: 100.000%\n",
      "Time elapsed: 2h 3m 21s\n",
      "======================================================================\n"
     ]
    },
    {
     "name": "stderr",
     "output_type": "stream",
     "text": [
      "/home/robotics/anaconda3/envs/estif/lib/python3.6/site-packages/PIL/JpegImagePlugin.py:796: UserWarning: Image appears to be a malformed MPO file, it will be interpreted as a base JPEG file\n",
      "  \"Image appears to be a malformed MPO file, it will be \"\n"
     ]
    },
    {
     "name": "stdout",
     "output_type": "stream",
     "text": [
      "Iteration number: 4000/4000\n",
      "Training Accuracy: 100.000%\n",
      "Time elapsed: 2h 3m 40s\n",
      "======================================================================\n",
      "Training Finished!\n",
      "Time elapsed: 2h 3m 40s\n"
     ]
    }
   ],
   "source": [
    "\n",
    "iterations = 4000\n",
    "loss_train_list = list()\n",
    "train_accuracy_list = list()\n",
    "\n",
    "start = time.time()\n",
    "\n",
    "for i in range(1,iterations+1):\n",
    "    classifier.train()\n",
    "    \n",
    "    images_train, labels_train = iter(train_loader).next()\n",
    "    images_train, labels_train = images_train.to(device), labels_train.to(device)\n",
    "    \n",
    "    optimizer.zero_grad()\n",
    "    \n",
    "    output_train = classifier.forward(images_train)\n",
    "    loss_train = criterion(output_train, labels_train)\n",
    "    prediction_train = output_train.max(dim=1)[1]\n",
    "\n",
    "    counter_train = (labels_train == prediction_train).sum().item()\n",
    "    loss_train_list.append(loss_train)\n",
    "    train_accuracy_list.append(counter_train/len(output_train))\n",
    "   \n",
    "    if i%10 == 0:\n",
    "        print(\"Iteration number: {}/{}\".format(i, iterations))\n",
    "        print('Training Accuracy: {:.3f}%'.format(counter_train/len(output_train) * 100))\n",
    "        time_taken = time.time() - start\n",
    "        print('Time elapsed: {:.0f}h {:.0f}m {:.0f}s'.format(time_taken//3600, (time_taken%3600)//60, (time_taken%3600)%60))\n",
    "        print('='*70)\n",
    "    loss_train.backward()\n",
    "    optimizer.step()\n",
    "    \n",
    "\n",
    "print('Training Finished!')\n",
    "print('Time elapsed: {:.0f}h {:.0f}m {:.0f}s'.format(time_taken//3600, (time_taken%3600)//60, (time_taken%3600)%60))\n"
   ]
  },
  {
   "cell_type": "code",
   "execution_count": 7,
   "metadata": {},
   "outputs": [
    {
     "data": {
      "text/plain": [
       "<Figure size 432x288 with 0 Axes>"
      ]
     },
     "metadata": {},
     "output_type": "display_data"
    },
    {
     "data": {
      "image/png": "[encoded data removed]",
      "text/plain": [
       "<Figure size 1800x720 with 1 Axes>"
      ]
     },
     "metadata": {
      "needs_background": "light"
     },
     "output_type": "display_data"
    },
    {
     "data": {
      "text/plain": [
       "<Figure size 432x288 with 0 Axes>"
      ]
     },
     "metadata": {},
     "output_type": "display_data"
    },
    {
     "data": {
      "image/png": "[encoded data removed]",
      "text/plain": [
       "<Figure size 1800x720 with 1 Axes>"
      ]
     },
     "metadata": {
      "needs_background": "light"
     },
     "output_type": "display_data"
    },
    {
     "data": {
      "text/plain": [
       "<Figure size 432x288 with 0 Axes>"
      ]
     },
     "metadata": {},
     "output_type": "display_data"
    },
    {
     "data": {
      "image/png": "[encoded data removed]",
      "text/plain": [
       "<Figure size 1800x720 with 1 Axes>"
      ]
     },
     "metadata": {
      "needs_background": "light"
     },
     "output_type": "display_data"
    }
   ],
   "source": [
    "# Loss at the end of every Iteration\n",
    "\n",
    "plt.figure(1)\n",
    "plt.figure(figsize = (25,10))\n",
    "plt.plot(np.array(loss_train_list), '-')\n",
    "plt.xlabel('Iteration')\n",
    "plt.ylabel('Training Loss')\n",
    "plt.rc('axes', labelsize=18)\n",
    "plt.xticks(fontsize=14)\n",
    "plt.yticks(fontsize=14)\n",
    "plt.show()\n",
    "\n",
    "\n",
    "# Loss at the end of every epoch\n",
    "\n",
    "LossPerEpoch = []\n",
    "for x in range(0, len(loss_train_list) +1, len(train_loader)):\n",
    "    LossPerEpoch.append(loss_train_list[x])\n",
    "    \n",
    "plt.figure(2)\n",
    "plt.figure(figsize = (25,10))\n",
    "plt.plot(np.array(LossPerEpoch), '-')\n",
    "plt.xlabel('Epoch')\n",
    "plt.ylabel('Training Loss')\n",
    "plt.rc('axes', labelsize=18)\n",
    "plt.xticks(fontsize=14)\n",
    "plt.yticks(fontsize=14)\n",
    "plt.show()\n",
    "\n",
    "plt.figure(3)\n",
    "plt.figure(figsize = (25,10))\n",
    "plt.plot(np.array(train_accuracy_list), '-')\n",
    "plt.xlabel('Iteration')\n",
    "plt.ylabel('Training Accuracy')\n",
    "plt.rc('axes', labelsize=18)\n",
    "plt.xticks(fontsize=14)\n",
    "plt.yticks(fontsize=14)\n",
    "plt.show()"
   ]
  },
  {
   "cell_type": "markdown",
   "metadata": {},
   "source": [
    "### Saving model and loading it for later use"
   ]
  },
  {
   "cell_type": "code",
   "execution_count": 9,
   "metadata": {},
   "outputs": [
    {
     "name": "stdout",
     "output_type": "stream",
     "text": [
      "Our Model: \n",
      "\n",
      " DataParallel(\n",
      "  (module): DenseNet(\n",
      "    (features): Sequential(\n",
      "      (conv0): Conv2d(3, 96, kernel_size=(7, 7), stride=(2, 2), padding=(3, 3), bias=False)\n",
      "      (norm0): BatchNorm2d(96, eps=1e-05, momentum=0.1, affine=True, track_running_stats=True)\n",
      "      (relu0): ReLU(inplace=True)\n",
      "      (pool0): MaxPool2d(kernel_size=3, stride=2, padding=1, dilation=1, ceil_mode=False)\n",
      "      (denseblock1): _DenseBlock(\n",
      "        (denselayer1): _DenseLayer(\n",
      "          (norm1): BatchNorm2d(96, eps=1e-05, momentum=0.1, affine=True, track_running_stats=True)\n",
      "          (relu1): ReLU(inplace=True)\n",
      "          (conv1): Conv2d(96, 192, kernel_size=(1, 1), stride=(1, 1), bias=False)\n",
      "          (norm2): BatchNorm2d(192, eps=1e-05, momentum=0.1, affine=True, track_running_stats=True)\n",
      "          (relu2): ReLU(inplace=True)\n",
      "          (conv2): Conv2d(192, 48, kernel_size=(3, 3), stride=(1, 1), padding=(1, 1), bias=False)\n",
      "        )\n",
      "        (denselayer2): _DenseLayer(\n",
      "          (norm1): BatchNorm2d(144, eps=1e-05, momentum=0.1, affine=True, track_running_stats=True)\n",
      "          (relu1): ReLU(inplace=True)\n",
      "          (conv1): Conv2d(144, 192, kernel_size=(1, 1), stride=(1, 1), bias=False)\n",
      "          (norm2): BatchNorm2d(192, eps=1e-05, momentum=0.1, affine=True, track_running_stats=True)\n",
      "          (relu2): ReLU(inplace=True)\n",
      "          (conv2): Conv2d(192, 48, kernel_size=(3, 3), stride=(1, 1), padding=(1, 1), bias=False)\n",
      "        )\n",
      "        (denselayer3): _DenseLayer(\n",
      "          (norm1): BatchNorm2d(192, eps=1e-05, momentum=0.1, affine=True, track_running_stats=True)\n",
      "          (relu1): ReLU(inplace=True)\n",
      "          (conv1): Conv2d(192, 192, kernel_size=(1, 1), stride=(1, 1), bias=False)\n",
      "          (norm2): BatchNorm2d(192, eps=1e-05, momentum=0.1, affine=True, track_running_stats=True)\n",
      "          (relu2): ReLU(inplace=True)\n",
      "          (conv2): Conv2d(192, 48, kernel_size=(3, 3), stride=(1, 1), padding=(1, 1), bias=False)\n",
      "        )\n",
      "        (denselayer4): _DenseLayer(\n",
      "          (norm1): BatchNorm2d(240, eps=1e-05, momentum=0.1, affine=True, track_running_stats=True)\n",
      "          (relu1): ReLU(inplace=True)\n",
      "          (conv1): Conv2d(240, 192, kernel_size=(1, 1), stride=(1, 1), bias=False)\n",
      "          (norm2): BatchNorm2d(192, eps=1e-05, momentum=0.1, affine=True, track_running_stats=True)\n",
      "          (relu2): ReLU(inplace=True)\n",
      "          (conv2): Conv2d(192, 48, kernel_size=(3, 3), stride=(1, 1), padding=(1, 1), bias=False)\n",
      "        )\n",
      "        (denselayer5): _DenseLayer(\n",
      "          (norm1): BatchNorm2d(288, eps=1e-05, momentum=0.1, affine=True, track_running_stats=True)\n",
      "          (relu1): ReLU(inplace=True)\n",
      "          (conv1): Conv2d(288, 192, kernel_size=(1, 1), stride=(1, 1), bias=False)\n",
      "          (norm2): BatchNorm2d(192, eps=1e-05, momentum=0.1, affine=True, track_running_stats=True)\n",
      "          (relu2): ReLU(inplace=True)\n",
      "          (conv2): Conv2d(192, 48, kernel_size=(3, 3), stride=(1, 1), padding=(1, 1), bias=False)\n",
      "        )\n",
      "        (denselayer6): _DenseLayer(\n",
      "          (norm1): BatchNorm2d(336, eps=1e-05, momentum=0.1, affine=True, track_running_stats=True)\n",
      "          (relu1): ReLU(inplace=True)\n",
      "          (conv1): Conv2d(336, 192, kernel_size=(1, 1), stride=(1, 1), bias=False)\n",
      "          (norm2): BatchNorm2d(192, eps=1e-05, momentum=0.1, affine=True, track_running_stats=True)\n",
      "          (relu2): ReLU(inplace=True)\n",
      "          (conv2): Conv2d(192, 48, kernel_size=(3, 3), stride=(1, 1), padding=(1, 1), bias=False)\n",
      "        )\n",
      "      )\n",
      "      (transition1): _Transition(\n",
      "        (norm): BatchNorm2d(384, eps=1e-05, momentum=0.1, affine=True, track_running_stats=True)\n",
      "        (relu): ReLU(inplace=True)\n",
      "        (conv): Conv2d(384, 192, kernel_size=(1, 1), stride=(1, 1), bias=False)\n",
      "        (pool): AvgPool2d(kernel_size=2, stride=2, padding=0)\n",
      "      )\n",
      "      (denseblock2): _DenseBlock(\n",
      "        (denselayer1): _DenseLayer(\n",
      "          (norm1): BatchNorm2d(192, eps=1e-05, momentum=0.1, affine=True, track_running_stats=True)\n",
      "          (relu1): ReLU(inplace=True)\n",
      "          (conv1): Conv2d(192, 192, kernel_size=(1, 1), stride=(1, 1), bias=False)\n",
      "          (norm2): BatchNorm2d(192, eps=1e-05, momentum=0.1, affine=True, track_running_stats=True)\n",
      "          (relu2): ReLU(inplace=True)\n",
      "          (conv2): Conv2d(192, 48, kernel_size=(3, 3), stride=(1, 1), padding=(1, 1), bias=False)\n",
      "        )\n",
      "        (denselayer2): _DenseLayer(\n",
      "          (norm1): BatchNorm2d(240, eps=1e-05, momentum=0.1, affine=True, track_running_stats=True)\n",
      "          (relu1): ReLU(inplace=True)\n",
      "          (conv1): Conv2d(240, 192, kernel_size=(1, 1), stride=(1, 1), bias=False)\n",
      "          (norm2): BatchNorm2d(192, eps=1e-05, momentum=0.1, affine=True, track_running_stats=True)\n",
      "          (relu2): ReLU(inplace=True)\n",
      "          (conv2): Conv2d(192, 48, kernel_size=(3, 3), stride=(1, 1), padding=(1, 1), bias=False)\n",
      "        )\n",
      "        (denselayer3): _DenseLayer(\n",
      "          (norm1): BatchNorm2d(288, eps=1e-05, momentum=0.1, affine=True, track_running_stats=True)\n",
      "          (relu1): ReLU(inplace=True)\n",
      "          (conv1): Conv2d(288, 192, kernel_size=(1, 1), stride=(1, 1), bias=False)\n",
      "          (norm2): BatchNorm2d(192, eps=1e-05, momentum=0.1, affine=True, track_running_stats=True)\n",
      "          (relu2): ReLU(inplace=True)\n",
      "          (conv2): Conv2d(192, 48, kernel_size=(3, 3), stride=(1, 1), padding=(1, 1), bias=False)\n",
      "        )\n",
      "        (denselayer4): _DenseLayer(\n",
      "          (norm1): BatchNorm2d(336, eps=1e-05, momentum=0.1, affine=True, track_running_stats=True)\n",
      "          (relu1): ReLU(inplace=True)\n",
      "          (conv1): Conv2d(336, 192, kernel_size=(1, 1), stride=(1, 1), bias=False)\n",
      "          (norm2): BatchNorm2d(192, eps=1e-05, momentum=0.1, affine=True, track_running_stats=True)\n",
      "          (relu2): ReLU(inplace=True)\n",
      "          (conv2): Conv2d(192, 48, kernel_size=(3, 3), stride=(1, 1), padding=(1, 1), bias=False)\n",
      "        )\n",
      "        (denselayer5): _DenseLayer(\n",
      "          (norm1): BatchNorm2d(384, eps=1e-05, momentum=0.1, affine=True, track_running_stats=True)\n",
      "          (relu1): ReLU(inplace=True)\n",
      "          (conv1): Conv2d(384, 192, kernel_size=(1, 1), stride=(1, 1), bias=False)\n",
      "          (norm2): BatchNorm2d(192, eps=1e-05, momentum=0.1, affine=True, track_running_stats=True)\n",
      "          (relu2): ReLU(inplace=True)\n",
      "          (conv2): Conv2d(192, 48, kernel_size=(3, 3), stride=(1, 1), padding=(1, 1), bias=False)\n",
      "        )\n",
      "        (denselayer6): _DenseLayer(\n",
      "          (norm1): BatchNorm2d(432, eps=1e-05, momentum=0.1, affine=True, track_running_stats=True)\n",
      "          (relu1): ReLU(inplace=True)\n",
      "          (conv1): Conv2d(432, 192, kernel_size=(1, 1), stride=(1, 1), bias=False)\n",
      "          (norm2): BatchNorm2d(192, eps=1e-05, momentum=0.1, affine=True, track_running_stats=True)\n",
      "          (relu2): ReLU(inplace=True)\n",
      "          (conv2): Conv2d(192, 48, kernel_size=(3, 3), stride=(1, 1), padding=(1, 1), bias=False)\n",
      "        )\n",
      "        (denselayer7): _DenseLayer(\n",
      "          (norm1): BatchNorm2d(480, eps=1e-05, momentum=0.1, affine=True, track_running_stats=True)\n",
      "          (relu1): ReLU(inplace=True)\n",
      "          (conv1): Conv2d(480, 192, kernel_size=(1, 1), stride=(1, 1), bias=False)\n",
      "          (norm2): BatchNorm2d(192, eps=1e-05, momentum=0.1, affine=True, track_running_stats=True)\n",
      "          (relu2): ReLU(inplace=True)\n",
      "          (conv2): Conv2d(192, 48, kernel_size=(3, 3), stride=(1, 1), padding=(1, 1), bias=False)\n",
      "        )\n",
      "        (denselayer8): _DenseLayer(\n",
      "          (norm1): BatchNorm2d(528, eps=1e-05, momentum=0.1, affine=True, track_running_stats=True)\n",
      "          (relu1): ReLU(inplace=True)\n",
      "          (conv1): Conv2d(528, 192, kernel_size=(1, 1), stride=(1, 1), bias=False)\n",
      "          (norm2): BatchNorm2d(192, eps=1e-05, momentum=0.1, affine=True, track_running_stats=True)\n",
      "          (relu2): ReLU(inplace=True)\n",
      "          (conv2): Conv2d(192, 48, kernel_size=(3, 3), stride=(1, 1), padding=(1, 1), bias=False)\n",
      "        )\n",
      "        (denselayer9): _DenseLayer(\n",
      "          (norm1): BatchNorm2d(576, eps=1e-05, momentum=0.1, affine=True, track_running_stats=True)\n",
      "          (relu1): ReLU(inplace=True)\n",
      "          (conv1): Conv2d(576, 192, kernel_size=(1, 1), stride=(1, 1), bias=False)\n",
      "          (norm2): BatchNorm2d(192, eps=1e-05, momentum=0.1, affine=True, track_running_stats=True)\n",
      "          (relu2): ReLU(inplace=True)\n",
      "          (conv2): Conv2d(192, 48, kernel_size=(3, 3), stride=(1, 1), padding=(1, 1), bias=False)\n",
      "        )\n",
      "        (denselayer10): _DenseLayer(\n",
      "          (norm1): BatchNorm2d(624, eps=1e-05, momentum=0.1, affine=True, track_running_stats=True)\n",
      "          (relu1): ReLU(inplace=True)\n",
      "          (conv1): Conv2d(624, 192, kernel_size=(1, 1), stride=(1, 1), bias=False)\n",
      "          (norm2): BatchNorm2d(192, eps=1e-05, momentum=0.1, affine=True, track_running_stats=True)\n",
      "          (relu2): ReLU(inplace=True)\n",
      "          (conv2): Conv2d(192, 48, kernel_size=(3, 3), stride=(1, 1), padding=(1, 1), bias=False)\n",
      "        )\n",
      "        (denselayer11): _DenseLayer(\n",
      "          (norm1): BatchNorm2d(672, eps=1e-05, momentum=0.1, affine=True, track_running_stats=True)\n",
      "          (relu1): ReLU(inplace=True)\n",
      "          (conv1): Conv2d(672, 192, kernel_size=(1, 1), stride=(1, 1), bias=False)\n",
      "          (norm2): BatchNorm2d(192, eps=1e-05, momentum=0.1, affine=True, track_running_stats=True)\n",
      "          (relu2): ReLU(inplace=True)\n",
      "          (conv2): Conv2d(192, 48, kernel_size=(3, 3), stride=(1, 1), padding=(1, 1), bias=False)\n",
      "        )\n",
      "        (denselayer12): _DenseLayer(\n",
      "          (norm1): BatchNorm2d(720, eps=1e-05, momentum=0.1, affine=True, track_running_stats=True)\n",
      "          (relu1): ReLU(inplace=True)\n",
      "          (conv1): Conv2d(720, 192, kernel_size=(1, 1), stride=(1, 1), bias=False)\n",
      "          (norm2): BatchNorm2d(192, eps=1e-05, momentum=0.1, affine=True, track_running_stats=True)\n",
      "          (relu2): ReLU(inplace=True)\n",
      "          (conv2): Conv2d(192, 48, kernel_size=(3, 3), stride=(1, 1), padding=(1, 1), bias=False)\n",
      "        )\n",
      "      )\n",
      "      (transition2): _Transition(\n",
      "        (norm): BatchNorm2d(768, eps=1e-05, momentum=0.1, affine=True, track_running_stats=True)\n",
      "        (relu): ReLU(inplace=True)\n",
      "        (conv): Conv2d(768, 384, kernel_size=(1, 1), stride=(1, 1), bias=False)\n",
      "        (pool): AvgPool2d(kernel_size=2, stride=2, padding=0)\n",
      "      )\n",
      "      (denseblock3): _DenseBlock(\n",
      "        (denselayer1): _DenseLayer(\n",
      "          (norm1): BatchNorm2d(384, eps=1e-05, momentum=0.1, affine=True, track_running_stats=True)\n",
      "          (relu1): ReLU(inplace=True)\n",
      "          (conv1): Conv2d(384, 192, kernel_size=(1, 1), stride=(1, 1), bias=False)\n",
      "          (norm2): BatchNorm2d(192, eps=1e-05, momentum=0.1, affine=True, track_running_stats=True)\n",
      "          (relu2): ReLU(inplace=True)\n",
      "          (conv2): Conv2d(192, 48, kernel_size=(3, 3), stride=(1, 1), padding=(1, 1), bias=False)\n",
      "        )\n",
      "        (denselayer2): _DenseLayer(\n",
      "          (norm1): BatchNorm2d(432, eps=1e-05, momentum=0.1, affine=True, track_running_stats=True)\n",
      "          (relu1): ReLU(inplace=True)\n",
      "          (conv1): Conv2d(432, 192, kernel_size=(1, 1), stride=(1, 1), bias=False)\n",
      "          (norm2): BatchNorm2d(192, eps=1e-05, momentum=0.1, affine=True, track_running_stats=True)\n",
      "          (relu2): ReLU(inplace=True)\n",
      "          (conv2): Conv2d(192, 48, kernel_size=(3, 3), stride=(1, 1), padding=(1, 1), bias=False)\n",
      "        )\n",
      "        (denselayer3): _DenseLayer(\n",
      "          (norm1): BatchNorm2d(480, eps=1e-05, momentum=0.1, affine=True, track_running_stats=True)\n",
      "          (relu1): ReLU(inplace=True)\n",
      "          (conv1): Conv2d(480, 192, kernel_size=(1, 1), stride=(1, 1), bias=False)\n",
      "          (norm2): BatchNorm2d(192, eps=1e-05, momentum=0.1, affine=True, track_running_stats=True)\n",
      "          (relu2): ReLU(inplace=True)\n",
      "          (conv2): Conv2d(192, 48, kernel_size=(3, 3), stride=(1, 1), padding=(1, 1), bias=False)\n",
      "        )\n",
      "        (denselayer4): _DenseLayer(\n",
      "          (norm1): BatchNorm2d(528, eps=1e-05, momentum=0.1, affine=True, track_running_stats=True)\n",
      "          (relu1): ReLU(inplace=True)\n",
      "          (conv1): Conv2d(528, 192, kernel_size=(1, 1), stride=(1, 1), bias=False)\n",
      "          (norm2): BatchNorm2d(192, eps=1e-05, momentum=0.1, affine=True, track_running_stats=True)\n",
      "          (relu2): ReLU(inplace=True)\n",
      "          (conv2): Conv2d(192, 48, kernel_size=(3, 3), stride=(1, 1), padding=(1, 1), bias=False)\n",
      "        )\n",
      "        (denselayer5): _DenseLayer(\n",
      "          (norm1): BatchNorm2d(576, eps=1e-05, momentum=0.1, affine=True, track_running_stats=True)\n",
      "          (relu1): ReLU(inplace=True)\n",
      "          (conv1): Conv2d(576, 192, kernel_size=(1, 1), stride=(1, 1), bias=False)\n",
      "          (norm2): BatchNorm2d(192, eps=1e-05, momentum=0.1, affine=True, track_running_stats=True)\n",
      "          (relu2): ReLU(inplace=True)\n",
      "          (conv2): Conv2d(192, 48, kernel_size=(3, 3), stride=(1, 1), padding=(1, 1), bias=False)\n",
      "        )\n",
      "        (denselayer6): _DenseLayer(\n",
      "          (norm1): BatchNorm2d(624, eps=1e-05, momentum=0.1, affine=True, track_running_stats=True)\n",
      "          (relu1): ReLU(inplace=True)\n",
      "          (conv1): Conv2d(624, 192, kernel_size=(1, 1), stride=(1, 1), bias=False)\n",
      "          (norm2): BatchNorm2d(192, eps=1e-05, momentum=0.1, affine=True, track_running_stats=True)\n",
      "          (relu2): ReLU(inplace=True)\n",
      "          (conv2): Conv2d(192, 48, kernel_size=(3, 3), stride=(1, 1), padding=(1, 1), bias=False)\n",
      "        )\n",
      "        (denselayer7): _DenseLayer(\n",
      "          (norm1): BatchNorm2d(672, eps=1e-05, momentum=0.1, affine=True, track_running_stats=True)\n",
      "          (relu1): ReLU(inplace=True)\n",
      "          (conv1): Conv2d(672, 192, kernel_size=(1, 1), stride=(1, 1), bias=False)\n",
      "          (norm2): BatchNorm2d(192, eps=1e-05, momentum=0.1, affine=True, track_running_stats=True)\n",
      "          (relu2): ReLU(inplace=True)\n",
      "          (conv2): Conv2d(192, 48, kernel_size=(3, 3), stride=(1, 1), padding=(1, 1), bias=False)\n",
      "        )\n",
      "        (denselayer8): _DenseLayer(\n",
      "          (norm1): BatchNorm2d(720, eps=1e-05, momentum=0.1, affine=True, track_running_stats=True)\n",
      "          (relu1): ReLU(inplace=True)\n",
      "          (conv1): Conv2d(720, 192, kernel_size=(1, 1), stride=(1, 1), bias=False)\n",
      "          (norm2): BatchNorm2d(192, eps=1e-05, momentum=0.1, affine=True, track_running_stats=True)\n",
      "          (relu2): ReLU(inplace=True)\n",
      "          (conv2): Conv2d(192, 48, kernel_size=(3, 3), stride=(1, 1), padding=(1, 1), bias=False)\n",
      "        )\n",
      "        (denselayer9): _DenseLayer(\n",
      "          (norm1): BatchNorm2d(768, eps=1e-05, momentum=0.1, affine=True, track_running_stats=True)\n",
      "          (relu1): ReLU(inplace=True)\n",
      "          (conv1): Conv2d(768, 192, kernel_size=(1, 1), stride=(1, 1), bias=False)\n",
      "          (norm2): BatchNorm2d(192, eps=1e-05, momentum=0.1, affine=True, track_running_stats=True)\n",
      "          (relu2): ReLU(inplace=True)\n",
      "          (conv2): Conv2d(192, 48, kernel_size=(3, 3), stride=(1, 1), padding=(1, 1), bias=False)\n",
      "        )\n",
      "        (denselayer10): _DenseLayer(\n",
      "          (norm1): BatchNorm2d(816, eps=1e-05, momentum=0.1, affine=True, track_running_stats=True)\n",
      "          (relu1): ReLU(inplace=True)\n",
      "          (conv1): Conv2d(816, 192, kernel_size=(1, 1), stride=(1, 1), bias=False)\n",
      "          (norm2): BatchNorm2d(192, eps=1e-05, momentum=0.1, affine=True, track_running_stats=True)\n",
      "          (relu2): ReLU(inplace=True)\n",
      "          (conv2): Conv2d(192, 48, kernel_size=(3, 3), stride=(1, 1), padding=(1, 1), bias=False)\n",
      "        )\n",
      "        (denselayer11): _DenseLayer(\n",
      "          (norm1): BatchNorm2d(864, eps=1e-05, momentum=0.1, affine=True, track_running_stats=True)\n",
      "          (relu1): ReLU(inplace=True)\n",
      "          (conv1): Conv2d(864, 192, kernel_size=(1, 1), stride=(1, 1), bias=False)\n",
      "          (norm2): BatchNorm2d(192, eps=1e-05, momentum=0.1, affine=True, track_running_stats=True)\n",
      "          (relu2): ReLU(inplace=True)\n",
      "          (conv2): Conv2d(192, 48, kernel_size=(3, 3), stride=(1, 1), padding=(1, 1), bias=False)\n",
      "        )\n",
      "        (denselayer12): _DenseLayer(\n",
      "          (norm1): BatchNorm2d(912, eps=1e-05, momentum=0.1, affine=True, track_running_stats=True)\n",
      "          (relu1): ReLU(inplace=True)\n",
      "          (conv1): Conv2d(912, 192, kernel_size=(1, 1), stride=(1, 1), bias=False)\n",
      "          (norm2): BatchNorm2d(192, eps=1e-05, momentum=0.1, affine=True, track_running_stats=True)\n",
      "          (relu2): ReLU(inplace=True)\n",
      "          (conv2): Conv2d(192, 48, kernel_size=(3, 3), stride=(1, 1), padding=(1, 1), bias=False)\n",
      "        )\n",
      "        (denselayer13): _DenseLayer(\n",
      "          (norm1): BatchNorm2d(960, eps=1e-05, momentum=0.1, affine=True, track_running_stats=True)\n",
      "          (relu1): ReLU(inplace=True)\n",
      "          (conv1): Conv2d(960, 192, kernel_size=(1, 1), stride=(1, 1), bias=False)\n",
      "          (norm2): BatchNorm2d(192, eps=1e-05, momentum=0.1, affine=True, track_running_stats=True)\n",
      "          (relu2): ReLU(inplace=True)\n",
      "          (conv2): Conv2d(192, 48, kernel_size=(3, 3), stride=(1, 1), padding=(1, 1), bias=False)\n",
      "        )\n",
      "        (denselayer14): _DenseLayer(\n",
      "          (norm1): BatchNorm2d(1008, eps=1e-05, momentum=0.1, affine=True, track_running_stats=True)\n",
      "          (relu1): ReLU(inplace=True)\n",
      "          (conv1): Conv2d(1008, 192, kernel_size=(1, 1), stride=(1, 1), bias=False)\n",
      "          (norm2): BatchNorm2d(192, eps=1e-05, momentum=0.1, affine=True, track_running_stats=True)\n",
      "          (relu2): ReLU(inplace=True)\n",
      "          (conv2): Conv2d(192, 48, kernel_size=(3, 3), stride=(1, 1), padding=(1, 1), bias=False)\n",
      "        )\n",
      "        (denselayer15): _DenseLayer(\n",
      "          (norm1): BatchNorm2d(1056, eps=1e-05, momentum=0.1, affine=True, track_running_stats=True)\n",
      "          (relu1): ReLU(inplace=True)\n",
      "          (conv1): Conv2d(1056, 192, kernel_size=(1, 1), stride=(1, 1), bias=False)\n",
      "          (norm2): BatchNorm2d(192, eps=1e-05, momentum=0.1, affine=True, track_running_stats=True)\n",
      "          (relu2): ReLU(inplace=True)\n",
      "          (conv2): Conv2d(192, 48, kernel_size=(3, 3), stride=(1, 1), padding=(1, 1), bias=False)\n",
      "        )\n",
      "        (denselayer16): _DenseLayer(\n",
      "          (norm1): BatchNorm2d(1104, eps=1e-05, momentum=0.1, affine=True, track_running_stats=True)\n",
      "          (relu1): ReLU(inplace=True)\n",
      "          (conv1): Conv2d(1104, 192, kernel_size=(1, 1), stride=(1, 1), bias=False)\n",
      "          (norm2): BatchNorm2d(192, eps=1e-05, momentum=0.1, affine=True, track_running_stats=True)\n",
      "          (relu2): ReLU(inplace=True)\n",
      "          (conv2): Conv2d(192, 48, kernel_size=(3, 3), stride=(1, 1), padding=(1, 1), bias=False)\n",
      "        )\n",
      "        (denselayer17): _DenseLayer(\n",
      "          (norm1): BatchNorm2d(1152, eps=1e-05, momentum=0.1, affine=True, track_running_stats=True)\n",
      "          (relu1): ReLU(inplace=True)\n",
      "          (conv1): Conv2d(1152, 192, kernel_size=(1, 1), stride=(1, 1), bias=False)\n",
      "          (norm2): BatchNorm2d(192, eps=1e-05, momentum=0.1, affine=True, track_running_stats=True)\n",
      "          (relu2): ReLU(inplace=True)\n",
      "          (conv2): Conv2d(192, 48, kernel_size=(3, 3), stride=(1, 1), padding=(1, 1), bias=False)\n",
      "        )\n",
      "        (denselayer18): _DenseLayer(\n",
      "          (norm1): BatchNorm2d(1200, eps=1e-05, momentum=0.1, affine=True, track_running_stats=True)\n",
      "          (relu1): ReLU(inplace=True)\n",
      "          (conv1): Conv2d(1200, 192, kernel_size=(1, 1), stride=(1, 1), bias=False)\n",
      "          (norm2): BatchNorm2d(192, eps=1e-05, momentum=0.1, affine=True, track_running_stats=True)\n",
      "          (relu2): ReLU(inplace=True)\n",
      "          (conv2): Conv2d(192, 48, kernel_size=(3, 3), stride=(1, 1), padding=(1, 1), bias=False)\n",
      "        )\n",
      "        (denselayer19): _DenseLayer(\n",
      "          (norm1): BatchNorm2d(1248, eps=1e-05, momentum=0.1, affine=True, track_running_stats=True)\n",
      "          (relu1): ReLU(inplace=True)\n",
      "          (conv1): Conv2d(1248, 192, kernel_size=(1, 1), stride=(1, 1), bias=False)\n",
      "          (norm2): BatchNorm2d(192, eps=1e-05, momentum=0.1, affine=True, track_running_stats=True)\n",
      "          (relu2): ReLU(inplace=True)\n",
      "          (conv2): Conv2d(192, 48, kernel_size=(3, 3), stride=(1, 1), padding=(1, 1), bias=False)\n",
      "        )\n",
      "        (denselayer20): _DenseLayer(\n",
      "          (norm1): BatchNorm2d(1296, eps=1e-05, momentum=0.1, affine=True, track_running_stats=True)\n",
      "          (relu1): ReLU(inplace=True)\n",
      "          (conv1): Conv2d(1296, 192, kernel_size=(1, 1), stride=(1, 1), bias=False)\n",
      "          (norm2): BatchNorm2d(192, eps=1e-05, momentum=0.1, affine=True, track_running_stats=True)\n",
      "          (relu2): ReLU(inplace=True)\n",
      "          (conv2): Conv2d(192, 48, kernel_size=(3, 3), stride=(1, 1), padding=(1, 1), bias=False)\n",
      "        )\n",
      "        (denselayer21): _DenseLayer(\n",
      "          (norm1): BatchNorm2d(1344, eps=1e-05, momentum=0.1, affine=True, track_running_stats=True)\n",
      "          (relu1): ReLU(inplace=True)\n",
      "          (conv1): Conv2d(1344, 192, kernel_size=(1, 1), stride=(1, 1), bias=False)\n",
      "          (norm2): BatchNorm2d(192, eps=1e-05, momentum=0.1, affine=True, track_running_stats=True)\n",
      "          (relu2): ReLU(inplace=True)\n",
      "          (conv2): Conv2d(192, 48, kernel_size=(3, 3), stride=(1, 1), padding=(1, 1), bias=False)\n",
      "        )\n",
      "        (denselayer22): _DenseLayer(\n",
      "          (norm1): BatchNorm2d(1392, eps=1e-05, momentum=0.1, affine=True, track_running_stats=True)\n",
      "          (relu1): ReLU(inplace=True)\n",
      "          (conv1): Conv2d(1392, 192, kernel_size=(1, 1), stride=(1, 1), bias=False)\n",
      "          (norm2): BatchNorm2d(192, eps=1e-05, momentum=0.1, affine=True, track_running_stats=True)\n",
      "          (relu2): ReLU(inplace=True)\n",
      "          (conv2): Conv2d(192, 48, kernel_size=(3, 3), stride=(1, 1), padding=(1, 1), bias=False)\n",
      "        )\n",
      "        (denselayer23): _DenseLayer(\n",
      "          (norm1): BatchNorm2d(1440, eps=1e-05, momentum=0.1, affine=True, track_running_stats=True)\n",
      "          (relu1): ReLU(inplace=True)\n",
      "          (conv1): Conv2d(1440, 192, kernel_size=(1, 1), stride=(1, 1), bias=False)\n",
      "          (norm2): BatchNorm2d(192, eps=1e-05, momentum=0.1, affine=True, track_running_stats=True)\n",
      "          (relu2): ReLU(inplace=True)\n",
      "          (conv2): Conv2d(192, 48, kernel_size=(3, 3), stride=(1, 1), padding=(1, 1), bias=False)\n",
      "        )\n",
      "        (denselayer24): _DenseLayer(\n",
      "          (norm1): BatchNorm2d(1488, eps=1e-05, momentum=0.1, affine=True, track_running_stats=True)\n",
      "          (relu1): ReLU(inplace=True)\n",
      "          (conv1): Conv2d(1488, 192, kernel_size=(1, 1), stride=(1, 1), bias=False)\n",
      "          (norm2): BatchNorm2d(192, eps=1e-05, momentum=0.1, affine=True, track_running_stats=True)\n",
      "          (relu2): ReLU(inplace=True)\n",
      "          (conv2): Conv2d(192, 48, kernel_size=(3, 3), stride=(1, 1), padding=(1, 1), bias=False)\n",
      "        )\n",
      "        (denselayer25): _DenseLayer(\n",
      "          (norm1): BatchNorm2d(1536, eps=1e-05, momentum=0.1, affine=True, track_running_stats=True)\n",
      "          (relu1): ReLU(inplace=True)\n",
      "          (conv1): Conv2d(1536, 192, kernel_size=(1, 1), stride=(1, 1), bias=False)\n",
      "          (norm2): BatchNorm2d(192, eps=1e-05, momentum=0.1, affine=True, track_running_stats=True)\n",
      "          (relu2): ReLU(inplace=True)\n",
      "          (conv2): Conv2d(192, 48, kernel_size=(3, 3), stride=(1, 1), padding=(1, 1), bias=False)\n",
      "        )\n",
      "        (denselayer26): _DenseLayer(\n",
      "          (norm1): BatchNorm2d(1584, eps=1e-05, momentum=0.1, affine=True, track_running_stats=True)\n",
      "          (relu1): ReLU(inplace=True)\n",
      "          (conv1): Conv2d(1584, 192, kernel_size=(1, 1), stride=(1, 1), bias=False)\n",
      "          (norm2): BatchNorm2d(192, eps=1e-05, momentum=0.1, affine=True, track_running_stats=True)\n",
      "          (relu2): ReLU(inplace=True)\n",
      "          (conv2): Conv2d(192, 48, kernel_size=(3, 3), stride=(1, 1), padding=(1, 1), bias=False)\n",
      "        )\n",
      "        (denselayer27): _DenseLayer(\n",
      "          (norm1): BatchNorm2d(1632, eps=1e-05, momentum=0.1, affine=True, track_running_stats=True)\n",
      "          (relu1): ReLU(inplace=True)\n",
      "          (conv1): Conv2d(1632, 192, kernel_size=(1, 1), stride=(1, 1), bias=False)\n",
      "          (norm2): BatchNorm2d(192, eps=1e-05, momentum=0.1, affine=True, track_running_stats=True)\n",
      "          (relu2): ReLU(inplace=True)\n",
      "          (conv2): Conv2d(192, 48, kernel_size=(3, 3), stride=(1, 1), padding=(1, 1), bias=False)\n",
      "        )\n",
      "        (denselayer28): _DenseLayer(\n",
      "          (norm1): BatchNorm2d(1680, eps=1e-05, momentum=0.1, affine=True, track_running_stats=True)\n",
      "          (relu1): ReLU(inplace=True)\n",
      "          (conv1): Conv2d(1680, 192, kernel_size=(1, 1), stride=(1, 1), bias=False)\n",
      "          (norm2): BatchNorm2d(192, eps=1e-05, momentum=0.1, affine=True, track_running_stats=True)\n",
      "          (relu2): ReLU(inplace=True)\n",
      "          (conv2): Conv2d(192, 48, kernel_size=(3, 3), stride=(1, 1), padding=(1, 1), bias=False)\n",
      "        )\n",
      "        (denselayer29): _DenseLayer(\n",
      "          (norm1): BatchNorm2d(1728, eps=1e-05, momentum=0.1, affine=True, track_running_stats=True)\n",
      "          (relu1): ReLU(inplace=True)\n",
      "          (conv1): Conv2d(1728, 192, kernel_size=(1, 1), stride=(1, 1), bias=False)\n",
      "          (norm2): BatchNorm2d(192, eps=1e-05, momentum=0.1, affine=True, track_running_stats=True)\n",
      "          (relu2): ReLU(inplace=True)\n",
      "          (conv2): Conv2d(192, 48, kernel_size=(3, 3), stride=(1, 1), padding=(1, 1), bias=False)\n",
      "        )\n",
      "        (denselayer30): _DenseLayer(\n",
      "          (norm1): BatchNorm2d(1776, eps=1e-05, momentum=0.1, affine=True, track_running_stats=True)\n",
      "          (relu1): ReLU(inplace=True)\n",
      "          (conv1): Conv2d(1776, 192, kernel_size=(1, 1), stride=(1, 1), bias=False)\n",
      "          (norm2): BatchNorm2d(192, eps=1e-05, momentum=0.1, affine=True, track_running_stats=True)\n",
      "          (relu2): ReLU(inplace=True)\n",
      "          (conv2): Conv2d(192, 48, kernel_size=(3, 3), stride=(1, 1), padding=(1, 1), bias=False)\n",
      "        )\n",
      "        (denselayer31): _DenseLayer(\n",
      "          (norm1): BatchNorm2d(1824, eps=1e-05, momentum=0.1, affine=True, track_running_stats=True)\n",
      "          (relu1): ReLU(inplace=True)\n",
      "          (conv1): Conv2d(1824, 192, kernel_size=(1, 1), stride=(1, 1), bias=False)\n",
      "          (norm2): BatchNorm2d(192, eps=1e-05, momentum=0.1, affine=True, track_running_stats=True)\n",
      "          (relu2): ReLU(inplace=True)\n",
      "          (conv2): Conv2d(192, 48, kernel_size=(3, 3), stride=(1, 1), padding=(1, 1), bias=False)\n",
      "        )\n",
      "        (denselayer32): _DenseLayer(\n",
      "          (norm1): BatchNorm2d(1872, eps=1e-05, momentum=0.1, affine=True, track_running_stats=True)\n",
      "          (relu1): ReLU(inplace=True)\n",
      "          (conv1): Conv2d(1872, 192, kernel_size=(1, 1), stride=(1, 1), bias=False)\n",
      "          (norm2): BatchNorm2d(192, eps=1e-05, momentum=0.1, affine=True, track_running_stats=True)\n",
      "          (relu2): ReLU(inplace=True)\n",
      "          (conv2): Conv2d(192, 48, kernel_size=(3, 3), stride=(1, 1), padding=(1, 1), bias=False)\n",
      "        )\n",
      "        (denselayer33): _DenseLayer(\n",
      "          (norm1): BatchNorm2d(1920, eps=1e-05, momentum=0.1, affine=True, track_running_stats=True)\n",
      "          (relu1): ReLU(inplace=True)\n",
      "          (conv1): Conv2d(1920, 192, kernel_size=(1, 1), stride=(1, 1), bias=False)\n",
      "          (norm2): BatchNorm2d(192, eps=1e-05, momentum=0.1, affine=True, track_running_stats=True)\n",
      "          (relu2): ReLU(inplace=True)\n",
      "          (conv2): Conv2d(192, 48, kernel_size=(3, 3), stride=(1, 1), padding=(1, 1), bias=False)\n",
      "        )\n",
      "        (denselayer34): _DenseLayer(\n",
      "          (norm1): BatchNorm2d(1968, eps=1e-05, momentum=0.1, affine=True, track_running_stats=True)\n",
      "          (relu1): ReLU(inplace=True)\n",
      "          (conv1): Conv2d(1968, 192, kernel_size=(1, 1), stride=(1, 1), bias=False)\n",
      "          (norm2): BatchNorm2d(192, eps=1e-05, momentum=0.1, affine=True, track_running_stats=True)\n",
      "          (relu2): ReLU(inplace=True)\n",
      "          (conv2): Conv2d(192, 48, kernel_size=(3, 3), stride=(1, 1), padding=(1, 1), bias=False)\n",
      "        )\n",
      "        (denselayer35): _DenseLayer(\n",
      "          (norm1): BatchNorm2d(2016, eps=1e-05, momentum=0.1, affine=True, track_running_stats=True)\n",
      "          (relu1): ReLU(inplace=True)\n",
      "          (conv1): Conv2d(2016, 192, kernel_size=(1, 1), stride=(1, 1), bias=False)\n",
      "          (norm2): BatchNorm2d(192, eps=1e-05, momentum=0.1, affine=True, track_running_stats=True)\n",
      "          (relu2): ReLU(inplace=True)\n",
      "          (conv2): Conv2d(192, 48, kernel_size=(3, 3), stride=(1, 1), padding=(1, 1), bias=False)\n",
      "        )\n",
      "        (denselayer36): _DenseLayer(\n",
      "          (norm1): BatchNorm2d(2064, eps=1e-05, momentum=0.1, affine=True, track_running_stats=True)\n",
      "          (relu1): ReLU(inplace=True)\n",
      "          (conv1): Conv2d(2064, 192, kernel_size=(1, 1), stride=(1, 1), bias=False)\n",
      "          (norm2): BatchNorm2d(192, eps=1e-05, momentum=0.1, affine=True, track_running_stats=True)\n",
      "          (relu2): ReLU(inplace=True)\n",
      "          (conv2): Conv2d(192, 48, kernel_size=(3, 3), stride=(1, 1), padding=(1, 1), bias=False)\n",
      "        )\n",
      "      )\n",
      "      (transition3): _Transition(\n",
      "        (norm): BatchNorm2d(2112, eps=1e-05, momentum=0.1, affine=True, track_running_stats=True)\n",
      "        (relu): ReLU(inplace=True)\n",
      "        (conv): Conv2d(2112, 1056, kernel_size=(1, 1), stride=(1, 1), bias=False)\n",
      "        (pool): AvgPool2d(kernel_size=2, stride=2, padding=0)\n",
      "      )\n",
      "      (denseblock4): _DenseBlock(\n",
      "        (denselayer1): _DenseLayer(\n",
      "          (norm1): BatchNorm2d(1056, eps=1e-05, momentum=0.1, affine=True, track_running_stats=True)\n",
      "          (relu1): ReLU(inplace=True)\n",
      "          (conv1): Conv2d(1056, 192, kernel_size=(1, 1), stride=(1, 1), bias=False)\n",
      "          (norm2): BatchNorm2d(192, eps=1e-05, momentum=0.1, affine=True, track_running_stats=True)\n",
      "          (relu2): ReLU(inplace=True)\n",
      "          (conv2): Conv2d(192, 48, kernel_size=(3, 3), stride=(1, 1), padding=(1, 1), bias=False)\n",
      "        )\n",
      "        (denselayer2): _DenseLayer(\n",
      "          (norm1): BatchNorm2d(1104, eps=1e-05, momentum=0.1, affine=True, track_running_stats=True)\n",
      "          (relu1): ReLU(inplace=True)\n",
      "          (conv1): Conv2d(1104, 192, kernel_size=(1, 1), stride=(1, 1), bias=False)\n",
      "          (norm2): BatchNorm2d(192, eps=1e-05, momentum=0.1, affine=True, track_running_stats=True)\n",
      "          (relu2): ReLU(inplace=True)\n",
      "          (conv2): Conv2d(192, 48, kernel_size=(3, 3), stride=(1, 1), padding=(1, 1), bias=False)\n",
      "        )\n",
      "        (denselayer3): _DenseLayer(\n",
      "          (norm1): BatchNorm2d(1152, eps=1e-05, momentum=0.1, affine=True, track_running_stats=True)\n",
      "          (relu1): ReLU(inplace=True)\n",
      "          (conv1): Conv2d(1152, 192, kernel_size=(1, 1), stride=(1, 1), bias=False)\n",
      "          (norm2): BatchNorm2d(192, eps=1e-05, momentum=0.1, affine=True, track_running_stats=True)\n",
      "          (relu2): ReLU(inplace=True)\n",
      "          (conv2): Conv2d(192, 48, kernel_size=(3, 3), stride=(1, 1), padding=(1, 1), bias=False)\n",
      "        )\n",
      "        (denselayer4): _DenseLayer(\n",
      "          (norm1): BatchNorm2d(1200, eps=1e-05, momentum=0.1, affine=True, track_running_stats=True)\n",
      "          (relu1): ReLU(inplace=True)\n",
      "          (conv1): Conv2d(1200, 192, kernel_size=(1, 1), stride=(1, 1), bias=False)\n",
      "          (norm2): BatchNorm2d(192, eps=1e-05, momentum=0.1, affine=True, track_running_stats=True)\n",
      "          (relu2): ReLU(inplace=True)\n",
      "          (conv2): Conv2d(192, 48, kernel_size=(3, 3), stride=(1, 1), padding=(1, 1), bias=False)\n",
      "        )\n",
      "        (denselayer5): _DenseLayer(\n",
      "          (norm1): BatchNorm2d(1248, eps=1e-05, momentum=0.1, affine=True, track_running_stats=True)\n",
      "          (relu1): ReLU(inplace=True)\n",
      "          (conv1): Conv2d(1248, 192, kernel_size=(1, 1), stride=(1, 1), bias=False)\n",
      "          (norm2): BatchNorm2d(192, eps=1e-05, momentum=0.1, affine=True, track_running_stats=True)\n",
      "          (relu2): ReLU(inplace=True)\n",
      "          (conv2): Conv2d(192, 48, kernel_size=(3, 3), stride=(1, 1), padding=(1, 1), bias=False)\n",
      "        )\n",
      "        (denselayer6): _DenseLayer(\n",
      "          (norm1): BatchNorm2d(1296, eps=1e-05, momentum=0.1, affine=True, track_running_stats=True)\n",
      "          (relu1): ReLU(inplace=True)\n",
      "          (conv1): Conv2d(1296, 192, kernel_size=(1, 1), stride=(1, 1), bias=False)\n",
      "          (norm2): BatchNorm2d(192, eps=1e-05, momentum=0.1, affine=True, track_running_stats=True)\n",
      "          (relu2): ReLU(inplace=True)\n",
      "          (conv2): Conv2d(192, 48, kernel_size=(3, 3), stride=(1, 1), padding=(1, 1), bias=False)\n",
      "        )\n",
      "        (denselayer7): _DenseLayer(\n",
      "          (norm1): BatchNorm2d(1344, eps=1e-05, momentum=0.1, affine=True, track_running_stats=True)\n",
      "          (relu1): ReLU(inplace=True)\n",
      "          (conv1): Conv2d(1344, 192, kernel_size=(1, 1), stride=(1, 1), bias=False)\n",
      "          (norm2): BatchNorm2d(192, eps=1e-05, momentum=0.1, affine=True, track_running_stats=True)\n",
      "          (relu2): ReLU(inplace=True)\n",
      "          (conv2): Conv2d(192, 48, kernel_size=(3, 3), stride=(1, 1), padding=(1, 1), bias=False)\n",
      "        )\n",
      "        (denselayer8): _DenseLayer(\n",
      "          (norm1): BatchNorm2d(1392, eps=1e-05, momentum=0.1, affine=True, track_running_stats=True)\n",
      "          (relu1): ReLU(inplace=True)\n",
      "          (conv1): Conv2d(1392, 192, kernel_size=(1, 1), stride=(1, 1), bias=False)\n",
      "          (norm2): BatchNorm2d(192, eps=1e-05, momentum=0.1, affine=True, track_running_stats=True)\n",
      "          (relu2): ReLU(inplace=True)\n",
      "          (conv2): Conv2d(192, 48, kernel_size=(3, 3), stride=(1, 1), padding=(1, 1), bias=False)\n",
      "        )\n",
      "        (denselayer9): _DenseLayer(\n",
      "          (norm1): BatchNorm2d(1440, eps=1e-05, momentum=0.1, affine=True, track_running_stats=True)\n",
      "          (relu1): ReLU(inplace=True)\n",
      "          (conv1): Conv2d(1440, 192, kernel_size=(1, 1), stride=(1, 1), bias=False)\n",
      "          (norm2): BatchNorm2d(192, eps=1e-05, momentum=0.1, affine=True, track_running_stats=True)\n",
      "          (relu2): ReLU(inplace=True)\n",
      "          (conv2): Conv2d(192, 48, kernel_size=(3, 3), stride=(1, 1), padding=(1, 1), bias=False)\n",
      "        )\n",
      "        (denselayer10): _DenseLayer(\n",
      "          (norm1): BatchNorm2d(1488, eps=1e-05, momentum=0.1, affine=True, track_running_stats=True)\n",
      "          (relu1): ReLU(inplace=True)\n",
      "          (conv1): Conv2d(1488, 192, kernel_size=(1, 1), stride=(1, 1), bias=False)\n",
      "          (norm2): BatchNorm2d(192, eps=1e-05, momentum=0.1, affine=True, track_running_stats=True)\n",
      "          (relu2): ReLU(inplace=True)\n",
      "          (conv2): Conv2d(192, 48, kernel_size=(3, 3), stride=(1, 1), padding=(1, 1), bias=False)\n",
      "        )\n",
      "        (denselayer11): _DenseLayer(\n",
      "          (norm1): BatchNorm2d(1536, eps=1e-05, momentum=0.1, affine=True, track_running_stats=True)\n",
      "          (relu1): ReLU(inplace=True)\n",
      "          (conv1): Conv2d(1536, 192, kernel_size=(1, 1), stride=(1, 1), bias=False)\n",
      "          (norm2): BatchNorm2d(192, eps=1e-05, momentum=0.1, affine=True, track_running_stats=True)\n",
      "          (relu2): ReLU(inplace=True)\n",
      "          (conv2): Conv2d(192, 48, kernel_size=(3, 3), stride=(1, 1), padding=(1, 1), bias=False)\n",
      "        )\n",
      "        (denselayer12): _DenseLayer(\n",
      "          (norm1): BatchNorm2d(1584, eps=1e-05, momentum=0.1, affine=True, track_running_stats=True)\n",
      "          (relu1): ReLU(inplace=True)\n",
      "          (conv1): Conv2d(1584, 192, kernel_size=(1, 1), stride=(1, 1), bias=False)\n",
      "          (norm2): BatchNorm2d(192, eps=1e-05, momentum=0.1, affine=True, track_running_stats=True)\n",
      "          (relu2): ReLU(inplace=True)\n",
      "          (conv2): Conv2d(192, 48, kernel_size=(3, 3), stride=(1, 1), padding=(1, 1), bias=False)\n",
      "        )\n",
      "        (denselayer13): _DenseLayer(\n",
      "          (norm1): BatchNorm2d(1632, eps=1e-05, momentum=0.1, affine=True, track_running_stats=True)\n",
      "          (relu1): ReLU(inplace=True)\n",
      "          (conv1): Conv2d(1632, 192, kernel_size=(1, 1), stride=(1, 1), bias=False)\n",
      "          (norm2): BatchNorm2d(192, eps=1e-05, momentum=0.1, affine=True, track_running_stats=True)\n",
      "          (relu2): ReLU(inplace=True)\n",
      "          (conv2): Conv2d(192, 48, kernel_size=(3, 3), stride=(1, 1), padding=(1, 1), bias=False)\n",
      "        )\n",
      "        (denselayer14): _DenseLayer(\n",
      "          (norm1): BatchNorm2d(1680, eps=1e-05, momentum=0.1, affine=True, track_running_stats=True)\n",
      "          (relu1): ReLU(inplace=True)\n",
      "          (conv1): Conv2d(1680, 192, kernel_size=(1, 1), stride=(1, 1), bias=False)\n",
      "          (norm2): BatchNorm2d(192, eps=1e-05, momentum=0.1, affine=True, track_running_stats=True)\n",
      "          (relu2): ReLU(inplace=True)\n",
      "          (conv2): Conv2d(192, 48, kernel_size=(3, 3), stride=(1, 1), padding=(1, 1), bias=False)\n",
      "        )\n",
      "        (denselayer15): _DenseLayer(\n",
      "          (norm1): BatchNorm2d(1728, eps=1e-05, momentum=0.1, affine=True, track_running_stats=True)\n",
      "          (relu1): ReLU(inplace=True)\n",
      "          (conv1): Conv2d(1728, 192, kernel_size=(1, 1), stride=(1, 1), bias=False)\n",
      "          (norm2): BatchNorm2d(192, eps=1e-05, momentum=0.1, affine=True, track_running_stats=True)\n",
      "          (relu2): ReLU(inplace=True)\n",
      "          (conv2): Conv2d(192, 48, kernel_size=(3, 3), stride=(1, 1), padding=(1, 1), bias=False)\n",
      "        )\n",
      "        (denselayer16): _DenseLayer(\n",
      "          (norm1): BatchNorm2d(1776, eps=1e-05, momentum=0.1, affine=True, track_running_stats=True)\n",
      "          (relu1): ReLU(inplace=True)\n",
      "          (conv1): Conv2d(1776, 192, kernel_size=(1, 1), stride=(1, 1), bias=False)\n",
      "          (norm2): BatchNorm2d(192, eps=1e-05, momentum=0.1, affine=True, track_running_stats=True)\n",
      "          (relu2): ReLU(inplace=True)\n",
      "          (conv2): Conv2d(192, 48, kernel_size=(3, 3), stride=(1, 1), padding=(1, 1), bias=False)\n",
      "        )\n",
      "        (denselayer17): _DenseLayer(\n",
      "          (norm1): BatchNorm2d(1824, eps=1e-05, momentum=0.1, affine=True, track_running_stats=True)\n",
      "          (relu1): ReLU(inplace=True)\n",
      "          (conv1): Conv2d(1824, 192, kernel_size=(1, 1), stride=(1, 1), bias=False)\n",
      "          (norm2): BatchNorm2d(192, eps=1e-05, momentum=0.1, affine=True, track_running_stats=True)\n",
      "          (relu2): ReLU(inplace=True)\n",
      "          (conv2): Conv2d(192, 48, kernel_size=(3, 3), stride=(1, 1), padding=(1, 1), bias=False)\n",
      "        )\n",
      "        (denselayer18): _DenseLayer(\n",
      "          (norm1): BatchNorm2d(1872, eps=1e-05, momentum=0.1, affine=True, track_running_stats=True)\n",
      "          (relu1): ReLU(inplace=True)\n",
      "          (conv1): Conv2d(1872, 192, kernel_size=(1, 1), stride=(1, 1), bias=False)\n",
      "          (norm2): BatchNorm2d(192, eps=1e-05, momentum=0.1, affine=True, track_running_stats=True)\n",
      "          (relu2): ReLU(inplace=True)\n",
      "          (conv2): Conv2d(192, 48, kernel_size=(3, 3), stride=(1, 1), padding=(1, 1), bias=False)\n",
      "        )\n",
      "        (denselayer19): _DenseLayer(\n",
      "          (norm1): BatchNorm2d(1920, eps=1e-05, momentum=0.1, affine=True, track_running_stats=True)\n",
      "          (relu1): ReLU(inplace=True)\n",
      "          (conv1): Conv2d(1920, 192, kernel_size=(1, 1), stride=(1, 1), bias=False)\n",
      "          (norm2): BatchNorm2d(192, eps=1e-05, momentum=0.1, affine=True, track_running_stats=True)\n",
      "          (relu2): ReLU(inplace=True)\n",
      "          (conv2): Conv2d(192, 48, kernel_size=(3, 3), stride=(1, 1), padding=(1, 1), bias=False)\n",
      "        )\n",
      "        (denselayer20): _DenseLayer(\n",
      "          (norm1): BatchNorm2d(1968, eps=1e-05, momentum=0.1, affine=True, track_running_stats=True)\n",
      "          (relu1): ReLU(inplace=True)\n",
      "          (conv1): Conv2d(1968, 192, kernel_size=(1, 1), stride=(1, 1), bias=False)\n",
      "          (norm2): BatchNorm2d(192, eps=1e-05, momentum=0.1, affine=True, track_running_stats=True)\n",
      "          (relu2): ReLU(inplace=True)\n",
      "          (conv2): Conv2d(192, 48, kernel_size=(3, 3), stride=(1, 1), padding=(1, 1), bias=False)\n",
      "        )\n",
      "        (denselayer21): _DenseLayer(\n",
      "          (norm1): BatchNorm2d(2016, eps=1e-05, momentum=0.1, affine=True, track_running_stats=True)\n",
      "          (relu1): ReLU(inplace=True)\n",
      "          (conv1): Conv2d(2016, 192, kernel_size=(1, 1), stride=(1, 1), bias=False)\n",
      "          (norm2): BatchNorm2d(192, eps=1e-05, momentum=0.1, affine=True, track_running_stats=True)\n",
      "          (relu2): ReLU(inplace=True)\n",
      "          (conv2): Conv2d(192, 48, kernel_size=(3, 3), stride=(1, 1), padding=(1, 1), bias=False)\n",
      "        )\n",
      "        (denselayer22): _DenseLayer(\n",
      "          (norm1): BatchNorm2d(2064, eps=1e-05, momentum=0.1, affine=True, track_running_stats=True)\n",
      "          (relu1): ReLU(inplace=True)\n",
      "          (conv1): Conv2d(2064, 192, kernel_size=(1, 1), stride=(1, 1), bias=False)\n",
      "          (norm2): BatchNorm2d(192, eps=1e-05, momentum=0.1, affine=True, track_running_stats=True)\n",
      "          (relu2): ReLU(inplace=True)\n",
      "          (conv2): Conv2d(192, 48, kernel_size=(3, 3), stride=(1, 1), padding=(1, 1), bias=False)\n",
      "        )\n",
      "        (denselayer23): _DenseLayer(\n",
      "          (norm1): BatchNorm2d(2112, eps=1e-05, momentum=0.1, affine=True, track_running_stats=True)\n",
      "          (relu1): ReLU(inplace=True)\n",
      "          (conv1): Conv2d(2112, 192, kernel_size=(1, 1), stride=(1, 1), bias=False)\n",
      "          (norm2): BatchNorm2d(192, eps=1e-05, momentum=0.1, affine=True, track_running_stats=True)\n",
      "          (relu2): ReLU(inplace=True)\n",
      "          (conv2): Conv2d(192, 48, kernel_size=(3, 3), stride=(1, 1), padding=(1, 1), bias=False)\n",
      "        )\n",
      "        (denselayer24): _DenseLayer(\n",
      "          (norm1): BatchNorm2d(2160, eps=1e-05, momentum=0.1, affine=True, track_running_stats=True)\n",
      "          (relu1): ReLU(inplace=True)\n",
      "          (conv1): Conv2d(2160, 192, kernel_size=(1, 1), stride=(1, 1), bias=False)\n",
      "          (norm2): BatchNorm2d(192, eps=1e-05, momentum=0.1, affine=True, track_running_stats=True)\n",
      "          (relu2): ReLU(inplace=True)\n",
      "          (conv2): Conv2d(192, 48, kernel_size=(3, 3), stride=(1, 1), padding=(1, 1), bias=False)\n",
      "        )\n",
      "      )\n",
      "      (norm5): BatchNorm2d(2208, eps=1e-05, momentum=0.1, affine=True, track_running_stats=True)\n",
      "    )\n",
      "    (classifier): Linear(in_features=2208, out_features=11, bias=True)\n",
      "  )\n",
      ") \n",
      "\n",
      "The state dict keys: \n",
      "\n",
      " odict_keys(['module.features.conv0.weight', 'module.features.norm0.weight', 'module.features.norm0.bias', 'module.features.norm0.running_mean', 'module.features.norm0.running_var', 'module.features.norm0.num_batches_tracked', 'module.features.denseblock1.denselayer1.norm1.weight', 'module.features.denseblock1.denselayer1.norm1.bias', 'module.features.denseblock1.denselayer1.norm1.running_mean', 'module.features.denseblock1.denselayer1.norm1.running_var', 'module.features.denseblock1.denselayer1.norm1.num_batches_tracked', 'module.features.denseblock1.denselayer1.conv1.weight', 'module.features.denseblock1.denselayer1.norm2.weight', 'module.features.denseblock1.denselayer1.norm2.bias', 'module.features.denseblock1.denselayer1.norm2.running_mean', 'module.features.denseblock1.denselayer1.norm2.running_var', 'module.features.denseblock1.denselayer1.norm2.num_batches_tracked', 'module.features.denseblock1.denselayer1.conv2.weight', 'module.features.denseblock1.denselayer2.norm1.weight', 'module.features.denseblock1.denselayer2.norm1.bias', 'module.features.denseblock1.denselayer2.norm1.running_mean', 'module.features.denseblock1.denselayer2.norm1.running_var', 'module.features.denseblock1.denselayer2.norm1.num_batches_tracked', 'module.features.denseblock1.denselayer2.conv1.weight', 'module.features.denseblock1.denselayer2.norm2.weight', 'module.features.denseblock1.denselayer2.norm2.bias', 'module.features.denseblock1.denselayer2.norm2.running_mean', 'module.features.denseblock1.denselayer2.norm2.running_var', 'module.features.denseblock1.denselayer2.norm2.num_batches_tracked', 'module.features.denseblock1.denselayer2.conv2.weight', 'module.features.denseblock1.denselayer3.norm1.weight', 'module.features.denseblock1.denselayer3.norm1.bias', 'module.features.denseblock1.denselayer3.norm1.running_mean', 'module.features.denseblock1.denselayer3.norm1.running_var', 'module.features.denseblock1.denselayer3.norm1.num_batches_tracked', 'module.features.denseblock1.denselayer3.conv1.weight', 'module.features.denseblock1.denselayer3.norm2.weight', 'module.features.denseblock1.denselayer3.norm2.bias', 'module.features.denseblock1.denselayer3.norm2.running_mean', 'module.features.denseblock1.denselayer3.norm2.running_var', 'module.features.denseblock1.denselayer3.norm2.num_batches_tracked', 'module.features.denseblock1.denselayer3.conv2.weight', 'module.features.denseblock1.denselayer4.norm1.weight', 'module.features.denseblock1.denselayer4.norm1.bias', 'module.features.denseblock1.denselayer4.norm1.running_mean', 'module.features.denseblock1.denselayer4.norm1.running_var', 'module.features.denseblock1.denselayer4.norm1.num_batches_tracked', 'module.features.denseblock1.denselayer4.conv1.weight', 'module.features.denseblock1.denselayer4.norm2.weight', 'module.features.denseblock1.denselayer4.norm2.bias', 'module.features.denseblock1.denselayer4.norm2.running_mean', 'module.features.denseblock1.denselayer4.norm2.running_var', 'module.features.denseblock1.denselayer4.norm2.num_batches_tracked', 'module.features.denseblock1.denselayer4.conv2.weight', 'module.features.denseblock1.denselayer5.norm1.weight', 'module.features.denseblock1.denselayer5.norm1.bias', 'module.features.denseblock1.denselayer5.norm1.running_mean', 'module.features.denseblock1.denselayer5.norm1.running_var', 'module.features.denseblock1.denselayer5.norm1.num_batches_tracked', 'module.features.denseblock1.denselayer5.conv1.weight', 'module.features.denseblock1.denselayer5.norm2.weight', 'module.features.denseblock1.denselayer5.norm2.bias', 'module.features.denseblock1.denselayer5.norm2.running_mean', 'module.features.denseblock1.denselayer5.norm2.running_var', 'module.features.denseblock1.denselayer5.norm2.num_batches_tracked', 'module.features.denseblock1.denselayer5.conv2.weight', 'module.features.denseblock1.denselayer6.norm1.weight', 'module.features.denseblock1.denselayer6.norm1.bias', 'module.features.denseblock1.denselayer6.norm1.running_mean', 'module.features.denseblock1.denselayer6.norm1.running_var', 'module.features.denseblock1.denselayer6.norm1.num_batches_tracked', 'module.features.denseblock1.denselayer6.conv1.weight', 'module.features.denseblock1.denselayer6.norm2.weight', 'module.features.denseblock1.denselayer6.norm2.bias', 'module.features.denseblock1.denselayer6.norm2.running_mean', 'module.features.denseblock1.denselayer6.norm2.running_var', 'module.features.denseblock1.denselayer6.norm2.num_batches_tracked', 'module.features.denseblock1.denselayer6.conv2.weight', 'module.features.transition1.norm.weight', 'module.features.transition1.norm.bias', 'module.features.transition1.norm.running_mean', 'module.features.transition1.norm.running_var', 'module.features.transition1.norm.num_batches_tracked', 'module.features.transition1.conv.weight', 'module.features.denseblock2.denselayer1.norm1.weight', 'module.features.denseblock2.denselayer1.norm1.bias', 'module.features.denseblock2.denselayer1.norm1.running_mean', 'module.features.denseblock2.denselayer1.norm1.running_var', 'module.features.denseblock2.denselayer1.norm1.num_batches_tracked', 'module.features.denseblock2.denselayer1.conv1.weight', 'module.features.denseblock2.denselayer1.norm2.weight', 'module.features.denseblock2.denselayer1.norm2.bias', 'module.features.denseblock2.denselayer1.norm2.running_mean', 'module.features.denseblock2.denselayer1.norm2.running_var', 'module.features.denseblock2.denselayer1.norm2.num_batches_tracked', 'module.features.denseblock2.denselayer1.conv2.weight', 'module.features.denseblock2.denselayer2.norm1.weight', 'module.features.denseblock2.denselayer2.norm1.bias', 'module.features.denseblock2.denselayer2.norm1.running_mean', 'module.features.denseblock2.denselayer2.norm1.running_var', 'module.features.denseblock2.denselayer2.norm1.num_batches_tracked', 'module.features.denseblock2.denselayer2.conv1.weight', 'module.features.denseblock2.denselayer2.norm2.weight', 'module.features.denseblock2.denselayer2.norm2.bias', 'module.features.denseblock2.denselayer2.norm2.running_mean', 'module.features.denseblock2.denselayer2.norm2.running_var', 'module.features.denseblock2.denselayer2.norm2.num_batches_tracked', 'module.features.denseblock2.denselayer2.conv2.weight', 'module.features.denseblock2.denselayer3.norm1.weight', 'module.features.denseblock2.denselayer3.norm1.bias', 'module.features.denseblock2.denselayer3.norm1.running_mean', 'module.features.denseblock2.denselayer3.norm1.running_var', 'module.features.denseblock2.denselayer3.norm1.num_batches_tracked', 'module.features.denseblock2.denselayer3.conv1.weight', 'module.features.denseblock2.denselayer3.norm2.weight', 'module.features.denseblock2.denselayer3.norm2.bias', 'module.features.denseblock2.denselayer3.norm2.running_mean', 'module.features.denseblock2.denselayer3.norm2.running_var', 'module.features.denseblock2.denselayer3.norm2.num_batches_tracked', 'module.features.denseblock2.denselayer3.conv2.weight', 'module.features.denseblock2.denselayer4.norm1.weight', 'module.features.denseblock2.denselayer4.norm1.bias', 'module.features.denseblock2.denselayer4.norm1.running_mean', 'module.features.denseblock2.denselayer4.norm1.running_var', 'module.features.denseblock2.denselayer4.norm1.num_batches_tracked', 'module.features.denseblock2.denselayer4.conv1.weight', 'module.features.denseblock2.denselayer4.norm2.weight', 'module.features.denseblock2.denselayer4.norm2.bias', 'module.features.denseblock2.denselayer4.norm2.running_mean', 'module.features.denseblock2.denselayer4.norm2.running_var', 'module.features.denseblock2.denselayer4.norm2.num_batches_tracked', 'module.features.denseblock2.denselayer4.conv2.weight', 'module.features.denseblock2.denselayer5.norm1.weight', 'module.features.denseblock2.denselayer5.norm1.bias', 'module.features.denseblock2.denselayer5.norm1.running_mean', 'module.features.denseblock2.denselayer5.norm1.running_var', 'module.features.denseblock2.denselayer5.norm1.num_batches_tracked', 'module.features.denseblock2.denselayer5.conv1.weight', 'module.features.denseblock2.denselayer5.norm2.weight', 'module.features.denseblock2.denselayer5.norm2.bias', 'module.features.denseblock2.denselayer5.norm2.running_mean', 'module.features.denseblock2.denselayer5.norm2.running_var', 'module.features.denseblock2.denselayer5.norm2.num_batches_tracked', 'module.features.denseblock2.denselayer5.conv2.weight', 'module.features.denseblock2.denselayer6.norm1.weight', 'module.features.denseblock2.denselayer6.norm1.bias', 'module.features.denseblock2.denselayer6.norm1.running_mean', 'module.features.denseblock2.denselayer6.norm1.running_var', 'module.features.denseblock2.denselayer6.norm1.num_batches_tracked', 'module.features.denseblock2.denselayer6.conv1.weight', 'module.features.denseblock2.denselayer6.norm2.weight', 'module.features.denseblock2.denselayer6.norm2.bias', 'module.features.denseblock2.denselayer6.norm2.running_mean', 'module.features.denseblock2.denselayer6.norm2.running_var', 'module.features.denseblock2.denselayer6.norm2.num_batches_tracked', 'module.features.denseblock2.denselayer6.conv2.weight', 'module.features.denseblock2.denselayer7.norm1.weight', 'module.features.denseblock2.denselayer7.norm1.bias', 'module.features.denseblock2.denselayer7.norm1.running_mean', 'module.features.denseblock2.denselayer7.norm1.running_var', 'module.features.denseblock2.denselayer7.norm1.num_batches_tracked', 'module.features.denseblock2.denselayer7.conv1.weight', 'module.features.denseblock2.denselayer7.norm2.weight', 'module.features.denseblock2.denselayer7.norm2.bias', 'module.features.denseblock2.denselayer7.norm2.running_mean', 'module.features.denseblock2.denselayer7.norm2.running_var', 'module.features.denseblock2.denselayer7.norm2.num_batches_tracked', 'module.features.denseblock2.denselayer7.conv2.weight', 'module.features.denseblock2.denselayer8.norm1.weight', 'module.features.denseblock2.denselayer8.norm1.bias', 'module.features.denseblock2.denselayer8.norm1.running_mean', 'module.features.denseblock2.denselayer8.norm1.running_var', 'module.features.denseblock2.denselayer8.norm1.num_batches_tracked', 'module.features.denseblock2.denselayer8.conv1.weight', 'module.features.denseblock2.denselayer8.norm2.weight', 'module.features.denseblock2.denselayer8.norm2.bias', 'module.features.denseblock2.denselayer8.norm2.running_mean', 'module.features.denseblock2.denselayer8.norm2.running_var', 'module.features.denseblock2.denselayer8.norm2.num_batches_tracked', 'module.features.denseblock2.denselayer8.conv2.weight', 'module.features.denseblock2.denselayer9.norm1.weight', 'module.features.denseblock2.denselayer9.norm1.bias', 'module.features.denseblock2.denselayer9.norm1.running_mean', 'module.features.denseblock2.denselayer9.norm1.running_var', 'module.features.denseblock2.denselayer9.norm1.num_batches_tracked', 'module.features.denseblock2.denselayer9.conv1.weight', 'module.features.denseblock2.denselayer9.norm2.weight', 'module.features.denseblock2.denselayer9.norm2.bias', 'module.features.denseblock2.denselayer9.norm2.running_mean', 'module.features.denseblock2.denselayer9.norm2.running_var', 'module.features.denseblock2.denselayer9.norm2.num_batches_tracked', 'module.features.denseblock2.denselayer9.conv2.weight', 'module.features.denseblock2.denselayer10.norm1.weight', 'module.features.denseblock2.denselayer10.norm1.bias', 'module.features.denseblock2.denselayer10.norm1.running_mean', 'module.features.denseblock2.denselayer10.norm1.running_var', 'module.features.denseblock2.denselayer10.norm1.num_batches_tracked', 'module.features.denseblock2.denselayer10.conv1.weight', 'module.features.denseblock2.denselayer10.norm2.weight', 'module.features.denseblock2.denselayer10.norm2.bias', 'module.features.denseblock2.denselayer10.norm2.running_mean', 'module.features.denseblock2.denselayer10.norm2.running_var', 'module.features.denseblock2.denselayer10.norm2.num_batches_tracked', 'module.features.denseblock2.denselayer10.conv2.weight', 'module.features.denseblock2.denselayer11.norm1.weight', 'module.features.denseblock2.denselayer11.norm1.bias', 'module.features.denseblock2.denselayer11.norm1.running_mean', 'module.features.denseblock2.denselayer11.norm1.running_var', 'module.features.denseblock2.denselayer11.norm1.num_batches_tracked', 'module.features.denseblock2.denselayer11.conv1.weight', 'module.features.denseblock2.denselayer11.norm2.weight', 'module.features.denseblock2.denselayer11.norm2.bias', 'module.features.denseblock2.denselayer11.norm2.running_mean', 'module.features.denseblock2.denselayer11.norm2.running_var', 'module.features.denseblock2.denselayer11.norm2.num_batches_tracked', 'module.features.denseblock2.denselayer11.conv2.weight', 'module.features.denseblock2.denselayer12.norm1.weight', 'module.features.denseblock2.denselayer12.norm1.bias', 'module.features.denseblock2.denselayer12.norm1.running_mean', 'module.features.denseblock2.denselayer12.norm1.running_var', 'module.features.denseblock2.denselayer12.norm1.num_batches_tracked', 'module.features.denseblock2.denselayer12.conv1.weight', 'module.features.denseblock2.denselayer12.norm2.weight', 'module.features.denseblock2.denselayer12.norm2.bias', 'module.features.denseblock2.denselayer12.norm2.running_mean', 'module.features.denseblock2.denselayer12.norm2.running_var', 'module.features.denseblock2.denselayer12.norm2.num_batches_tracked', 'module.features.denseblock2.denselayer12.conv2.weight', 'module.features.transition2.norm.weight', 'module.features.transition2.norm.bias', 'module.features.transition2.norm.running_mean', 'module.features.transition2.norm.running_var', 'module.features.transition2.norm.num_batches_tracked', 'module.features.transition2.conv.weight', 'module.features.denseblock3.denselayer1.norm1.weight', 'module.features.denseblock3.denselayer1.norm1.bias', 'module.features.denseblock3.denselayer1.norm1.running_mean', 'module.features.denseblock3.denselayer1.norm1.running_var', 'module.features.denseblock3.denselayer1.norm1.num_batches_tracked', 'module.features.denseblock3.denselayer1.conv1.weight', 'module.features.denseblock3.denselayer1.norm2.weight', 'module.features.denseblock3.denselayer1.norm2.bias', 'module.features.denseblock3.denselayer1.norm2.running_mean', 'module.features.denseblock3.denselayer1.norm2.running_var', 'module.features.denseblock3.denselayer1.norm2.num_batches_tracked', 'module.features.denseblock3.denselayer1.conv2.weight', 'module.features.denseblock3.denselayer2.norm1.weight', 'module.features.denseblock3.denselayer2.norm1.bias', 'module.features.denseblock3.denselayer2.norm1.running_mean', 'module.features.denseblock3.denselayer2.norm1.running_var', 'module.features.denseblock3.denselayer2.norm1.num_batches_tracked', 'module.features.denseblock3.denselayer2.conv1.weight', 'module.features.denseblock3.denselayer2.norm2.weight', 'module.features.denseblock3.denselayer2.norm2.bias', 'module.features.denseblock3.denselayer2.norm2.running_mean', 'module.features.denseblock3.denselayer2.norm2.running_var', 'module.features.denseblock3.denselayer2.norm2.num_batches_tracked', 'module.features.denseblock3.denselayer2.conv2.weight', 'module.features.denseblock3.denselayer3.norm1.weight', 'module.features.denseblock3.denselayer3.norm1.bias', 'module.features.denseblock3.denselayer3.norm1.running_mean', 'module.features.denseblock3.denselayer3.norm1.running_var', 'module.features.denseblock3.denselayer3.norm1.num_batches_tracked', 'module.features.denseblock3.denselayer3.conv1.weight', 'module.features.denseblock3.denselayer3.norm2.weight', 'module.features.denseblock3.denselayer3.norm2.bias', 'module.features.denseblock3.denselayer3.norm2.running_mean', 'module.features.denseblock3.denselayer3.norm2.running_var', 'module.features.denseblock3.denselayer3.norm2.num_batches_tracked', 'module.features.denseblock3.denselayer3.conv2.weight', 'module.features.denseblock3.denselayer4.norm1.weight', 'module.features.denseblock3.denselayer4.norm1.bias', 'module.features.denseblock3.denselayer4.norm1.running_mean', 'module.features.denseblock3.denselayer4.norm1.running_var', 'module.features.denseblock3.denselayer4.norm1.num_batches_tracked', 'module.features.denseblock3.denselayer4.conv1.weight', 'module.features.denseblock3.denselayer4.norm2.weight', 'module.features.denseblock3.denselayer4.norm2.bias', 'module.features.denseblock3.denselayer4.norm2.running_mean', 'module.features.denseblock3.denselayer4.norm2.running_var', 'module.features.denseblock3.denselayer4.norm2.num_batches_tracked', 'module.features.denseblock3.denselayer4.conv2.weight', 'module.features.denseblock3.denselayer5.norm1.weight', 'module.features.denseblock3.denselayer5.norm1.bias', 'module.features.denseblock3.denselayer5.norm1.running_mean', 'module.features.denseblock3.denselayer5.norm1.running_var', 'module.features.denseblock3.denselayer5.norm1.num_batches_tracked', 'module.features.denseblock3.denselayer5.conv1.weight', 'module.features.denseblock3.denselayer5.norm2.weight', 'module.features.denseblock3.denselayer5.norm2.bias', 'module.features.denseblock3.denselayer5.norm2.running_mean', 'module.features.denseblock3.denselayer5.norm2.running_var', 'module.features.denseblock3.denselayer5.norm2.num_batches_tracked', 'module.features.denseblock3.denselayer5.conv2.weight', 'module.features.denseblock3.denselayer6.norm1.weight', 'module.features.denseblock3.denselayer6.norm1.bias', 'module.features.denseblock3.denselayer6.norm1.running_mean', 'module.features.denseblock3.denselayer6.norm1.running_var', 'module.features.denseblock3.denselayer6.norm1.num_batches_tracked', 'module.features.denseblock3.denselayer6.conv1.weight', 'module.features.denseblock3.denselayer6.norm2.weight', 'module.features.denseblock3.denselayer6.norm2.bias', 'module.features.denseblock3.denselayer6.norm2.running_mean', 'module.features.denseblock3.denselayer6.norm2.running_var', 'module.features.denseblock3.denselayer6.norm2.num_batches_tracked', 'module.features.denseblock3.denselayer6.conv2.weight', 'module.features.denseblock3.denselayer7.norm1.weight', 'module.features.denseblock3.denselayer7.norm1.bias', 'module.features.denseblock3.denselayer7.norm1.running_mean', 'module.features.denseblock3.denselayer7.norm1.running_var', 'module.features.denseblock3.denselayer7.norm1.num_batches_tracked', 'module.features.denseblock3.denselayer7.conv1.weight', 'module.features.denseblock3.denselayer7.norm2.weight', 'module.features.denseblock3.denselayer7.norm2.bias', 'module.features.denseblock3.denselayer7.norm2.running_mean', 'module.features.denseblock3.denselayer7.norm2.running_var', 'module.features.denseblock3.denselayer7.norm2.num_batches_tracked', 'module.features.denseblock3.denselayer7.conv2.weight', 'module.features.denseblock3.denselayer8.norm1.weight', 'module.features.denseblock3.denselayer8.norm1.bias', 'module.features.denseblock3.denselayer8.norm1.running_mean', 'module.features.denseblock3.denselayer8.norm1.running_var', 'module.features.denseblock3.denselayer8.norm1.num_batches_tracked', 'module.features.denseblock3.denselayer8.conv1.weight', 'module.features.denseblock3.denselayer8.norm2.weight', 'module.features.denseblock3.denselayer8.norm2.bias', 'module.features.denseblock3.denselayer8.norm2.running_mean', 'module.features.denseblock3.denselayer8.norm2.running_var', 'module.features.denseblock3.denselayer8.norm2.num_batches_tracked', 'module.features.denseblock3.denselayer8.conv2.weight', 'module.features.denseblock3.denselayer9.norm1.weight', 'module.features.denseblock3.denselayer9.norm1.bias', 'module.features.denseblock3.denselayer9.norm1.running_mean', 'module.features.denseblock3.denselayer9.norm1.running_var', 'module.features.denseblock3.denselayer9.norm1.num_batches_tracked', 'module.features.denseblock3.denselayer9.conv1.weight', 'module.features.denseblock3.denselayer9.norm2.weight', 'module.features.denseblock3.denselayer9.norm2.bias', 'module.features.denseblock3.denselayer9.norm2.running_mean', 'module.features.denseblock3.denselayer9.norm2.running_var', 'module.features.denseblock3.denselayer9.norm2.num_batches_tracked', 'module.features.denseblock3.denselayer9.conv2.weight', 'module.features.denseblock3.denselayer10.norm1.weight', 'module.features.denseblock3.denselayer10.norm1.bias', 'module.features.denseblock3.denselayer10.norm1.running_mean', 'module.features.denseblock3.denselayer10.norm1.running_var', 'module.features.denseblock3.denselayer10.norm1.num_batches_tracked', 'module.features.denseblock3.denselayer10.conv1.weight', 'module.features.denseblock3.denselayer10.norm2.weight', 'module.features.denseblock3.denselayer10.norm2.bias', 'module.features.denseblock3.denselayer10.norm2.running_mean', 'module.features.denseblock3.denselayer10.norm2.running_var', 'module.features.denseblock3.denselayer10.norm2.num_batches_tracked', 'module.features.denseblock3.denselayer10.conv2.weight', 'module.features.denseblock3.denselayer11.norm1.weight', 'module.features.denseblock3.denselayer11.norm1.bias', 'module.features.denseblock3.denselayer11.norm1.running_mean', 'module.features.denseblock3.denselayer11.norm1.running_var', 'module.features.denseblock3.denselayer11.norm1.num_batches_tracked', 'module.features.denseblock3.denselayer11.conv1.weight', 'module.features.denseblock3.denselayer11.norm2.weight', 'module.features.denseblock3.denselayer11.norm2.bias', 'module.features.denseblock3.denselayer11.norm2.running_mean', 'module.features.denseblock3.denselayer11.norm2.running_var', 'module.features.denseblock3.denselayer11.norm2.num_batches_tracked', 'module.features.denseblock3.denselayer11.conv2.weight', 'module.features.denseblock3.denselayer12.norm1.weight', 'module.features.denseblock3.denselayer12.norm1.bias', 'module.features.denseblock3.denselayer12.norm1.running_mean', 'module.features.denseblock3.denselayer12.norm1.running_var', 'module.features.denseblock3.denselayer12.norm1.num_batches_tracked', 'module.features.denseblock3.denselayer12.conv1.weight', 'module.features.denseblock3.denselayer12.norm2.weight', 'module.features.denseblock3.denselayer12.norm2.bias', 'module.features.denseblock3.denselayer12.norm2.running_mean', 'module.features.denseblock3.denselayer12.norm2.running_var', 'module.features.denseblock3.denselayer12.norm2.num_batches_tracked', 'module.features.denseblock3.denselayer12.conv2.weight', 'module.features.denseblock3.denselayer13.norm1.weight', 'module.features.denseblock3.denselayer13.norm1.bias', 'module.features.denseblock3.denselayer13.norm1.running_mean', 'module.features.denseblock3.denselayer13.norm1.running_var', 'module.features.denseblock3.denselayer13.norm1.num_batches_tracked', 'module.features.denseblock3.denselayer13.conv1.weight', 'module.features.denseblock3.denselayer13.norm2.weight', 'module.features.denseblock3.denselayer13.norm2.bias', 'module.features.denseblock3.denselayer13.norm2.running_mean', 'module.features.denseblock3.denselayer13.norm2.running_var', 'module.features.denseblock3.denselayer13.norm2.num_batches_tracked', 'module.features.denseblock3.denselayer13.conv2.weight', 'module.features.denseblock3.denselayer14.norm1.weight', 'module.features.denseblock3.denselayer14.norm1.bias', 'module.features.denseblock3.denselayer14.norm1.running_mean', 'module.features.denseblock3.denselayer14.norm1.running_var', 'module.features.denseblock3.denselayer14.norm1.num_batches_tracked', 'module.features.denseblock3.denselayer14.conv1.weight', 'module.features.denseblock3.denselayer14.norm2.weight', 'module.features.denseblock3.denselayer14.norm2.bias', 'module.features.denseblock3.denselayer14.norm2.running_mean', 'module.features.denseblock3.denselayer14.norm2.running_var', 'module.features.denseblock3.denselayer14.norm2.num_batches_tracked', 'module.features.denseblock3.denselayer14.conv2.weight', 'module.features.denseblock3.denselayer15.norm1.weight', 'module.features.denseblock3.denselayer15.norm1.bias', 'module.features.denseblock3.denselayer15.norm1.running_mean', 'module.features.denseblock3.denselayer15.norm1.running_var', 'module.features.denseblock3.denselayer15.norm1.num_batches_tracked', 'module.features.denseblock3.denselayer15.conv1.weight', 'module.features.denseblock3.denselayer15.norm2.weight', 'module.features.denseblock3.denselayer15.norm2.bias', 'module.features.denseblock3.denselayer15.norm2.running_mean', 'module.features.denseblock3.denselayer15.norm2.running_var', 'module.features.denseblock3.denselayer15.norm2.num_batches_tracked', 'module.features.denseblock3.denselayer15.conv2.weight', 'module.features.denseblock3.denselayer16.norm1.weight', 'module.features.denseblock3.denselayer16.norm1.bias', 'module.features.denseblock3.denselayer16.norm1.running_mean', 'module.features.denseblock3.denselayer16.norm1.running_var', 'module.features.denseblock3.denselayer16.norm1.num_batches_tracked', 'module.features.denseblock3.denselayer16.conv1.weight', 'module.features.denseblock3.denselayer16.norm2.weight', 'module.features.denseblock3.denselayer16.norm2.bias', 'module.features.denseblock3.denselayer16.norm2.running_mean', 'module.features.denseblock3.denselayer16.norm2.running_var', 'module.features.denseblock3.denselayer16.norm2.num_batches_tracked', 'module.features.denseblock3.denselayer16.conv2.weight', 'module.features.denseblock3.denselayer17.norm1.weight', 'module.features.denseblock3.denselayer17.norm1.bias', 'module.features.denseblock3.denselayer17.norm1.running_mean', 'module.features.denseblock3.denselayer17.norm1.running_var', 'module.features.denseblock3.denselayer17.norm1.num_batches_tracked', 'module.features.denseblock3.denselayer17.conv1.weight', 'module.features.denseblock3.denselayer17.norm2.weight', 'module.features.denseblock3.denselayer17.norm2.bias', 'module.features.denseblock3.denselayer17.norm2.running_mean', 'module.features.denseblock3.denselayer17.norm2.running_var', 'module.features.denseblock3.denselayer17.norm2.num_batches_tracked', 'module.features.denseblock3.denselayer17.conv2.weight', 'module.features.denseblock3.denselayer18.norm1.weight', 'module.features.denseblock3.denselayer18.norm1.bias', 'module.features.denseblock3.denselayer18.norm1.running_mean', 'module.features.denseblock3.denselayer18.norm1.running_var', 'module.features.denseblock3.denselayer18.norm1.num_batches_tracked', 'module.features.denseblock3.denselayer18.conv1.weight', 'module.features.denseblock3.denselayer18.norm2.weight', 'module.features.denseblock3.denselayer18.norm2.bias', 'module.features.denseblock3.denselayer18.norm2.running_mean', 'module.features.denseblock3.denselayer18.norm2.running_var', 'module.features.denseblock3.denselayer18.norm2.num_batches_tracked', 'module.features.denseblock3.denselayer18.conv2.weight', 'module.features.denseblock3.denselayer19.norm1.weight', 'module.features.denseblock3.denselayer19.norm1.bias', 'module.features.denseblock3.denselayer19.norm1.running_mean', 'module.features.denseblock3.denselayer19.norm1.running_var', 'module.features.denseblock3.denselayer19.norm1.num_batches_tracked', 'module.features.denseblock3.denselayer19.conv1.weight', 'module.features.denseblock3.denselayer19.norm2.weight', 'module.features.denseblock3.denselayer19.norm2.bias', 'module.features.denseblock3.denselayer19.norm2.running_mean', 'module.features.denseblock3.denselayer19.norm2.running_var', 'module.features.denseblock3.denselayer19.norm2.num_batches_tracked', 'module.features.denseblock3.denselayer19.conv2.weight', 'module.features.denseblock3.denselayer20.norm1.weight', 'module.features.denseblock3.denselayer20.norm1.bias', 'module.features.denseblock3.denselayer20.norm1.running_mean', 'module.features.denseblock3.denselayer20.norm1.running_var', 'module.features.denseblock3.denselayer20.norm1.num_batches_tracked', 'module.features.denseblock3.denselayer20.conv1.weight', 'module.features.denseblock3.denselayer20.norm2.weight', 'module.features.denseblock3.denselayer20.norm2.bias', 'module.features.denseblock3.denselayer20.norm2.running_mean', 'module.features.denseblock3.denselayer20.norm2.running_var', 'module.features.denseblock3.denselayer20.norm2.num_batches_tracked', 'module.features.denseblock3.denselayer20.conv2.weight', 'module.features.denseblock3.denselayer21.norm1.weight', 'module.features.denseblock3.denselayer21.norm1.bias', 'module.features.denseblock3.denselayer21.norm1.running_mean', 'module.features.denseblock3.denselayer21.norm1.running_var', 'module.features.denseblock3.denselayer21.norm1.num_batches_tracked', 'module.features.denseblock3.denselayer21.conv1.weight', 'module.features.denseblock3.denselayer21.norm2.weight', 'module.features.denseblock3.denselayer21.norm2.bias', 'module.features.denseblock3.denselayer21.norm2.running_mean', 'module.features.denseblock3.denselayer21.norm2.running_var', 'module.features.denseblock3.denselayer21.norm2.num_batches_tracked', 'module.features.denseblock3.denselayer21.conv2.weight', 'module.features.denseblock3.denselayer22.norm1.weight', 'module.features.denseblock3.denselayer22.norm1.bias', 'module.features.denseblock3.denselayer22.norm1.running_mean', 'module.features.denseblock3.denselayer22.norm1.running_var', 'module.features.denseblock3.denselayer22.norm1.num_batches_tracked', 'module.features.denseblock3.denselayer22.conv1.weight', 'module.features.denseblock3.denselayer22.norm2.weight', 'module.features.denseblock3.denselayer22.norm2.bias', 'module.features.denseblock3.denselayer22.norm2.running_mean', 'module.features.denseblock3.denselayer22.norm2.running_var', 'module.features.denseblock3.denselayer22.norm2.num_batches_tracked', 'module.features.denseblock3.denselayer22.conv2.weight', 'module.features.denseblock3.denselayer23.norm1.weight', 'module.features.denseblock3.denselayer23.norm1.bias', 'module.features.denseblock3.denselayer23.norm1.running_mean', 'module.features.denseblock3.denselayer23.norm1.running_var', 'module.features.denseblock3.denselayer23.norm1.num_batches_tracked', 'module.features.denseblock3.denselayer23.conv1.weight', 'module.features.denseblock3.denselayer23.norm2.weight', 'module.features.denseblock3.denselayer23.norm2.bias', 'module.features.denseblock3.denselayer23.norm2.running_mean', 'module.features.denseblock3.denselayer23.norm2.running_var', 'module.features.denseblock3.denselayer23.norm2.num_batches_tracked', 'module.features.denseblock3.denselayer23.conv2.weight', 'module.features.denseblock3.denselayer24.norm1.weight', 'module.features.denseblock3.denselayer24.norm1.bias', 'module.features.denseblock3.denselayer24.norm1.running_mean', 'module.features.denseblock3.denselayer24.norm1.running_var', 'module.features.denseblock3.denselayer24.norm1.num_batches_tracked', 'module.features.denseblock3.denselayer24.conv1.weight', 'module.features.denseblock3.denselayer24.norm2.weight', 'module.features.denseblock3.denselayer24.norm2.bias', 'module.features.denseblock3.denselayer24.norm2.running_mean', 'module.features.denseblock3.denselayer24.norm2.running_var', 'module.features.denseblock3.denselayer24.norm2.num_batches_tracked', 'module.features.denseblock3.denselayer24.conv2.weight', 'module.features.denseblock3.denselayer25.norm1.weight', 'module.features.denseblock3.denselayer25.norm1.bias', 'module.features.denseblock3.denselayer25.norm1.running_mean', 'module.features.denseblock3.denselayer25.norm1.running_var', 'module.features.denseblock3.denselayer25.norm1.num_batches_tracked', 'module.features.denseblock3.denselayer25.conv1.weight', 'module.features.denseblock3.denselayer25.norm2.weight', 'module.features.denseblock3.denselayer25.norm2.bias', 'module.features.denseblock3.denselayer25.norm2.running_mean', 'module.features.denseblock3.denselayer25.norm2.running_var', 'module.features.denseblock3.denselayer25.norm2.num_batches_tracked', 'module.features.denseblock3.denselayer25.conv2.weight', 'module.features.denseblock3.denselayer26.norm1.weight', 'module.features.denseblock3.denselayer26.norm1.bias', 'module.features.denseblock3.denselayer26.norm1.running_mean', 'module.features.denseblock3.denselayer26.norm1.running_var', 'module.features.denseblock3.denselayer26.norm1.num_batches_tracked', 'module.features.denseblock3.denselayer26.conv1.weight', 'module.features.denseblock3.denselayer26.norm2.weight', 'module.features.denseblock3.denselayer26.norm2.bias', 'module.features.denseblock3.denselayer26.norm2.running_mean', 'module.features.denseblock3.denselayer26.norm2.running_var', 'module.features.denseblock3.denselayer26.norm2.num_batches_tracked', 'module.features.denseblock3.denselayer26.conv2.weight', 'module.features.denseblock3.denselayer27.norm1.weight', 'module.features.denseblock3.denselayer27.norm1.bias', 'module.features.denseblock3.denselayer27.norm1.running_mean', 'module.features.denseblock3.denselayer27.norm1.running_var', 'module.features.denseblock3.denselayer27.norm1.num_batches_tracked', 'module.features.denseblock3.denselayer27.conv1.weight', 'module.features.denseblock3.denselayer27.norm2.weight', 'module.features.denseblock3.denselayer27.norm2.bias', 'module.features.denseblock3.denselayer27.norm2.running_mean', 'module.features.denseblock3.denselayer27.norm2.running_var', 'module.features.denseblock3.denselayer27.norm2.num_batches_tracked', 'module.features.denseblock3.denselayer27.conv2.weight', 'module.features.denseblock3.denselayer28.norm1.weight', 'module.features.denseblock3.denselayer28.norm1.bias', 'module.features.denseblock3.denselayer28.norm1.running_mean', 'module.features.denseblock3.denselayer28.norm1.running_var', 'module.features.denseblock3.denselayer28.norm1.num_batches_tracked', 'module.features.denseblock3.denselayer28.conv1.weight', 'module.features.denseblock3.denselayer28.norm2.weight', 'module.features.denseblock3.denselayer28.norm2.bias', 'module.features.denseblock3.denselayer28.norm2.running_mean', 'module.features.denseblock3.denselayer28.norm2.running_var', 'module.features.denseblock3.denselayer28.norm2.num_batches_tracked', 'module.features.denseblock3.denselayer28.conv2.weight', 'module.features.denseblock3.denselayer29.norm1.weight', 'module.features.denseblock3.denselayer29.norm1.bias', 'module.features.denseblock3.denselayer29.norm1.running_mean', 'module.features.denseblock3.denselayer29.norm1.running_var', 'module.features.denseblock3.denselayer29.norm1.num_batches_tracked', 'module.features.denseblock3.denselayer29.conv1.weight', 'module.features.denseblock3.denselayer29.norm2.weight', 'module.features.denseblock3.denselayer29.norm2.bias', 'module.features.denseblock3.denselayer29.norm2.running_mean', 'module.features.denseblock3.denselayer29.norm2.running_var', 'module.features.denseblock3.denselayer29.norm2.num_batches_tracked', 'module.features.denseblock3.denselayer29.conv2.weight', 'module.features.denseblock3.denselayer30.norm1.weight', 'module.features.denseblock3.denselayer30.norm1.bias', 'module.features.denseblock3.denselayer30.norm1.running_mean', 'module.features.denseblock3.denselayer30.norm1.running_var', 'module.features.denseblock3.denselayer30.norm1.num_batches_tracked', 'module.features.denseblock3.denselayer30.conv1.weight', 'module.features.denseblock3.denselayer30.norm2.weight', 'module.features.denseblock3.denselayer30.norm2.bias', 'module.features.denseblock3.denselayer30.norm2.running_mean', 'module.features.denseblock3.denselayer30.norm2.running_var', 'module.features.denseblock3.denselayer30.norm2.num_batches_tracked', 'module.features.denseblock3.denselayer30.conv2.weight', 'module.features.denseblock3.denselayer31.norm1.weight', 'module.features.denseblock3.denselayer31.norm1.bias', 'module.features.denseblock3.denselayer31.norm1.running_mean', 'module.features.denseblock3.denselayer31.norm1.running_var', 'module.features.denseblock3.denselayer31.norm1.num_batches_tracked', 'module.features.denseblock3.denselayer31.conv1.weight', 'module.features.denseblock3.denselayer31.norm2.weight', 'module.features.denseblock3.denselayer31.norm2.bias', 'module.features.denseblock3.denselayer31.norm2.running_mean', 'module.features.denseblock3.denselayer31.norm2.running_var', 'module.features.denseblock3.denselayer31.norm2.num_batches_tracked', 'module.features.denseblock3.denselayer31.conv2.weight', 'module.features.denseblock3.denselayer32.norm1.weight', 'module.features.denseblock3.denselayer32.norm1.bias', 'module.features.denseblock3.denselayer32.norm1.running_mean', 'module.features.denseblock3.denselayer32.norm1.running_var', 'module.features.denseblock3.denselayer32.norm1.num_batches_tracked', 'module.features.denseblock3.denselayer32.conv1.weight', 'module.features.denseblock3.denselayer32.norm2.weight', 'module.features.denseblock3.denselayer32.norm2.bias', 'module.features.denseblock3.denselayer32.norm2.running_mean', 'module.features.denseblock3.denselayer32.norm2.running_var', 'module.features.denseblock3.denselayer32.norm2.num_batches_tracked', 'module.features.denseblock3.denselayer32.conv2.weight', 'module.features.denseblock3.denselayer33.norm1.weight', 'module.features.denseblock3.denselayer33.norm1.bias', 'module.features.denseblock3.denselayer33.norm1.running_mean', 'module.features.denseblock3.denselayer33.norm1.running_var', 'module.features.denseblock3.denselayer33.norm1.num_batches_tracked', 'module.features.denseblock3.denselayer33.conv1.weight', 'module.features.denseblock3.denselayer33.norm2.weight', 'module.features.denseblock3.denselayer33.norm2.bias', 'module.features.denseblock3.denselayer33.norm2.running_mean', 'module.features.denseblock3.denselayer33.norm2.running_var', 'module.features.denseblock3.denselayer33.norm2.num_batches_tracked', 'module.features.denseblock3.denselayer33.conv2.weight', 'module.features.denseblock3.denselayer34.norm1.weight', 'module.features.denseblock3.denselayer34.norm1.bias', 'module.features.denseblock3.denselayer34.norm1.running_mean', 'module.features.denseblock3.denselayer34.norm1.running_var', 'module.features.denseblock3.denselayer34.norm1.num_batches_tracked', 'module.features.denseblock3.denselayer34.conv1.weight', 'module.features.denseblock3.denselayer34.norm2.weight', 'module.features.denseblock3.denselayer34.norm2.bias', 'module.features.denseblock3.denselayer34.norm2.running_mean', 'module.features.denseblock3.denselayer34.norm2.running_var', 'module.features.denseblock3.denselayer34.norm2.num_batches_tracked', 'module.features.denseblock3.denselayer34.conv2.weight', 'module.features.denseblock3.denselayer35.norm1.weight', 'module.features.denseblock3.denselayer35.norm1.bias', 'module.features.denseblock3.denselayer35.norm1.running_mean', 'module.features.denseblock3.denselayer35.norm1.running_var', 'module.features.denseblock3.denselayer35.norm1.num_batches_tracked', 'module.features.denseblock3.denselayer35.conv1.weight', 'module.features.denseblock3.denselayer35.norm2.weight', 'module.features.denseblock3.denselayer35.norm2.bias', 'module.features.denseblock3.denselayer35.norm2.running_mean', 'module.features.denseblock3.denselayer35.norm2.running_var', 'module.features.denseblock3.denselayer35.norm2.num_batches_tracked', 'module.features.denseblock3.denselayer35.conv2.weight', 'module.features.denseblock3.denselayer36.norm1.weight', 'module.features.denseblock3.denselayer36.norm1.bias', 'module.features.denseblock3.denselayer36.norm1.running_mean', 'module.features.denseblock3.denselayer36.norm1.running_var', 'module.features.denseblock3.denselayer36.norm1.num_batches_tracked', 'module.features.denseblock3.denselayer36.conv1.weight', 'module.features.denseblock3.denselayer36.norm2.weight', 'module.features.denseblock3.denselayer36.norm2.bias', 'module.features.denseblock3.denselayer36.norm2.running_mean', 'module.features.denseblock3.denselayer36.norm2.running_var', 'module.features.denseblock3.denselayer36.norm2.num_batches_tracked', 'module.features.denseblock3.denselayer36.conv2.weight', 'module.features.transition3.norm.weight', 'module.features.transition3.norm.bias', 'module.features.transition3.norm.running_mean', 'module.features.transition3.norm.running_var', 'module.features.transition3.norm.num_batches_tracked', 'module.features.transition3.conv.weight', 'module.features.denseblock4.denselayer1.norm1.weight', 'module.features.denseblock4.denselayer1.norm1.bias', 'module.features.denseblock4.denselayer1.norm1.running_mean', 'module.features.denseblock4.denselayer1.norm1.running_var', 'module.features.denseblock4.denselayer1.norm1.num_batches_tracked', 'module.features.denseblock4.denselayer1.conv1.weight', 'module.features.denseblock4.denselayer1.norm2.weight', 'module.features.denseblock4.denselayer1.norm2.bias', 'module.features.denseblock4.denselayer1.norm2.running_mean', 'module.features.denseblock4.denselayer1.norm2.running_var', 'module.features.denseblock4.denselayer1.norm2.num_batches_tracked', 'module.features.denseblock4.denselayer1.conv2.weight', 'module.features.denseblock4.denselayer2.norm1.weight', 'module.features.denseblock4.denselayer2.norm1.bias', 'module.features.denseblock4.denselayer2.norm1.running_mean', 'module.features.denseblock4.denselayer2.norm1.running_var', 'module.features.denseblock4.denselayer2.norm1.num_batches_tracked', 'module.features.denseblock4.denselayer2.conv1.weight', 'module.features.denseblock4.denselayer2.norm2.weight', 'module.features.denseblock4.denselayer2.norm2.bias', 'module.features.denseblock4.denselayer2.norm2.running_mean', 'module.features.denseblock4.denselayer2.norm2.running_var', 'module.features.denseblock4.denselayer2.norm2.num_batches_tracked', 'module.features.denseblock4.denselayer2.conv2.weight', 'module.features.denseblock4.denselayer3.norm1.weight', 'module.features.denseblock4.denselayer3.norm1.bias', 'module.features.denseblock4.denselayer3.norm1.running_mean', 'module.features.denseblock4.denselayer3.norm1.running_var', 'module.features.denseblock4.denselayer3.norm1.num_batches_tracked', 'module.features.denseblock4.denselayer3.conv1.weight', 'module.features.denseblock4.denselayer3.norm2.weight', 'module.features.denseblock4.denselayer3.norm2.bias', 'module.features.denseblock4.denselayer3.norm2.running_mean', 'module.features.denseblock4.denselayer3.norm2.running_var', 'module.features.denseblock4.denselayer3.norm2.num_batches_tracked', 'module.features.denseblock4.denselayer3.conv2.weight', 'module.features.denseblock4.denselayer4.norm1.weight', 'module.features.denseblock4.denselayer4.norm1.bias', 'module.features.denseblock4.denselayer4.norm1.running_mean', 'module.features.denseblock4.denselayer4.norm1.running_var', 'module.features.denseblock4.denselayer4.norm1.num_batches_tracked', 'module.features.denseblock4.denselayer4.conv1.weight', 'module.features.denseblock4.denselayer4.norm2.weight', 'module.features.denseblock4.denselayer4.norm2.bias', 'module.features.denseblock4.denselayer4.norm2.running_mean', 'module.features.denseblock4.denselayer4.norm2.running_var', 'module.features.denseblock4.denselayer4.norm2.num_batches_tracked', 'module.features.denseblock4.denselayer4.conv2.weight', 'module.features.denseblock4.denselayer5.norm1.weight', 'module.features.denseblock4.denselayer5.norm1.bias', 'module.features.denseblock4.denselayer5.norm1.running_mean', 'module.features.denseblock4.denselayer5.norm1.running_var', 'module.features.denseblock4.denselayer5.norm1.num_batches_tracked', 'module.features.denseblock4.denselayer5.conv1.weight', 'module.features.denseblock4.denselayer5.norm2.weight', 'module.features.denseblock4.denselayer5.norm2.bias', 'module.features.denseblock4.denselayer5.norm2.running_mean', 'module.features.denseblock4.denselayer5.norm2.running_var', 'module.features.denseblock4.denselayer5.norm2.num_batches_tracked', 'module.features.denseblock4.denselayer5.conv2.weight', 'module.features.denseblock4.denselayer6.norm1.weight', 'module.features.denseblock4.denselayer6.norm1.bias', 'module.features.denseblock4.denselayer6.norm1.running_mean', 'module.features.denseblock4.denselayer6.norm1.running_var', 'module.features.denseblock4.denselayer6.norm1.num_batches_tracked', 'module.features.denseblock4.denselayer6.conv1.weight', 'module.features.denseblock4.denselayer6.norm2.weight', 'module.features.denseblock4.denselayer6.norm2.bias', 'module.features.denseblock4.denselayer6.norm2.running_mean', 'module.features.denseblock4.denselayer6.norm2.running_var', 'module.features.denseblock4.denselayer6.norm2.num_batches_tracked', 'module.features.denseblock4.denselayer6.conv2.weight', 'module.features.denseblock4.denselayer7.norm1.weight', 'module.features.denseblock4.denselayer7.norm1.bias', 'module.features.denseblock4.denselayer7.norm1.running_mean', 'module.features.denseblock4.denselayer7.norm1.running_var', 'module.features.denseblock4.denselayer7.norm1.num_batches_tracked', 'module.features.denseblock4.denselayer7.conv1.weight', 'module.features.denseblock4.denselayer7.norm2.weight', 'module.features.denseblock4.denselayer7.norm2.bias', 'module.features.denseblock4.denselayer7.norm2.running_mean', 'module.features.denseblock4.denselayer7.norm2.running_var', 'module.features.denseblock4.denselayer7.norm2.num_batches_tracked', 'module.features.denseblock4.denselayer7.conv2.weight', 'module.features.denseblock4.denselayer8.norm1.weight', 'module.features.denseblock4.denselayer8.norm1.bias', 'module.features.denseblock4.denselayer8.norm1.running_mean', 'module.features.denseblock4.denselayer8.norm1.running_var', 'module.features.denseblock4.denselayer8.norm1.num_batches_tracked', 'module.features.denseblock4.denselayer8.conv1.weight', 'module.features.denseblock4.denselayer8.norm2.weight', 'module.features.denseblock4.denselayer8.norm2.bias', 'module.features.denseblock4.denselayer8.norm2.running_mean', 'module.features.denseblock4.denselayer8.norm2.running_var', 'module.features.denseblock4.denselayer8.norm2.num_batches_tracked', 'module.features.denseblock4.denselayer8.conv2.weight', 'module.features.denseblock4.denselayer9.norm1.weight', 'module.features.denseblock4.denselayer9.norm1.bias', 'module.features.denseblock4.denselayer9.norm1.running_mean', 'module.features.denseblock4.denselayer9.norm1.running_var', 'module.features.denseblock4.denselayer9.norm1.num_batches_tracked', 'module.features.denseblock4.denselayer9.conv1.weight', 'module.features.denseblock4.denselayer9.norm2.weight', 'module.features.denseblock4.denselayer9.norm2.bias', 'module.features.denseblock4.denselayer9.norm2.running_mean', 'module.features.denseblock4.denselayer9.norm2.running_var', 'module.features.denseblock4.denselayer9.norm2.num_batches_tracked', 'module.features.denseblock4.denselayer9.conv2.weight', 'module.features.denseblock4.denselayer10.norm1.weight', 'module.features.denseblock4.denselayer10.norm1.bias', 'module.features.denseblock4.denselayer10.norm1.running_mean', 'module.features.denseblock4.denselayer10.norm1.running_var', 'module.features.denseblock4.denselayer10.norm1.num_batches_tracked', 'module.features.denseblock4.denselayer10.conv1.weight', 'module.features.denseblock4.denselayer10.norm2.weight', 'module.features.denseblock4.denselayer10.norm2.bias', 'module.features.denseblock4.denselayer10.norm2.running_mean', 'module.features.denseblock4.denselayer10.norm2.running_var', 'module.features.denseblock4.denselayer10.norm2.num_batches_tracked', 'module.features.denseblock4.denselayer10.conv2.weight', 'module.features.denseblock4.denselayer11.norm1.weight', 'module.features.denseblock4.denselayer11.norm1.bias', 'module.features.denseblock4.denselayer11.norm1.running_mean', 'module.features.denseblock4.denselayer11.norm1.running_var', 'module.features.denseblock4.denselayer11.norm1.num_batches_tracked', 'module.features.denseblock4.denselayer11.conv1.weight', 'module.features.denseblock4.denselayer11.norm2.weight', 'module.features.denseblock4.denselayer11.norm2.bias', 'module.features.denseblock4.denselayer11.norm2.running_mean', 'module.features.denseblock4.denselayer11.norm2.running_var', 'module.features.denseblock4.denselayer11.norm2.num_batches_tracked', 'module.features.denseblock4.denselayer11.conv2.weight', 'module.features.denseblock4.denselayer12.norm1.weight', 'module.features.denseblock4.denselayer12.norm1.bias', 'module.features.denseblock4.denselayer12.norm1.running_mean', 'module.features.denseblock4.denselayer12.norm1.running_var', 'module.features.denseblock4.denselayer12.norm1.num_batches_tracked', 'module.features.denseblock4.denselayer12.conv1.weight', 'module.features.denseblock4.denselayer12.norm2.weight', 'module.features.denseblock4.denselayer12.norm2.bias', 'module.features.denseblock4.denselayer12.norm2.running_mean', 'module.features.denseblock4.denselayer12.norm2.running_var', 'module.features.denseblock4.denselayer12.norm2.num_batches_tracked', 'module.features.denseblock4.denselayer12.conv2.weight', 'module.features.denseblock4.denselayer13.norm1.weight', 'module.features.denseblock4.denselayer13.norm1.bias', 'module.features.denseblock4.denselayer13.norm1.running_mean', 'module.features.denseblock4.denselayer13.norm1.running_var', 'module.features.denseblock4.denselayer13.norm1.num_batches_tracked', 'module.features.denseblock4.denselayer13.conv1.weight', 'module.features.denseblock4.denselayer13.norm2.weight', 'module.features.denseblock4.denselayer13.norm2.bias', 'module.features.denseblock4.denselayer13.norm2.running_mean', 'module.features.denseblock4.denselayer13.norm2.running_var', 'module.features.denseblock4.denselayer13.norm2.num_batches_tracked', 'module.features.denseblock4.denselayer13.conv2.weight', 'module.features.denseblock4.denselayer14.norm1.weight', 'module.features.denseblock4.denselayer14.norm1.bias', 'module.features.denseblock4.denselayer14.norm1.running_mean', 'module.features.denseblock4.denselayer14.norm1.running_var', 'module.features.denseblock4.denselayer14.norm1.num_batches_tracked', 'module.features.denseblock4.denselayer14.conv1.weight', 'module.features.denseblock4.denselayer14.norm2.weight', 'module.features.denseblock4.denselayer14.norm2.bias', 'module.features.denseblock4.denselayer14.norm2.running_mean', 'module.features.denseblock4.denselayer14.norm2.running_var', 'module.features.denseblock4.denselayer14.norm2.num_batches_tracked', 'module.features.denseblock4.denselayer14.conv2.weight', 'module.features.denseblock4.denselayer15.norm1.weight', 'module.features.denseblock4.denselayer15.norm1.bias', 'module.features.denseblock4.denselayer15.norm1.running_mean', 'module.features.denseblock4.denselayer15.norm1.running_var', 'module.features.denseblock4.denselayer15.norm1.num_batches_tracked', 'module.features.denseblock4.denselayer15.conv1.weight', 'module.features.denseblock4.denselayer15.norm2.weight', 'module.features.denseblock4.denselayer15.norm2.bias', 'module.features.denseblock4.denselayer15.norm2.running_mean', 'module.features.denseblock4.denselayer15.norm2.running_var', 'module.features.denseblock4.denselayer15.norm2.num_batches_tracked', 'module.features.denseblock4.denselayer15.conv2.weight', 'module.features.denseblock4.denselayer16.norm1.weight', 'module.features.denseblock4.denselayer16.norm1.bias', 'module.features.denseblock4.denselayer16.norm1.running_mean', 'module.features.denseblock4.denselayer16.norm1.running_var', 'module.features.denseblock4.denselayer16.norm1.num_batches_tracked', 'module.features.denseblock4.denselayer16.conv1.weight', 'module.features.denseblock4.denselayer16.norm2.weight', 'module.features.denseblock4.denselayer16.norm2.bias', 'module.features.denseblock4.denselayer16.norm2.running_mean', 'module.features.denseblock4.denselayer16.norm2.running_var', 'module.features.denseblock4.denselayer16.norm2.num_batches_tracked', 'module.features.denseblock4.denselayer16.conv2.weight', 'module.features.denseblock4.denselayer17.norm1.weight', 'module.features.denseblock4.denselayer17.norm1.bias', 'module.features.denseblock4.denselayer17.norm1.running_mean', 'module.features.denseblock4.denselayer17.norm1.running_var', 'module.features.denseblock4.denselayer17.norm1.num_batches_tracked', 'module.features.denseblock4.denselayer17.conv1.weight', 'module.features.denseblock4.denselayer17.norm2.weight', 'module.features.denseblock4.denselayer17.norm2.bias', 'module.features.denseblock4.denselayer17.norm2.running_mean', 'module.features.denseblock4.denselayer17.norm2.running_var', 'module.features.denseblock4.denselayer17.norm2.num_batches_tracked', 'module.features.denseblock4.denselayer17.conv2.weight', 'module.features.denseblock4.denselayer18.norm1.weight', 'module.features.denseblock4.denselayer18.norm1.bias', 'module.features.denseblock4.denselayer18.norm1.running_mean', 'module.features.denseblock4.denselayer18.norm1.running_var', 'module.features.denseblock4.denselayer18.norm1.num_batches_tracked', 'module.features.denseblock4.denselayer18.conv1.weight', 'module.features.denseblock4.denselayer18.norm2.weight', 'module.features.denseblock4.denselayer18.norm2.bias', 'module.features.denseblock4.denselayer18.norm2.running_mean', 'module.features.denseblock4.denselayer18.norm2.running_var', 'module.features.denseblock4.denselayer18.norm2.num_batches_tracked', 'module.features.denseblock4.denselayer18.conv2.weight', 'module.features.denseblock4.denselayer19.norm1.weight', 'module.features.denseblock4.denselayer19.norm1.bias', 'module.features.denseblock4.denselayer19.norm1.running_mean', 'module.features.denseblock4.denselayer19.norm1.running_var', 'module.features.denseblock4.denselayer19.norm1.num_batches_tracked', 'module.features.denseblock4.denselayer19.conv1.weight', 'module.features.denseblock4.denselayer19.norm2.weight', 'module.features.denseblock4.denselayer19.norm2.bias', 'module.features.denseblock4.denselayer19.norm2.running_mean', 'module.features.denseblock4.denselayer19.norm2.running_var', 'module.features.denseblock4.denselayer19.norm2.num_batches_tracked', 'module.features.denseblock4.denselayer19.conv2.weight', 'module.features.denseblock4.denselayer20.norm1.weight', 'module.features.denseblock4.denselayer20.norm1.bias', 'module.features.denseblock4.denselayer20.norm1.running_mean', 'module.features.denseblock4.denselayer20.norm1.running_var', 'module.features.denseblock4.denselayer20.norm1.num_batches_tracked', 'module.features.denseblock4.denselayer20.conv1.weight', 'module.features.denseblock4.denselayer20.norm2.weight', 'module.features.denseblock4.denselayer20.norm2.bias', 'module.features.denseblock4.denselayer20.norm2.running_mean', 'module.features.denseblock4.denselayer20.norm2.running_var', 'module.features.denseblock4.denselayer20.norm2.num_batches_tracked', 'module.features.denseblock4.denselayer20.conv2.weight', 'module.features.denseblock4.denselayer21.norm1.weight', 'module.features.denseblock4.denselayer21.norm1.bias', 'module.features.denseblock4.denselayer21.norm1.running_mean', 'module.features.denseblock4.denselayer21.norm1.running_var', 'module.features.denseblock4.denselayer21.norm1.num_batches_tracked', 'module.features.denseblock4.denselayer21.conv1.weight', 'module.features.denseblock4.denselayer21.norm2.weight', 'module.features.denseblock4.denselayer21.norm2.bias', 'module.features.denseblock4.denselayer21.norm2.running_mean', 'module.features.denseblock4.denselayer21.norm2.running_var', 'module.features.denseblock4.denselayer21.norm2.num_batches_tracked', 'module.features.denseblock4.denselayer21.conv2.weight', 'module.features.denseblock4.denselayer22.norm1.weight', 'module.features.denseblock4.denselayer22.norm1.bias', 'module.features.denseblock4.denselayer22.norm1.running_mean', 'module.features.denseblock4.denselayer22.norm1.running_var', 'module.features.denseblock4.denselayer22.norm1.num_batches_tracked', 'module.features.denseblock4.denselayer22.conv1.weight', 'module.features.denseblock4.denselayer22.norm2.weight', 'module.features.denseblock4.denselayer22.norm2.bias', 'module.features.denseblock4.denselayer22.norm2.running_mean', 'module.features.denseblock4.denselayer22.norm2.running_var', 'module.features.denseblock4.denselayer22.norm2.num_batches_tracked', 'module.features.denseblock4.denselayer22.conv2.weight', 'module.features.denseblock4.denselayer23.norm1.weight', 'module.features.denseblock4.denselayer23.norm1.bias', 'module.features.denseblock4.denselayer23.norm1.running_mean', 'module.features.denseblock4.denselayer23.norm1.running_var', 'module.features.denseblock4.denselayer23.norm1.num_batches_tracked', 'module.features.denseblock4.denselayer23.conv1.weight', 'module.features.denseblock4.denselayer23.norm2.weight', 'module.features.denseblock4.denselayer23.norm2.bias', 'module.features.denseblock4.denselayer23.norm2.running_mean', 'module.features.denseblock4.denselayer23.norm2.running_var', 'module.features.denseblock4.denselayer23.norm2.num_batches_tracked', 'module.features.denseblock4.denselayer23.conv2.weight', 'module.features.denseblock4.denselayer24.norm1.weight', 'module.features.denseblock4.denselayer24.norm1.bias', 'module.features.denseblock4.denselayer24.norm1.running_mean', 'module.features.denseblock4.denselayer24.norm1.running_var', 'module.features.denseblock4.denselayer24.norm1.num_batches_tracked', 'module.features.denseblock4.denselayer24.conv1.weight', 'module.features.denseblock4.denselayer24.norm2.weight', 'module.features.denseblock4.denselayer24.norm2.bias', 'module.features.denseblock4.denselayer24.norm2.running_mean', 'module.features.denseblock4.denselayer24.norm2.running_var', 'module.features.denseblock4.denselayer24.norm2.num_batches_tracked', 'module.features.denseblock4.denselayer24.conv2.weight', 'module.features.norm5.weight', 'module.features.norm5.bias', 'module.features.norm5.running_mean', 'module.features.norm5.running_var', 'module.features.norm5.num_batches_tracked', 'module.classifier.weight', 'module.classifier.bias'])\n"
     ]
    }
   ],
   "source": [
    "print(\"Our Model: \\n\\n\", classifier, '\\n')\n",
    "print(\"The state dict keys: \\n\\n\", classifier.state_dict().keys())\n",
    "\n",
    "# classifier.module.state_dict() must be used when saving the model since\n",
    "# DataParalle() method was used while training"
   ]
  },
  {
   "cell_type": "code",
   "execution_count": 10,
   "metadata": {},
   "outputs": [],
   "source": [
    "# saving the model as a checkpoint file\n",
    "torch.save(classifier.module.state_dict(), 'densenet161_40000Iterations.pth')"
   ]
  }
 ],
 "metadata": {
  "kernelspec": {
   "display_name": "estif",
   "language": "python",
   "name": "estif"
  },
  "language_info": {
   "codemirror_mode": {
    "name": "ipython",
    "version": 3
   },
   "file_extension": ".py",
   "mimetype": "text/x-python",
   "name": "python",
   "nbconvert_exporter": "python",
   "pygments_lexer": "ipython3",
   "version": "3.6.10"
  }
 },
 "nbformat": 4,
 "nbformat_minor": 4
}
