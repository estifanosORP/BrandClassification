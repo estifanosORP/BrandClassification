{
 "cells": [
  {
   "cell_type": "code",
   "execution_count": 1,
   "metadata": {},
   "outputs": [],
   "source": [
    "import torch\n",
    "import torch.nn as nn\n",
    "import torch.optim as optim\n",
    "from torch.optim import lr_scheduler\n",
    "\n",
    "import torchvision\n",
    "from torchvision import datasets, transforms\n",
    "\n",
    "\n",
    "import numpy as np\n",
    "import matplotlib.pyplot as plt\n",
    "\n",
    "\n",
    "import time"
   ]
  },
  {
   "cell_type": "markdown",
   "metadata": {},
   "source": [
    "### Dataset Loading and Transformation"
   ]
  },
  {
   "cell_type": "code",
   "execution_count": 2,
   "metadata": {},
   "outputs": [],
   "source": [
    "\n",
    "\n",
    "# Transforms defined for the train, validation, and test datasets\n",
    "train_transform = transforms.Compose([transforms.Resize((256,256)),\n",
    "                                     transforms.ToTensor()])\n",
    "\n",
    "val_transform = transforms.Compose([transforms.Resize((256,256)),\n",
    "                                   transforms.ToTensor()])\n"
   ]
  },
  {
   "cell_type": "code",
   "execution_count": 3,
   "metadata": {},
   "outputs": [],
   "source": [
    "dir = '../Label_Data_TrainTest/'\n",
    "train_dir, val_dir = dir+'train', dir+'val'\n",
    "batch_size = 32\n",
    "num_workers = 2\n",
    "\n",
    "# Datasets extracted from their respective directories and some transformation applied to them\n",
    "train_set = datasets.ImageFolder(train_dir, transform = train_transform)\n",
    "val_set = datasets.ImageFolder(val_dir, transform = val_transform)\n",
    "\n",
    "\n",
    "\n",
    "# Datasets loaded onto iterable object in form of batches \n",
    "train_loader = torch.utils.data.DataLoader(train_set, batch_size = batch_size, shuffle=True, num_workers=num_workers)\n",
    "val_loader = torch.utils.data.DataLoader(val_set, batch_size = batch_size, shuffle=True, num_workers=num_workers)\n",
    "\n"
   ]
  },
  {
   "cell_type": "markdown",
   "metadata": {},
   "source": [
    "### Save trained model"
   ]
  },
  {
   "cell_type": "code",
   "execution_count": 4,
   "metadata": {},
   "outputs": [
    {
     "data": {
      "text/plain": [
       "<All keys matched successfully>"
      ]
     },
     "execution_count": 4,
     "metadata": {},
     "output_type": "execute_result"
    }
   ],
   "source": [
    "# Loading the state dict into our model\n",
    "state_dict = torch.load('resnet152_4000Iterations.pth', map_location='cuda:0')\n",
    "\n",
    "from torchvision import models\n",
    "model = models.resnet152(pretrained=True)\n",
    "\n",
    "features= model.fc.in_features\n",
    "model.fc = nn.Linear(features, len(train_set.classes))\n",
    "\n",
    "model.load_state_dict(state_dict)\n",
    "\n"
   ]
  },
  {
   "cell_type": "markdown",
   "metadata": {},
   "source": [
    "### Performance of finetuned network on test dataset"
   ]
  },
  {
   "cell_type": "code",
   "execution_count": 6,
   "metadata": {
    "scrolled": false
   },
   "outputs": [
    {
     "name": "stdout",
     "output_type": "stream",
     "text": [
      "\n",
      "Total number of correct predictions in batch number 1: 30/32\n",
      "Correct Label: ['Prada', 'Other']\n",
      "==================================================================================================== \n",
      "\n",
      "\n",
      "Total number of correct predictions in batch number 2: 32/32\n",
      "Correct Label: []\n",
      "==================================================================================================== \n",
      "\n",
      "\n",
      "Total number of correct predictions in batch number 3: 30/32\n",
      "Correct Label: ['Dior', 'Gucci']\n",
      "==================================================================================================== \n",
      "\n",
      "\n",
      "Total number of correct predictions in batch number 4: 29/32\n",
      "Correct Label: ['Other', 'Giorgio Armani', 'Giorgio Armani']\n",
      "==================================================================================================== \n",
      "\n",
      "\n",
      "Total number of correct predictions in batch number 5: 31/32\n",
      "Correct Label: ['Ralph Lauren']\n",
      "==================================================================================================== \n",
      "\n",
      "\n",
      "Total number of correct predictions in batch number 6: 31/32\n",
      "Correct Label: ['Hermes']\n",
      "==================================================================================================== \n",
      "\n",
      "\n",
      "Total number of correct predictions in batch number 7: 30/32\n",
      "Correct Label: ['Ralph Lauren', 'Versace']\n",
      "==================================================================================================== \n",
      "\n",
      "\n",
      "Total number of correct predictions in batch number 8: 30/32\n",
      "Correct Label: ['Gucci', 'Versace']\n",
      "==================================================================================================== \n",
      "\n",
      "\n",
      "Total number of correct predictions in batch number 9: 30/32\n",
      "Correct Label: ['Chanel', 'Chanel']\n",
      "==================================================================================================== \n",
      "\n",
      "\n",
      "Total number of correct predictions in batch number 10: 31/32\n",
      "Correct Label: ['Versace']\n",
      "==================================================================================================== \n",
      "\n",
      "\n",
      "Total number of correct predictions in batch number 11: 31/32\n",
      "Correct Label: ['Emporio Armani']\n",
      "==================================================================================================== \n",
      "\n",
      "\n",
      "Total number of correct predictions in batch number 12: 27/32\n",
      "Correct Label: ['Prada', 'Ralph Lauren', 'Prada', 'Dior', 'Prada']\n",
      "==================================================================================================== \n",
      "\n",
      "\n",
      "Total number of correct predictions in batch number 13: 31/32\n",
      "Correct Label: ['Emporio Armani']\n",
      "==================================================================================================== \n",
      "\n",
      "\n",
      "Total number of correct predictions in batch number 14: 30/32\n",
      "Correct Label: ['Prada', 'Emporio Armani']\n",
      "==================================================================================================== \n",
      "\n",
      "\n",
      "Total number of correct predictions in batch number 15: 31/32\n",
      "Correct Label: ['Chanel']\n",
      "==================================================================================================== \n",
      "\n",
      "\n",
      "Total number of correct predictions in batch number 16: 19/19\n",
      "Correct Label: []\n",
      "==================================================================================================== \n",
      "\n",
      "Accuracy: 94.79%\n"
     ]
    },
    {
     "data": {
      "image/png": "[encoded data removed]",
      "text/plain": [
       "<Figure size 1440x720 with 1 Axes>"
      ]
     },
     "metadata": {
      "needs_background": "light"
     },
     "output_type": "display_data"
    }
   ],
   "source": [
    "# Checking out the Prediction on the validation set\n",
    "device = torch.device('cuda')\n",
    "model.to(device)\n",
    "\n",
    "model.eval()\n",
    "with torch.no_grad():\n",
    "    correct  = 0\n",
    "    total = 0\n",
    "    val_batch=0\n",
    "    \n",
    "    wrong_total = []\n",
    "    \n",
    "    for images_val, labels_val in val_loader:\n",
    "        \n",
    "        val_batch +=1\n",
    "        \n",
    "        images_val, labels_val = images_val.to(device), labels_val.to(device)\n",
    "        outputs = model(images_val)\n",
    "        _,predicted = torch.max(outputs, 1)\n",
    "        \n",
    "        total += labels_val.size(0)\n",
    "        correct += (predicted == labels_val).sum().item()\n",
    "        \n",
    "        \n",
    "        # Check how many correct predictions are made in each each batch of the validation dataset\n",
    "        print('\\nTotal number of correct predictions in batch number {}: {}/{}'.format(val_batch, (predicted == labels_val).sum().item(), len(images_val)))\n",
    "        \n",
    "        # Implementation to extract the wrongly predicted classes\n",
    "        bool = (labels_val == predicted)\n",
    "        index = [ind for ind, val in enumerate(bool) if not val]\n",
    "        correct_val = labels_val[index]\n",
    "        wrong_val = predicted[index]\n",
    "        wrong_labels = [val_set.classes[x] for x in wrong_val]\n",
    "        correct_labels = [val_set.classes[x] for x in correct_val]\n",
    "        print('Correct Label:', correct_labels)\n",
    "#         print('Wrongly Predicted Labels:', wrong_labels)\n",
    "        wrong_total.append(wrong_labels)\n",
    "        \n",
    "        \n",
    "        print('='*100,'\\n')\n",
    "    \n",
    "    print('Accuracy: {:.2f}%'.format(correct/total*100))\n",
    "    \n",
    "    # Flatten the list wrong_total\n",
    "    wrong_total =[item for sublist in wrong_total for item in sublist]\n",
    "    \n",
    "    import collections\n",
    "    \n",
    "    BarData = collections.Counter(wrong_total)\n",
    "    wrong_brands = BarData.keys()\n",
    "    freq = BarData.values()\n",
    "    \n",
    "    plt.figure(figsize = (20,10))\n",
    "    plt.bar(wrong_brands, freq)\n",
    "    plt.title('Wrongly Predicted Brands')\n",
    "    plt.ylabel('Frequency')\n",
    "    plt.xticks(fontsize=12)\n",
    "    plt.yticks(fontsize=12)"
   ]
  }
 ],
 "metadata": {
  "kernelspec": {
   "display_name": "estif",
   "language": "python",
   "name": "estif"
  },
  "language_info": {
   "codemirror_mode": {
    "name": "ipython",
    "version": 3
   },
   "file_extension": ".py",
   "mimetype": "text/x-python",
   "name": "python",
   "nbconvert_exporter": "python",
   "pygments_lexer": "ipython3",
   "version": "3.6.10"
  }
 },
 "nbformat": 4,
 "nbformat_minor": 4
}
