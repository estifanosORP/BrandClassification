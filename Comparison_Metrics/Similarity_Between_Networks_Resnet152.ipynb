{
 "cells": [
  {
   "cell_type": "code",
   "execution_count": 1,
   "metadata": {},
   "outputs": [],
   "source": [
    "import torch\n",
    "import torch.nn as nn\n",
    "\n",
    "import torchvision\n",
    "from torchvision import datasets, transforms\n",
    "\n",
    "\n",
    "import numpy as np\n",
    "import matplotlib.pyplot as plt\n"
   ]
  },
  {
   "cell_type": "markdown",
   "metadata": {},
   "source": [
    "### Load saved state dicts onto the pretrained ResNet-152 model"
   ]
  },
  {
   "cell_type": "code",
   "execution_count": 2,
   "metadata": {},
   "outputs": [],
   "source": [
    "from torchvision import models\n",
    "pretrained_resnet152 = models.resnet152(pretrained=True)"
   ]
  },
  {
   "cell_type": "code",
   "execution_count": 3,
   "metadata": {},
   "outputs": [
    {
     "data": {
      "text/plain": [
       "<All keys matched successfully>"
      ]
     },
     "execution_count": 3,
     "metadata": {},
     "output_type": "execute_result"
    }
   ],
   "source": [
    "state_dict = torch.load('resnet152_4000Iterations.pth',map_location='cuda:0')\n",
    "\n",
    "from torchvision import models\n",
    "model = models.resnet152(pretrained=True)\n",
    "model.fc = nn.Linear(model.fc.in_features, out_features=11)\n",
    "\n",
    "model.load_state_dict(state_dict)"
   ]
  },
  {
   "cell_type": "markdown",
   "metadata": {},
   "source": [
    "###  Loop over the layers of the network and apply the metric functions on the conv layers  "
   ]
  },
  {
   "cell_type": "markdown",
   "metadata": {},
   "source": [
    "- Here, the  the norm difference, cosine simularity, and sparsity between the corresponding conv layers is calculated.\n",
    "- p# refers to a convolutional layer in the network pretrained on the ImageNet dataset.\n",
    "- m# refers to the a convolutional layer in the network pretraiend on the CL-20 target dataset."
   ]
  },
  {
   "cell_type": "code",
   "execution_count": 4,
   "metadata": {},
   "outputs": [],
   "source": [
    "# Cosine similarity function\n",
    "cos = nn.CosineSimilarity(dim=1, eps=1e-6)"
   ]
  },
  {
   "cell_type": "code",
   "execution_count": 5,
   "metadata": {
    "scrolled": false
   },
   "outputs": [],
   "source": [
    "diff = []\n",
    "cos_sim = []\n",
    "sparsity = []\n",
    "\n",
    "with torch.no_grad():\n",
    "    for m in [0,1,2]:\n",
    "\n",
    "        p1 = pretrained_resnet152.layer1[m].conv1.weight\n",
    "        p2 = pretrained_resnet152.layer1[m].conv2.weight\n",
    "        p3 = pretrained_resnet152.layer1[m].conv3.weight\n",
    "\n",
    "        m1 = model.layer1[m].conv1.weight\n",
    "        m2 = model.layer1[m].conv2.weight\n",
    "        m3 = model.layer1[m].conv3.weight\n",
    "        \n",
    "        # Norm similarity\n",
    "\n",
    "        diff1 = torch.norm(p1-m1).numpy()/torch.norm(p1)*100\n",
    "        diff2 = torch.norm(p2-m2).numpy()/torch.norm(p2)*100\n",
    "        diff3 = torch.norm(p3-m3).numpy()/torch.norm(p3)*100\n",
    "        \n",
    "        diff.append(diff1)\n",
    "        diff.append(diff2)\n",
    "        diff.append(diff3)\n",
    "        \n",
    "        #Cosine Similarity\n",
    "        \n",
    "        c1 = cos(p1.view(1,-1), m1.view(1,-1)).numpy()\n",
    "        c2 = cos(p2.view(1,-1), m2.view(1,-1)).numpy()\n",
    "        c3 = cos(p3.view(1,-1), m3.view(1,-1)).numpy()\n",
    "        \n",
    "        cos_sim.append(c1)\n",
    "        cos_sim.append(c2)\n",
    "        cos_sim.append(c3)\n",
    "        \n",
    "        \n",
    "        \n",
    "        #Sparisity\n",
    "        comp1 = abs(m1) <= 1e-5*torch.ones(list(m1.shape))\n",
    "        comp2 = abs(m2) <= 1e-5*torch.ones(list(m2.shape))\n",
    "        comp3 = abs(m3) <= 1e-5*torch.ones(list(m3.shape))\n",
    "        \n",
    "        s1 = torch.sum(comp1)/torch.sum(torch.ones(list(m1.shape)))*100\n",
    "        s2 = torch.sum(comp2)/torch.sum(torch.ones(list(m2.shape)))*100\n",
    "        s3 = torch.sum(comp3)/torch.sum(torch.ones(list(m3.shape)))*100\n",
    "        \n",
    "        sparsity.append(s1)\n",
    "        sparsity.append(s2)\n",
    "        sparsity.append(s3)\n",
    "        \n",
    "    for m in [0,1,2,3,4,5,6,7]:\n",
    "    \n",
    "        p1 = pretrained_resnet152.layer2[m].conv1.weight\n",
    "        p2 = pretrained_resnet152.layer2[m].conv2.weight\n",
    "        p3 = pretrained_resnet152.layer2[m].conv3.weight\n",
    "\n",
    "        m1 = model.layer2[m].conv1.weight\n",
    "        m2 = model.layer2[m].conv2.weight\n",
    "        m3 = model.layer2[m].conv3.weight\n",
    "\n",
    "        diff1 = torch.norm(p1-m1).numpy()/torch.norm(p1)*100\n",
    "        diff2 = torch.norm(p2-m2).numpy()/torch.norm(p2)*100\n",
    "        diff3 = torch.norm(p3-m3).numpy()/torch.norm(p3)*100\n",
    "\n",
    "        diff.append(diff1)\n",
    "        diff.append(diff2)\n",
    "        diff.append(diff3)\n",
    "        \n",
    "        c1 = cos(p1.view(1,-1), m1.view(1,-1)).numpy()\n",
    "        c2 = cos(p2.view(1,-1), m2.view(1,-1)).numpy()\n",
    "        c3 = cos(p3.view(1,-1), m3.view(1,-1)).numpy()\n",
    "        \n",
    "        cos_sim.append(c1)\n",
    "        cos_sim.append(c2)\n",
    "        cos_sim.append(c3)\n",
    "        \n",
    "        #Sparisity\n",
    "        comp1 = abs(m1) <= 1e-5*torch.ones(list(m1.shape))\n",
    "        comp2 = abs(m2) <= 1e-5*torch.ones(list(m2.shape))\n",
    "        comp3 = abs(m3) <= 1e-5*torch.ones(list(m3.shape))\n",
    "        \n",
    "        s1 = torch.sum(comp1)/torch.sum(torch.ones(list(m1.shape)))*100\n",
    "        s2 = torch.sum(comp2)/torch.sum(torch.ones(list(m2.shape)))*100\n",
    "        s3 = torch.sum(comp3)/torch.sum(torch.ones(list(m3.shape)))*100\n",
    "        \n",
    "        sparsity.append(s1)\n",
    "        sparsity.append(s2)\n",
    "        sparsity.append(s3)\n",
    "    \n",
    "    for m in range(0,36):\n",
    "        p1 = pretrained_resnet152.layer3[m].conv1.weight\n",
    "        p2 = pretrained_resnet152.layer3[m].conv2.weight\n",
    "        p3 = pretrained_resnet152.layer3[m].conv3.weight\n",
    "\n",
    "        m1 = model.layer3[m].conv1.weight\n",
    "        m2 = model.layer3[m].conv2.weight\n",
    "        m3 = model.layer3[m].conv3.weight\n",
    "\n",
    "        diff1 = torch.norm(p1-m1).numpy()/torch.norm(p1)*100\n",
    "        diff2 = torch.norm(p2-m2).numpy()/torch.norm(p2)*100\n",
    "        diff3 = torch.norm(p3-m3).numpy()/torch.norm(p3)*100\n",
    "\n",
    "        diff.append(diff1)\n",
    "        diff.append(diff2)\n",
    "        diff.append(diff3)\n",
    "        \n",
    "        c1 = cos(p1.view(1,-1), m1.view(1,-1)).numpy()\n",
    "        c2 = cos(p2.view(1,-1), m2.view(1,-1)).numpy()\n",
    "        c3 = cos(p3.view(1,-1), m3.view(1,-1)).numpy()\n",
    "        \n",
    "        cos_sim.append(c1)\n",
    "        cos_sim.append(c2)\n",
    "        cos_sim.append(c3)\n",
    "        \n",
    "        #Sparisity\n",
    "        comp1 = abs(m1) <= 1e-5*torch.ones(list(m1.shape))\n",
    "        comp2 = abs(m2) <= 1e-5*torch.ones(list(m2.shape))\n",
    "        comp3 = abs(m3) <= 1e-5*torch.ones(list(m3.shape))\n",
    "        \n",
    "        s1 = torch.sum(comp1)/torch.sum(torch.ones(list(m1.shape)))*100\n",
    "        s2 = torch.sum(comp2)/torch.sum(torch.ones(list(m2.shape)))*100\n",
    "        s3 = torch.sum(comp3)/torch.sum(torch.ones(list(m3.shape)))*100\n",
    "        \n",
    "        sparsity.append(s1)\n",
    "        sparsity.append(s2)\n",
    "        sparsity.append(s3)\n",
    "        \n",
    "    for m in [0,1,2]:\n",
    "        \n",
    "        p1 = pretrained_resnet152.layer4[m].conv1.weight\n",
    "        p2 = pretrained_resnet152.layer4[m].conv2.weight\n",
    "        p3 = pretrained_resnet152.layer4[m].conv3.weight\n",
    "\n",
    "        m1 = model.layer4[m].conv1.weight\n",
    "        m2 = model.layer4[m].conv2.weight\n",
    "        m3 = model.layer4[m].conv3.weight\n",
    "\n",
    "        diff1 = torch.norm(p1-m1).numpy()/torch.norm(p1)*100\n",
    "        diff2 = torch.norm(p2-m2).numpy()/torch.norm(p2)*100\n",
    "        diff3 = torch.norm(p3-m3).numpy()/torch.norm(p3)*100\n",
    "\n",
    "        diff.append(diff1)\n",
    "        diff.append(diff2)\n",
    "        diff.append(diff3)\n",
    "        \n",
    "        c1 = cos(p1.view(1,-1), m1.view(1,-1)).numpy()\n",
    "        c2 = cos(p2.view(1,-1), m2.view(1,-1)).numpy()\n",
    "        c3 = cos(p3.view(1,-1), m3.view(1,-1)).numpy()\n",
    "        \n",
    "        cos_sim.append(c1)\n",
    "        cos_sim.append(c2)\n",
    "        cos_sim.append(c3)\n",
    "        \n",
    "        #Sparisity\n",
    "        comp1 = abs(m1) <= 1e-5*torch.ones(list(m1.shape))\n",
    "        comp2 = abs(m2) <= 1e-5*torch.ones(list(m2.shape))\n",
    "        comp3 = abs(m3) <= 1e-5*torch.ones(list(m3.shape))\n",
    "        \n",
    "        s1 = torch.sum(comp1)/torch.sum(torch.ones(list(m1.shape)))*100\n",
    "        s2 = torch.sum(comp2)/torch.sum(torch.ones(list(m2.shape)))*100\n",
    "        s3 = torch.sum(comp3)/torch.sum(torch.ones(list(m3.shape)))*100\n",
    "        \n",
    "        sparsity.append(s1)\n",
    "        sparsity.append(s2)\n",
    "        sparsity.append(s3)\n"
   ]
  },
  {
   "cell_type": "code",
   "execution_count": 6,
   "metadata": {},
   "outputs": [
    {
     "data": {
      "text/plain": [
       "Text(0, 0.5, 'norm diff')"
      ]
     },
     "execution_count": 6,
     "metadata": {},
     "output_type": "execute_result"
    },
    {
     "data": {
      "image/png": "[encoded data removed]",
      "text/plain": [
       "<Figure size 432x288 with 1 Axes>"
      ]
     },
     "metadata": {
      "needs_background": "light"
     },
     "output_type": "display_data"
    }
   ],
   "source": [
    "plt.plot(diff)\n",
    "plt.xlabel('conv layers')\n",
    "plt.ylabel('norm diff')"
   ]
  },
  {
   "cell_type": "code",
   "execution_count": 7,
   "metadata": {},
   "outputs": [
    {
     "data": {
      "text/plain": [
       "Text(0, 0.5, 'cos similarity')"
      ]
     },
     "execution_count": 7,
     "metadata": {},
     "output_type": "execute_result"
    },
    {
     "data": {
      "image/png": "[encoded data removed]",
      "text/plain": [
       "<Figure size 432x288 with 1 Axes>"
      ]
     },
     "metadata": {
      "needs_background": "light"
     },
     "output_type": "display_data"
    }
   ],
   "source": [
    "plt.plot(cos_sim)\n",
    "plt.xlabel('conv layers')\n",
    "plt.ylabel('cos similarity')"
   ]
  },
  {
   "cell_type": "code",
   "execution_count": 8,
   "metadata": {},
   "outputs": [
    {
     "data": {
      "text/plain": [
       "Text(0, 0.5, 'sparsity')"
      ]
     },
     "execution_count": 8,
     "metadata": {},
     "output_type": "execute_result"
    },
    {
     "data": {
      "image/png": "[encoded data removed]",
      "text/plain": [
       "<Figure size 432x288 with 1 Axes>"
      ]
     },
     "metadata": {
      "needs_background": "light"
     },
     "output_type": "display_data"
    }
   ],
   "source": [
    "plt.plot(sparsity)\n",
    "plt.xlabel('conv layers')\n",
    "plt.ylabel('sparsity')"
   ]
  },
  {
   "cell_type": "markdown",
   "metadata": {},
   "source": [
    "### Save the results"
   ]
  },
  {
   "cell_type": "code",
   "execution_count": 9,
   "metadata": {},
   "outputs": [],
   "source": [
    "from numpy import savetxt\n",
    "\n",
    "normdiff = np.array(diff)\n",
    "cos_sim = np.array(cos_sim)\n",
    "\n",
    "savetxt('1_normdiff_resnet152.csv', normdiff, delimiter=',')\n",
    "savetxt('1_cos_sim_resnet152.csv', cos_sim, delimiter=',')"
   ]
  },
  {
   "cell_type": "code",
   "execution_count": null,
   "metadata": {},
   "outputs": [],
   "source": []
  }
 ],
 "metadata": {
  "kernelspec": {
   "display_name": "Python 3",
   "language": "python",
   "name": "python3"
  },
  "language_info": {
   "codemirror_mode": {
    "name": "ipython",
    "version": 3
   },
   "file_extension": ".py",
   "mimetype": "text/x-python",
   "name": "python",
   "nbconvert_exporter": "python",
   "pygments_lexer": "ipython3",
   "version": "3.7.4"
  }
 },
 "nbformat": 4,
 "nbformat_minor": 4
}
