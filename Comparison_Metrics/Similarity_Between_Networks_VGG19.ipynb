{
 "cells": [
  {
   "cell_type": "code",
   "execution_count": 1,
   "metadata": {},
   "outputs": [],
   "source": [
    "import torch\n",
    "import torch.nn as nn\n",
    "\n",
    "import torchvision\n",
    "from torchvision import datasets, transforms\n",
    "\n",
    "import numpy as np\n",
    "import matplotlib.pyplot as plt"
   ]
  },
  {
   "cell_type": "markdown",
   "metadata": {},
   "source": [
    "### Load saved state dicts onto the pretrained VGG-19 model"
   ]
  },
  {
   "cell_type": "code",
   "execution_count": 2,
   "metadata": {},
   "outputs": [],
   "source": [
    "from torchvision import models\n",
    "pretrained_vgg19 = models.vgg19(pretrained=True)"
   ]
  },
  {
   "cell_type": "code",
   "execution_count": 3,
   "metadata": {},
   "outputs": [
    {
     "data": {
      "text/plain": [
       "<All keys matched successfully>"
      ]
     },
     "execution_count": 3,
     "metadata": {},
     "output_type": "execute_result"
    }
   ],
   "source": [
    "# Loading the state dict into our model\n",
    "state_dict = torch.load('vgg16_4000Iterations.pth',map_location='cuda:0')\n",
    "\n",
    "from torchvision import models\n",
    "model = models.vgg19(pretrained=True)\n",
    "model.classifier[-1] = nn.Linear(in_features=4096, out_features=11)\n",
    "\n",
    "model.load_state_dict(state_dict)"
   ]
  },
  {
   "cell_type": "markdown",
   "metadata": {},
   "source": [
    "###  Loop over the dense layers and apply the metric functions on the conv layers  "
   ]
  },
  {
   "cell_type": "markdown",
   "metadata": {},
   "source": [
    "- Here, the  the norm difference, cosine simularity, and sparsity between the corresponding conv layers is calculated.\n",
    "- f1 refers to a convolutional layer in the network pretrained on the ImageNet dataset.\n",
    "- f2 refers to the a convolutional layer in the network pretraiend on the CL-20 target dataset."
   ]
  },
  {
   "cell_type": "code",
   "execution_count": 4,
   "metadata": {},
   "outputs": [],
   "source": [
    "diff = []\n",
    "sparsity = []\n",
    "with torch.no_grad():\n",
    "    for k in [0, 2, 5, 7, 10, 12, 14, 16, 19, 21, 23, 25, 28, 30, 32, 34]:\n",
    "        f1 = pretrained_vgg19.features[k].weight\n",
    "        f2 = model.features[k].weight\n",
    "        \n",
    "        # Sparsity calculation\n",
    "        comp = abs(f1) <= 5e-2*torch.ones(list(f1.shape))\n",
    "        total = torch.sum(comp)\n",
    "        all = torch.sum(torch.ones(list(f1.shape)))\n",
    "        s = total/all*100\n",
    "        \n",
    "        # Norm difference calculation\n",
    "        d = (torch.norm(f1-f2).numpy())/torch.norm(f1)*100\n",
    "        \n",
    "        # Appending\n",
    "        diff.append(d)\n",
    "        sparsity.append(s)\n",
    "        \n",
    "\n",
    "with torch.no_grad():\n",
    "    for k in [0, 3]:\n",
    "        f1 = pretrained_vgg19.classifier[k].weight\n",
    "        f2 = model.classifier[k].weight\n",
    "        \n",
    "        # Sparsity calculation\n",
    "        comp = abs(f1) <= 5e-2*torch.ones(list(f1.shape))\n",
    "        total = torch.sum(comp)\n",
    "        all = torch.sum(torch.ones(list(f1.shape)))\n",
    "        s = total/all*100\n",
    "        \n",
    "        # Norm difference calculation\n",
    "        d = (torch.norm(f1-f2).numpy())/torch.norm(f1)*100\n",
    "        \n",
    "        # Appending\n",
    "        diff.append(d)\n",
    "        sparsity.append(s)"
   ]
  },
  {
   "cell_type": "code",
   "execution_count": 5,
   "metadata": {},
   "outputs": [],
   "source": [
    "## Cosine Similarity Function\n",
    "cos = nn.CosineSimilarity(dim=1, eps=1e-6)\n",
    "\n",
    "cos_sim = []\n",
    "with torch.no_grad():\n",
    "    for k in [0, 2, 5, 7, 10, 12, 14, 16, 19, 21, 23, 25, 28, 30, 32, 34]:\n",
    "        f1 = pretrained_vgg19.features[k].weight\n",
    "        f2 = model.features[k].weight\n",
    "\n",
    "        nf1 = f1.view(1,-1)\n",
    "        nf2 = f2.view(1,-1)\n",
    "       \n",
    "        c = cos(nf1, nf2).numpy()\n",
    "        cos_sim.append(c)\n",
    "\n",
    "with torch.no_grad():\n",
    "    for k in [0, 3]:\n",
    "        f1 = pretrained_vgg19.classifier[k].weight\n",
    "        f2 = model.classifier[k].weight\n",
    "        \n",
    "        nf1 = f1.view(1,-1)\n",
    "        nf2 = f2.view(1,-1)\n",
    "\n",
    "        c = cos(nf1, nf2).numpy()\n",
    "        cos_sim.append(c)"
   ]
  },
  {
   "cell_type": "code",
   "execution_count": 13,
   "metadata": {},
   "outputs": [
    {
     "data": {
      "text/plain": [
       "Text(0, 0.5, 'norm diff')"
      ]
     },
     "execution_count": 13,
     "metadata": {},
     "output_type": "execute_result"
    },
    {
     "data": {
      "image/png": "[encoded data removed]",
      "text/plain": [
       "<Figure size 432x288 with 1 Axes>"
      ]
     },
     "metadata": {
      "needs_background": "light"
     },
     "output_type": "display_data"
    }
   ],
   "source": [
    "plt.plot(diff)\n",
    "plt.xlabel('conv layers')\n",
    "plt.ylabel('norm diff')"
   ]
  },
  {
   "cell_type": "code",
   "execution_count": 14,
   "metadata": {},
   "outputs": [
    {
     "data": {
      "text/plain": [
       "Text(0, 0.5, 'cos similarity')"
      ]
     },
     "execution_count": 14,
     "metadata": {},
     "output_type": "execute_result"
    },
    {
     "data": {
      "image/png": "[encoded data removed]",
      "text/plain": [
       "<Figure size 432x288 with 1 Axes>"
      ]
     },
     "metadata": {
      "needs_background": "light"
     },
     "output_type": "display_data"
    }
   ],
   "source": [
    "plt.plot(cos_sim)\n",
    "plt.xlabel('conv layers')\n",
    "plt.ylabel('cos similarity')"
   ]
  },
  {
   "cell_type": "code",
   "execution_count": 15,
   "metadata": {},
   "outputs": [
    {
     "data": {
      "text/plain": [
       "Text(0, 0.5, 'sparsity')"
      ]
     },
     "execution_count": 15,
     "metadata": {},
     "output_type": "execute_result"
    },
    {
     "data": {
      "image/png": "[encoded data removed]",
      "text/plain": [
       "<Figure size 432x288 with 1 Axes>"
      ]
     },
     "metadata": {
      "needs_background": "light"
     },
     "output_type": "display_data"
    }
   ],
   "source": [
    "plt.plot(sparsity)\n",
    "plt.xlabel('conv layers')\n",
    "plt.ylabel('sparsity')"
   ]
  },
  {
   "cell_type": "markdown",
   "metadata": {},
   "source": [
    "### Saver the results"
   ]
  },
  {
   "cell_type": "code",
   "execution_count": 10,
   "metadata": {},
   "outputs": [],
   "source": [
    "from numpy import savetxt\n",
    "\n",
    "normdiff = np.array(diff)\n",
    "cos_sim = np.array(cos_sim)\n",
    "sparsity = np.array(sparsity)\n",
    "\n",
    "savetxt('1_normdiff_vgg19.csv', normdiff, delimiter=',')\n",
    "savetxt('1_cos_sim_vgg19.csv', cos_sim, delimiter=',')\n",
    "savetxt('1_sparsity_vgg19.csv', sparsity, delimiter=',')\n"
   ]
  }
 ],
 "metadata": {
  "kernelspec": {
   "display_name": "estif",
   "language": "python",
   "name": "estif"
  },
  "language_info": {
   "codemirror_mode": {
    "name": "ipython",
    "version": 3
   },
   "file_extension": ".py",
   "mimetype": "text/x-python",
   "name": "python",
   "nbconvert_exporter": "python",
   "pygments_lexer": "ipython3",
   "version": "3.6.10"
  }
 },
 "nbformat": 4,
 "nbformat_minor": 4
}
