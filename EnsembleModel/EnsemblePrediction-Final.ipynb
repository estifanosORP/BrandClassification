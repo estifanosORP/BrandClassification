{
 "cells": [
  {
   "cell_type": "code",
   "execution_count": 1,
   "metadata": {},
   "outputs": [],
   "source": [
    "import torch\n",
    "import torch.nn as nn\n",
    "import torch.optim as optim\n",
    "from torch.optim import lr_scheduler\n",
    "\n",
    "import torchvision\n",
    "from torchvision import datasets, transforms\n",
    "\n",
    "\n",
    "import numpy as np\n",
    "import matplotlib.pyplot as plt\n",
    "\n",
    "\n",
    "import time"
   ]
  },
  {
   "cell_type": "markdown",
   "metadata": {},
   "source": [
    "### Dataset Loading and Transformation"
   ]
  },
  {
   "cell_type": "code",
   "execution_count": 2,
   "metadata": {},
   "outputs": [],
   "source": [
    "# Transforms defined for the train, validation, and test datasets\n",
    "train_transform = transforms.Compose([transforms.Resize((256,256)),\n",
    "                                     transforms.ToTensor()])\n",
    "\n",
    "val_transform = transforms.Compose([transforms.Resize((256,256)),\n",
    "                                   transforms.ToTensor()])\n"
   ]
  },
  {
   "cell_type": "code",
   "execution_count": 3,
   "metadata": {},
   "outputs": [],
   "source": [
    "dir = 'Label_Data_TrainTest/'\n",
    "train_dir, val_dir = dir+'train', dir+'val'\n",
    "batch_size = 32\n",
    "num_workers = 2\n",
    "\n",
    "# Datasets extracted from their respective directories and some transformation applied to them\n",
    "train_set = datasets.ImageFolder(train_dir, transform = train_transform)\n",
    "val_set = datasets.ImageFolder(val_dir, transform = val_transform)\n",
    "\n",
    "\n",
    "\n",
    "# Datasets loaded onto iterable object in form of batches \n",
    "train_loader = torch.utils.data.DataLoader(train_set, batch_size = batch_size, shuffle=True, num_workers=num_workers)\n",
    "val_loader = torch.utils.data.DataLoader(val_set, batch_size = batch_size, shuffle=True, num_workers=num_workers)\n",
    "\n"
   ]
  },
  {
   "cell_type": "markdown",
   "metadata": {},
   "source": [
    "### Load all the finetuned base models"
   ]
  },
  {
   "cell_type": "code",
   "execution_count": 4,
   "metadata": {},
   "outputs": [
    {
     "data": {
      "text/plain": [
       "<All keys matched successfully>"
      ]
     },
     "execution_count": 4,
     "metadata": {},
     "output_type": "execute_result"
    }
   ],
   "source": [
    "# For resnet152()\n",
    "\n",
    "device = torch.device('cuda' if torch.cuda.is_available() else \"cpu\")\n",
    "\n",
    "from torchvision import models\n",
    "model_resnet152 = models.resnet152(pretrained=False)\n",
    "\n",
    "model_resnet152.fc = nn.Linear(model_resnet152.fc.in_features, len(train_set.classes))\n",
    "\n",
    "# Loading the state dict into our model\n",
    "state_dict = torch.load('ResNet_4000Iterations.pth', map_location=device)\n",
    "model_resnet152.load_state_dict(state_dict)\n"
   ]
  },
  {
   "cell_type": "code",
   "execution_count": 5,
   "metadata": {},
   "outputs": [
    {
     "data": {
      "text/plain": [
       "<All keys matched successfully>"
      ]
     },
     "execution_count": 5,
     "metadata": {},
     "output_type": "execute_result"
    }
   ],
   "source": [
    "# For vgg19()\n",
    "\n",
    "device = torch.device('cuda' if torch.cuda.is_available() else \"cpu\")\n",
    "\n",
    "from torchvision import models\n",
    "model_vgg19 = models.vgg19(pretrained=False)\n",
    "\n",
    "\n",
    "model_vgg19.classifier[-1] = nn.Linear(in_features=model_vgg19.classifier[-1].in_features, out_features=len(train_set.classes))\n",
    "\n",
    "\n",
    "\n",
    "# Loading the state dict into our model\n",
    "state_dict = torch.load('vgg19_4000Iterations.pth',map_location=device)\n",
    "\n",
    "model_vgg19.load_state_dict(state_dict)\n",
    "\n"
   ]
  },
  {
   "cell_type": "code",
   "execution_count": 6,
   "metadata": {},
   "outputs": [
    {
     "data": {
      "text/plain": [
       "<All keys matched successfully>"
      ]
     },
     "execution_count": 6,
     "metadata": {},
     "output_type": "execute_result"
    }
   ],
   "source": [
    "# For densenet161()\n",
    "\n",
    "device = torch.device('cuda' if torch.cuda.is_available() else \"cpu\")\n",
    "\n",
    "from torchvision import models\n",
    "model_densenet161 = models.densenet161(pretrained=False)\n",
    "\n",
    "\n",
    "model_densenet161.classifier = nn.Linear(in_features=model_densenet161.classifier.in_features, out_features=len(train_set.classes))\n",
    "\n",
    "\n",
    "\n",
    "# Loading the state dict into our model\n",
    "state_dict = torch.load('densenet161_4000Iterations.pth',map_location=device)\n",
    "\n",
    "model_densenet161.load_state_dict(state_dict)\n",
    "\n"
   ]
  },
  {
   "cell_type": "markdown",
   "metadata": {},
   "source": [
    "### Build ensemble model and evaluate its performance on the test dataset"
   ]
  },
  {
   "cell_type": "code",
   "execution_count": 8,
   "metadata": {
    "scrolled": false
   },
   "outputs": [
    {
     "name": "stdout",
     "output_type": "stream",
     "text": [
      "\n",
      "Total number of correct predictions in batch number #1: 31/32\n",
      "Correct Label: ['Gucci']\n",
      "Wrongly Predicted Labels: ['Other']\n",
      "==================================================================================================== \n",
      "\n",
      "\n",
      "Total number of correct predictions in batch number #2: 31/32\n",
      "Correct Label: ['Emporio Armani']\n",
      "Wrongly Predicted Labels: ['Giorgio Armani']\n",
      "==================================================================================================== \n",
      "\n",
      "\n",
      "Total number of correct predictions in batch number #3: 32/32\n",
      "Correct Label: []\n",
      "Wrongly Predicted Labels: []\n",
      "==================================================================================================== \n",
      "\n",
      "\n",
      "Total number of correct predictions in batch number #4: 31/32\n",
      "Correct Label: ['Emporio Armani']\n",
      "Wrongly Predicted Labels: ['Giorgio Armani']\n",
      "==================================================================================================== \n",
      "\n",
      "\n",
      "Total number of correct predictions in batch number #5: 30/32\n",
      "Correct Label: ['Gucci', 'Versace']\n",
      "Wrongly Predicted Labels: ['Dior', 'Emporio Armani']\n",
      "==================================================================================================== \n",
      "\n",
      "\n",
      "Total number of correct predictions in batch number #6: 32/32\n",
      "Correct Label: []\n",
      "Wrongly Predicted Labels: []\n",
      "==================================================================================================== \n",
      "\n",
      "\n",
      "Total number of correct predictions in batch number #7: 32/32\n",
      "Correct Label: []\n",
      "Wrongly Predicted Labels: []\n",
      "==================================================================================================== \n",
      "\n",
      "\n",
      "Total number of correct predictions in batch number #8: 30/32\n",
      "Correct Label: ['Dior', 'Dior']\n",
      "Wrongly Predicted Labels: ['Prada', 'Emporio Armani']\n",
      "==================================================================================================== \n",
      "\n",
      "\n",
      "Total number of correct predictions in batch number #9: 32/32\n",
      "Correct Label: []\n",
      "Wrongly Predicted Labels: []\n",
      "==================================================================================================== \n",
      "\n",
      "\n",
      "Total number of correct predictions in batch number #10: 30/32\n",
      "Correct Label: ['Versace', 'Giorgio Armani']\n",
      "Wrongly Predicted Labels: ['Louis Vuitton', 'Louis Vuitton']\n",
      "==================================================================================================== \n",
      "\n",
      "\n",
      "Total number of correct predictions in batch number #11: 28/32\n",
      "Correct Label: ['Chanel', 'Prada', 'Ralph Lauren', 'Chanel']\n",
      "Wrongly Predicted Labels: ['Louis Vuitton', 'Versace', 'Versace', 'Other']\n",
      "==================================================================================================== \n",
      "\n",
      "\n",
      "Total number of correct predictions in batch number #12: 31/32\n",
      "Correct Label: ['Versace']\n",
      "Wrongly Predicted Labels: ['Hermes']\n",
      "==================================================================================================== \n",
      "\n",
      "\n",
      "Total number of correct predictions in batch number #13: 32/32\n",
      "Correct Label: []\n",
      "Wrongly Predicted Labels: []\n",
      "==================================================================================================== \n",
      "\n",
      "\n",
      "Total number of correct predictions in batch number #14: 32/32\n",
      "Correct Label: []\n",
      "Wrongly Predicted Labels: []\n",
      "==================================================================================================== \n",
      "\n",
      "\n",
      "Total number of correct predictions in batch number #15: 30/32\n",
      "Correct Label: ['Prada', 'Ralph Lauren']\n",
      "Wrongly Predicted Labels: ['Emporio Armani', 'Other']\n",
      "==================================================================================================== \n",
      "\n",
      "\n",
      "Total number of correct predictions in batch number #16: 18/19\n",
      "Correct Label: ['Prada']\n",
      "Wrongly Predicted Labels: ['Emporio Armani']\n",
      "==================================================================================================== \n",
      "\n",
      "Validation Accuracy: 96.59%\n"
     ]
    },
    {
     "data": {
      "image/png": "[encoded data removed]",
      "text/plain": [
       "<Figure size 1440x720 with 1 Axes>"
      ]
     },
     "metadata": {
      "needs_background": "light"
     },
     "output_type": "display_data"
    }
   ],
   "source": [
    "# Checking out the prediction on the validation set\n",
    "device = torch.device('cuda' if torch.cuda.is_available() else \"cpu\")\n",
    "\n",
    "model_vgg19.to(device)\n",
    "model_resnet152.to(device)\n",
    "model_densenet161.to(device)\n",
    "\n",
    "model_vgg19.eval()\n",
    "model_resnet152.eval()\n",
    "model_densenet161.eval()\n",
    "\n",
    "with torch.no_grad():\n",
    "    correct  = 0\n",
    "    total = 0\n",
    "    val_batch=0\n",
    "    \n",
    "    wrong_total = []\n",
    "    \n",
    "\n",
    "    for images_val, labels_val in val_loader:\n",
    "        \n",
    "        val_batch +=1\n",
    "        \n",
    "        images_val, labels_val = images_val.to(device), labels_val.to(device)\n",
    "        \n",
    "        \n",
    "        \n",
    "        outputs_resnet152 = model_resnet152(images_val)\n",
    "        outputs_resnet152_n= outputs_resnet152/torch.norm(outputs_resnet152, p=1, dim=1).view(len(images_val), 1)\n",
    "        \n",
    "        \n",
    "        outputs_vgg19 = model_vgg19(images_val)\n",
    "        outputs_vgg19_n= outputs_vgg19/torch.norm(outputs_vgg19, p=1, dim=1).view(len(images_val), 1)\n",
    "        \n",
    "        outputs_densenet161 = model_densenet161(images_val)\n",
    "        outputs_densenet161_n= outputs_densenet161/torch.norm(outputs_densenet161, p=1, dim=1).view(len(images_val), 1)\n",
    "        \n",
    "#         outputs = outputs_resnet152+outputs_vgg19+outputs_densenet161\n",
    "\n",
    "        outputs_n = outputs_resnet152_n+outputs_vgg19_n+outputs_densenet161_n\n",
    "        \n",
    "    \n",
    "        _,predicted = torch.max(outputs_n, 1)\n",
    "        \n",
    "        \n",
    "        total += labels_val.size(0)\n",
    "        correct += (predicted == labels_val).sum().item()\n",
    "        \n",
    "        \n",
    "        # Check how many correct predictions are made in each each batch of the validation dataset\n",
    "        print('\\nTotal number of correct predictions in batch number #{}: {}/{}'.format(val_batch, (predicted == labels_val).sum().item(), len(images_val)))\n",
    "        \n",
    "        # Implementation to extract the wrongly predicted classes\n",
    "        bool = (labels_val == predicted)\n",
    "        index = [ind for ind, val in enumerate(bool) if not val]\n",
    "        correct_val = labels_val[index]\n",
    "        wrong_val = predicted[index]\n",
    "        wrong_labels = [val_set.classes[x] for x in wrong_val]\n",
    "        correct_labels = [val_set.classes[x] for x in correct_val]\n",
    "        print('Correct Label:', correct_labels)\n",
    "        print('Wrongly Predicted Labels:', wrong_labels)\n",
    "        wrong_total.append(wrong_labels)\n",
    "                \n",
    "        print('='*100,'\\n')\n",
    "        \n",
    "    print('Validation Accuracy: {:.2f}%'.format(correct/total*100))\n",
    "    \n",
    "    \n",
    "    # Flatten the list wrong_total\n",
    "    wrong_total =[item for sublist in wrong_total for item in sublist]\n",
    "    \n",
    "    import collections\n",
    "    \n",
    "    BarData = collections.Counter(wrong_total)\n",
    "    wrong_brands = BarData.keys()\n",
    "    freq = BarData.values()\n",
    "    \n",
    "    plt.figure(figsize = (20,10))\n",
    "    plt.bar(wrong_brands, freq)\n",
    "    plt.title('Wrongly Predicted Brands')\n",
    "    plt.ylabel('Frequency')\n",
    "    plt.xticks(fontsize=12)\n",
    "    plt.yticks(fontsize=12)"
   ]
  },
  {
   "cell_type": "code",
   "execution_count": null,
   "metadata": {},
   "outputs": [],
   "source": []
  }
 ],
 "metadata": {
  "kernelspec": {
   "display_name": "estif",
   "language": "python",
   "name": "estif"
  },
  "language_info": {
   "codemirror_mode": {
    "name": "ipython",
    "version": 3
   },
   "file_extension": ".py",
   "mimetype": "text/x-python",
   "name": "python",
   "nbconvert_exporter": "python",
   "pygments_lexer": "ipython3",
   "version": "3.6.10"
  }
 },
 "nbformat": 4,
 "nbformat_minor": 4
}
